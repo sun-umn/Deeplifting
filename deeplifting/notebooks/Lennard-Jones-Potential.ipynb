{
 "cells": [
  {
   "cell_type": "code",
   "execution_count": null,
   "id": "25bf6dd5-f709-450c-8fe1-1f2258e25544",
   "metadata": {},
   "outputs": [],
   "source": [
    "%pwd"
   ]
  },
  {
   "cell_type": "code",
   "execution_count": null,
   "id": "9f64344a-ea79-4ba3-b692-545e36dc9c57",
   "metadata": {},
   "outputs": [],
   "source": [
    "%cd ../.."
   ]
  },
  {
   "cell_type": "code",
   "execution_count": null,
   "id": "3ab424e2-fcbc-4ca7-9f97-e18ccf301d3e",
   "metadata": {},
   "outputs": [],
   "source": [
    "%ls"
   ]
  },
  {
   "cell_type": "code",
   "execution_count": null,
   "id": "b3287204-b5e2-4c90-bed2-f6e19471fac7",
   "metadata": {},
   "outputs": [],
   "source": [
    "import glob as glob\n",
    "import pandas as pd\n",
    "import numpy as np\n",
    "import seaborn as sns\n",
    "import matplotlib.pyplot as plt\n",
    "import torch\n",
    "import tqdm"
   ]
  },
  {
   "cell_type": "code",
   "execution_count": null,
   "id": "ea7adbaa-2731-45be-aa01-5c9dc9283903",
   "metadata": {},
   "outputs": [],
   "source": [
    "minima = [\n",
    "    -1.0,\n",
    "    -3.0,\n",
    "    -6.0,\n",
    "    -9.103852,\n",
    "    -12.712062,\n",
    "    -16.505384,\n",
    "    -19.821489,\n",
    "    -24.113360,\n",
    "    -28.422532,\n",
    "    -32.765970,\n",
    "    -37.967600,\n",
    "    -44.326801,\n",
    "    -47.845157,\n",
    "    -52.322627,\n",
    "    -56.815742,\n",
    "    -61.317995,\n",
    "    -66.530949,\n",
    "    -72.659782,\n",
    "    -77.1777043,\n",
    "]\n",
    "\n",
    "dimensions = 18\n",
    "k = int(dimensions / 3)\n",
    "print(minima[k - 2])"
   ]
  },
  {
   "cell_type": "markdown",
   "id": "753b3a4c-1526-48bc-98ee-e1530dda1beb",
   "metadata": {},
   "source": [
    "# Algorithm Comparison Results"
   ]
  },
  {
   "cell_type": "code",
   "execution_count": null,
   "id": "42d0e4b2-26e7-4a1f-bd28-92d327f2bbad",
   "metadata": {},
   "outputs": [],
   "source": [
    "# Algorithm keep columns\n",
    "algorithm_columns = [\n",
    "    'problem_name',\n",
    "    'algorithm',\n",
    "    'dimensions',\n",
    "    'hits',\n",
    "    'time',\n",
    "    'f',\n",
    "]\n",
    "\n",
    "# Results from comparison algorithms\n",
    "file_directory = './data-queue-2023-09-24/lennard-jones/*/*'\n",
    "files = glob.glob(file_directory)\n",
    "print(files)\n",
    "algorithm_df = pd.read_parquet(files)\n",
    "\n",
    "# algorithm_df = algorithm_df[algorithm_columns]\n",
    "algorithm_df.head()"
   ]
  },
  {
   "cell_type": "code",
   "execution_count": null,
   "id": "f245ffd9-50d1-443f-bcb2-5ea6a357443f",
   "metadata": {},
   "outputs": [],
   "source": [
    "algorithm_df.loc[algorithm_df['dimensions'] == 30]"
   ]
  },
  {
   "cell_type": "code",
   "execution_count": null,
   "id": "7f612139-1323-4c75-a7cd-6aab80d1ccaa",
   "metadata": {},
   "outputs": [],
   "source": [
    "# Let's get the algorithm compare results!\n",
    "algorithm_results_df = algorithm_df.groupby(\n",
    "    ['problem_name', 'algorithm', 'dimensions']\n",
    ").agg({'hits': ['count', 'mean'], 'time': 'mean'})\n",
    "algorithm_results_df.columns = [\n",
    "    '-'.join(column) for column in algorithm_results_df.columns\n",
    "]\n",
    "algorithm_results_df = algorithm_results_df.reset_index()\n",
    "\n",
    "# Need to verify that all problems have the same number of trials in the end\n",
    "algorithm_results_df = algorithm_results_df.drop(columns=['hits-count'])\n",
    "algorithm_results_df.pivot_table(\n",
    "    index='dimensions', columns='algorithm', values='hits-mean'\n",
    ")"
   ]
  },
  {
   "cell_type": "code",
   "execution_count": null,
   "id": "b1120630-81b8-46a9-b0fe-64aff54d6127",
   "metadata": {},
   "outputs": [],
   "source": [
    "# Can we visualize the problem?"
   ]
  },
  {
   "cell_type": "code",
   "execution_count": null,
   "id": "ffed4b33-c398-4f6f-87eb-d00a232a38ea",
   "metadata": {},
   "outputs": [],
   "source": [
    "import torch\n",
    "\n",
    "\n",
    "def pairwise_distances(positions: torch.Tensor) -> torch.Tensor:\n",
    "    # Assume positions has shape [B, 3N] where B is the batch size and N is the number of atoms\n",
    "    # Reshaping to get individual atoms' positions of shape [B, N, 3]\n",
    "    positions = positions.view(positions.shape[0], -1, 3)\n",
    "    # Compute the pairwise differences\n",
    "    # Subtracting [B, 1, N, 3] from [B, N, 1, 3] gives [B, N, N, 3]\n",
    "    deltas = positions.unsqueeze(2) - positions.unsqueeze(1)\n",
    "    # Norm the differences gives [B, N, N]\n",
    "    distances = torch.norm(deltas, dim=-1)\n",
    "    return distances\n",
    "\n",
    "\n",
    "def cluster_potential(positions: torch.Tensor) -> torch.Tensor:\n",
    "    # Compute the pairwise distances of atoms\n",
    "    distances = pairwise_distances(positions)\n",
    "\n",
    "    # Compute the pairwise cost (1 / dist)^12 - (1 / dist)^ 6\n",
    "    pairwise_cost = (1 / distances).pow(12) - (1 / distances).pow(6.0)\n",
    "\n",
    "    # Get the upper triangle matrix (ignoring the diagonal)\n",
    "    ut_pairwise_cost = torch.triu(pairwise_cost, diagonal=1)\n",
    "\n",
    "    # 4 * Summutation of the upper triangle of pairwise costs gives potential\n",
    "    potential = 4 * ut_pairwise_cost.sum(dim=(1, 2))\n",
    "    return potential"
   ]
  },
  {
   "cell_type": "code",
   "execution_count": null,
   "id": "4c5215c3-e8dc-44ad-b100-d145a4fb0ae2",
   "metadata": {},
   "outputs": [],
   "source": [
    "import requests\n",
    "import tarfile\n",
    "\n",
    "# Url of tar containing known global minima\n",
    "url = 'http://doye.chem.ox.ac.uk/jon/structures/LJ/LJ.tar'\n",
    "# Where to save the tar -- modify as desired\n",
    "target_path = 'LJ_data.tar'\n",
    "\n",
    "# Download\n",
    "response = requests.get(url, stream=True)\n",
    "if response.status_code == 200:\n",
    "    with open(target_path, 'wb') as f:\n",
    "        f.write(response.raw.read())\n",
    "\n",
    "# Open file\n",
    "file = tarfile.open(target_path)\n",
    "\n",
    "#  By default save the data to the 'LJ_data' folder in the local directory\n",
    "data_path = f'./{target_path.replace(\".tar\", \"\")}'\n",
    "file.extractall(data_path)\n",
    "\n",
    "file.close()"
   ]
  },
  {
   "cell_type": "code",
   "execution_count": null,
   "id": "c53179ee-58e0-4f3e-b893-b1979ce2f1b4",
   "metadata": {},
   "outputs": [],
   "source": [
    "import matplotlib.pyplot as plt\n",
    "import pandas\n",
    "\n",
    "# Lists to track atom counts and potentials\n",
    "atom_counts = []\n",
    "global_potentials = []\n",
    "\n",
    "# Iterate from 3 to 67 atoms -- the number visited in the paper\n",
    "for n_atoms in range(3, 68):\n",
    "    # File path is simply the nuimber of atoms\n",
    "    file_path = f'{data_path}/{n_atoms}'\n",
    "    # Get the positions as a dataframe\n",
    "    dataframe = pandas.read_csv(file_path, header=None, delim_whitespace=True)\n",
    "    # Make a positions tensor -- note that we add an initial dimension as the objective function is vectorised\n",
    "    positions = torch.Tensor(dataframe.to_numpy()).unsqueeze(0)\n",
    "    # Get the potential\n",
    "    potential = cluster_potential(positions)\n",
    "\n",
    "    # Update lists of atom counts and potentials\n",
    "    atom_counts.append(n_atoms)\n",
    "    global_potentials.append(potential.item())\n",
    "\n",
    "# Simple plot\n",
    "plt.plot(atom_counts, global_potentials)\n",
    "plt.xlabel('Number of Atoms $N$')\n",
    "plt.ylabel('Cluster potential $E$')\n",
    "plt.show()\n",
    "\n",
    "# Sanity check on the last one\n",
    "print(\n",
    "    f'Potential of N={n_atoms} is computed as {potential.item()} vs. published value -347.252007'\n",
    ")"
   ]
  },
  {
   "cell_type": "code",
   "execution_count": null,
   "id": "20ddefa2-65b5-463e-bfae-3a68d696478a",
   "metadata": {},
   "outputs": [],
   "source": [
    "from evotorch import Problem\n",
    "from evotorch.algorithms import SNES\n",
    "\n",
    "snes_potentials = []\n",
    "\n",
    "for n_atoms in range(15, 30):\n",
    "    print(f'Solving case N={n_atoms} with SNES')\n",
    "\n",
    "    # Set up the problem in vectorised mode\n",
    "    problem = Problem(\n",
    "        'min',\n",
    "        cluster_potential,\n",
    "        vectorized=True,\n",
    "        device='cuda:0' if torch.cuda.is_available() else 'cpu',\n",
    "        dtype=torch.float64,  # Higher precision could be helpful\n",
    "        solution_length=3 * n_atoms,\n",
    "        initial_bounds=(-1e-12, 1e-12),  # Taken directly from [2]\n",
    "        store_solution_stats=True,  # Make sure the problem tracks the best discovered solution, even on GPU\n",
    "    )\n",
    "\n",
    "    searcher = SNES(\n",
    "        problem,\n",
    "        stdev_init=0.01,  # Taken directly from [2]\n",
    "        popsize=10 * n_atoms,  # Significantly higher than [2]\n",
    "        center_learning_rate=0.5,  # Halving value from [2] slows learning\n",
    "        stdev_learning_rate=0.5,  # Halving value from [2] slows learning\n",
    "        scale_learning_rate=True,  # Boolean flag means modifying the above learning rates rescales the default\n",
    "    )\n",
    "    searcher.run(\n",
    "        1000 * problem.solution_length\n",
    "    )  # 2x value used in [2], adjusted for half learning rates\n",
    "\n",
    "    # Best solution found\n",
    "    best_potential = problem.status['best_eval']\n",
    "    # Center is also a good estimate\n",
    "    center_potential = cluster_potential(searcher.status['center'].cpu().unsqueeze(0))[\n",
    "        0\n",
    "    ].item()\n",
    "    if center_potential < best_potential:\n",
    "        best_potential = center_potential\n",
    "\n",
    "    print(f'Found potential {best_potential}')\n",
    "\n",
    "    snes_potentials.append(best_potential)"
   ]
  },
  {
   "cell_type": "code",
   "execution_count": null,
   "id": "4ce70b6d-d0a4-4600-b46c-647bffdad150",
   "metadata": {},
   "outputs": [],
   "source": [
    "# Simple plot\n",
    "plt.plot(\n",
    "    atom_counts[15 : len(snes_potentials)],\n",
    "    global_potentials[15 : len(snes_potentials)],\n",
    "    label='Known Optima',\n",
    ")\n",
    "plt.plot(\n",
    "    atom_counts[15 : len(snes_potentials)],\n",
    "    snes_potentials[15 : len(snes_potentials)],\n",
    "    label='SNES-discovered Solutions',\n",
    ")\n",
    "plt.legend()\n",
    "plt.xlabel('Number of Atoms $N$')\n",
    "plt.ylabel('Atom Cluster Potential $E$')\n",
    "plt.show()"
   ]
  },
  {
   "cell_type": "code",
   "execution_count": 8,
   "id": "f2ede408-a270-4f86-b5c5-3f9b9ed46cbd",
   "metadata": {},
   "outputs": [
    {
     "name": "stdout",
     "output_type": "stream",
     "text": [
      "-0.6583140746148592\n"
     ]
    }
   ],
   "source": [
    "import numpy as np\n",
    "\n",
    "x = np.random.randn(9)\n",
    "\n",
    "x = np.reshape(x, (1, -1))\n",
    "positions = np.reshape(x, (x.shape[0], -1, 3))\n",
    "\n",
    "# Compute the pairwise differences\n",
    "deltas = positions[:, :, np.newaxis] - positions[:, np.newaxis, :]\n",
    "\n",
    "# Norm the differences to get [B, N, N]\n",
    "distances = np.linalg.norm(deltas, axis=-1) ** 2\n",
    "\n",
    "# Get the upper triangle matrix (ignoring the diagonal)\n",
    "distances = np.triu(distances, k=1)\n",
    "\n",
    "# Provide a mask to eliminate divisions from zero\n",
    "mask = distances > 0\n",
    "\n",
    "# Compute the pairwise cost (1 / dist)^12 - (1 / dist)^ 6\n",
    "result = 1.0 / distances[mask] ** 6 - 1.0 / distances[mask] ** 3\n",
    "result = 4 * result.sum()\n",
    "print(result)"
   ]
  },
  {
   "cell_type": "code",
   "execution_count": 9,
   "id": "f5e83a10-a6f3-4eb7-a08b-847aef3afc3b",
   "metadata": {},
   "outputs": [],
   "source": [
    "import torch\n",
    "\n",
    "x = torch.from_numpy(x)\n",
    "x = x.reshape(1, -1)\n",
    "positions = x.view(x.shape[0], -1, 3)\n",
    "\n",
    "# Compute the pairwise differences\n",
    "# Subtracting [B, 1, N, 3] from [B, N, 1, 3] gives [B, N, N, 3]\n",
    "deltas = positions.unsqueeze(2) - positions.unsqueeze(1)\n",
    "\n",
    "# Norm the differences gives [B, N, N]\n",
    "distances = torch.norm(deltas, dim=-1) ** 2\n",
    "\n",
    "# Get the upper triangle matrix (ignoring the diagonal)\n",
    "distances = torch.triu(distances, diagonal=1)\n",
    "\n",
    "# Provide a mask to eliminate divisions from zero\n",
    "mask = distances > 0\n",
    "\n",
    "# Compute the pairwise cost (1 / dist)^12 - (1 / dist)^ 6\n",
    "result = 1.0 / distances[mask] ** 6 - 1.0 / distances[mask] ** 3\n",
    "result = 4 * result.sum()"
   ]
  },
  {
   "cell_type": "code",
   "execution_count": 10,
   "id": "cfa58b7c-2593-46c6-b56d-c85d71841772",
   "metadata": {},
   "outputs": [
    {
     "data": {
      "text/plain": [
       "tensor(-0.6583, dtype=torch.float64)"
      ]
     },
     "execution_count": 10,
     "metadata": {},
     "output_type": "execute_result"
    }
   ],
   "source": [
    "result"
   ]
  },
  {
   "cell_type": "code",
   "execution_count": null,
   "id": "b5c854e8-c850-4fa8-8f19-9353ecc7fed9",
   "metadata": {},
   "outputs": [],
   "source": []
  }
 ],
 "metadata": {
  "kernelspec": {
   "display_name": "deeplifting",
   "language": "python",
   "name": "deeplifting"
  },
  "language_info": {
   "codemirror_mode": {
    "name": "ipython",
    "version": 3
   },
   "file_extension": ".py",
   "mimetype": "text/x-python",
   "name": "python",
   "nbconvert_exporter": "python",
   "pygments_lexer": "ipython3",
   "version": "3.9.11"
  }
 },
 "nbformat": 4,
 "nbformat_minor": 5
}
