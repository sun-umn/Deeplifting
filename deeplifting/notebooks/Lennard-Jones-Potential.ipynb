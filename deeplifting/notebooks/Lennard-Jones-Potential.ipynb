{
 "cells": [
  {
   "cell_type": "code",
   "execution_count": 1,
   "id": "25bf6dd5-f709-450c-8fe1-1f2258e25544",
   "metadata": {},
   "outputs": [
    {
     "data": {
      "text/plain": [
       "'/Users/ryandevera/data-science/umn_environments/Deeplifting/deeplifting/notebooks'"
      ]
     },
     "execution_count": 1,
     "metadata": {},
     "output_type": "execute_result"
    }
   ],
   "source": [
    "%pwd"
   ]
  },
  {
   "cell_type": "code",
   "execution_count": 2,
   "id": "9f64344a-ea79-4ba3-b692-545e36dc9c57",
   "metadata": {},
   "outputs": [
    {
     "name": "stdout",
     "output_type": "stream",
     "text": [
      "/Users/ryandevera/data-science/umn_environments/Deeplifting\n"
     ]
    }
   ],
   "source": [
    "%cd ../.."
   ]
  },
  {
   "cell_type": "code",
   "execution_count": 3,
   "id": "3ab424e2-fcbc-4ca7-9f97-e18ccf301d3e",
   "metadata": {},
   "outputs": [
    {
     "name": "stdout",
     "output_type": "stream",
     "text": [
      "README.md                       \u001b[1m\u001b[36mimages\u001b[m\u001b[m/\n",
      "\u001b[1m\u001b[36m__pycache__\u001b[m\u001b[m/                    \u001b[1m\u001b[36mjobs\u001b[m\u001b[m/\n",
      "\u001b[1m\u001b[36malgorithm_compare_results\u001b[m\u001b[m/      \u001b[1m\u001b[36mlow-dimension-search-results\u001b[m\u001b[m/\n",
      "\u001b[1m\u001b[36mdata\u001b[m\u001b[m/                           \u001b[1m\u001b[36mmodels\u001b[m\u001b[m/\n",
      "\u001b[1m\u001b[36mdata-queue\u001b[m\u001b[m/                     \u001b[1m\u001b[36mpaper-images\u001b[m\u001b[m/\n",
      "\u001b[1m\u001b[36mdata-queue-2023-09-24\u001b[m\u001b[m/          requirements.txt\n",
      "\u001b[1m\u001b[36mdata-queue-2023-09-27\u001b[m\u001b[m/          \u001b[1m\u001b[36mresults\u001b[m\u001b[m/\n",
      "\u001b[1m\u001b[36mdeeplifting\u001b[m\u001b[m/                    \u001b[1m\u001b[36msearch_results\u001b[m\u001b[m/\n",
      "deeplifting.png                 tasks.py\n",
      "\u001b[1m\u001b[36mhigh-dimension-paper-results\u001b[m\u001b[m/   test-low-dimension-results.png\n",
      "\u001b[1m\u001b[36mhigh-dimension-search-results\u001b[m\u001b[m/\n"
     ]
    }
   ],
   "source": [
    "%ls"
   ]
  },
  {
   "cell_type": "code",
   "execution_count": 4,
   "id": "b3287204-b5e2-4c90-bed2-f6e19471fac7",
   "metadata": {},
   "outputs": [],
   "source": [
    "import glob as glob\n",
    "import pandas as pd\n",
    "import numpy as np\n",
    "import seaborn as sns\n",
    "import matplotlib.pyplot as plt\n",
    "import tqdm"
   ]
  },
  {
   "cell_type": "markdown",
   "id": "9069ee8e-ef36-4956-8c14-e49ce2397169",
   "metadata": {},
   "source": [
    "# High Dimensional Deeplifting Results\n",
    "\n",
    "The final data will be in the `data-queue/high-dimensional-deeplifting`. We will need to continue to extract the information from MSI."
   ]
  },
  {
   "cell_type": "code",
   "execution_count": null,
   "id": "ee1a302f-415c-411e-b75e-c0eb97b295ff",
   "metadata": {},
   "outputs": [],
   "source": [
    "columns = [\n",
    "    'f',\n",
    "    'algorithm',\n",
    "    'total_time',\n",
    "    'input_size',\n",
    "    'hidden_size',\n",
    "    'hidden_activation',\n",
    "    'output_activation',\n",
    "    'agg_function',\n",
    "    'include_bn',\n",
    "    'problem_name',\n",
    "    'global_minimum',\n",
    "    'dimensions',\n",
    "]\n",
    "\n",
    "# Bring in the deeplifting results\n",
    "dl_file_directory = './data-queue-2023-09-24/high-dimension-deeplifting/*/*'\n",
    "dl_files = glob.glob(dl_file_directory)\n",
    "\n",
    "deeplifting_data_list = []\n",
    "for file in tqdm.tqdm(dl_files):\n",
    "    df = pd.read_parquet(file)\n",
    "    df = df[columns]\n",
    "    df['hits'] = np.abs(df['f'] - df['global_minimum']) <= 1e-4\n",
    "    deeplifting_data_list.append(df)\n",
    "\n",
    "deeplifting_df = pd.concat(deeplifting_data_list)\n",
    "del deeplifting_data_list"
   ]
  },
  {
   "cell_type": "code",
   "execution_count": null,
   "id": "b5ceba7f-1c3f-45a3-9e26-adc1a315957d",
   "metadata": {},
   "outputs": [],
   "source": [
    "deeplifting_df.head()"
   ]
  },
  {
   "cell_type": "code",
   "execution_count": null,
   "id": "0859cc77-e65f-41d6-a352-e7735d80afab",
   "metadata": {},
   "outputs": [],
   "source": [
    "test_df = deeplifting_df.groupby(\n",
    "    [\n",
    "        'algorithm',\n",
    "        'problem_name',\n",
    "        'dimensions',\n",
    "        'input_size',\n",
    "        'hidden_size',\n",
    "        'hidden_activation',\n",
    "        'output_activation',\n",
    "        'agg_function',\n",
    "        'include_bn',\n",
    "    ]\n",
    ").agg({'hits': ['count', 'mean'], 'total_time': 'mean'})\n",
    "\n",
    "test_df.columns = ['-'.join(column) for column in test_df.columns]\n",
    "\n",
    "test_df = test_df.reset_index()\n",
    "test_df = test_df.sort_values(\n",
    "    ['problem_name', 'hits-mean', 'total_time-mean'],\n",
    "    ascending=[True, False, True],\n",
    ")\n",
    "test_df = test_df.reset_index(drop=True)\n",
    "test_df = test_df.groupby(['problem_name']).first().reset_index()\n",
    "test_df = test_df.rename(columns={'total_time-mean': 'time-mean'})\n",
    "\n",
    "# Final deeplifting columns\n",
    "columns = ['problem_name', 'algorithm', 'dimensions', 'hits-mean', 'time-mean']\n",
    "test_df = test_df[columns]\n",
    "test_df.head()"
   ]
  },
  {
   "cell_type": "markdown",
   "id": "753b3a4c-1526-48bc-98ee-e1530dda1beb",
   "metadata": {},
   "source": [
    "# Algorithm Comparison Results"
   ]
  },
  {
   "cell_type": "code",
   "execution_count": 6,
   "id": "42d0e4b2-26e7-4a1f-bd28-92d327f2bbad",
   "metadata": {},
   "outputs": [
    {
     "data": {
      "text/html": [
       "<div>\n",
       "<style scoped>\n",
       "    .dataframe tbody tr th:only-of-type {\n",
       "        vertical-align: middle;\n",
       "    }\n",
       "\n",
       "    .dataframe tbody tr th {\n",
       "        vertical-align: top;\n",
       "    }\n",
       "\n",
       "    .dataframe thead th {\n",
       "        text-align: right;\n",
       "    }\n",
       "</style>\n",
       "<table border=\"1\" class=\"dataframe\">\n",
       "  <thead>\n",
       "    <tr style=\"text-align: right;\">\n",
       "      <th></th>\n",
       "      <th>problem_name</th>\n",
       "      <th>algorithm</th>\n",
       "      <th>dimensions</th>\n",
       "      <th>hits</th>\n",
       "      <th>time</th>\n",
       "    </tr>\n",
       "  </thead>\n",
       "  <tbody>\n",
       "    <tr>\n",
       "      <th>0</th>\n",
       "      <td>lennard_jones_6d</td>\n",
       "      <td>IPOPT</td>\n",
       "      <td>6</td>\n",
       "      <td>1</td>\n",
       "      <td>9.445318</td>\n",
       "    </tr>\n",
       "    <tr>\n",
       "      <th>1</th>\n",
       "      <td>lennard_jones_6d</td>\n",
       "      <td>IPOPT</td>\n",
       "      <td>6</td>\n",
       "      <td>1</td>\n",
       "      <td>0.353197</td>\n",
       "    </tr>\n",
       "    <tr>\n",
       "      <th>2</th>\n",
       "      <td>lennard_jones_6d</td>\n",
       "      <td>IPOPT</td>\n",
       "      <td>6</td>\n",
       "      <td>1</td>\n",
       "      <td>0.134405</td>\n",
       "    </tr>\n",
       "    <tr>\n",
       "      <th>3</th>\n",
       "      <td>lennard_jones_6d</td>\n",
       "      <td>IPOPT</td>\n",
       "      <td>6</td>\n",
       "      <td>0</td>\n",
       "      <td>4.031541</td>\n",
       "    </tr>\n",
       "    <tr>\n",
       "      <th>4</th>\n",
       "      <td>lennard_jones_6d</td>\n",
       "      <td>IPOPT</td>\n",
       "      <td>6</td>\n",
       "      <td>0</td>\n",
       "      <td>2.063481</td>\n",
       "    </tr>\n",
       "  </tbody>\n",
       "</table>\n",
       "</div>"
      ],
      "text/plain": [
       "       problem_name algorithm  dimensions  hits      time\n",
       "0  lennard_jones_6d     IPOPT           6     1  9.445318\n",
       "1  lennard_jones_6d     IPOPT           6     1  0.353197\n",
       "2  lennard_jones_6d     IPOPT           6     1  0.134405\n",
       "3  lennard_jones_6d     IPOPT           6     0  4.031541\n",
       "4  lennard_jones_6d     IPOPT           6     0  2.063481"
      ]
     },
     "execution_count": 6,
     "metadata": {},
     "output_type": "execute_result"
    }
   ],
   "source": [
    "# Algorithm keep columns\n",
    "algorithm_columns = [\n",
    "    'problem_name',\n",
    "    'algorithm',\n",
    "    'dimensions',\n",
    "    'hits',\n",
    "    'time',\n",
    "]\n",
    "\n",
    "# Results from comparison algorithms\n",
    "file_directory = './data-queue-2023-09-24/lennard-jones/*/*'\n",
    "files = glob.glob(file_directory)\n",
    "algorithm_df = pd.read_parquet(files)\n",
    "\n",
    "# Drop scip because results will now be separated\n",
    "algorithm_df = algorithm_df.loc[algorithm_df['algorithm'] != 'SCIP'].reset_index(\n",
    "    drop=True\n",
    ")\n",
    "\n",
    "algorithm_df = algorithm_df[algorithm_columns]\n",
    "algorithm_df.head()"
   ]
  },
  {
   "cell_type": "code",
   "execution_count": 9,
   "id": "7f612139-1323-4c75-a7cd-6aab80d1ccaa",
   "metadata": {},
   "outputs": [
    {
     "data": {
      "text/html": [
       "<div>\n",
       "<style scoped>\n",
       "    .dataframe tbody tr th:only-of-type {\n",
       "        vertical-align: middle;\n",
       "    }\n",
       "\n",
       "    .dataframe tbody tr th {\n",
       "        vertical-align: top;\n",
       "    }\n",
       "\n",
       "    .dataframe thead th {\n",
       "        text-align: right;\n",
       "    }\n",
       "</style>\n",
       "<table border=\"1\" class=\"dataframe\">\n",
       "  <thead>\n",
       "    <tr style=\"text-align: right;\">\n",
       "      <th>algorithm</th>\n",
       "      <th>Basinhopping</th>\n",
       "      <th>Differential Evolution</th>\n",
       "      <th>Dual Annealing</th>\n",
       "      <th>IPOPT</th>\n",
       "    </tr>\n",
       "    <tr>\n",
       "      <th>dimensions</th>\n",
       "      <th></th>\n",
       "      <th></th>\n",
       "      <th></th>\n",
       "      <th></th>\n",
       "    </tr>\n",
       "  </thead>\n",
       "  <tbody>\n",
       "    <tr>\n",
       "      <th>6</th>\n",
       "      <td>1.0</td>\n",
       "      <td>1.0</td>\n",
       "      <td>1.0</td>\n",
       "      <td>0.4</td>\n",
       "    </tr>\n",
       "    <tr>\n",
       "      <th>9</th>\n",
       "      <td>0.9</td>\n",
       "      <td>1.0</td>\n",
       "      <td>1.0</td>\n",
       "      <td>0.8</td>\n",
       "    </tr>\n",
       "    <tr>\n",
       "      <th>12</th>\n",
       "      <td>0.9</td>\n",
       "      <td>1.0</td>\n",
       "      <td>1.0</td>\n",
       "      <td>1.0</td>\n",
       "    </tr>\n",
       "  </tbody>\n",
       "</table>\n",
       "</div>"
      ],
      "text/plain": [
       "algorithm   Basinhopping  Differential Evolution  Dual Annealing  IPOPT\n",
       "dimensions                                                             \n",
       "6                    1.0                     1.0             1.0    0.4\n",
       "9                    0.9                     1.0             1.0    0.8\n",
       "12                   0.9                     1.0             1.0    1.0"
      ]
     },
     "execution_count": 9,
     "metadata": {},
     "output_type": "execute_result"
    }
   ],
   "source": [
    "# Let's get the algorithm compare results!\n",
    "algorithm_results_df = algorithm_df.groupby(\n",
    "    ['problem_name', 'algorithm', 'dimensions']\n",
    ").agg({'hits': ['count', 'mean'], 'time': 'mean'})\n",
    "algorithm_results_df.columns = [\n",
    "    '-'.join(column) for column in algorithm_results_df.columns\n",
    "]\n",
    "algorithm_results_df = algorithm_results_df.reset_index()\n",
    "\n",
    "# Need to verify that all problems have the same number of trials in the end\n",
    "algorithm_results_df = algorithm_results_df.drop(columns=['hits-count'])\n",
    "algorithm_results_df.pivot_table(\n",
    "    index='dimensions', columns='algorithm', values='hits-mean'\n",
    ")"
   ]
  },
  {
   "cell_type": "code",
   "execution_count": null,
   "id": "a5a36b0c-f5fe-4fc3-bf5a-c4fe0c98763e",
   "metadata": {},
   "outputs": [],
   "source": [
    "algorithm_df['algorithm'].unique()"
   ]
  },
  {
   "cell_type": "markdown",
   "id": "1b8728b9-93f5-45f5-8857-7535a6e81b5d",
   "metadata": {},
   "source": [
    "# SCIP Results\n",
    "\n",
    "At first, SCIP was running very fast but then it encountered problems where it really struggled. I split out the results from SCIP."
   ]
  },
  {
   "cell_type": "code",
   "execution_count": null,
   "id": "03dc4b3e-1c32-4af9-81d9-eb0f7c4c2895",
   "metadata": {},
   "outputs": [],
   "source": [
    "scip_file_directory = './data-queue-2023-09-24/high-dimension-scip/*/*'\n",
    "scip_files = glob.glob(scip_file_directory)\n",
    "\n",
    "# Load in the data\n",
    "scip_df = pd.read_parquet(scip_files)\n",
    "\n",
    "# Fix where the time-violations are happening\n",
    "scip_df['time-violation'] = scip_df.groupby(['problem_name', 'dimensions'])[\n",
    "    'time'\n",
    "].transform('max')\n",
    "scip_df['time'] = np.where(\n",
    "    scip_df['time-violation'] >= (60 * 60 * 8),\n",
    "    scip_df['time-violation'],\n",
    "    scip_df['time'],\n",
    ")\n",
    "scip_df['hits'] = np.where(\n",
    "    scip_df['time-violation'] >= (60 * 60 * 8), 0, scip_df['hits']\n",
    ")\n",
    "\n",
    "# Remove unwanted columns\n",
    "scip_df = scip_df[algorithm_columns + ['time-violation']]\n",
    "\n",
    "# Gather the results\n",
    "scip_results_df = scip_df.groupby(['problem_name', 'algorithm', 'dimensions']).agg(\n",
    "    {'hits': ['count', 'mean'], 'time': 'mean'}\n",
    ")\n",
    "scip_results_df.columns = ['-'.join(column) for column in scip_results_df.columns]\n",
    "scip_results_df = scip_results_df.reset_index()\n",
    "scip_results_df\n",
    "\n",
    "# Need to verify that all problems have the same number of trials in the end\n",
    "scip_results_df = scip_results_df.drop(columns=['hits-count'])\n",
    "\n",
    "# Missing values still because of time issues\n",
    "scip_missing_df = pd.DataFrame(\n",
    "    {\n",
    "        'problem_name': ['levy_500d', 'levy_1000d', 'schwefel_500d', 'schwefel_1000d'],\n",
    "        'algorithm': ['SCIP'] * 4,\n",
    "        'dimensions': [500, 1000, 500, 1000],\n",
    "        'hits-mean': [0.0] * 4,\n",
    "        'time-mean': [60 * 60 * 8] * 4,\n",
    "    }\n",
    ")\n",
    "scip_results_df = pd.concat([scip_results_df, scip_missing_df], ignore_index=True)\n",
    "scip_results_df.sort_values(['problem_name', 'dimensions'])"
   ]
  },
  {
   "cell_type": "markdown",
   "id": "46b7e8c2-cf15-4162-9959-2aa9d42602df",
   "metadata": {},
   "source": [
    "# Full Results\n",
    "Combine the full results and let's create a facet grid."
   ]
  },
  {
   "cell_type": "code",
   "execution_count": null,
   "id": "51dcdfe9-d228-489b-a41a-f1c4287515c6",
   "metadata": {},
   "outputs": [],
   "source": [
    "results_df = pd.concat(\n",
    "    [test_df, algorithm_results_df, scip_results_df], axis=0, ignore_index=True\n",
    ")\n",
    "\n",
    "# Set the problem\n",
    "results_df['problem'] = results_df['problem_name'].str.replace(\n",
    "    r'_[0-9]+d', '', regex=True\n",
    ")\n",
    "results_df['problem'] = np.where(\n",
    "    results_df['problem'].str.contains('reyonlds'),\n",
    "    'chung_reynolds',\n",
    "    results_df['problem'],\n",
    ")\n",
    "results_df['problem'] = np.where(\n",
    "    results_df['problem'].str.contains('reynolds'),\n",
    "    'Chung Reynolds',\n",
    "    results_df['problem'],\n",
    ")\n",
    "results_df['time-mean-log'] = results_df['time-mean'].apply(np.log1p)\n",
    "results_df['dimensions-log'] = results_df['dimensions'].apply(np.log1p)\n",
    "results_df.head()"
   ]
  },
  {
   "cell_type": "code",
   "execution_count": null,
   "id": "dee7b8c6-e8a3-478a-a5fa-d20513eefae1",
   "metadata": {},
   "outputs": [],
   "source": [
    "# Sanity check that all problems exists for each algorithm\n",
    "results_df.groupby(['problem', 'algorithm']).size()"
   ]
  },
  {
   "cell_type": "code",
   "execution_count": null,
   "id": "81cb2111-e82f-43d2-a9c7-2e2b9fedb2c0",
   "metadata": {},
   "outputs": [],
   "source": [
    "mask = (results_df['problem'] == 'rastrigin') & (\n",
    "    results_df['algorithm'] == 'Deeplifting'\n",
    ")\n",
    "results_df.loc[mask]"
   ]
  },
  {
   "cell_type": "code",
   "execution_count": null,
   "id": "19a34335-df36-4938-b3c5-989fe9139912",
   "metadata": {},
   "outputs": [],
   "source": [
    "# Create the FacetGrid\n",
    "g = sns.FacetGrid(\n",
    "    results_df, col=\"problem\", col_wrap=3, sharex=True, sharey=True, height=3\n",
    ")\n",
    "\n",
    "# Map the data to the grid\n",
    "g.map_dataframe(\n",
    "    sns.stripplot, x='hits-mean', y='algorithm', hue='dimensions', palette='viridis'\n",
    ")\n",
    "\n",
    "# Add legends and other aesthetic improvements\n",
    "g.add_legend()\n",
    "g.set_axis_labels(\"Dimensions\", \"Time\")\n",
    "g.set_titles(col_template=\"{col_name} problem\")\n",
    "\n",
    "# Add grids for all axes\n",
    "for ax in g.axes.flatten():\n",
    "    ax.grid()"
   ]
  },
  {
   "cell_type": "markdown",
   "id": "11b19414-6026-4a11-90ab-7f786a546b77",
   "metadata": {},
   "source": [
    "# Use matplotlib instead of seaborn because the jet colors do not exist"
   ]
  },
  {
   "cell_type": "code",
   "execution_count": null,
   "id": "a1e70cbb-efe0-420a-8c6d-1535a03ef06f",
   "metadata": {},
   "outputs": [],
   "source": [
    "fig, axes = plt.subplots(3, 3, figsize=(11, 5), sharex=True, sharey=True)\n",
    "axes = axes.flatten()\n",
    "problems = results_df['problem'].unique().tolist()\n",
    "\n",
    "lines = []\n",
    "labels = []\n",
    "markers = ['o', '*', 'o', '*', 'o', '*', 'o']\n",
    "for index, problem in enumerate(problems):\n",
    "    ax = axes[index]\n",
    "    data = results_df.loc[results_df['problem'] == problem].reset_index(drop=True)\n",
    "    data = data.pivot_table(\n",
    "        index='dimensions-log', columns='algorithm', values='time-mean-log'\n",
    "    )\n",
    "    line = data.plot(ax=ax, cmap='jet', legend=False)\n",
    "    ax.set_title(f'{problem.capitalize()}', fontsize=14)\n",
    "    ax.grid()\n",
    "    ax.set_xlabel('Dimensions (Log Scale)', fontsize=14)\n",
    "    ax.set_ylabel('Avg $\\log(t)$', fontsize=14)\n",
    "    # for i, line in enumerate(ax.get_lines()):\n",
    "    #     line.set_marker(markers[index])\n",
    "\n",
    "    if index == 0:\n",
    "        lines, labels = ax.get_legend_handles_labels()\n",
    "\n",
    "# Turn extra axis off\n",
    "# axes[7].axis('off')\n",
    "axes[8].axis('off')\n",
    "\n",
    "# # Create a single legend for all the plots\n",
    "fig.legend(lines, labels, bbox_to_anchor=(0.94, 0.0), ncol=6)\n",
    "fig.tight_layout()\n",
    "# fig.savefig('/Users/ryandevera/data-science/umn_environments/Deeplifting/paper-images/high-dimension-time-vs-dim.png', bbox_inches='tight', pad_inches=0.01)"
   ]
  },
  {
   "cell_type": "code",
   "execution_count": null,
   "id": "16e39ad2-c57f-4b53-92d8-cfee761001fd",
   "metadata": {},
   "outputs": [],
   "source": [
    "(\n",
    "    results_df.loc[results_df['algorithm'] == 'Deeplifting']\n",
    "    .pivot_table(\n",
    "        index='problem', columns=['algorithm', 'dimensions'], values='hits-mean'\n",
    "    )\n",
    "    .fillna(0.0)\n",
    ")"
   ]
  },
  {
   "cell_type": "code",
   "execution_count": null,
   "id": "209abdc8-5a07-41fc-b5f1-3bb3588916f0",
   "metadata": {},
   "outputs": [],
   "source": [
    "(\n",
    "    results_df.loc[results_df['algorithm'] == 'Differential Evolution']\n",
    "    .pivot_table(\n",
    "        index='problem', columns=['algorithm', 'dimensions'], values='hits-mean'\n",
    "    )\n",
    "    .fillna(0.0)\n",
    ")"
   ]
  },
  {
   "cell_type": "code",
   "execution_count": null,
   "id": "53f2fc20-ea41-4609-9e31-5a80ad07c04a",
   "metadata": {},
   "outputs": [],
   "source": [
    "(\n",
    "    results_df.loc[results_df['algorithm'] == 'Dual Annealing']\n",
    "    .pivot_table(\n",
    "        index='problem', columns=['algorithm', 'dimensions'], values='hits-mean'\n",
    "    )\n",
    "    .fillna(0.0)\n",
    ")"
   ]
  },
  {
   "cell_type": "code",
   "execution_count": null,
   "id": "aee2b377-41c1-4c35-bbec-e0725f6be3db",
   "metadata": {},
   "outputs": [],
   "source": [
    "(\n",
    "    results_df.loc[results_df['algorithm'] == 'IPOPT']\n",
    "    .pivot_table(\n",
    "        index='problem', columns=['algorithm', 'dimensions'], values='hits-mean'\n",
    "    )\n",
    "    .fillna(0.0)\n",
    ")"
   ]
  },
  {
   "cell_type": "code",
   "execution_count": null,
   "id": "b8b5a672-1800-4ec6-ab7a-9c8b691715c8",
   "metadata": {},
   "outputs": [],
   "source": [
    "(\n",
    "    results_df.loc[results_df['algorithm'] == 'PyGRANSO']\n",
    "    .pivot_table(\n",
    "        index='problem', columns=['algorithm', 'dimensions'], values='hits-mean'\n",
    "    )\n",
    "    .fillna(0.0)\n",
    ")"
   ]
  },
  {
   "cell_type": "code",
   "execution_count": null,
   "id": "9d06db59-d315-4170-982d-1fad7da9af4c",
   "metadata": {},
   "outputs": [],
   "source": [
    "(\n",
    "    results_df.loc[results_df['algorithm'] == 'SCIP']\n",
    "    .pivot_table(\n",
    "        index='problem', columns=['algorithm', 'dimensions'], values='hits-mean'\n",
    "    )\n",
    "    .fillna(0.0)\n",
    ")"
   ]
  },
  {
   "cell_type": "code",
   "execution_count": null,
   "id": "d17c6104-fc12-4380-864c-936ae674c54d",
   "metadata": {},
   "outputs": [],
   "source": [
    "(\n",
    "    results_df.pivot_table(\n",
    "        index='algorithm', columns=['problem', 'dimensions'], values=['hits-mean']\n",
    "    )\n",
    "    .fillna(0.0)\n",
    "    .mean(axis=1)\n",
    "    .sort_values(ascending=False)\n",
    ")"
   ]
  },
  {
   "cell_type": "code",
   "execution_count": null,
   "id": "5e908ab1-a66b-4cd9-824f-a6bcad198bdf",
   "metadata": {},
   "outputs": [],
   "source": [
    "(\n",
    "    results_df.pivot_table(\n",
    "        index='algorithm', columns=['problem', 'dimensions'], values='time-mean'\n",
    "    )\n",
    "    .fillna(0.0)\n",
    "    .mean(axis=1)\n",
    "    .sort_values()\n",
    ")"
   ]
  },
  {
   "cell_type": "code",
   "execution_count": null,
   "id": "a076a8ca-c214-441d-8982-a2c45761e70e",
   "metadata": {},
   "outputs": [],
   "source": [
    "mask = results_df['problem'] == 'ackley'\n",
    "\n",
    "(\n",
    "    results_df.loc[mask].pivot_table(\n",
    "        index='dimensions-log', columns='algorithm', values='time-mean-log'\n",
    "    )\n",
    ")"
   ]
  },
  {
   "cell_type": "markdown",
   "id": "d2daefa1-f46d-43e5-9e02-a1c64414cb0d",
   "metadata": {},
   "source": [
    "# Create the plots side by side"
   ]
  },
  {
   "cell_type": "code",
   "execution_count": null,
   "id": "7ac72e37-59b3-4be6-9f2f-7ff72cc352dd",
   "metadata": {},
   "outputs": [],
   "source": [
    "import matplotlib.pyplot as plt\n",
    "import pandas as pd\n",
    "import seaborn as sns\n",
    "\n",
    "sampled_df = pd.read_parquet('./data/low-dimension-sampled-results.parquet')\n",
    "sampled_df = sampled_df.set_index('problem_name')\n",
    "\n",
    "mosaic = \"\"\"\n",
    "    ABC\n",
    "    ADE\n",
    "\"\"\"\n",
    "\n",
    "# fig = plt.figure(figsize=(14, 6), layout=\"constrained\")\n",
    "fig, ax_dict = plt.subplot_mosaic(mosaic, figsize=(14, 6))\n",
    "\n",
    "styles = ['o-', '^-', 's-', 'D-', '*-', 'H-']\n",
    "\n",
    "\n",
    "axa = ax_dict['A']\n",
    "sns.heatmap(\n",
    "    data=sampled_df,\n",
    "    cmap='jet',\n",
    "    ax=axa,\n",
    ")\n",
    "\n",
    "# Ackley timing\n",
    "mask = results_df['problem'] == 'ackley'\n",
    "\n",
    "df = results_df.loc[mask].pivot_table(\n",
    "    index='dimensions-log', columns='algorithm', values='time-mean-log'\n",
    ")\n",
    "\n",
    "axb = ax_dict['B']\n",
    "df.plot(ax=axb, cmap='jet', legend=False, style=styles)\n",
    "axb.grid()\n",
    "axb.set_title('Ackley Series')\n",
    "fig.legend(bbox_to_anchor=(0.995, 0.01), ncols=6)\n",
    "\n",
    "# Chung Reynolds timing\n",
    "mask = results_df['problem'] == 'Chung Reynolds'\n",
    "\n",
    "df = results_df.loc[mask].pivot_table(\n",
    "    index='dimensions-log', columns='algorithm', values='time-mean-log'\n",
    ")\n",
    "\n",
    "axc = ax_dict['C']\n",
    "df.plot(ax=axc, cmap='jet', legend=False, style=styles)\n",
    "axc.set_title('Chung Reynolds Series')\n",
    "axc.grid()\n",
    "\n",
    "# Qing timing\n",
    "mask = results_df['problem'] == 'qing'\n",
    "\n",
    "df = results_df.loc[mask].pivot_table(\n",
    "    index='dimensions-log', columns='algorithm', values='time-mean-log'\n",
    ")\n",
    "\n",
    "axd = ax_dict['D']\n",
    "df.plot(ax=axd, cmap='jet', legend=False, style=styles)\n",
    "axd.set_title('Qing Series')\n",
    "axd.grid()\n",
    "\n",
    "# Schwefel timing\n",
    "mask = results_df['problem'] == 'schwefel'\n",
    "\n",
    "df = results_df.loc[mask].pivot_table(\n",
    "    index='dimensions-log', columns='algorithm', values='time-mean-log'\n",
    ")\n",
    "\n",
    "axe = ax_dict['E']\n",
    "df.plot(ax=axe, cmap='jet', legend=False, style=styles)\n",
    "axe.set_title('Schwefel Series')\n",
    "axe.grid()\n",
    "\n",
    "\n",
    "fig.tight_layout()\n",
    "fig.savefig(\n",
    "    '/Users/ryandevera/data-science/umn_environments/Deeplifting/paper-images/combined-plots.png',\n",
    "    bbox_inches='tight',\n",
    "    pad_inches=0.01,\n",
    ")"
   ]
  },
  {
   "cell_type": "code",
   "execution_count": null,
   "id": "12f17ab7-ede4-4970-b62a-a39cea19961a",
   "metadata": {},
   "outputs": [],
   "source": []
  }
 ],
 "metadata": {
  "kernelspec": {
   "display_name": "deeplifting",
   "language": "python",
   "name": "deeplifting"
  },
  "language_info": {
   "codemirror_mode": {
    "name": "ipython",
    "version": 3
   },
   "file_extension": ".py",
   "mimetype": "text/x-python",
   "name": "python",
   "nbconvert_exporter": "python",
   "pygments_lexer": "ipython3",
   "version": "3.9.11"
  }
 },
 "nbformat": 4,
 "nbformat_minor": 5
}
