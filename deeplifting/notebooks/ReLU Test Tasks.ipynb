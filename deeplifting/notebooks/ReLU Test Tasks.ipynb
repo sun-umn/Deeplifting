{
 "cells": [
  {
   "cell_type": "code",
   "execution_count": 1,
   "id": "becoming-keeping",
   "metadata": {},
   "outputs": [
    {
     "data": {
      "text/plain": [
       "'/Users/ryandevera/data-science/umn_environments/Deeplifting/deeplifting/notebooks'"
      ]
     },
     "execution_count": 1,
     "metadata": {},
     "output_type": "execute_result"
    }
   ],
   "source": [
    "%pwd"
   ]
  },
  {
   "cell_type": "code",
   "execution_count": 2,
   "id": "narrow-accident",
   "metadata": {},
   "outputs": [
    {
     "name": "stdout",
     "output_type": "stream",
     "text": [
      "/Users/ryandevera/data-science/umn_environments/Deeplifting\n"
     ]
    }
   ],
   "source": [
    "%cd ../.."
   ]
  },
  {
   "cell_type": "code",
   "execution_count": 3,
   "id": "pediatric-advantage",
   "metadata": {},
   "outputs": [
    {
     "name": "stdout",
     "output_type": "stream",
     "text": [
      "\u001b[1m\u001b[36mLJ_data\u001b[m\u001b[m/                        \u001b[1m\u001b[36mhigh-dimension-paper-results\u001b[m\u001b[m/\n",
      "LJ_data.tar                     \u001b[1m\u001b[36mhigh-dimension-search-results\u001b[m\u001b[m/\n",
      "README.md                       \u001b[1m\u001b[36mimages\u001b[m\u001b[m/\n",
      "Untitled.ipynb                  \u001b[1m\u001b[36mjobs\u001b[m\u001b[m/\n",
      "\u001b[1m\u001b[36m__pycache__\u001b[m\u001b[m/                    \u001b[1m\u001b[36mlow-dimension-search-results\u001b[m\u001b[m/\n",
      "\u001b[1m\u001b[36malgorithm_compare_results\u001b[m\u001b[m/      \u001b[1m\u001b[36mmodels\u001b[m\u001b[m/\n",
      "config.py                       \u001b[1m\u001b[36mpaper-images\u001b[m\u001b[m/\n",
      "\u001b[1m\u001b[36mdata\u001b[m\u001b[m/                           requirements.txt\n",
      "\u001b[1m\u001b[36mdata-queue\u001b[m\u001b[m/                     \u001b[1m\u001b[36mresults\u001b[m\u001b[m/\n",
      "\u001b[1m\u001b[36mdata-queue-2023-09-24\u001b[m\u001b[m/          \u001b[1m\u001b[36msearch_results\u001b[m\u001b[m/\n",
      "\u001b[1m\u001b[36mdata-queue-2023-10-18\u001b[m\u001b[m/          tasks.py\n",
      "\u001b[1m\u001b[36mdeeplifting\u001b[m\u001b[m/                    test-low-dimension-results.png\n",
      "deeplifting.png                 \u001b[1m\u001b[36mwandb\u001b[m\u001b[m/\n",
      "\u001b[1m\u001b[36mexperiments\u001b[m\u001b[m/\n"
     ]
    }
   ],
   "source": [
    "%ls"
   ]
  },
  {
   "cell_type": "code",
   "execution_count": null,
   "id": "written-warrant",
   "metadata": {},
   "outputs": [],
   "source": [
    "!jupyter nbextension enable --py widgetsnbextension"
   ]
  },
  {
   "cell_type": "code",
   "execution_count": null,
   "id": "studied-disease",
   "metadata": {},
   "outputs": [],
   "source": [
    "# stdlib\n",
    "import click\n",
    "import os\n",
    "import warnings\n",
    "from datetime import datetime\n",
    "from itertools import product\n",
    "\n",
    "# third party\n",
    "import numpy as np\n",
    "import pandas as pd\n",
    "import seaborn as sns\n",
    "import torch\n",
    "import torch.nn as nn\n",
    "from pygranso.private.getNvar import getNvarTorch\n",
    "from pygranso.pygranso import pygranso\n",
    "from pygranso.pygransoStruct import pygransoStruct\n",
    "\n",
    "# first party\n",
    "from config import (\n",
    "    low_dimensional_problem_names,\n",
    "    search_agg_functions,\n",
    "    search_hidden_activations,\n",
    "    search_hidden_sizes,\n",
    "    search_include_bn,\n",
    "    search_input_sizes,\n",
    "    search_output_activations,\n",
    ")\n",
    "from deeplifting.models import ReLUDeepliftingMLP\n",
    "from deeplifting.optimization import deeplifting_predictions, deeplifting_nd_fn\n",
    "from deeplifting.problems import HIGH_DIMENSIONAL_PROBLEMS_BY_NAME, PROBLEMS_BY_NAME\n",
    "from deeplifting.utils import (\n",
    "    get_devices,\n",
    "    initialize_vector,\n",
    "    set_seed,\n",
    "    train_model_to_output,\n",
    ")\n",
    "\n",
    "# Filter warnings\n",
    "warnings.filterwarnings('ignore')"
   ]
  },
  {
   "cell_type": "code",
   "execution_count": null,
   "id": "economic-pantyhose",
   "metadata": {},
   "outputs": [],
   "source": [
    "torch.cuda.is_available()"
   ]
  },
  {
   "cell_type": "code",
   "execution_count": null,
   "id": "charitable-adelaide",
   "metadata": {},
   "outputs": [],
   "source": [
    "!nvidia-smi"
   ]
  },
  {
   "cell_type": "code",
   "execution_count": null,
   "id": "steady-apparel",
   "metadata": {},
   "outputs": [],
   "source": [
    "from tasks import find_best_architecture_task"
   ]
  },
  {
   "cell_type": "code",
   "execution_count": null,
   "id": "chubby-fellow",
   "metadata": {},
   "outputs": [],
   "source": [
    "problem_name = 'ackley'\n",
    "method = 'deeplifting-pygranso'\n",
    "dimensionality = 'low-dimensional'\n",
    "experimentation = True"
   ]
  },
  {
   "cell_type": "code",
   "execution_count": null,
   "id": "chronic-marshall",
   "metadata": {},
   "outputs": [],
   "source": [
    "find_best_architecture_task(\n",
    "    problem_name=problem_name,\n",
    "    method=method,\n",
    "    dimensionality=dimensionality,\n",
    "    experimentation=False,\n",
    "    include_weight_initialization=True,\n",
    ")"
   ]
  },
  {
   "cell_type": "code",
   "execution_count": null,
   "id": "dried-shell",
   "metadata": {},
   "outputs": [],
   "source": [
    "%debug"
   ]
  }
 ],
 "metadata": {
  "kernelspec": {
   "display_name": "deeplifting",
   "language": "python",
   "name": "deeplifting"
  },
  "language_info": {
   "codemirror_mode": {
    "name": "ipython",
    "version": 3
   },
   "file_extension": ".py",
   "mimetype": "text/x-python",
   "name": "python",
   "nbconvert_exporter": "python",
   "pygments_lexer": "ipython3",
   "version": "3.9.11"
  }
 },
 "nbformat": 4,
 "nbformat_minor": 5
}
