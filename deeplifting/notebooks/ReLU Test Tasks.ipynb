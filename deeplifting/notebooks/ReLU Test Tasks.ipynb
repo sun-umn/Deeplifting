{
 "cells": [
  {
   "cell_type": "code",
   "execution_count": null,
   "id": "becoming-keeping",
   "metadata": {},
   "outputs": [],
   "source": [
    "%pwd"
   ]
  },
  {
   "cell_type": "code",
   "execution_count": null,
   "id": "narrow-accident",
   "metadata": {},
   "outputs": [],
   "source": [
    "%cd Deeplifting/"
   ]
  },
  {
   "cell_type": "code",
   "execution_count": null,
   "id": "pediatric-advantage",
   "metadata": {},
   "outputs": [],
   "source": [
    "%ls"
   ]
  },
  {
   "cell_type": "code",
   "execution_count": null,
   "id": "written-warrant",
   "metadata": {},
   "outputs": [],
   "source": [
    "!jupyter nbextension enable --py widgetsnbextension"
   ]
  },
  {
   "cell_type": "code",
   "execution_count": null,
   "id": "studied-disease",
   "metadata": {},
   "outputs": [],
   "source": [
    "# stdlib\n",
    "import click\n",
    "import os\n",
    "import warnings\n",
    "from datetime import datetime\n",
    "from itertools import product\n",
    "\n",
    "# third party\n",
    "import numpy as np\n",
    "import pandas as pd\n",
    "import seaborn as sns\n",
    "import torch\n",
    "import torch.nn as nn\n",
    "from pygranso.private.getNvar import getNvarTorch\n",
    "from pygranso.pygranso import pygranso\n",
    "from pygranso.pygransoStruct import pygransoStruct\n",
    "\n",
    "# first party\n",
    "from config import (\n",
    "    low_dimensional_problem_names,\n",
    "    search_agg_functions,\n",
    "    search_hidden_activations,\n",
    "    search_hidden_sizes,\n",
    "    search_include_bn,\n",
    "    search_input_sizes,\n",
    "    search_output_activations,\n",
    ")\n",
    "from deeplifting.models import ReLUDeepliftingMLP\n",
    "from deeplifting.optimization import deeplifting_predictions, deeplifting_nd_fn\n",
    "from deeplifting.problems import HIGH_DIMENSIONAL_PROBLEMS_BY_NAME, PROBLEMS_BY_NAME\n",
    "from deeplifting.utils import get_devices, initialize_vector, set_seed, train_model_to_output\n",
    "\n",
    "# Filter warnings\n",
    "warnings.filterwarnings('ignore')"
   ]
  },
  {
   "cell_type": "code",
   "execution_count": null,
   "id": "economic-pantyhose",
   "metadata": {},
   "outputs": [],
   "source": [
    "torch.cuda.is_available()"
   ]
  },
  {
   "cell_type": "code",
   "execution_count": null,
   "id": "charitable-adelaide",
   "metadata": {},
   "outputs": [],
   "source": [
    "!nvidia-smi"
   ]
  },
  {
   "cell_type": "code",
   "execution_count": null,
   "id": "steady-apparel",
   "metadata": {},
   "outputs": [],
   "source": [
    "from tasks import find_best_architecture_task"
   ]
  },
  {
   "cell_type": "code",
   "execution_count": null,
   "id": "chubby-fellow",
   "metadata": {},
   "outputs": [],
   "source": [
    "problem_name = 'ackley'\n",
    "method = 'deeplifting-pygranso'\n",
    "dimensionality = 'low-dimensional'\n",
    "experimentation = True"
   ]
  },
  {
   "cell_type": "code",
   "execution_count": null,
   "id": "chronic-marshall",
   "metadata": {},
   "outputs": [],
   "source": [
    "find_best_architecture_task(\n",
    "    problem_name=problem_name,\n",
    "    method=method,\n",
    "    dimensionality=dimensionality,\n",
    "    experimentation=False,\n",
    "    include_weight_initialization=True,\n",
    ")"
   ]
  },
  {
   "cell_type": "code",
   "execution_count": null,
   "id": "dried-shell",
   "metadata": {},
   "outputs": [],
   "source": [
    "%debug"
   ]
  },
  {
   "cell_type": "markdown",
   "id": "suitable-transcription",
   "metadata": {},
   "source": [
    "# Create Distance Histogram"
   ]
  },
  {
   "cell_type": "code",
   "execution_count": null,
   "id": "returning-diagnosis",
   "metadata": {},
   "outputs": [],
   "source": [
    "problem_name = 'ackley'\n",
    "problem = PROBLEMS_BY_NAME[problem_name]\n",
    "\n",
    "bounds = problem['bounds']\n",
    "units = 128\n",
    "input_dimension = 1\n",
    "\n",
    "device = torch.device('cpu')\n",
    "\n",
    "# Distances\n",
    "distances = []\n",
    "other_distances = []\n",
    "\n",
    "# Starting points\n",
    "dl_init_values = []\n",
    "init_values = []\n",
    "\n",
    "for trial in range(1000):\n",
    "    # Inputs\n",
    "    inputs = torch.randn(size=(input_dimension, units))\n",
    "    inputs = inputs.to(device=device, dtype=torch.double)\n",
    "\n",
    "    # Creates different weight intializations for the same starting point\n",
    "    # x0\n",
    "    # Deeplifting model with skip connections\n",
    "    model = ReLUDeepliftingMLP(\n",
    "        initial_hidden_size=units,\n",
    "        hidden_sizes=(units,) * 10,\n",
    "        output_size=2,\n",
    "        bounds=bounds,\n",
    "        initial_layer_type='linear',\n",
    "        include_weight_initialization=True,\n",
    "        include_bn=True,\n",
    "        seed=trial,\n",
    "    )\n",
    "\n",
    "    model = model.to(device=device, dtype=torch.double)\n",
    "\n",
    "    # Print the model outputs and check against x0 also\n",
    "    # want to use a print out to make sure all models have\n",
    "    # the same starting point\n",
    "    model.eval()\n",
    "    outputs = model(inputs=inputs)\n",
    "    dl_init_values.append(outputs.detach().numpy())\n",
    "    \n",
    "    # Save the distances\n",
    "    distances.append(np.linalg.norm(outputs.detach().numpy(), 2))\n",
    "    \n",
    "    x_start = initialize_vector(size=2, bounds=bounds)\n",
    "    init_values.append(x_start)\n",
    "    other_distances.append(np.linalg.norm(x_start, 2))"
   ]
  },
  {
   "cell_type": "code",
   "execution_count": null,
   "id": "broke-candle",
   "metadata": {},
   "outputs": [],
   "source": [
    "ax = pd.Series(distances).hist(color='dodgerblue', alpha=0.6, bins=20)\n",
    "pd.Series(other_distances).hist(color='orange', alpha=0.6, bins=20)"
   ]
  },
  {
   "cell_type": "code",
   "execution_count": null,
   "id": "centered-application",
   "metadata": {},
   "outputs": [],
   "source": [
    "pd.Series(distances).describe()"
   ]
  },
  {
   "cell_type": "code",
   "execution_count": null,
   "id": "weird-taylor",
   "metadata": {},
   "outputs": [],
   "source": [
    "pd.Series(other_distances).describe()"
   ]
  },
  {
   "cell_type": "code",
   "execution_count": null,
   "id": "technical-borough",
   "metadata": {},
   "outputs": [],
   "source": [
    "ax = (\n",
    "    pd.DataFrame(dl_init_values, columns=['x1', 'x2'])\n",
    "    .plot\n",
    "    .scatter(x='x1', y='x2')\n",
    ")\n",
    "\n",
    "(\n",
    "    pd.DataFrame(init_values, columns=['x1', 'x2'])\n",
    "    .plot\n",
    "    .scatter(x='x1', y='x2', color='orange', ax=ax)\n",
    ")"
   ]
  },
  {
   "cell_type": "code",
   "execution_count": null,
   "id": "tamil-pharmacy",
   "metadata": {},
   "outputs": [],
   "source": [
    "X_deeplifting = pd.DataFrame(distances, columns=['distance'])\n",
    "X_deeplifting['init_type'] = 'Neural Network'\n",
    "\n",
    "X_init = pd.DataFrame(other_distances, columns=['distance'])\n",
    "X_init['init_type'] = 'Uniform Initialization'\n",
    "\n",
    "X = pd.concat([X_deeplifting, X_init])"
   ]
  },
  {
   "cell_type": "code",
   "execution_count": null,
   "id": "floppy-listing",
   "metadata": {},
   "outputs": [],
   "source": [
    "X['binned_distances'] = pd.cut(X['distance'], bins=range(0, 55, 5))\n",
    "X"
   ]
  },
  {
   "cell_type": "code",
   "execution_count": null,
   "id": "constant-jerusalem",
   "metadata": {},
   "outputs": [],
   "source": [
    "import seaborn as sns\n",
    "import matplotlib.pyplot as plt\n",
    "\n",
    "ax = sns.countplot(data=X, x='binned_distances', hue='init_type')\n",
    "ax.set_title('$x^0$ to $x^{g}$ Distance')\n",
    "ax.set_xlabel('Distance Bins')\n",
    "ax.set_ylabel('Frequency')\n",
    "ax.grid()\n",
    "plt.xticks(rotation=90)"
   ]
  },
  {
   "cell_type": "code",
   "execution_count": null,
   "id": "adaptive-panama",
   "metadata": {},
   "outputs": [],
   "source": [
    "ax = (\n",
    "    pd.DataFrame([np.sin(i) for i in dl_init_values], columns=['x1', 'x2'])\n",
    "    .plot\n",
    "    .scatter(x='x1', y='x2')\n",
    ")"
   ]
  },
  {
   "cell_type": "code",
   "execution_count": null,
   "id": "advised-webster",
   "metadata": {},
   "outputs": [],
   "source": [
    "inputs = torch.randn(64, 1000)"
   ]
  },
  {
   "cell_type": "code",
   "execution_count": null,
   "id": "increased-grill",
   "metadata": {},
   "outputs": [],
   "source": [
    "import torch.nn as nn\n",
    "\n",
    "nn.Linear(1000, 64)(inputs)"
   ]
  },
  {
   "cell_type": "code",
   "execution_count": null,
   "id": "ceramic-validity",
   "metadata": {},
   "outputs": [],
   "source": [
    "x = torch.tensor([1, 2, 3, 4])"
   ]
  },
  {
   "cell_type": "code",
   "execution_count": null,
   "id": "steady-month",
   "metadata": {},
   "outputs": [],
   "source": [
    "type(model)"
   ]
  },
  {
   "cell_type": "code",
   "execution_count": null,
   "id": "diverse-layout",
   "metadata": {},
   "outputs": [],
   "source": [
    "type(x)"
   ]
  },
  {
   "cell_type": "code",
   "execution_count": null,
   "id": "continent-summit",
   "metadata": {},
   "outputs": [],
   "source": [
    "objective = problem['objective']"
   ]
  },
  {
   "cell_type": "code",
   "execution_count": null,
   "id": "pursuant-things",
   "metadata": {},
   "outputs": [],
   "source": [
    "fn = lambda x: objective(x)"
   ]
  },
  {
   "cell_type": "code",
   "execution_count": null,
   "id": "broadband-image",
   "metadata": {},
   "outputs": [],
   "source": [
    "from typing import Callable"
   ]
  },
  {
   "cell_type": "code",
   "execution_count": null,
   "id": "musical-assets",
   "metadata": {},
   "outputs": [],
   "source": [
    "type(torch.device('cpu'))"
   ]
  },
  {
   "cell_type": "code",
   "execution_count": null,
   "id": "broadband-peeing",
   "metadata": {},
   "outputs": [],
   "source": []
  },
  {
   "cell_type": "code",
   "execution_count": null,
   "id": "colonial-gibraltar",
   "metadata": {},
   "outputs": [],
   "source": []
  }
 ],
 "metadata": {
  "kernelspec": {
   "display_name": "deeplifting",
   "language": "python",
   "name": "deeplifting"
  },
  "language_info": {
   "codemirror_mode": {
    "name": "ipython",
    "version": 3
   },
   "file_extension": ".py",
   "mimetype": "text/x-python",
   "name": "python",
   "nbconvert_exporter": "python",
   "pygments_lexer": "ipython3",
   "version": "3.9.16"
  }
 },
 "nbformat": 4,
 "nbformat_minor": 5
}
