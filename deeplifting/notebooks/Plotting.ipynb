{
 "cells": [
  {
   "cell_type": "code",
   "execution_count": null,
   "id": "acd9701d-d19e-4451-9565-7bd8282ccc5e",
   "metadata": {},
   "outputs": [],
   "source": [
    "%pwd\n",
    "%cd ../.."
   ]
  },
  {
   "cell_type": "code",
   "execution_count": null,
   "id": "3fa26d64-9cd3-4a5c-ac9a-c58557e6fc64",
   "metadata": {},
   "outputs": [],
   "source": [
    "from functools import partial\n",
    "\n",
    "import matplotlib.pyplot as plt\n",
    "import numpy as np\n",
    "import pandas as pd\n",
    "\n",
    "from deeplifting.problems import PROBLEMS_BY_NAME\n",
    "from deeplifting.optimization import (\n",
    "    run_deeplifting,\n",
    "    run_differential_evolution,\n",
    "    run_dual_annealing,\n",
    "    run_ipopt,\n",
    "    run_pygranso,\n",
    ")\n",
    "from deeplifting.utils import create_optimization_plot"
   ]
  },
  {
   "cell_type": "code",
   "execution_count": null,
   "id": "37ab6cdd-7521-4568-a563-a0711131bfac",
   "metadata": {},
   "outputs": [],
   "source": [
    "problem_name = 'ex8_1_6'\n",
    "problem = PROBLEMS_BY_NAME[problem_name]"
   ]
  },
  {
   "cell_type": "code",
   "execution_count": null,
   "id": "4e6a232a-7787-4d21-b2e2-71ac40ec80b5",
   "metadata": {},
   "outputs": [],
   "source": [
    "# # Run pygranso\n",
    "# outputs = run_pygranso(problem, trials=1)"
   ]
  },
  {
   "cell_type": "code",
   "execution_count": null,
   "id": "e3c82eee-c71b-45cf-906f-b24a0ac6708a",
   "metadata": {},
   "outputs": [],
   "source": [
    "outputs = run_deeplifting(problem, trials=10)"
   ]
  },
  {
   "cell_type": "code",
   "execution_count": null,
   "id": "14f8c151-53b2-4c87-bfd9-467cf15d64b5",
   "metadata": {},
   "outputs": [],
   "source": [
    "%debug"
   ]
  },
  {
   "cell_type": "code",
   "execution_count": null,
   "id": "60c4d265-b230-470d-b97f-51eefca44920",
   "metadata": {},
   "outputs": [],
   "source": [
    "results = outputs['final_results']"
   ]
  },
  {
   "cell_type": "code",
   "execution_count": null,
   "id": "3c777cd9-da8d-41c1-a83f-76b86df7819b",
   "metadata": {},
   "outputs": [],
   "source": [
    "results"
   ]
  },
  {
   "cell_type": "code",
   "execution_count": null,
   "id": "4c129ddc-9f16-4afc-aed2-6c6088d53546",
   "metadata": {},
   "outputs": [],
   "source": [
    "fig = create_optimization_plot(problem_name, problem, results, colormap='autumn_r')"
   ]
  },
  {
   "cell_type": "code",
   "execution_count": null,
   "id": "efd5e3ec-ebed-4a2a-a4da-4f75082234c0",
   "metadata": {},
   "outputs": [],
   "source": [
    "fig.savefig(\n",
    "    '/home/rydevera3/data-science/umn_research/Deeplifting'\n",
    "    f'/images/{problem_name}_surface_and_contour-autumn.png'\n",
    ")"
   ]
  },
  {
   "cell_type": "code",
   "execution_count": null,
   "id": "16dbb9fb-da0d-4695-8f29-8bfbb5dcd327",
   "metadata": {},
   "outputs": [],
   "source": [
    "import numpy as np\n",
    "\n",
    "results = np.zeros((1, 1, 3))\n",
    "trial = 0\n",
    "x = np.array([5.9999, 5.9999])"
   ]
  },
  {
   "cell_type": "code",
   "execution_count": null,
   "id": "95673531-fbd0-44b5-b412-0312a526c0b4",
   "metadata": {},
   "outputs": [],
   "source": [
    "objective = problem['objective']"
   ]
  },
  {
   "cell_type": "code",
   "execution_count": null,
   "id": "ce830c97-f6c0-4358-b3e3-b05f584a1fdc",
   "metadata": {},
   "outputs": [],
   "source": [
    "objective(x, results, trial)"
   ]
  },
  {
   "cell_type": "code",
   "execution_count": null,
   "id": "ba958ff0-e395-4a47-807f-2624ccc3a9b9",
   "metadata": {},
   "outputs": [],
   "source": []
  },
  {
   "cell_type": "code",
   "execution_count": null,
   "id": "77cf7efb-375e-44f5-be26-5ce2d5797c60",
   "metadata": {},
   "outputs": [],
   "source": []
  }
 ],
 "metadata": {
  "kernelspec": {
   "display_name": "deeplifting",
   "language": "python",
   "name": "deeplifting"
  },
  "language_info": {
   "codemirror_mode": {
    "name": "ipython",
    "version": 3
   },
   "file_extension": ".py",
   "mimetype": "text/x-python",
   "name": "python",
   "nbconvert_exporter": "python",
   "pygments_lexer": "ipython3",
   "version": "3.9.11"
  }
 },
 "nbformat": 4,
 "nbformat_minor": 5
}
