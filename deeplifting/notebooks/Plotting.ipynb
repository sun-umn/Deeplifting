{
 "cells": [
  {
   "cell_type": "code",
   "execution_count": 1,
   "id": "acd9701d-d19e-4451-9565-7bd8282ccc5e",
   "metadata": {},
   "outputs": [
    {
     "name": "stdout",
     "output_type": "stream",
     "text": [
      "/home/rydevera3/data-science/umn_research/Deeplifting\n"
     ]
    }
   ],
   "source": [
    "%pwd\n",
    "%cd ../.."
   ]
  },
  {
   "cell_type": "code",
   "execution_count": 2,
   "id": "3fa26d64-9cd3-4a5c-ac9a-c58557e6fc64",
   "metadata": {},
   "outputs": [],
   "source": [
    "from functools import partial\n",
    "\n",
    "import matplotlib.pyplot as plt\n",
    "import numpy as np\n",
    "# import polars as pl\n",
    "\n",
    "from deeplifting.problems import PROBLEMS_BY_NAME\n",
    "from deeplifting.optimization import (\n",
    "    run_deeplifting,\n",
    "    run_differential_evolution,\n",
    "    run_dual_annealing,\n",
    "    run_ipopt,\n",
    "    run_pygranso,\n",
    ")\n",
    "from deeplifting.utils import create_optimization_plot"
   ]
  },
  {
   "cell_type": "code",
   "execution_count": 3,
   "id": "4c129ddc-9f16-4afc-aed2-6c6088d53546",
   "metadata": {},
   "outputs": [],
   "source": [
    "# fig = create_optimization_plot(problem_name, problem, results, colormap='autumn_r')"
   ]
  },
  {
   "cell_type": "code",
   "execution_count": 4,
   "id": "efd5e3ec-ebed-4a2a-a4da-4f75082234c0",
   "metadata": {},
   "outputs": [],
   "source": [
    "# fig.savefig(\n",
    "#     '/Users/ryandevera/data-science/umn_environments/Deeplifting'\n",
    "#     f'/images/{problem_name}_surface_and_contour-autumn.png'\n",
    "# )"
   ]
  },
  {
   "cell_type": "code",
   "execution_count": null,
   "id": "d033f492-7480-4c2f-94f6-3442f1d544e9",
   "metadata": {},
   "outputs": [
    {
     "name": "stdout",
     "output_type": "stream",
     "text": [
      "cpu\n",
      "\n",
      "\n",
      "\u001b[33m╔═════ QP SOLVER NOTICE ════════════════════════════════════════════════════════════════════════╗\n",
      "\u001b[0m\u001b[33m║  PyGRANSO requires a quadratic program (QP) solver that has a quadprog-compatible interface,  ║\n",
      "\u001b[0m\u001b[33m║  the default is osqp. Users may provide their own wrapper for the QP solver.                  ║\n",
      "\u001b[0m\u001b[33m║  To disable this notice, set opts.quadprog_info_msg = False                                   ║\n",
      "\u001b[0m\u001b[33m╚═══════════════════════════════════════════════════════════════════════════════════════════════╝\n",
      "\u001b[0m══════════════════════════════════════════════════════════════════════════════════════════════╗\n",
      "PyGRANSO: A PyTorch-enabled port of GRANSO with auto-differentiation                          ║ \n",
      "Version 1.2.0                                                                                 ║ \n",
      "Licensed under the AGPLv3, Copyright (C) 2021-2022 Tim Mitchell and Buyun Liang               ║ \n",
      "══════════════════════════════════════════════════════════════════════════════════════════════╣\n",
      "Problem specifications:                                                                       ║ \n",
      " # of variables                     :   2108934                                               ║ \n",
      " # of inequality constraints        :         0                                               ║ \n",
      " # of equality constraints          :         0                                               ║ \n",
      "══════════════════════════════════════════════════════════════════════════════════════════════╣\n",
      "\u001b[33mLimited-memory mode enabled with size = 5.                                                   \u001b[0m ║ \n",
      "\u001b[33mNOTE: limited-memory mode is generally NOT                                                   \u001b[0m ║ \n",
      "\u001b[33mrecommended for nonsmooth problems.                                                          \u001b[0m ║ \n",
      "═════╦════════════╦════════════════╦═════════════╦═══════════════════════╦════════════════════╣\n",
      "     ║ Penalty Fn ║                ║  Violation  ║ <--- Line Search ---> ║ <- Stationarity -> ║ \n",
      "Iter ║ Mu │ Value ║    Objective   ║ Ineq │  Eq  ║ SD │ Evals │     t    ║ Grads │    Value   ║ \n",
      "═════╬════════════╬════════════════╬═════════════╬═══════════════════════╬════════════════════╣\n",
      "   0 ║  - │   -   ║  51.1849772299 ║   -  │   -  ║ -  │     1 │ 0.000000 ║     1 │ 284.3146   ║ \n",
      "   1 ║  - │   -   ║  12.4990175206 ║   -  │   -  ║ QN │     5 │ 0.062500 ║     1 │ 5.17e+08   ║ \n"
     ]
    },
    {
     "name": "stderr",
     "output_type": "stream",
     "text": [
      "/home/rydevera3/.pyenv/versions/3.9.16/lib/python3.9/site-packages/pygranso/private/bfgsHessianInverseLimitedMem.py:237: UserWarning: The use of `x.T` on tensors of dimension other than 2 to reverse their shape is deprecated and it will throw an error in a future release. Consider `x.mT` to transpose batches of matrices or `x.permute(*torch.arange(x.ndim - 1, -1, -1))` to reverse the dimensions of a tensor. (Triggered internally at ../aten/src/ATen/native/TensorShape.cpp:3571.)\n",
      "  alpha[j,:]  = self.rho[0,j] * (self.S[:,j].T  @ q)\n"
     ]
    },
    {
     "name": "stdout",
     "output_type": "stream",
     "text": [
      "   2 ║  - │   -   ║  3.36081464666 ║   -  │   -  ║ QN │    19 │ 3.81e-06 ║     1 │ 23.54943   ║ \n",
      "   3 ║  - │   -   ║  1.91276769181 ║   -  │   -  ║ QN │    34 │ 1.16e-10 ║     1 │ 48.04944   ║ \n",
      "   4 ║  - │   -   ║  1.10746593240 ║   -  │   -  ║ QN │     2 │ 0.500000 ║     1 │ 9.73e-06   ║ \n",
      "   5 ║  - │   -   ║  1.00213699479 ║   -  │   -  ║ QN │     6 │ 0.093750 ║     1 │ 9.30e-05   ║ \n",
      "   6 ║  - │   -   ║  0.80122062899 ║   -  │   -  ║ QN │     3 │ 0.250000 ║     1 │ 1.58e-06   ║ \n",
      "   7 ║  - │   -   ║  0.57223528227 ║   -  │   -  ║ QN │     2 │ 0.500000 ║     1 │ 5.81e-07   ║ \n",
      "   8 ║  - │   -   ║  0.48185321056 ║   -  │   -  ║ QN │     1 │ 1.000000 ║     1 │ 5.01e-04   ║ \n",
      "   9 ║  - │   -   ║  0.48173520941 ║   -  │   -  ║ QN │    22 │ 4.77e-07 ║     1 │ 0.005588   ║ \n",
      "  10 ║  - │   -   ║  0.24818657845 ║   -  │   -  ║ QN │    23 │ 2.38e-07 ║     1 │ 2806.628   ║ \n",
      "  11 ║  - │   -   ║  0.19203270575 ║   -  │   -  ║ QN │    15 │ 3.05e-04 ║     1 │ 0.112801   ║ \n",
      "  12 ║  - │   -   ║  0.09468764221 ║   -  │   -  ║ QN │     7 │ 0.015625 ║     1 │ 0.705522   ║ \n",
      "  13 ║  - │   -   ║  0.09447420938 ║   -  │   -  ║ QN │    36 │ 2.91e-11 ║     1 │ 285.3801   ║ \n",
      "  14 ║  - │   -   ║  0.08649915180 ║   -  │   -  ║ QN │    47 │ 1.42e-14 ║     1 │ 3.80e+07   ║ \n",
      "  15 ║  - │   -   ║  0.08130334349 ║   -  │   -  ║ QN │    27 │ 1.49e-08 ║     1 │ 1737.577   ║ \n",
      "  16 ║  - │   -   ║  0.07926031259 ║   -  │   -  ║ QN │    51 │ 8.88e-16 ║     1 │ 1.94e+08   ║ \n",
      "  17 ║  - │   -   ║  0.06881276499 ║   -  │   -  ║ QN │    51 │ 8.88e-16 ║     1 │ 4.79e+09   ║ \n",
      "  18 ║  - │   -   ║  0.06596759351 ║   -  │   -  ║ QN │    54 │ 1.11e-16 ║     1 │ 4.18e+09   ║ \n",
      "  19 ║  - │   -   ║  0.05761468142 ║   -  │   -  ║ QN │    43 │ 2.27e-13 ║     1 │ 4.83e+07   ║ \n",
      "═════╬════════════╬════════════════╬═════════════╬═══════════════════════╬════════════════════╣\n",
      "     ║ Penalty Fn ║                ║  Violation  ║ <--- Line Search ---> ║ <- Stationarity -> ║ \n",
      "Iter ║ Mu │ Value ║    Objective   ║ Ineq │  Eq  ║ SD │ Evals │     t    ║ Grads │    Value   ║ \n",
      "═════╬════════════╬════════════════╬═════════════╬═══════════════════════╬════════════════════╣\n",
      "  20 ║  - │   -   ║  0.05708325713 ║   -  │   -  ║ QN │    51 │ 8.88e-16 ║     1 │ 1.07e+07   ║ \n",
      "  21 ║  - │   -   ║  0.05704860189 ║   -  │   -  ║ QN │    58 │ 6.94e-18 ║     1 │ 4.07e+09   ║ \n",
      "  22 ║  - │   -   ║  0.05549932164 ║   -  │   -  ║ QN │    44 │ 3.41e-13 ║     1 │ 1.02e+07   ║ \n"
     ]
    }
   ],
   "source": [
    "# Run all problems\n",
    "problem_names = [\n",
    "    # 'ackley',\n",
    "    'bukin_n6',\n",
    "    # 'cross_in_tray',\n",
    "    # 'drop_wave',\n",
    "    # 'eggholder',\n",
    "    'griewank',\n",
    "    # 'holder_table',\n",
    "    'levy',\n",
    "    'levy_n13',\n",
    "    'rastrigin',\n",
    "    'schaffer_n2',\n",
    "    'schaffer_n4',\n",
    "    'schwefel',\n",
    "    'shubert',\n",
    "    # 'ex8_1_1',\n",
    "    # # 'ex8_6_2',  # Need to fix threw an error\n",
    "    # 'kriging_peaks_red010',\n",
    "    # 'kriging_peaks_red020',\n",
    "    # 'kriging_peaks_red030',\n",
    "    # 'kriging_peaks_red050',\n",
    "    # 'kriging_peaks_red100',\n",
    "    # 'kriging_peaks_red200',\n",
    "    # 'kriging_peaks_red500',\n",
    "    # 'mathopt6',\n",
    "    # 'quantum',\n",
    "    # 'rosenbrock',\n",
    "]\n",
    "\n",
    "problem_performance = []\n",
    "trials = 1\n",
    "\n",
    "for problem_name in problem_names:\n",
    "    problem = PROBLEMS_BY_NAME[problem_name]\n",
    "    outputs = run_deeplifting(\n",
    "        problem,\n",
    "        trials=trials,\n",
    "        input_size=512,\n",
    "        hidden_sizes=(512, 512, 512, 512),\n",
    "        activation='leaky_relu',\n",
    "        output_activation='sine',\n",
    "        agg_function='max',\n",
    "    )\n",
    "    results = outputs['final_results']\n",
    "\n",
    "    # # get the global minimum and the number of hits\n",
    "    # minimum_value = problem['global_minimum']\n",
    "    # hit = np.array([np.abs(found_min - minimum_value) for _, _, found_min in results])\n",
    "    # hits = np.where(hit <= 1e-4, 1, 0).mean()\n",
    "\n",
    "    # # Create a performance dataframe\n",
    "    # df = pl.DataFrame(\n",
    "    #     {\n",
    "    #         'problem_name': [problem_name] * trials,\n",
    "    #         'algorithm': ['deeplifting'] * trials,\n",
    "    #         'hits': hits,\n",
    "    #     }\n",
    "    # )\n",
    "    # problem_performance.append(df)\n",
    "\n",
    "    # Let's plot the values with UMN colors\n",
    "    fig = create_optimization_plot(\n",
    "        problem_name, problem, results, add_contour_plot=True, colormap='OrRd'\n",
    "    )"
   ]
  },
  {
   "cell_type": "code",
   "execution_count": null,
   "id": "b8a00e0a-c9c9-4812-9bd5-5d84c83694a9",
   "metadata": {},
   "outputs": [],
   "source": [
    "results"
   ]
  },
  {
   "cell_type": "code",
   "execution_count": null,
   "id": "83568361-b591-4ab8-9d8b-c1ca97b3b4fc",
   "metadata": {},
   "outputs": [],
   "source": [
    "# fig.subplots_adjust(left=0, right=2, bottom=0, top=2)\n",
    "# fig.savefig(\n",
    "#     '/Users/ryandevera/data-science/umn_environments/Deeplifting'\n",
    "#     f'/images/ackley_introduction.png',\n",
    "#     bbox_inches='tight',\n",
    "#     pad_inches=-0.1,\n",
    "# )"
   ]
  },
  {
   "cell_type": "code",
   "execution_count": null,
   "id": "afaf9878-a6f0-4578-80f9-08ecbf7456dc",
   "metadata": {},
   "outputs": [],
   "source": [
    "# performance_df = pl.concat(problem_performance, how='vertical')"
   ]
  },
  {
   "cell_type": "code",
   "execution_count": null,
   "id": "39e7a81d-0671-49cf-a89c-5f876d8856e6",
   "metadata": {},
   "outputs": [],
   "source": [
    "# performance_df = (\n",
    "#     performance_df.groupby(['problem_name'])\n",
    "#     .agg(pl.col('hits').mean())\n",
    "#     .rename({'hits': 'success_rate'})\n",
    "#     .sort('problem_name')\n",
    "# )"
   ]
  },
  {
   "cell_type": "code",
   "execution_count": null,
   "id": "c906f8e9-5c9a-4b19-9b8a-be70ac92c46b",
   "metadata": {},
   "outputs": [],
   "source": [
    "# performance_df"
   ]
  },
  {
   "cell_type": "code",
   "execution_count": null,
   "id": "f2ac8269-833a-40a5-afeb-a730ebba2f9c",
   "metadata": {},
   "outputs": [],
   "source": [
    "# problem_name = 'bukin_n6'\n",
    "# problem = PROBLEMS_BY_NAME[problem_name]\n",
    "# problem['bounds'] = [(-10.0001, -9.9999), (1.0001, 0.9999)]\n",
    "# results = np.array([[-10, 1, 0, 0, 0]])\n",
    "\n",
    "# create_optimization_plot(\n",
    "#     problem_name, problem, results, add_contour_plot=True, colormap='OrRd_r'\n",
    "# )"
   ]
  },
  {
   "cell_type": "code",
   "execution_count": null,
   "id": "6552609e-b3cd-4efc-b552-7cc56136219b",
   "metadata": {},
   "outputs": [],
   "source": []
  }
 ],
 "metadata": {
  "kernelspec": {
   "display_name": "deeplifting",
   "language": "python",
   "name": "deeplifting"
  },
  "language_info": {
   "codemirror_mode": {
    "name": "ipython",
    "version": 3
   },
   "file_extension": ".py",
   "mimetype": "text/x-python",
   "name": "python",
   "nbconvert_exporter": "python",
   "pygments_lexer": "ipython3",
   "version": "3.9.16"
  }
 },
 "nbformat": 4,
 "nbformat_minor": 5
}
