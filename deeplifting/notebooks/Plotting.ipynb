{
 "cells": [
  {
   "cell_type": "code",
   "execution_count": 1,
   "id": "acd9701d-d19e-4451-9565-7bd8282ccc5e",
   "metadata": {},
   "outputs": [
    {
     "name": "stdout",
     "output_type": "stream",
     "text": [
      "/Users/ryandevera/data-science/umn_environments/Deeplifting\n"
     ]
    }
   ],
   "source": [
    "%pwd\n",
    "%cd ../.."
   ]
  },
  {
   "cell_type": "code",
   "execution_count": 2,
   "id": "3fa26d64-9cd3-4a5c-ac9a-c58557e6fc64",
   "metadata": {},
   "outputs": [],
   "source": [
    "from functools import partial\n",
    "\n",
    "import matplotlib.pyplot as plt\n",
    "import numpy as np\n",
    "import pandas as pd\n",
    "\n",
    "from deeplifting.problems import PROBLEMS_BY_NAME\n",
    "from deeplifting.optimization import (\n",
    "    run_deeplifting,\n",
    "    run_differential_evolution,\n",
    "    run_dual_annealing,\n",
    "    run_ipopt,\n",
    "    run_pygranso,\n",
    ")\n",
    "from deeplifting.utils import create_optimization_plot"
   ]
  },
  {
   "cell_type": "code",
   "execution_count": 3,
   "id": "37ab6cdd-7521-4568-a563-a0711131bfac",
   "metadata": {},
   "outputs": [],
   "source": [
    "problem_name = 'ex4_1_5'\n",
    "problem = PROBLEMS_BY_NAME[problem_name]"
   ]
  },
  {
   "cell_type": "code",
   "execution_count": null,
   "id": "e3c82eee-c71b-45cf-906f-b24a0ac6708a",
   "metadata": {},
   "outputs": [
    {
     "name": "stdout",
     "output_type": "stream",
     "text": [
      "\n",
      "\n",
      "\u001b[33m╔═════ QP SOLVER NOTICE ════════════════════════════════════════════════════════════════════════╗\n",
      "\u001b[0m\u001b[33m║  PyGRANSO requires a quadratic program (QP) solver that has a quadprog-compatible interface,  ║\n",
      "\u001b[0m\u001b[33m║  the default is osqp. Users may provide their own wrapper for the QP solver.                  ║\n",
      "\u001b[0m\u001b[33m║  To disable this notice, set opts.quadprog_info_msg = False                                   ║\n",
      "\u001b[0m\u001b[33m╚═══════════════════════════════════════════════════════════════════════════════════════════════╝\n",
      "\u001b[0m══════════════════════════════════════════════════════════════════════════════════════════════╗\n",
      "PyGRANSO: A PyTorch-enabled port of GRANSO with auto-differentiation                          ║ \n",
      "Version 1.2.0                                                                                 ║ \n",
      "Licensed under the AGPLv3, Copyright (C) 2021-2022 Tim Mitchell and Buyun Liang               ║ \n",
      "══════════════════════════════════════════════════════════════════════════════════════════════╣\n",
      "Problem specifications:                                                                       ║ \n",
      " # of variables                     :   1071332                                               ║ \n",
      " # of inequality constraints        :         0                                               ║ \n",
      " # of equality constraints          :         0                                               ║ \n",
      "══════════════════════════════════════════════════════════════════════════════════════════════╣\n",
      "\u001b[33mLimited-memory mode enabled with size = 150.                                                 \u001b[0m ║ \n",
      "\u001b[33mNOTE: limited-memory mode is generally NOT                                                   \u001b[0m ║ \n",
      "\u001b[33mrecommended for nonsmooth problems.                                                          \u001b[0m ║ \n",
      "═════╦════════════╦════════════════╦═════════════╦═══════════════════════╦════════════════════╣\n",
      "     ║ Penalty Fn ║                ║  Violation  ║ <--- Line Search ---> ║ <- Stationarity -> ║ \n",
      "Iter ║ Mu │ Value ║    Objective   ║ Ineq │  Eq  ║ SD │ Evals │     t    ║ Grads │    Value   ║ \n",
      "═════╬════════════╬════════════════╬═════════════╬═══════════════════════╬════════════════════╣\n",
      "   0 ║  - │   -   ║  2.4650894e+15 ║   -  │   -  ║ -  │     1 │ 0.000000 ║     1 │ 7.29e+15   ║ \n",
      "   1 ║  - │   -   ║  132031.039561 ║   -  │   -  ║ QN │    46 │ 2.84e-14 ║     1 │ 164322.0   ║ \n"
     ]
    },
    {
     "name": "stderr",
     "output_type": "stream",
     "text": [
      "/Users/ryandevera/.virtualenvs/deeplifing/lib/python3.9/site-packages/pygranso/private/bfgsHessianInverseLimitedMem.py:237: UserWarning: The use of `x.T` on tensors of dimension other than 2 to reverse their shape is deprecated and it will throw an error in a future release. Consider `x.mT` to transpose batches of matrices or `x.permute(*torch.arange(x.ndim - 1, -1, -1))` to reverse the dimensions of a tensor. (Triggered internally at /Users/runner/work/pytorch/pytorch/pytorch/aten/src/ATen/native/TensorShape.cpp:3575.)\n",
      "  alpha[j,:]  = self.rho[0,j] * (self.S[:,j].T  @ q)\n"
     ]
    },
    {
     "name": "stdout",
     "output_type": "stream",
     "text": [
      "   2 ║  - │   -   ║  31448.5826599 ║   -  │   -  ║ QN │    22 │ 2.10e+06 ║     1 │ 1.41e-09   ║ \n",
      "   3 ║  - │   -   ║  8268.76996590 ║   -  │   -  ║ QN │     2 │ 2.000000 ║     1 │ 0.001030   ║ \n",
      "   4 ║  - │   -   ║  4017.31282205 ║   -  │   -  ║ QN │     2 │ 2.000000 ║     1 │ 9.67e-04   ║ \n",
      "   5 ║  - │   -   ║  2496.18289312 ║   -  │   -  ║ QN │     2 │ 2.000000 ║     1 │ 8.64e-04   ║ \n",
      "   6 ║  - │   -   ║  2122.69059467 ║   -  │   -  ║ QN │     2 │ 2.000000 ║     1 │ 7.84e-04   ║ \n",
      "   7 ║  - │   -   ║  2014.12292727 ║   -  │   -  ║ QN │     2 │ 2.000000 ║     1 │ 6.18e-04   ║ \n",
      "   8 ║  - │   -   ║  1993.66845248 ║   -  │   -  ║ QN │     2 │ 2.000000 ║     1 │ 3.65e-04   ║ \n",
      "   9 ║  - │   -   ║  1992.11375248 ║   -  │   -  ║ QN │     1 │ 1.000000 ║     1 │ 4.03e-04   ║ \n",
      "  10 ║  - │   -   ║  1991.68705857 ║   -  │   -  ║ QN │     1 │ 1.000000 ║     1 │ 1.42e-04   ║ \n",
      "  11 ║  - │   -   ║  1991.66695903 ║   -  │   -  ║ QN │     1 │ 1.000000 ║     1 │ 2.09e-05   ║ \n",
      "  12 ║  - │   -   ║  1991.66666690 ║   -  │   -  ║ QN │     1 │ 1.000000 ║     1 │ 6.67e-07   ║ \n",
      "  13 ║  - │   -   ║  1991.66666667 ║   -  │   -  ║ QN │     1 │ 1.000000 ║     1 │ 2.38e-09   ║ \n",
      "  14 ║  - │   -   ║  1991.66666667 ║   -  │   -  ║ QN │     1 │ 1.000000 ║     1 │ 2.34e-13   ║ \n",
      "═════╩════════════╩════════════════╩═════════════╩═══════════════════════╩════════════════════╣\n",
      "Optimization results:                                                                         ║ \n",
      "F = final iterate, B = Best (to tolerance), MF = Most Feasible                                ║ \n",
      "═════╦════════════╦════════════════╦═════════════╦═══════════════════════╦════════════════════╣\n",
      "   F ║    │       ║  1991.66666667 ║   -  │   -  ║    │       │          ║       │            ║ \n",
      "   B ║    │       ║  1991.66666667 ║   -  │   -  ║    │       │          ║       │            ║ \n",
      "═════╩════════════╩════════════════╩═════════════╩═══════════════════════╩════════════════════╣\n",
      "Iterations:              14                                                                   ║ \n",
      "Function evaluations:    87                                                                   ║ \n",
      "PyGRANSO termination code: 0 --- converged to stationarity tolerance.                         ║ \n",
      "══════════════════════════════════════════════════════════════════════════════════════════════╝\n",
      "\n",
      "\n",
      "\u001b[33m╔═════ QP SOLVER NOTICE ════════════════════════════════════════════════════════════════════════╗\n",
      "\u001b[0m\u001b[33m║  PyGRANSO requires a quadratic program (QP) solver that has a quadprog-compatible interface,  ║\n",
      "\u001b[0m\u001b[33m║  the default is osqp. Users may provide their own wrapper for the QP solver.                  ║\n",
      "\u001b[0m\u001b[33m║  To disable this notice, set opts.quadprog_info_msg = False                                   ║\n",
      "\u001b[0m\u001b[33m╚═══════════════════════════════════════════════════════════════════════════════════════════════╝\n",
      "\u001b[0m══════════════════════════════════════════════════════════════════════════════════════════════╗\n",
      "PyGRANSO: A PyTorch-enabled port of GRANSO with auto-differentiation                          ║ \n",
      "Version 1.2.0                                                                                 ║ \n",
      "Licensed under the AGPLv3, Copyright (C) 2021-2022 Tim Mitchell and Buyun Liang               ║ \n",
      "══════════════════════════════════════════════════════════════════════════════════════════════╣\n",
      "Problem specifications:                                                                       ║ \n",
      " # of variables                     :   1071332                                               ║ \n",
      " # of inequality constraints        :         0                                               ║ \n",
      " # of equality constraints          :         0                                               ║ \n",
      "══════════════════════════════════════════════════════════════════════════════════════════════╣\n",
      "\u001b[33mLimited-memory mode enabled with size = 150.                                                 \u001b[0m ║ \n",
      "\u001b[33mNOTE: limited-memory mode is generally NOT                                                   \u001b[0m ║ \n",
      "\u001b[33mrecommended for nonsmooth problems.                                                          \u001b[0m ║ \n",
      "═════╦════════════╦════════════════╦═════════════╦═══════════════════════╦════════════════════╣\n",
      "     ║ Penalty Fn ║                ║  Violation  ║ <--- Line Search ---> ║ <- Stationarity -> ║ \n",
      "Iter ║ Mu │ Value ║    Objective   ║ Ineq │  Eq  ║ SD │ Evals │     t    ║ Grads │    Value   ║ \n",
      "═════╬════════════╬════════════════╬═════════════╬═══════════════════════╬════════════════════╣\n",
      "   0 ║  - │   -   ║  2.4732130e+15 ║   -  │   -  ║ -  │     1 │ 0.000000 ║     1 │ 7.31e+15   ║ \n",
      "   1 ║  - │   -   ║  231365.541272 ║   -  │   -  ║ QN │    46 │ 2.84e-14 ║     1 │ 234949.1   ║ \n",
      "   2 ║  - │   -   ║  31464.3973249 ║   -  │   -  ║ QN │    22 │ 2.10e+06 ║     1 │ 1.41e-09   ║ \n",
      "   3 ║  - │   -   ║  9063.40803186 ║   -  │   -  ║ QN │     2 │ 2.000000 ║     1 │ 0.001022   ║ \n",
      "   4 ║  - │   -   ║  4081.27251139 ║   -  │   -  ║ QN │     2 │ 2.000000 ║     1 │ 9.25e-04   ║ \n",
      "   5 ║  - │   -   ║  2539.81398110 ║   -  │   -  ║ QN │     2 │ 2.000000 ║     1 │ 8.33e-04   ║ \n",
      "   6 ║  - │   -   ║  2127.88029126 ║   -  │   -  ║ QN │     2 │ 2.000000 ║     1 │ 7.44e-04   ║ \n",
      "   7 ║  - │   -   ║  2015.89287302 ║   -  │   -  ║ QN │     2 │ 2.000000 ║     1 │ 5.92e-04   ║ \n",
      "   8 ║  - │   -   ║  1993.77545916 ║   -  │   -  ║ QN │     2 │ 2.000000 ║     1 │ 3.47e-04   ║ \n",
      "   9 ║  - │   -   ║  1992.14921844 ║   -  │   -  ║ QN │     1 │ 1.000000 ║     1 │ 3.85e-04   ║ \n",
      "  10 ║  - │   -   ║  1991.68905447 ║   -  │   -  ║ QN │     1 │ 1.000000 ║     1 │ 1.38e-04   ║ \n",
      "  11 ║  - │   -   ║  1991.66700241 ║   -  │   -  ║ QN │     1 │ 1.000000 ║     1 │ 2.08e-05   ║ \n",
      "  12 ║  - │   -   ║  1991.66666695 ║   -  │   -  ║ QN │     1 │ 1.000000 ║     1 │ 6.88e-07   ║ \n",
      "  13 ║  - │   -   ║  1991.66666667 ║   -  │   -  ║ QN │     1 │ 1.000000 ║     1 │ 2.60e-09   ║ \n",
      "  14 ║  - │   -   ║  1991.66666667 ║   -  │   -  ║ QN │     1 │ 1.000000 ║     1 │ 2.81e-13   ║ \n",
      "═════╩════════════╩════════════════╩═════════════╩═══════════════════════╩════════════════════╣\n",
      "Optimization results:                                                                         ║ \n",
      "F = final iterate, B = Best (to tolerance), MF = Most Feasible                                ║ \n",
      "═════╦════════════╦════════════════╦═════════════╦═══════════════════════╦════════════════════╣\n",
      "   F ║    │       ║  1991.66666667 ║   -  │   -  ║    │       │          ║       │            ║ \n",
      "   B ║    │       ║  1991.66666667 ║   -  │   -  ║    │       │          ║       │            ║ \n",
      "═════╩════════════╩════════════════╩═════════════╩═══════════════════════╩════════════════════╣\n",
      "Iterations:              14                                                                   ║ \n",
      "Function evaluations:    87                                                                   ║ \n",
      "PyGRANSO termination code: 0 --- converged to stationarity tolerance.                         ║ \n",
      "══════════════════════════════════════════════════════════════════════════════════════════════╝\n",
      "\n",
      "\n",
      "\u001b[33m╔═════ QP SOLVER NOTICE ════════════════════════════════════════════════════════════════════════╗\n",
      "\u001b[0m\u001b[33m║  PyGRANSO requires a quadratic program (QP) solver that has a quadprog-compatible interface,  ║\n",
      "\u001b[0m\u001b[33m║  the default is osqp. Users may provide their own wrapper for the QP solver.                  ║\n",
      "\u001b[0m\u001b[33m║  To disable this notice, set opts.quadprog_info_msg = False                                   ║\n",
      "\u001b[0m\u001b[33m╚═══════════════════════════════════════════════════════════════════════════════════════════════╝\n",
      "\u001b[0m══════════════════════════════════════════════════════════════════════════════════════════════╗\n",
      "PyGRANSO: A PyTorch-enabled port of GRANSO with auto-differentiation                          ║ \n",
      "Version 1.2.0                                                                                 ║ \n",
      "Licensed under the AGPLv3, Copyright (C) 2021-2022 Tim Mitchell and Buyun Liang               ║ \n",
      "══════════════════════════════════════════════════════════════════════════════════════════════╣\n",
      "Problem specifications:                                                                       ║ \n",
      " # of variables                     :   1071332                                               ║ \n",
      " # of inequality constraints        :         0                                               ║ \n",
      " # of equality constraints          :         0                                               ║ \n",
      "══════════════════════════════════════════════════════════════════════════════════════════════╣\n",
      "\u001b[33mLimited-memory mode enabled with size = 150.                                                 \u001b[0m ║ \n",
      "\u001b[33mNOTE: limited-memory mode is generally NOT                                                   \u001b[0m ║ \n",
      "\u001b[33mrecommended for nonsmooth problems.                                                          \u001b[0m ║ \n",
      "═════╦════════════╦════════════════╦═════════════╦═══════════════════════╦════════════════════╣\n",
      "     ║ Penalty Fn ║                ║  Violation  ║ <--- Line Search ---> ║ <- Stationarity -> ║ \n",
      "Iter ║ Mu │ Value ║    Objective   ║ Ineq │  Eq  ║ SD │ Evals │     t    ║ Grads │    Value   ║ \n",
      "═════╬════════════╬════════════════╬═════════════╬═══════════════════════╬════════════════════╣\n",
      "   0 ║  - │   -   ║  2.4675574e+15 ║   -  │   -  ║ -  │     1 │ 0.000000 ║     1 │ 7.17e+15   ║ \n",
      "   1 ║  - │   -   ║  141222.379600 ║   -  │   -  ║ QN │    46 │ 2.84e-14 ║     1 │ 173537.9   ║ \n"
     ]
    }
   ],
   "source": [
    "outputs = run_deeplifting(problem, trials=10)"
   ]
  },
  {
   "cell_type": "code",
   "execution_count": null,
   "id": "60c4d265-b230-470d-b97f-51eefca44920",
   "metadata": {},
   "outputs": [],
   "source": [
    "results = outputs['final_results']"
   ]
  },
  {
   "cell_type": "code",
   "execution_count": null,
   "id": "4c129ddc-9f16-4afc-aed2-6c6088d53546",
   "metadata": {},
   "outputs": [],
   "source": [
    "fig = create_optimization_plot(problem_name, problem, results, colormap='autumn_r')"
   ]
  },
  {
   "cell_type": "code",
   "execution_count": null,
   "id": "efd5e3ec-ebed-4a2a-a4da-4f75082234c0",
   "metadata": {},
   "outputs": [],
   "source": [
    "fig.savefig(\n",
    "    '/Users/ryandevera/data-science/umn_environments/Deeplifting'\n",
    "    f'/images/{problem_name}_surface_and_contour-autumn.png'\n",
    ")"
   ]
  },
  {
   "cell_type": "code",
   "execution_count": null,
   "id": "91d20629-e068-4113-8e5c-505db2c2dc71",
   "metadata": {},
   "outputs": [],
   "source": [
    "problem_name.capitalize()"
   ]
  },
  {
   "cell_type": "code",
   "execution_count": null,
   "id": "cc0116da-1bc5-4e4f-8f63-9197f05d13b8",
   "metadata": {},
   "outputs": [],
   "source": [
    "import numpy as np"
   ]
  },
  {
   "cell_type": "code",
   "execution_count": null,
   "id": "0ed8e271-95c2-4e12-8f6e-2f816675a840",
   "metadata": {},
   "outputs": [],
   "source": [
    "x = np.array([1, 2, 3])"
   ]
  },
  {
   "cell_type": "code",
   "execution_count": null,
   "id": "d03a9246-f77a-4bfd-add5-8bfbe58df8ed",
   "metadata": {},
   "outputs": [],
   "source": [
    "x[[0, 2]]"
   ]
  },
  {
   "cell_type": "code",
   "execution_count": null,
   "id": "33605e96-1d3d-4d90-86a6-27dc4bc2e708",
   "metadata": {},
   "outputs": [],
   "source": []
  }
 ],
 "metadata": {
  "kernelspec": {
   "display_name": "deeplifting",
   "language": "python",
   "name": "deeplifting"
  },
  "language_info": {
   "codemirror_mode": {
    "name": "ipython",
    "version": 3
   },
   "file_extension": ".py",
   "mimetype": "text/x-python",
   "name": "python",
   "nbconvert_exporter": "python",
   "pygments_lexer": "ipython3",
   "version": "3.9.11"
  }
 },
 "nbformat": 4,
 "nbformat_minor": 5
}
