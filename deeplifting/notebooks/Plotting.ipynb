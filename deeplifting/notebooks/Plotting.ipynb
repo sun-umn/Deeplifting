{
 "cells": [
  {
   "cell_type": "code",
   "execution_count": null,
   "id": "acd9701d-d19e-4451-9565-7bd8282ccc5e",
   "metadata": {},
   "outputs": [],
   "source": [
    "%pwd\n",
    "%cd ../.."
   ]
  },
  {
   "cell_type": "code",
   "execution_count": null,
   "id": "3fa26d64-9cd3-4a5c-ac9a-c58557e6fc64",
   "metadata": {},
   "outputs": [],
   "source": [
    "from functools import partial\n",
    "\n",
    "import matplotlib.pyplot as plt\n",
    "import numpy as np\n",
    "import polars as pl\n",
    "\n",
    "from deeplifting.problems import PROBLEMS_BY_NAME\n",
    "from deeplifting.optimization import (\n",
    "    run_deeplifting,\n",
    "    run_differential_evolution,\n",
    "    run_dual_annealing,\n",
    "    run_ipopt,\n",
    "    run_pygranso,\n",
    ")\n",
    "from deeplifting.utils import create_optimization_plot"
   ]
  },
  {
   "cell_type": "code",
   "execution_count": null,
   "id": "4c129ddc-9f16-4afc-aed2-6c6088d53546",
   "metadata": {},
   "outputs": [],
   "source": [
    "# fig = create_optimization_plot(problem_name, problem, results, colormap='autumn_r')"
   ]
  },
  {
   "cell_type": "code",
   "execution_count": null,
   "id": "efd5e3ec-ebed-4a2a-a4da-4f75082234c0",
   "metadata": {},
   "outputs": [],
   "source": [
    "# fig.savefig(\n",
    "#     '/Users/ryandevera/data-science/umn_environments/Deeplifting'\n",
    "#     f'/images/{problem_name}_surface_and_contour-autumn.png'\n",
    "# )"
   ]
  },
  {
   "cell_type": "code",
   "execution_count": null,
   "id": "d033f492-7480-4c2f-94f6-3442f1d544e9",
   "metadata": {
    "scrolled": true
   },
   "outputs": [],
   "source": [
    "# Run all problems\n",
    "problem_names = [\n",
    "    'ackley',\n",
    "    'bukin_n6',\n",
    "    'cross_in_tray',\n",
    "    'drop_wave',\n",
    "    'eggholder',\n",
    "    'griewank',\n",
    "    'holder_table',\n",
    "    'levy',\n",
    "    'levy_n13',\n",
    "    'rastrigin',\n",
    "    'schaffer_n2',\n",
    "    'schaffer_n4',\n",
    "    'schwefel',\n",
    "    'shubert',\n",
    "    'ex8_1_1',\n",
    "    # 'ex8_6_2',  # Need to fix threw an error\n",
    "    'kriging_peaks_red010',\n",
    "    'kriging_peaks_red020',\n",
    "    'kriging_peaks_red030',\n",
    "    'kriging_peaks_red050',\n",
    "    'kriging_peaks_red100',\n",
    "    'kriging_peaks_red200',\n",
    "    'kriging_peaks_red500',\n",
    "    'mathopt6',\n",
    "    'quantum',\n",
    "    'rosenbrock',\n",
    "]\n",
    "\n",
    "problem_performance = []\n",
    "trials = 10\n",
    "\n",
    "for problem_name in problem_names:\n",
    "    problem = PROBLEMS_BY_NAME[problem_name]\n",
    "    outputs = run_deeplifting(problem, trials=trials)\n",
    "    results = outputs['final_results']\n",
    "\n",
    "    # get the global minimum and the number of hits\n",
    "    minimum_value = problem['global_minimum']\n",
    "    hit = np.array([np.abs(found_min - minimum_value) for _, _, found_min in results])\n",
    "    hits = np.where(hit <= 1e-4, 1, 0).mean()\n",
    "\n",
    "    # Create a performance dataframe\n",
    "    df = pl.DataFrame(\n",
    "        {\n",
    "            'problem_name': [problem_name] * trials,\n",
    "            'algorithm': ['deeplifting'] * trials,\n",
    "            'hits': hits,\n",
    "        }\n",
    "    )\n",
    "    problem_performance.append(df)"
   ]
  },
  {
   "cell_type": "code",
   "execution_count": null,
   "id": "afaf9878-a6f0-4578-80f9-08ecbf7456dc",
   "metadata": {},
   "outputs": [],
   "source": [
    "performance_df = pl.concat(problem_performance, how='vertical')"
   ]
  },
  {
   "cell_type": "code",
   "execution_count": null,
   "id": "39e7a81d-0671-49cf-a89c-5f876d8856e6",
   "metadata": {},
   "outputs": [],
   "source": [
    "performance_df = (\n",
    "    performance_df\n",
    "    .groupby(['problem_name'])\n",
    "    .agg(pl.col('hits').mean())\n",
    "    .rename({'hits': 'success_rate'})\n",
    "    .sort('problem_name')\n",
    ")"
   ]
  },
  {
   "cell_type": "code",
   "execution_count": null,
   "id": "c906f8e9-5c9a-4b19-9b8a-be70ac92c46b",
   "metadata": {},
   "outputs": [],
   "source": [
    "performance_df"
   ]
  },
  {
   "cell_type": "code",
   "execution_count": null,
   "id": "f2ac8269-833a-40a5-afeb-a730ebba2f9c",
   "metadata": {},
   "outputs": [],
   "source": []
  }
 ],
 "metadata": {
  "kernelspec": {
   "display_name": "deeplifting",
   "language": "python",
   "name": "deeplifting"
  },
  "language_info": {
   "codemirror_mode": {
    "name": "ipython",
    "version": 3
   },
   "file_extension": ".py",
   "mimetype": "text/x-python",
   "name": "python",
   "nbconvert_exporter": "python",
   "pygments_lexer": "ipython3",
   "version": "3.9.11"
  }
 },
 "nbformat": 4,
 "nbformat_minor": 5
}
