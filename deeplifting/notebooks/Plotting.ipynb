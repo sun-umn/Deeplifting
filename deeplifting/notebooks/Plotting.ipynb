{
 "cells": [
  {
   "cell_type": "code",
   "execution_count": 1,
   "id": "acd9701d-d19e-4451-9565-7bd8282ccc5e",
   "metadata": {},
   "outputs": [
    {
     "name": "stdout",
     "output_type": "stream",
     "text": [
      "/home/rydevera3/data-science/umn_research/Deeplifting\n"
     ]
    }
   ],
   "source": [
    "%pwd\n",
    "%cd ../.."
   ]
  },
  {
   "cell_type": "code",
   "execution_count": 2,
   "id": "3fa26d64-9cd3-4a5c-ac9a-c58557e6fc64",
   "metadata": {},
   "outputs": [],
   "source": [
    "from functools import partial\n",
    "\n",
    "import matplotlib.pyplot as plt\n",
    "import numpy as np\n",
    "import pandas as pd\n",
    "\n",
    "from deeplifting.problems import PROBLEMS_BY_NAME\n",
    "from deeplifting.optimization import (\n",
    "    run_deeplifting,\n",
    "    run_differential_evolution,\n",
    "    run_dual_annealing,\n",
    "    run_ipopt,\n",
    "    run_pygranso,\n",
    ")\n",
    "from deeplifting.utils import create_optimization_plot"
   ]
  },
  {
   "cell_type": "code",
   "execution_count": 3,
   "id": "37ab6cdd-7521-4568-a563-a0711131bfac",
   "metadata": {},
   "outputs": [],
   "source": [
    "problem_name = 'kriging_peaks_red050'\n",
    "problem = PROBLEMS_BY_NAME[problem_name]"
   ]
  },
  {
   "cell_type": "code",
   "execution_count": 4,
   "id": "4e6a232a-7787-4d21-b2e2-71ac40ec80b5",
   "metadata": {},
   "outputs": [],
   "source": [
    "# # Run pygranso\n",
    "# outputs = run_pygranso(problem, trials=1)"
   ]
  },
  {
   "cell_type": "code",
   "execution_count": null,
   "id": "e3c82eee-c71b-45cf-906f-b24a0ac6708a",
   "metadata": {},
   "outputs": [
    {
     "name": "stdout",
     "output_type": "stream",
     "text": [
      "\n",
      "\n",
      "\u001b[33m╔═════ QP SOLVER NOTICE ════════════════════════════════════════════════════════════════════════╗\n",
      "\u001b[0m\u001b[33m║  PyGRANSO requires a quadratic program (QP) solver that has a quadprog-compatible interface,  ║\n",
      "\u001b[0m\u001b[33m║  the default is osqp. Users may provide their own wrapper for the QP solver.                  ║\n",
      "\u001b[0m\u001b[33m║  To disable this notice, set opts.quadprog_info_msg = False                                   ║\n",
      "\u001b[0m\u001b[33m╚═══════════════════════════════════════════════════════════════════════════════════════════════╝\n",
      "\u001b[0m══════════════════════════════════════════════════════════════════════════════════════════════╗\n",
      "PyGRANSO: A PyTorch-enabled port of GRANSO with auto-differentiation                          ║ \n",
      "Version 1.2.0                                                                                 ║ \n",
      "Licensed under the AGPLv3, Copyright (C) 2021-2022 Tim Mitchell and Buyun Liang               ║ \n",
      "══════════════════════════════════════════════════════════════════════════════════════════════╣\n",
      "Problem specifications:                                                                       ║ \n",
      " # of variables                     :   1070707                                               ║ \n",
      " # of inequality constraints        :         0                                               ║ \n",
      " # of equality constraints          :         0                                               ║ \n",
      "══════════════════════════════════════════════════════════════════════════════════════════════╣\n",
      "\u001b[33mLimited-memory mode enabled with size = 150.                                                 \u001b[0m ║ \n",
      "\u001b[33mNOTE: limited-memory mode is generally NOT                                                   \u001b[0m ║ \n",
      "\u001b[33mrecommended for nonsmooth problems.                                                          \u001b[0m ║ \n",
      "═════╦════════════╦════════════════╦═════════════╦═══════════════════════╦════════════════════╣\n",
      "     ║ Penalty Fn ║                ║  Violation  ║ <--- Line Search ---> ║ <- Stationarity -> ║ \n",
      "Iter ║ Mu │ Value ║    Objective   ║ Ineq │  Eq  ║ SD │ Evals │     t    ║ Grads │    Value   ║ \n",
      "═════╬════════════╬════════════════╬═════════════╬═══════════════════════╬════════════════════╣\n",
      "   0 ║  - │   -   ║  0.49605247676 ║   -  │   -  ║ -  │     1 │ 0.000000 ║     1 │ 2.810160   ║ \n"
     ]
    },
    {
     "name": "stderr",
     "output_type": "stream",
     "text": [
      "/home/rydevera3/.pyenv/versions/3.9.16/lib/python3.9/site-packages/pygranso/private/bfgsHessianInverseLimitedMem.py:237: UserWarning: The use of `x.T` on tensors of dimension other than 2 to reverse their shape is deprecated and it will throw an error in a future release. Consider `x.mT` to transpose batches of matrices or `x.permute(*torch.arange(x.ndim - 1, -1, -1))` to reverse the dimensions of a tensor. (Triggered internally at ../aten/src/ATen/native/TensorShape.cpp:3571.)\n",
      "  alpha[j,:]  = self.rho[0,j] * (self.S[:,j].T  @ q)\n"
     ]
    },
    {
     "name": "stdout",
     "output_type": "stream",
     "text": [
      "  10 ║  - │   -   ║  0.16534961982 ║   -  │   -  ║ QN │     2 │ 2.000000 ║     1 │ 0.007891   ║ \n",
      "  20 ║  - │   -   ║  0.16518552559 ║   -  │   -  ║ QN │     3 │ 4.000000 ║     1 │ 8.17e-04   ║ \n",
      "  30 ║  - │   -   ║  0.16515785755 ║   -  │   -  ║ QN │     1 │ 1.000000 ║     1 │ 1.75e-05   ║ \n",
      "  40 ║  - │   -   ║  0.16515696982 ║   -  │   -  ║ QN │     1 │ 1.000000 ║     1 │ 2.87e-05   ║ \n",
      "  50 ║  - │   -   ║  0.16515691638 ║   -  │   -  ║ QN │     3 │ 4.000000 ║     1 │ 1.34e-05   ║ \n",
      "  60 ║  - │   -   ║  0.16515686290 ║   -  │   -  ║ QN │     1 │ 1.000000 ║     1 │ 4.01e-05   ║ \n",
      "  70 ║  - │   -   ║  0.16515679479 ║   -  │   -  ║ QN │     5 │ 16.00000 ║     1 │ 6.98e-05   ║ \n",
      "  80 ║  - │   -   ║  0.16515673356 ║   -  │   -  ║ QN │     3 │ 4.000000 ║     1 │ 1.83e-04   ║ \n",
      "  90 ║  - │   -   ║  0.16515667486 ║   -  │   -  ║ QN │     4 │ 8.000000 ║     1 │ 5.23e-05   ║ \n",
      " 100 ║  - │   -   ║  0.16515661631 ║   -  │   -  ║ QN │     1 │ 1.000000 ║     1 │ 5.23e-05   ║ \n",
      " 110 ║  - │   -   ║  0.16515638552 ║   -  │   -  ║ QN │     5 │ 16.00000 ║     1 │ 8.22e-05   ║ \n",
      " 120 ║  - │   -   ║  0.16515629029 ║   -  │   -  ║ QN │     2 │ 2.000000 ║     1 │ 1.18e-05   ║ \n",
      " 130 ║  - │   -   ║  0.16515628430 ║   -  │   -  ║ QN │     2 │ 2.000000 ║     1 │ 1.25e-05   ║ \n",
      " 140 ║  - │   -   ║  0.16515627557 ║   -  │   -  ║ QN │     1 │ 1.000000 ║     2 │ 5.47e-06   ║ \n",
      " 150 ║  - │   -   ║  0.16515626748 ║   -  │   -  ║ QN │     7 │ 64.00000 ║     1 │ 9.63e-06   ║ \n",
      " 160 ║  - │   -   ║  0.16515626251 ║   -  │   -  ║ QN │     1 │ 1.000000 ║     1 │ 1.52e-05   ║ \n",
      " 170 ║  - │   -   ║  0.16515625943 ║   -  │   -  ║ QN │     2 │ 2.000000 ║     2 │ 6.29e-06   ║ \n",
      " 180 ║  - │   -   ║  0.16515625555 ║   -  │   -  ║ QN │     3 │ 4.000000 ║     1 │ 4.75e-06   ║ \n",
      " 190 ║  - │   -   ║  0.16515620819 ║   -  │   -  ║ QN │     2 │ 2.000000 ║     1 │ 1.20e-05   ║ \n",
      "═════╬════════════╬════════════════╬═════════════╬═══════════════════════╬════════════════════╣\n",
      "     ║ Penalty Fn ║                ║  Violation  ║ <--- Line Search ---> ║ <- Stationarity -> ║ \n",
      "Iter ║ Mu │ Value ║    Objective   ║ Ineq │  Eq  ║ SD │ Evals │     t    ║ Grads │    Value   ║ \n",
      "═════╬════════════╬════════════════╬═════════════╬═══════════════════════╬════════════════════╣\n",
      " 200 ║  - │   -   ║  0.16515620743 ║   -  │   -  ║ QN │     2 │ 2.000000 ║     1 │ 5.25e-06   ║ \n",
      " 210 ║  - │   -   ║  0.16515619725 ║   -  │   -  ║ QN │     8 │ 128.0000 ║     1 │ 6.49e-05   ║ \n",
      " 220 ║  - │   -   ║  0.16515617369 ║   -  │   -  ║ QN │     3 │ 4.000000 ║     1 │ 1.30e-05   ║ \n",
      " 230 ║  - │   -   ║  0.16515616171 ║   -  │   -  ║ QN │     2 │ 2.000000 ║     2 │ 4.96e-06   ║ \n",
      " 240 ║  - │   -   ║  0.16515615159 ║   -  │   -  ║ QN │     1 │ 1.000000 ║     2 │ 3.20e-06   ║ \n",
      " 250 ║  - │   -   ║  0.16515614616 ║   -  │   -  ║ QN │     1 │ 1.000000 ║     3 │ 2.13e-06   ║ \n",
      " 260 ║  - │   -   ║  0.16515614603 ║   -  │   -  ║ QN │     1 │ 1.000000 ║     3 │ 2.07e-06   ║ \n",
      " 270 ║  - │   -   ║  0.16515614557 ║   -  │   -  ║ QN │     3 │ 4.000000 ║     1 │ 1.18e-05   ║ \n",
      " 280 ║  - │   -   ║  0.16515614524 ║   -  │   -  ║ QN │     6 │ 32.00000 ║     1 │ 7.04e-06   ║ \n",
      " 290 ║  - │   -   ║  0.16515614448 ║   -  │   -  ║ QN │     4 │ 8.000000 ║     2 │ 1.18e-06   ║ \n",
      " 300 ║  - │   -   ║  0.16515614413 ║   -  │   -  ║ QN │     1 │ 1.000000 ║     3 │ 7.97e-07   ║ \n",
      " 310 ║  - │   -   ║  0.16515614360 ║   -  │   -  ║ QN │     3 │ 4.000000 ║     1 │ 1.03e-05   ║ \n",
      " 320 ║  - │   -   ║  0.16515614270 ║   -  │   -  ║ QN │     1 │ 1.000000 ║     3 │ 4.89e-07   ║ \n",
      " 330 ║  - │   -   ║  0.16515613811 ║   -  │   -  ║ QN │     7 │ 64.00000 ║     1 │ 1.72e-04   ║ \n",
      " 340 ║  - │   -   ║  0.16515613320 ║   -  │   -  ║ QN │     1 │ 1.000000 ║     3 │ 1.01e-06   ║ \n",
      " 350 ║  - │   -   ║  0.16515612755 ║   -  │   -  ║ QN │     3 │ 4.000000 ║     4 │ 1.40e-06   ║ \n",
      " 360 ║  - │   -   ║  0.16515612750 ║   -  │   -  ║ QN │     2 │ 2.000000 ║     5 │ 2.35e-06   ║ \n",
      " 370 ║  - │   -   ║  0.16515612465 ║   -  │   -  ║ QN │     1 │ 1.000000 ║     5 │ 1.13e-06   ║ \n",
      " 380 ║  - │   -   ║  0.16515612463 ║   -  │   -  ║ QN │     2 │ 2.000000 ║     4 │ 1.67e-06   ║ \n",
      " 390 ║  - │   -   ║  0.16515612456 ║   -  │   -  ║ QN │     1 │ 1.000000 ║     2 │ 8.01e-07   ║ \n",
      "═════╬════════════╬════════════════╬═════════════╬═══════════════════════╬════════════════════╣\n",
      "     ║ Penalty Fn ║                ║  Violation  ║ <--- Line Search ---> ║ <- Stationarity -> ║ \n",
      "Iter ║ Mu │ Value ║    Objective   ║ Ineq │  Eq  ║ SD │ Evals │     t    ║ Grads │    Value   ║ \n",
      "═════╬════════════╬════════════════╬═════════════╬═══════════════════════╬════════════════════╣\n",
      " 400 ║  - │   -   ║  0.16515612430 ║   -  │   -  ║ QN │    10 │ 512.0000 ║     1 │ 9.69e-06   ║ \n",
      " 410 ║  - │   -   ║  0.16515612414 ║   -  │   -  ║ QN │     2 │ 2.000000 ║     3 │ 2.24e-06   ║ \n",
      " 420 ║  - │   -   ║  0.16515612409 ║   -  │   -  ║ QN │     1 │ 1.000000 ║     4 │ 1.12e-06   ║ \n",
      " 430 ║  - │   -   ║  0.16515612391 ║   -  │   -  ║ QN │     1 │ 1.000000 ║     3 │ 1.68e-06   ║ \n",
      " 440 ║  - │   -   ║  0.16515612386 ║   -  │   -  ║ QN │     1 │ 1.000000 ║     2 │ 8.70e-07   ║ \n",
      " 450 ║  - │   -   ║  0.16515612384 ║   -  │   -  ║ QN │     2 │ 2.000000 ║     6 │ 2.16e-06   ║ \n",
      " 460 ║  - │   -   ║  0.16515612377 ║   -  │   -  ║ QN │     7 │ 64.00000 ║     1 │ 1.80e-06   ║ \n",
      " 470 ║  - │   -   ║  0.16515612266 ║   -  │   -  ║ QN │     4 │ 8.000000 ║     3 │ 8.04e-07   ║ \n",
      " 480 ║  - │   -   ║  0.16515612255 ║   -  │   -  ║ QN │     3 │ 4.000000 ║     5 │ 2.19e-06   ║ \n",
      " 490 ║  - │   -   ║  0.16515612250 ║   -  │   -  ║ QN │     1 │ 1.000000 ║     2 │ 1.37e-06   ║ \n",
      " 500 ║  - │   -   ║  0.16515612232 ║   -  │   -  ║ QN │     2 │ 2.000000 ║     5 │ 6.81e-07   ║ \n",
      " 510 ║  - │   -   ║  0.16515612084 ║   -  │   -  ║ QN │     8 │ 128.0000 ║     1 │ 3.61e-06   ║ \n",
      " 520 ║  - │   -   ║  0.16515611876 ║   -  │   -  ║ QN │     1 │ 1.000000 ║     2 │ 6.05e-07   ║ \n",
      " 530 ║  - │   -   ║  0.16515611875 ║   -  │   -  ║ QN │     3 │ 4.000000 ║     6 │ 1.73e-06   ║ \n",
      " 540 ║  - │   -   ║  0.16515611874 ║   -  │   -  ║ QN │     2 │ 2.000000 ║     8 │ 1.77e-06   ║ \n",
      " 550 ║  - │   -   ║  0.16515611874 ║   -  │   -  ║ QN │     2 │ 2.000000 ║    11 │ 1.02e-06   ║ \n",
      " 560 ║  - │   -   ║  0.16515611873 ║   -  │   -  ║ QN │     3 │ 4.000000 ║     5 │ 1.55e-06   ║ \n",
      " 570 ║  - │   -   ║  0.16515611872 ║   -  │   -  ║ QN │     1 │ 1.000000 ║     9 │ 7.30e-07   ║ \n",
      " 580 ║  - │   -   ║  0.16515611871 ║   -  │   -  ║ QN │     2 │ 2.000000 ║     6 │ 5.01e-07   ║ \n",
      " 590 ║  - │   -   ║  0.16515611869 ║   -  │   -  ║ QN │     1 │ 1.000000 ║     2 │ 1.78e-07   ║ \n",
      "═════╬════════════╬════════════════╬═════════════╬═══════════════════════╬════════════════════╣\n",
      "     ║ Penalty Fn ║                ║  Violation  ║ <--- Line Search ---> ║ <- Stationarity -> ║ \n",
      "Iter ║ Mu │ Value ║    Objective   ║ Ineq │  Eq  ║ SD │ Evals │     t    ║ Grads │    Value   ║ \n",
      "═════╬════════════╬════════════════╬═════════════╬═══════════════════════╬════════════════════╣\n",
      " 600 ║  - │   -   ║  0.16515611868 ║   -  │   -  ║ QN │     2 │ 2.000000 ║     8 │ 8.00e-07   ║ \n",
      " 610 ║  - │   -   ║  0.16515611862 ║   -  │   -  ║ QN │     8 │ 128.0000 ║     1 │ 9.74e-06   ║ \n",
      " 620 ║  - │   -   ║  0.16515611833 ║   -  │   -  ║ QN │    12 │ 2048.000 ║     1 │ 6.38e-06   ║ \n",
      " 630 ║  - │   -   ║  0.16515611820 ║   -  │   -  ║ QN │     3 │ 4.000000 ║     4 │ 1.16e-06   ║ \n",
      " 640 ║  - │   -   ║  0.16515611819 ║   -  │   -  ║ QN │     3 │ 4.000000 ║     9 │ 8.87e-07   ║ \n",
      " 650 ║  - │   -   ║  0.16515611818 ║   -  │   -  ║ QN │     1 │ 1.000000 ║     9 │ 5.35e-07   ║ \n",
      " 660 ║  - │   -   ║  0.16515611764 ║   -  │   -  ║ QN │    12 │ 2048.000 ║     1 │ 2.10e-05   ║ \n",
      " 670 ║  - │   -   ║  0.16515611752 ║   -  │   -  ║ QN │     2 │ 2.000000 ║     8 │ 3.88e-07   ║ \n",
      " 680 ║  - │   -   ║  0.16515611748 ║   -  │   -  ║ QN │     3 │ 4.000000 ║     5 │ 1.97e-06   ║ \n",
      " 690 ║  - │   -   ║  0.16515611747 ║   -  │   -  ║ QN │     2 │ 2.000000 ║    11 │ 4.54e-07   ║ \n",
      " 700 ║  - │   -   ║  0.16515611746 ║   -  │   -  ║ QN │     6 │ 32.00000 ║     1 │ 1.71e-06   ║ \n",
      " 710 ║  - │   -   ║  0.16515611676 ║   -  │   -  ║ QN │     1 │ 1.000000 ║     2 │ 2.94e-07   ║ \n",
      " 720 ║  - │   -   ║  0.16515611675 ║   -  │   -  ║ QN │     2 │ 2.000000 ║     7 │ 2.47e-07   ║ \n",
      " 730 ║  - │   -   ║  0.16515611675 ║   -  │   -  ║ QN │     1 │ 1.000000 ║     7 │ 2.53e-07   ║ \n",
      " 740 ║  - │   -   ║  0.16515611674 ║   -  │   -  ║ QN │     4 │ 8.000000 ║     4 │ 1.07e-06   ║ \n",
      " 750 ║  - │   -   ║  0.16515611672 ║   -  │   -  ║ QN │     3 │ 4.000000 ║     5 │ 1.34e-06   ║ \n",
      " 760 ║  - │   -   ║  0.16515611670 ║   -  │   -  ║ QN │     2 │ 2.000000 ║     6 │ 6.00e-07   ║ \n",
      " 770 ║  - │   -   ║  0.16515611669 ║   -  │   -  ║ QN │     6 │ 32.00000 ║     1 │ 6.03e-07   ║ \n",
      " 780 ║  - │   -   ║  0.16515611668 ║   -  │   -  ║ QN │     1 │ 1.000000 ║     2 │ 1.10e-06   ║ \n",
      " 790 ║  - │   -   ║  0.16515611667 ║   -  │   -  ║ QN │     1 │ 1.000000 ║     2 │ 2.90e-07   ║ \n",
      "═════╬════════════╬════════════════╬═════════════╬═══════════════════════╬════════════════════╣\n",
      "     ║ Penalty Fn ║                ║  Violation  ║ <--- Line Search ---> ║ <- Stationarity -> ║ \n",
      "Iter ║ Mu │ Value ║    Objective   ║ Ineq │  Eq  ║ SD │ Evals │     t    ║ Grads │    Value   ║ \n",
      "═════╬════════════╬════════════════╬═════════════╬═══════════════════════╬════════════════════╣\n",
      " 800 ║  - │   -   ║  0.16515611629 ║   -  │   -  ║ QN │     1 │ 1.000000 ║     5 │ 4.42e-07   ║ \n",
      " 810 ║  - │   -   ║  0.16515611599 ║   -  │   -  ║ QN │     1 │ 1.000000 ║     3 │ 2.11e-07   ║ \n",
      " 820 ║  - │   -   ║  0.16515611591 ║   -  │   -  ║ QN │     4 │ 8.000000 ║     3 │ 1.17e-06   ║ \n",
      " 830 ║  - │   -   ║  0.16515611588 ║   -  │   -  ║ QN │     2 │ 2.000000 ║     8 │ 9.90e-08   ║ \n",
      " 840 ║  - │   -   ║  0.16515611587 ║   -  │   -  ║ QN │     1 │ 1.000000 ║    10 │ 2.89e-07   ║ \n",
      " 850 ║  - │   -   ║  0.16515611547 ║   -  │   -  ║ QN │     7 │ 64.00000 ║     1 │ 7.68e-07   ║ \n",
      " 860 ║  - │   -   ║  0.16515611546 ║   -  │   -  ║ QN │     2 │ 2.000000 ║     4 │ 1.09e-06   ║ \n",
      " 870 ║  - │   -   ║  0.16515611545 ║   -  │   -  ║ QN │     3 │ 4.000000 ║     9 │ 9.04e-07   ║ \n",
      " 880 ║  - │   -   ║  0.16515611545 ║   -  │   -  ║ QN │     2 │ 2.000000 ║    11 │ 9.61e-07   ║ \n",
      " 890 ║  - │   -   ║  0.16515611544 ║   -  │   -  ║ QN │     2 │ 2.000000 ║     5 │ 6.96e-07   ║ \n",
      " 900 ║  - │   -   ║  0.16515611542 ║   -  │   -  ║ QN │     3 │ 4.000000 ║     8 │ 5.67e-07   ║ \n",
      " 910 ║  - │   -   ║  0.16515611533 ║   -  │   -  ║ QN │     1 │ 1.000000 ║     5 │ 9.46e-07   ║ \n",
      " 920 ║  - │   -   ║  0.16515611532 ║   -  │   -  ║ QN │     1 │ 1.000000 ║     3 │ 1.56e-07   ║ \n",
      " 930 ║  - │   -   ║  0.16515611531 ║   -  │   -  ║ QN │     4 │ 8.000000 ║     9 │ 3.85e-07   ║ \n",
      " 940 ║  - │   -   ║  0.16515611530 ║   -  │   -  ║ QN │     1 │ 1.000000 ║     6 │ 3.45e-07   ║ \n",
      " 950 ║  - │   -   ║  0.16515611530 ║   -  │   -  ║ QN │     1 │ 1.000000 ║     2 │ 1.30e-07   ║ \n",
      " 960 ║  - │   -   ║  0.16515611528 ║   -  │   -  ║ QN │     4 │ 8.000000 ║     8 │ 5.98e-08   ║ \n"
     ]
    }
   ],
   "source": [
    "outputs = run_deeplifting(problem, trials=10)"
   ]
  },
  {
   "cell_type": "code",
   "execution_count": null,
   "id": "14f8c151-53b2-4c87-bfd9-467cf15d64b5",
   "metadata": {},
   "outputs": [],
   "source": [
    "%debug"
   ]
  },
  {
   "cell_type": "code",
   "execution_count": null,
   "id": "60c4d265-b230-470d-b97f-51eefca44920",
   "metadata": {},
   "outputs": [],
   "source": [
    "results = outputs['final_results']"
   ]
  },
  {
   "cell_type": "code",
   "execution_count": null,
   "id": "4c129ddc-9f16-4afc-aed2-6c6088d53546",
   "metadata": {},
   "outputs": [],
   "source": [
    "fig = create_optimization_plot(problem_name, problem, results, colormap='autumn_r')"
   ]
  },
  {
   "cell_type": "code",
   "execution_count": null,
   "id": "efd5e3ec-ebed-4a2a-a4da-4f75082234c0",
   "metadata": {},
   "outputs": [],
   "source": [
    "fig.savefig(\n",
    "    '/home/rydevera3/data-science/umn_research/Deeplifting'\n",
    "    f'/images/{problem_name}_surface_and_contour-autumn.png'\n",
    ")"
   ]
  },
  {
   "cell_type": "code",
   "execution_count": null,
   "id": "7ab320a6-0b15-41f4-8316-98dd01a3e65a",
   "metadata": {},
   "outputs": [],
   "source": [
    "results"
   ]
  },
  {
   "cell_type": "code",
   "execution_count": null,
   "id": "6e4df9c5-28bc-4f89-a6ff-fa7c6fe53807",
   "metadata": {},
   "outputs": [],
   "source": []
  }
 ],
 "metadata": {
  "kernelspec": {
   "display_name": "deeplifting",
   "language": "python",
   "name": "deeplifting"
  },
  "language_info": {
   "codemirror_mode": {
    "name": "ipython",
    "version": 3
   },
   "file_extension": ".py",
   "mimetype": "text/x-python",
   "name": "python",
   "nbconvert_exporter": "python",
   "pygments_lexer": "ipython3",
   "version": "3.9.16"
  }
 },
 "nbformat": 4,
 "nbformat_minor": 5
}
