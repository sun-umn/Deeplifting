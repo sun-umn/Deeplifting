{
 "cells": [
  {
   "cell_type": "markdown",
   "metadata": {},
   "source": [
    "## Differential Evolution Hyperparameter Experiments Pipeline"
   ]
  },
  {
   "cell_type": "code",
   "execution_count": null,
   "metadata": {},
   "outputs": [
    {
     "name": "stdout",
     "output_type": "stream",
     "text": [
      "/home/seanschweiger/dl_testing/Deeplifting\n"
     ]
    }
   ],
   "source": [
    "%pwd\n",
    "%cd ../.."
   ]
  },
  {
   "cell_type": "code",
   "execution_count": null,
   "metadata": {},
   "outputs": [],
   "source": [
    "import matplotlib.pyplot as plt\n",
    "import numpy as np\n",
    "import pandas as pd\n",
    "\n",
    "from deeplifting.problems import PROBLEMS_BY_NAME\n",
    "from deeplifting.optimization import run_dual_annealing"
   ]
  },
  {
   "cell_type": "code",
   "execution_count": null,
   "metadata": {},
   "outputs": [],
   "source": [
    "# lists of hyperparameter values to test\n",
    "strat_vals = []\n",
    "mut_vals = []\n",
    "recomb_vals= []"
   ]
  },
  {
   "cell_type": "code",
   "execution_count": null,
   "metadata": {},
   "outputs": [
    {
     "name": "stdout",
     "output_type": "stream",
     "text": [
      "Global minimum: 0\n"
     ]
    }
   ],
   "source": [
    "# initialize problem to test\n",
    "problem_name = 'rosenbrock'\n",
    "problem = PROBLEMS_BY_NAME[problem_name]\n",
    "global_minimum = problem['global_minimum']\n",
    "print('Global minimum: {}'.format(global_minimum))"
   ]
  },
  {
   "cell_type": "code",
   "execution_count": null,
   "metadata": {},
   "outputs": [],
   "source": [
    "# create new directory to store results if none exists\n",
    "import os\n",
    "\n",
    "parent_dir = '/home/seanschweiger/dl_testing/Deeplifting/images/differential_evolution/'\n",
    "path = os.path.join(parent_dir, problem_name)\n",
    "\n",
    "if not os.path.exists(path):\n",
    "    os.mkdir(path)"
   ]
  },
  {
   "cell_type": "markdown",
   "metadata": {},
   "source": [
    "### Strategy Experiment"
   ]
  },
  {
   "cell_type": "code",
   "execution_count": null,
   "metadata": {},
   "outputs": [],
   "source": [
    "strat_results = pd.DataFrame()\n",
    "for i in range(len(strat_vals)):\n",
    "    outputs = run_differential_evolution(problem, trials=10, strat=strat_vals[i])\n",
    "    fn_results = []\n",
    "    for j in range(len(outputs['final_results'])):\n",
    "        fn_results.append(outputs['final_results'][j][-1]) \n",
    "    strat_results[strat_vals[i]] = fn_results"
   ]
  },
  {
   "cell_type": "code",
   "execution_count": null,
   "metadata": {},
   "outputs": [],
   "source": [
    "strat_results"
   ]
  },
  {
   "cell_type": "code",
   "execution_count": null,
   "metadata": {},
   "outputs": [],
   "source": [
    "fig, ax = plt.subplots(1, 1, figsize=(10,5))\n",
    "init_temp_results[init_temp_vals].plot(lw=3, figsize=(10,5), ax=ax)\n",
    "ax.axhline(global_minimum, color='red', lw=3, label='Global Minimum')\n",
    "\n",
    "ax.set_title(f'Comparison of Differential Evolution Performance on {problem_name} with Different Strategies')\n",
    "ax.set_xlabel('Trial')\n",
    "ax.set_ylabel('Objective Value')\n",
    "ax.grid()\n",
    "ax.legend(title='Hyperparameter Value')\n",
    "\n",
    "fig.savefig(\n",
    "    f'/home/seanschweiger/dl_testing/Deeplifting/images/dual_annealing/{problem_name}/strat.png'\n",
    ")"
   ]
  },
  {
   "cell_type": "markdown",
   "metadata": {},
   "source": [
    "### Mutation Experiment"
   ]
  },
  {
   "cell_type": "code",
   "execution_count": null,
   "metadata": {},
   "outputs": [],
   "source": [
    "mut_results = pd.DataFrame()\n",
    "for i in range(len(mut_vals)):\n",
    "    outputs = run_differential_evolution(problem, trials=10, mut=mut_vals[i])\n",
    "    fn_results = []\n",
    "    for j in range(len(outputs['final_results'])):\n",
    "        fn_results.append(outputs['final_results'][j][-1]) \n",
    "    mut_results[mut_vals[i]] = fn_results"
   ]
  },
  {
   "cell_type": "code",
   "execution_count": null,
   "metadata": {},
   "outputs": [],
   "source": [
    "mut_results"
   ]
  },
  {
   "cell_type": "code",
   "execution_count": null,
   "metadata": {},
   "outputs": [],
   "source": [
    "fig, ax = plt.subplots(1, 1, figsize=(10,5))\n",
    "res_temp_results[res_temp_vals].plot(lw=3, figsize=(10,5), ax=ax)\n",
    "ax.axhline(global_minimum, color='red', lw=3, label='Global Minimum')\n",
    "\n",
    "ax.set_title(f'Comparison of Differential Evolution Performance on {problem_name} with Different Mutation Values')\n",
    "ax.set_xlabel('Trial')\n",
    "ax.set_ylabel('Objective Value')\n",
    "ax.grid()\n",
    "ax.legend(title='Hyperparameter Value')\n",
    "\n",
    "fig.savefig(\n",
    "    f'/home/seanschweiger/dl_testing/Deeplifting/images/dual_annealing/{problem_name}/mut.png'\n",
    ")"
   ]
  },
  {
   "cell_type": "markdown",
   "metadata": {},
   "source": [
    "### Recombination Experiment"
   ]
  },
  {
   "cell_type": "code",
   "execution_count": null,
   "metadata": {},
   "outputs": [],
   "source": [
    "recomb_results = pd.DataFrame()\n",
    "for i in range(len(recomb_vals)):\n",
    "    outputs = run_differential_evolution(problem, trials=10, recomb=recomb[i])\n",
    "    fn_results = []\n",
    "    for j in range(len(outputs['final_results'])):\n",
    "        fn_results.append(outputs['final_results'][j][-1]) \n",
    "    recomb_results[recomb_vals[i]] = fn_results"
   ]
  },
  {
   "cell_type": "code",
   "execution_count": null,
   "metadata": {},
   "outputs": [],
   "source": [
    "recomb_results"
   ]
  },
  {
   "cell_type": "code",
   "execution_count": null,
   "metadata": {},
   "outputs": [],
   "source": [
    "fig, ax = plt.subplots(1, 1, figsize=(10,5))\n",
    "vis_results[vis_vals].plot(lw=3, figsize=(10,5), ax=ax)\n",
    "ax.axhline(global_minimum, color='red', lw=3, label='Global Minimum')\n",
    "\n",
    "ax.set_title(f'Comparison of Differential Evolution Performance on {problem_name} with Different Recombination Values')\n",
    "ax.set_xlabel('Trial')\n",
    "ax.set_ylabel('Objective Value')\n",
    "ax.grid()\n",
    "ax.legend(title='Hyperparameter Value')\n",
    "\n",
    "fig.savefig(\n",
    "    f'/home/seanschweiger/dl_testing/Deeplifting/images/dual_annealing/{problem_name}/recomb.png'\n",
    ")"
   ]
  }
 ],
 "metadata": {
  "kernelspec": {
   "display_name": "deeplifting",
   "language": "python",
   "name": "python3"
  },
  "language_info": {
   "codemirror_mode": {
    "name": "ipython",
    "version": 3
   },
   "file_extension": ".py",
   "mimetype": "text/x-python",
   "name": "python",
   "nbconvert_exporter": "python",
   "pygments_lexer": "ipython3",
   "version": "3.9.16"
  },
  "orig_nbformat": 4
 },
 "nbformat": 4,
 "nbformat_minor": 2
}
