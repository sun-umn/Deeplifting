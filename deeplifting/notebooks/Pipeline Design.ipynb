{
 "cells": [
  {
   "cell_type": "code",
   "execution_count": null,
   "id": "d1aaf72f-9539-422e-ac7a-06783f883f94",
   "metadata": {},
   "outputs": [],
   "source": [
    "%pwd\n",
    "%cd ../.."
   ]
  },
  {
   "cell_type": "code",
   "execution_count": null,
   "id": "d666d7fd-d138-49c7-b89d-a073fbc75fad",
   "metadata": {},
   "outputs": [],
   "source": [
    "from functools import partial\n",
    "\n",
    "import matplotlib.pyplot as plt\n",
    "import numpy as np\n",
    "import pandas as pd\n",
    "\n",
    "from deeplifting.problems import PROBLEMS_BY_NAME, HIGH_DIMENSIONAL_PROBLEMS_BY_NAME\n",
    "from deeplifting.optimization import (\n",
    "    run_deeplifting,\n",
    "    run_differential_evolution,\n",
    "    run_dual_annealing,\n",
    "    run_ipopt,\n",
    "    run_pygranso,\n",
    ")"
   ]
  },
  {
   "cell_type": "code",
   "execution_count": null,
   "id": "bc151516-0f7e-425b-9109-97b1deede3c9",
   "metadata": {},
   "outputs": [],
   "source": [
    "problem_name = 'ackley_5d'\n",
    "problem = HIGH_DIMENSIONAL_PROBLEMS_BY_NAME[problem_name]"
   ]
  },
  {
   "cell_type": "code",
   "execution_count": null,
   "id": "b766647d-1e8b-4069-a828-0bdc4e8fce91",
   "metadata": {
    "scrolled": true
   },
   "outputs": [],
   "source": [
    "outputs = run_pygranso(problem, trials=10)\n",
    "\n",
    "pygranso_results = pd.DataFrame(\n",
    "    outputs['final_results'],\n",
    "    columns=['x1', 'x2', 'f', 'b'],\n",
    ")\n",
    "pygranso_results = pygranso_results.add_prefix('pygranso_')"
   ]
  },
  {
   "cell_type": "code",
   "execution_count": null,
   "id": "69521893-20d8-4d22-ae9b-00046ba0c803",
   "metadata": {},
   "outputs": [],
   "source": [
    "outputs = run_ipopt(problem, trials=10)\n",
    "\n",
    "ipopt_results = pd.DataFrame(outputs['final_results'], columns=['x1', 'x2', 'f'])\n",
    "ipopt_results = ipopt_results.add_prefix('ipopt_')"
   ]
  },
  {
   "cell_type": "code",
   "execution_count": null,
   "id": "d7494705-bdae-4438-ab9c-031576a4a5ef",
   "metadata": {},
   "outputs": [],
   "source": [
    "outputs = run_dual_annealing(problem, trials=10)"
   ]
  },
  {
   "cell_type": "code",
   "execution_count": null,
   "id": "c5207045-9934-4fd8-8790-24b5c7f9fa6e",
   "metadata": {},
   "outputs": [],
   "source": [
    "dual_annealing_results = pd.DataFrame(\n",
    "    outputs['final_results'], columns=['x1', 'x2', 'f']\n",
    ")\n",
    "dual_annealing_results = dual_annealing_results.add_prefix('dual_annealing_')"
   ]
  },
  {
   "cell_type": "code",
   "execution_count": null,
   "id": "5aa5dc04-9363-4f46-9b9f-63b4651196f5",
   "metadata": {},
   "outputs": [],
   "source": [
    "outputs = run_differential_evolution(problem, trials=10)"
   ]
  },
  {
   "cell_type": "code",
   "execution_count": null,
   "id": "c3a84b11-8e31-447e-8fd5-736b7efff1b6",
   "metadata": {},
   "outputs": [],
   "source": [
    "de_results = pd.DataFrame(\n",
    "    outputs['final_results'],\n",
    "    columns=['x1', 'x2', 'f'],\n",
    ")\n",
    "de_results = de_results.add_prefix('differential_evolution_')"
   ]
  },
  {
   "cell_type": "code",
   "execution_count": null,
   "id": "760269f5-304f-4e5b-a807-00eb34f1a0d5",
   "metadata": {},
   "outputs": [],
   "source": [
    "# de_results"
   ]
  },
  {
   "cell_type": "code",
   "execution_count": null,
   "id": "b8ccb053-68dc-4b42-ac24-54799b28c571",
   "metadata": {},
   "outputs": [],
   "source": [
    "outputs = run_deeplifting(problem, trials=10)"
   ]
  },
  {
   "cell_type": "code",
   "execution_count": null,
   "id": "fe88381d-97c5-4d97-a778-8717253e4920",
   "metadata": {},
   "outputs": [],
   "source": [
    "deeplifting_results = pd.DataFrame(\n",
    "    outputs['final_results'],\n",
    "    # columns=['x1', 'x2', 'f', 'b'],\n",
    "    columns=['x1', 'x2', 'f'],\n",
    ")\n",
    "deeplifting_results = deeplifting_results.add_prefix('deeplifting_')"
   ]
  },
  {
   "cell_type": "code",
   "execution_count": null,
   "id": "98b86eb2-5840-41cb-82c4-4eed3177f1f5",
   "metadata": {},
   "outputs": [],
   "source": [
    "results = pd.concat(\n",
    "    [\n",
    "        ipopt_results,\n",
    "        pygranso_results,\n",
    "        dual_annealing_results,\n",
    "        de_results,\n",
    "        deeplifting_results,\n",
    "    ],\n",
    "    axis=1,\n",
    ")"
   ]
  },
  {
   "cell_type": "code",
   "execution_count": null,
   "id": "3b011344-048f-48cd-971c-aa3adc0f7f98",
   "metadata": {},
   "outputs": [],
   "source": [
    "results"
   ]
  },
  {
   "cell_type": "code",
   "execution_count": null,
   "id": "486ee7c3-904f-4f5e-aa90-1ef3d3256da4",
   "metadata": {},
   "outputs": [],
   "source": [
    "# Plot the results with the actual global minimum\n",
    "columns = [\n",
    "    'ipopt_f',\n",
    "    'pygranso_f',\n",
    "    'dual_annealing_f',\n",
    "    'differential_evolution_f',\n",
    "    'deeplifting_f',\n",
    "]\n",
    "\n",
    "global_minimum = problem['global_minimum']\n",
    "fig, ax = plt.subplots(1, 1, figsize=(10, 5))\n",
    "# ax.axhline(global_minimum, color='red', lw=3, label='Global Minimum')\n",
    "results[columns].plot(lw=3, figsize=(10, 5), ax=ax)\n",
    "\n",
    "problem_title_name = ' '.join([str.capitalize() for str in problem_name.split('_')])\n",
    "ax.set_title(f'Comparison of Algorithms for {problem_title_name}')\n",
    "ax.set_xlabel('Trial')\n",
    "ax.set_ylabel('Objective Value')\n",
    "ax.grid()\n",
    "ax.legend()\n",
    "\n",
    "# fig.savefig(\n",
    "#     f'/Users/ryandevera/data-science/umn_environments/Deeplifting/images/{problem_name}.png'\n",
    "# )\n",
    "\n",
    "# fig.savefig(f'/home/seanschweiger/research/Deeplifting/images/{problem_name}.png')"
   ]
  },
  {
   "cell_type": "code",
   "execution_count": 9,
   "id": "a22d24aa-c9d0-4ca7-bcb0-cf2dce891045",
   "metadata": {},
   "outputs": [],
   "source": [
    "# NLP written by GAMS Convert at 02/17/22 17:18:03\n",
    "#\n",
    "# Equation counts\n",
    "#     Total        E        G        L        N        X        C        B\n",
    "#         7        7        0        0        0        0        0        0\n",
    "#\n",
    "# Variable counts\n",
    "#                  x        b        i      s1s      s2s       sc       si\n",
    "#     Total     cont   binary  integer     sos1     sos2    scont     sint\n",
    "#        14       14        0        0        0        0        0        0\n",
    "# FX      0\n",
    "#\n",
    "# Nonzero counts\n",
    "#     Total    const       NL\n",
    "#        25        8       17\n",
    "#\n",
    "# Reformulation has removed 1 variable and 1 equation\n",
    "\n",
    "from pyomo.environ import (\n",
    "    ConcreteModel,\n",
    "    Var,\n",
    "    Objective,\n",
    "    Constraint,\n",
    "    SolverFactory,\n",
    "    Reals,\n",
    "    minimize,\n",
    ")\n",
    "\n",
    "model = m = ConcreteModel()\n",
    "\n",
    "m.x1 = Var(within=Reals, bounds=(0, 2), initialize=1.745)\n",
    "m.x2 = Var(within=Reals, bounds=(0, 1.6), initialize=1.2)\n",
    "m.x3 = Var(within=Reals, bounds=(0, 1.2), initialize=1.1)\n",
    "m.x4 = Var(within=Reals, bounds=(0, 5), initialize=3.048)\n",
    "m.x5 = Var(within=Reals, bounds=(0, 2), initialize=1.974)\n",
    "m.x6 = Var(within=Reals, bounds=(0.85, 0.93), initialize=0.893)\n",
    "m.x7 = Var(within=Reals, bounds=(0.9, 0.95), initialize=0.928)\n",
    "m.x8 = Var(within=Reals, bounds=(3, 12), initialize=8)\n",
    "m.x9 = Var(within=Reals, bounds=(1.2, 4), initialize=3.6)\n",
    "m.x10 = Var(within=Reals, bounds=(1.45, 1.62), initialize=1.45)\n",
    "m.x11 = Var(within=Reals, bounds=(0.99, 1.01010101010101), initialize=1)\n",
    "m.x12 = Var(within=Reals, bounds=(0.99, 1.01010101010101), initialize=1)\n",
    "m.x13 = Var(within=Reals, bounds=(0.9, 1.11111111111111), initialize=1)\n",
    "m.x14 = Var(within=Reals, bounds=(0.99, 1.01010101010101), initialize=1)\n",
    "\n",
    "m.obj = Objective(\n",
    "    sense=minimize,\n",
    "    expr=-6.3 * m.x4 * m.x7 + 5.04 * m.x1 + 0.35 * m.x2 + m.x3 + 3.36 * m.x5,\n",
    ")\n",
    "\n",
    "m.e1 = Constraint(expr=-0.819672131147541 * m.x1 + m.x4 - 0.819672131147541 * m.x5 == 0)\n",
    "m.e2 = Constraint(expr=-m.x6 * (0.01 * m.x4 * m.x9 + m.x3) + 0.98 * m.x3 == 0)\n",
    "m.e3 = Constraint(expr=-m.x1 * m.x8 + 10 * m.x2 + m.x5 == 0)\n",
    "m.e4 = Constraint(\n",
    "    expr=m.x4 * m.x11 - m.x1 * (-0.0067 * m.x8 * m.x8 + 0.13167 * m.x8 + 1.12) == 0\n",
    ")\n",
    "m.e5 = Constraint(\n",
    "    expr=m.x7 * m.x12 - 0.01 * (-0.038 * m.x8 * m.x8 + 1.098 * m.x8) - 0.325 * m.x6\n",
    "    == 0.57425\n",
    ")\n",
    "m.e6 = Constraint(expr=m.x9 * m.x13 + 22.2 * m.x10 == 35.82)\n",
    "m.e7 = Constraint(expr=m.x10 * m.x14 - 3 * m.x7 == -1.33)"
   ]
  },
  {
   "cell_type": "code",
   "execution_count": 10,
   "id": "a8254c6e-f8b2-41e5-ba3c-461cf27f6916",
   "metadata": {},
   "outputs": [],
   "source": [
    "# Solve the problem\n",
    "solver = SolverFactory('scip')\n",
    "results = solver.solve(model)"
   ]
  },
  {
   "cell_type": "code",
   "execution_count": 11,
   "id": "feec1a6e-d1bb-42b2-9083-936014f73d2d",
   "metadata": {},
   "outputs": [
    {
     "data": {
      "text/plain": [
       "{'Problem': [{'Lower bound': -inf, 'Upper bound': -1.76501010793343, 'Number of objectives': 1, 'Number of constraints': 0, 'Number of variables': 14, 'Sense': 'unknown'}], 'Solver': [{'Status': 'ok', 'Message': 'optimal solution found', 'Termination condition': 'optimal', 'Id': 0, 'Error rc': 0, 'Time': 0.27, 'Gap': 0.0, 'Primal bound': -1.76501010793343, 'Dual bound': -1.76501010793343}], 'Solution': [OrderedDict([('number of solutions', 0), ('number of solutions displayed', 0)])]}"
      ]
     },
     "execution_count": 11,
     "metadata": {},
     "output_type": "execute_result"
    }
   ],
   "source": [
    "results"
   ]
  },
  {
   "cell_type": "code",
   "execution_count": null,
   "id": "22f408db-d586-4bb6-9a7d-c1664fd01671",
   "metadata": {},
   "outputs": [],
   "source": [
    "test = next(m.component_data_objects())"
   ]
  },
  {
   "cell_type": "markdown",
   "id": "e7ca9713-a70f-4ca2-8c73-c0d300743a79",
   "metadata": {},
   "source": [
    "# SCIP Implementation"
   ]
  },
  {
   "cell_type": "code",
   "execution_count": null,
   "id": "70eb119a-8df9-4e85-aff3-84867cc2ce6d",
   "metadata": {},
   "outputs": [],
   "source": [
    "import numpy as np\n",
    "from pyomo.environ import *\n",
    "from pyomo.opt import SolverFactory\n",
    "\n",
    "# Parameters\n",
    "n = 10\n",
    "a = 20\n",
    "b = 0.2\n",
    "\n",
    "x = np.random.randn(5)\n",
    "n = len(x)\n",
    "initial_values = x  # replace as needed\n",
    "\n",
    "\n",
    "ackley = problem['objective']\n",
    "\n",
    "# Create the Pyomo model\n",
    "model = ConcreteModel()\n",
    "\n",
    "# Define the variables with initialization\n",
    "init_dict = {i: initial_values[i] for i in range(n)}\n",
    "model.x = Var(range(n), bounds=(-10, 10), initialize=init_dict)\n",
    "\n",
    "\n",
    "# Define the objective\n",
    "def objective_rule(model):\n",
    "    results = np.zeros((1, 1, 3))\n",
    "    x_values = np.array([model.x[i]() for i in range(n)])\n",
    "    return ackley(x_values, version='numpy')\n",
    "\n",
    "\n",
    "model.obj = Objective(rule=objective_rule, sense=minimize)"
   ]
  },
  {
   "cell_type": "code",
   "execution_count": null,
   "id": "24e0080d-e07e-438a-8667-91beddad44c7",
   "metadata": {},
   "outputs": [],
   "source": [
    "# Solve the model\n",
    "solver = SolverFactory('scip')\n",
    "solver.solve(model)\n",
    "\n",
    "# # Extract and print the results\n",
    "# for i in range(n):\n",
    "#     print(f\"Optimal x[{i}]:\", model.x[i]())\n",
    "# print(\"Optimal value:\", model.obj())"
   ]
  },
  {
   "cell_type": "code",
   "execution_count": 120,
   "id": "27e6b2e4-eee5-4626-bd67-a83f7b9fbc21",
   "metadata": {},
   "outputs": [],
   "source": [
    "import numpy as np\n",
    "import pyomo.environ as pyo\n",
    "from pyomo.opt import SolverFactory\n",
    "from math import pi\n",
    "\n",
    "from pyomo.environ import (\n",
    "    ConcreteModel,\n",
    "    Var,\n",
    "    Objective,\n",
    "    Constraint,\n",
    "    SolverFactory,\n",
    "    Reals,\n",
    "    minimize,\n",
    ")\n",
    "\n",
    "# Parameters\n",
    "n = 10\n",
    "a = 20\n",
    "b = 0.2\n",
    "\n",
    "initial_values = np.random.randn(n)  # replace as needed\n",
    "\n",
    "\n",
    "# Define the Ackley function for n dimensions\n",
    "def ackley(model, a=20, b=0.2):\n",
    "    x = np.array([model.x[i] for i in range(10)])\n",
    "    arg1 = np.array([pyo.cos(2 * value * pi) for value in x])\n",
    "    return np.sum(arg1) ** 0.5 + np.e\n",
    "\n",
    "\n",
    "# Create the Pyomo model\n",
    "model = ConcreteModel()\n",
    "\n",
    "# Define the variables with initialization\n",
    "init_dict = {i: initial_values[i] for i in range(n)}\n",
    "model.x = Var(range(n), initialize=init_dict)\n",
    "\n",
    "for i in range(10):\n",
    "    model.x[i].setlb(-20)\n",
    "    model.x[i].setub(10)\n",
    "\n",
    "\n",
    "# Define the objective\n",
    "def objective_rule(model):\n",
    "    return ackley(model)\n",
    "\n",
    "\n",
    "model.obj = Objective(rule=objective_rule, sense=minimize)\n",
    "\n",
    "# Solve the model\n",
    "solver = SolverFactory('scip')\n",
    "results = solver.solve(model)\n",
    "\n",
    "# # Extract and print the results\n",
    "# for i in range(n):\n",
    "#     print(f\"Optimal x[{i}]:\", model.x[i]())\n",
    "# print(\"Optimal value:\", model.obj())"
   ]
  },
  {
   "cell_type": "code",
   "execution_count": 121,
   "id": "09a5385a-ee5c-4051-9ac1-8ed58bd0e1d0",
   "metadata": {},
   "outputs": [
    {
     "data": {
      "text/plain": [
       "{'Problem': [{'Lower bound': -inf, 'Upper bound': 2.71828182745905, 'Number of objectives': 1, 'Number of constraints': 0, 'Number of variables': 10, 'Sense': 'unknown'}], 'Solver': [{'Status': 'ok', 'Message': 'optimal solution found', 'Termination condition': 'optimal', 'Id': 0, 'Error rc': 0, 'Time': 0.76, 'Gap': 0.0, 'Primal bound': 2.71828182745905, 'Dual bound': 2.71828182745905}], 'Solution': [OrderedDict([('number of solutions', 0), ('number of solutions displayed', 0)])]}"
      ]
     },
     "execution_count": 121,
     "metadata": {},
     "output_type": "execute_result"
    }
   ],
   "source": [
    "results"
   ]
  },
  {
   "cell_type": "code",
   "execution_count": 111,
   "id": "a39768da-b01b-46da-b761-3669d027c3bd",
   "metadata": {},
   "outputs": [],
   "source": [
    "solution_set = results['Solution']"
   ]
  },
  {
   "cell_type": "code",
   "execution_count": 112,
   "id": "c7c5d451-40ca-47c3-9814-81f053f183cd",
   "metadata": {},
   "outputs": [
    {
     "data": {
      "text/plain": [
       "(9.9999999899,\n",
       " 9.9999999899,\n",
       " 9.9999999899,\n",
       " 10.0,\n",
       " 9.9999999899,\n",
       " -18.837284888248135,\n",
       " -19.395698919583726,\n",
       " -19.443726745479836,\n",
       " -19.46386653068407,\n",
       " -19.651772675560835)"
      ]
     },
     "execution_count": 112,
     "metadata": {},
     "output_type": "execute_result"
    }
   ],
   "source": [
    "tuple(model.x.get_values().values())"
   ]
  },
  {
   "cell_type": "code",
   "execution_count": 82,
   "id": "5bdd97ce-7e35-49ad-bf16-1085f6b962c7",
   "metadata": {},
   "outputs": [
    {
     "data": {
      "text/plain": [
       "'SCIP'"
      ]
     },
     "execution_count": 82,
     "metadata": {},
     "output_type": "execute_result"
    }
   ],
   "source": [
    "'scip'.upper()"
   ]
  },
  {
   "cell_type": "code",
   "execution_count": null,
   "id": "f7277abb-e394-48bf-9716-af160fd55485",
   "metadata": {},
   "outputs": [],
   "source": [
    "pyo.sq"
   ]
  }
 ],
 "metadata": {
  "kernelspec": {
   "display_name": "Python 3 (ipykernel)",
   "language": "python",
   "name": "python3"
  },
  "language_info": {
   "codemirror_mode": {
    "name": "ipython",
    "version": 3
   },
   "file_extension": ".py",
   "mimetype": "text/x-python",
   "name": "python",
   "nbconvert_exporter": "python",
   "pygments_lexer": "ipython3",
   "version": "3.11.4"
  }
 },
 "nbformat": 4,
 "nbformat_minor": 5
}
