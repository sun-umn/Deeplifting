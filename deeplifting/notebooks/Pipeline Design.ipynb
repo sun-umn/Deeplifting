{
 "cells": [
  {
   "cell_type": "code",
   "execution_count": 1,
   "id": "d1aaf72f-9539-422e-ac7a-06783f883f94",
   "metadata": {},
   "outputs": [
    {
     "name": "stdout",
     "output_type": "stream",
     "text": [
      "/home/rydevera3/data-science/umn_research/Deeplifting\n"
     ]
    }
   ],
   "source": [
    "%pwd\n",
    "%cd ../.."
   ]
  },
  {
   "cell_type": "code",
   "execution_count": 2,
   "id": "d666d7fd-d138-49c7-b89d-a073fbc75fad",
   "metadata": {},
   "outputs": [],
   "source": [
    "from functools import partial\n",
    "\n",
    "import matplotlib.pyplot as plt\n",
    "import numpy as np\n",
    "import pandas as pd\n",
    "\n",
    "from deeplifting.problems import PROBLEMS_BY_NAME\n",
    "from deeplifting.optimization import (\n",
    "    run_deeplifting,\n",
    "    run_differential_evolution,\n",
    "    run_dual_annealing,\n",
    "    run_ipopt,\n",
    "    run_pygranso,\n",
    ")"
   ]
  },
  {
   "cell_type": "code",
   "execution_count": null,
   "id": "bc151516-0f7e-425b-9109-97b1deede3c9",
   "metadata": {},
   "outputs": [],
   "source": [
    "problem_name = 'ex4_1_5'\n",
    "problem = PROBLEMS_BY_NAME[problem_name]"
   ]
  },
  {
   "cell_type": "code",
   "execution_count": null,
   "id": "b766647d-1e8b-4069-a828-0bdc4e8fce91",
   "metadata": {},
   "outputs": [],
   "source": [
    "outputs = run_pygranso(problem, trials=10)\n",
    "\n",
    "pygranso_results = pd.DataFrame(\n",
    "    outputs['final_results'],\n",
    "    columns=['x1', 'x2', 'f', 'b'],\n",
    ")\n",
    "pygranso_results = pygranso_results.add_prefix('pygranso_')"
   ]
  },
  {
   "cell_type": "code",
   "execution_count": null,
   "id": "69521893-20d8-4d22-ae9b-00046ba0c803",
   "metadata": {},
   "outputs": [],
   "source": [
    "outputs = run_ipopt(problem, trials=10)\n",
    "\n",
    "ipopt_results = pd.DataFrame(outputs['final_results'], columns=['x1', 'x2', 'f'])\n",
    "ipopt_results = ipopt_results.add_prefix('ipopt_')"
   ]
  },
  {
   "cell_type": "code",
   "execution_count": null,
   "id": "d7494705-bdae-4438-ab9c-031576a4a5ef",
   "metadata": {},
   "outputs": [],
   "source": [
    "outputs = run_dual_annealing(problem, trials=10)"
   ]
  },
  {
   "cell_type": "code",
   "execution_count": null,
   "id": "c5207045-9934-4fd8-8790-24b5c7f9fa6e",
   "metadata": {},
   "outputs": [],
   "source": [
    "dual_annealing_results = pd.DataFrame(\n",
    "    outputs['final_results'], columns=['x1', 'x2', 'f']\n",
    ")\n",
    "dual_annealing_results = dual_annealing_results.add_prefix('dual_annealing_')"
   ]
  },
  {
   "cell_type": "code",
   "execution_count": null,
   "id": "5aa5dc04-9363-4f46-9b9f-63b4651196f5",
   "metadata": {},
   "outputs": [],
   "source": [
    "outputs = run_differential_evolution(problem, trials=10)"
   ]
  },
  {
   "cell_type": "code",
   "execution_count": null,
   "id": "c3a84b11-8e31-447e-8fd5-736b7efff1b6",
   "metadata": {},
   "outputs": [],
   "source": [
    "de_results = pd.DataFrame(\n",
    "    outputs['final_results'],\n",
    "    columns=['x1', 'x2', 'f'],\n",
    ")\n",
    "de_results = de_results.add_prefix('differential_evolution_')"
   ]
  },
  {
   "cell_type": "code",
   "execution_count": null,
   "id": "b8ccb053-68dc-4b42-ac24-54799b28c571",
   "metadata": {},
   "outputs": [],
   "source": [
    "outputs = run_deeplifting(problem, trials=10)"
   ]
  },
  {
   "cell_type": "code",
   "execution_count": null,
   "id": "fe88381d-97c5-4d97-a778-8717253e4920",
   "metadata": {},
   "outputs": [],
   "source": [
    "deeplifting_results = pd.DataFrame(\n",
    "    outputs['final_results'],\n",
    "    columns=['x1', 'x2', 'f', 'b'],\n",
    ")\n",
    "deeplifting_results = deeplifting_results.add_prefix('deeplifting_')"
   ]
  },
  {
   "cell_type": "code",
   "execution_count": null,
   "id": "98b86eb2-5840-41cb-82c4-4eed3177f1f5",
   "metadata": {},
   "outputs": [],
   "source": [
    "results = pd.concat(\n",
    "    [\n",
    "        ipopt_results,\n",
    "        pygranso_results,\n",
    "        dual_annealing_results,\n",
    "        de_results,\n",
    "        deeplifting_results,\n",
    "    ],\n",
    "    axis=1,\n",
    ")"
   ]
  },
  {
   "cell_type": "code",
   "execution_count": null,
   "id": "486ee7c3-904f-4f5e-aa90-1ef3d3256da4",
   "metadata": {},
   "outputs": [],
   "source": [
    "# Plot the results with the actual global minimum\n",
    "columns = [\n",
    "    'ipopt_f',\n",
    "    'pygranso_f',\n",
    "    'dual_annealing_f',\n",
    "    'differential_evolution_f',\n",
    "    'deeplifting_f',\n",
    "]\n",
    "\n",
    "global_minimum = problem['global_minimum']\n",
    "fig, ax = plt.subplots(1, 1, figsize=(10, 5))\n",
    "results[columns].plot(lw=3, figsize=(10, 5), ax=ax)\n",
    "ax.axhline(global_minimum, color='red', lw=3, label='Global Minimum')\n",
    "\n",
    "problem_title_name = ' '.join([str.capitalize() for str in problem_name.split('_')])\n",
    "ax.set_title(f'Comparison of Algorithms for {problem_title_name}')\n",
    "ax.set_xlabel('Trial')\n",
    "ax.set_ylabel('Objective Value')\n",
    "ax.grid()\n",
    "ax.legend()\n",
    "\n",
    "fig.savefig(\n",
    "    f'/Users/ryandevera/data-science/umn_environments/Deeplifting/images/{problem_name}.png'\n",
    ")"
   ]
  },
  {
   "cell_type": "code",
   "execution_count": null,
   "id": "a22d24aa-c9d0-4ca7-bcb0-cf2dce891045",
   "metadata": {},
   "outputs": [],
   "source": [
    "# # NLP written by GAMS Convert at 02/17/22 17:18:03\n",
    "# #\n",
    "# # Equation counts\n",
    "# #     Total        E        G        L        N        X        C        B\n",
    "# #         7        7        0        0        0        0        0        0\n",
    "# #\n",
    "# # Variable counts\n",
    "# #                  x        b        i      s1s      s2s       sc       si\n",
    "# #     Total     cont   binary  integer     sos1     sos2    scont     sint\n",
    "# #        14       14        0        0        0        0        0        0\n",
    "# # FX      0\n",
    "# #\n",
    "# # Nonzero counts\n",
    "# #     Total    const       NL\n",
    "# #        25        8       17\n",
    "# #\n",
    "# # Reformulation has removed 1 variable and 1 equation\n",
    "\n",
    "# from pyomo.environ import ConcreteModel, Var, Objective, Constraint, SolverFactory\n",
    "\n",
    "# model = m = ConcreteModel()\n",
    "\n",
    "# m.x1 = Var(within=Reals, bounds=(0,2), initialize=1.745)\n",
    "# m.x2 = Var(within=Reals, bounds=(0,1.6), initialize=1.2)\n",
    "# m.x3 = Var(within=Reals, bounds=(0,1.2), initialize=1.1)\n",
    "# m.x4 = Var(within=Reals, bounds=(0,5), initialize=3.048)\n",
    "# m.x5 = Var(within=Reals, bounds=(0,2), initialize=1.974)\n",
    "# m.x6 = Var(within=Reals, bounds=(0.85,0.93), initialize=0.893)\n",
    "# m.x7 = Var(within=Reals, bounds=(0.9,0.95), initialize=0.928)\n",
    "# m.x8 = Var(within=Reals, bounds=(3,12), initialize=8)\n",
    "# m.x9 = Var(within=Reals, bounds=(1.2,4), initialize=3.6)\n",
    "# m.x10 = Var(within=Reals, bounds=(1.45,1.62), initialize=1.45)\n",
    "# m.x11 = Var(within=Reals, bounds=(0.99,1.01010101010101), initialize=1)\n",
    "# m.x12 = Var(within=Reals, bounds=(0.99,1.01010101010101), initialize=1)\n",
    "# m.x13 = Var(within=Reals, bounds=(0.9,1.11111111111111), initialize=1)\n",
    "# m.x14 = Var(within=Reals, bounds=(0.99,1.01010101010101), initialize=1)\n",
    "\n",
    "# m.obj = Objective(sense=minimize, expr= -6.3 * m.x4 * m.x7 + 5.04 * m.x1 + 0.35\n",
    "#     * m.x2 + m.x3 + 3.36 * m.x5)\n",
    "\n",
    "# m.e1 = Constraint(expr= -0.819672131147541 * m.x1 + m.x4 - 0.819672131147541 *\n",
    "#     m.x5 == 0)\n",
    "# m.e2 = Constraint(expr= -m.x6 * (0.01 * m.x4 * m.x9 + m.x3) + 0.98 * m.x3 == 0)\n",
    "# m.e3 = Constraint(expr= -m.x1 * m.x8 + 10 * m.x2 + m.x5 == 0)\n",
    "# m.e4 = Constraint(expr= m.x4 * m.x11 - m.x1 * (-0.0067 * m.x8 * m.x8 + 0.13167\n",
    "#     * m.x8 + 1.12) == 0)\n",
    "# m.e5 = Constraint(expr= m.x7 * m.x12 - 0.01 * (-0.038 * m.x8 * m.x8 + 1.098 *\n",
    "#     m.x8) - 0.325 * m.x6 == 0.57425)\n",
    "# m.e6 = Constraint(expr= m.x9 * m.x13 + 22.2 * m.x10 == 35.82)\n",
    "# m.e7 = Constraint(expr= m.x10 * m.x14 - 3 * m.x7 == -1.33)"
   ]
  },
  {
   "cell_type": "code",
   "execution_count": null,
   "id": "a8254c6e-f8b2-41e5-ba3c-461cf27f6916",
   "metadata": {},
   "outputs": [],
   "source": [
    "# # Solve the problem\n",
    "# solver = SolverFactory('ipopt')\n",
    "# solver.solve(model)"
   ]
  },
  {
   "cell_type": "code",
   "execution_count": null,
   "id": "feec1a6e-d1bb-42b2-9083-936014f73d2d",
   "metadata": {},
   "outputs": [],
   "source": [
    "# model.obj()"
   ]
  },
  {
   "cell_type": "code",
   "execution_count": null,
   "id": "b928cfc3-b635-4a40-8da3-7c227c90cc04",
   "metadata": {},
   "outputs": [],
   "source": [
    "import numpy as np\n",
    "\n",
    "x = np.asarray([1, 2])\n",
    "f = 1\n",
    "b = 0"
   ]
  },
  {
   "cell_type": "code",
   "execution_count": null,
   "id": "7f9860b2-dbac-4f5f-8748-77c0cd578926",
   "metadata": {},
   "outputs": [],
   "source": [
    "tuple(x) + (f,) + (b,)"
   ]
  },
  {
   "cell_type": "code",
   "execution_count": null,
   "id": "e4d48867-8a87-476d-bfd9-a7e4694d1de1",
   "metadata": {},
   "outputs": [],
   "source": []
  }
 ],
 "metadata": {
  "kernelspec": {
   "display_name": "3.9.15",
   "language": "python",
   "name": "pyenv_3.9.15"
  },
  "language_info": {
   "codemirror_mode": {
    "name": "ipython",
    "version": 3
   },
   "file_extension": ".py",
   "mimetype": "text/x-python",
   "name": "python",
   "nbconvert_exporter": "python",
   "pygments_lexer": "ipython3",
   "version": "3.9.15"
  }
 },
 "nbformat": 4,
 "nbformat_minor": 5
}
