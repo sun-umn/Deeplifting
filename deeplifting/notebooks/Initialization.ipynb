{
 "cells": [
  {
   "cell_type": "code",
   "execution_count": 1,
   "id": "290f805d-f46f-4888-be62-79175a094fee",
   "metadata": {},
   "outputs": [
    {
     "name": "stdout",
     "output_type": "stream",
     "text": [
      "/Users/ryandevera/data-science/umn_environments/Deeplifting\n"
     ]
    }
   ],
   "source": [
    "%cd ../.."
   ]
  },
  {
   "cell_type": "code",
   "execution_count": 2,
   "id": "e5b2cdef-b08b-42bd-9407-506f1c621b6a",
   "metadata": {},
   "outputs": [
    {
     "name": "stdout",
     "output_type": "stream",
     "text": [
      "\u001b[1m\u001b[36mLJ_data\u001b[m\u001b[m/                        \u001b[1m\u001b[36mhigh-dimension-paper-results\u001b[m\u001b[m/\n",
      "LJ_data.tar                     \u001b[1m\u001b[36mhigh-dimension-search-results\u001b[m\u001b[m/\n",
      "README.md                       \u001b[1m\u001b[36mimages\u001b[m\u001b[m/\n",
      "\u001b[1m\u001b[36m__pycache__\u001b[m\u001b[m/                    \u001b[1m\u001b[36mjobs\u001b[m\u001b[m/\n",
      "\u001b[1m\u001b[36malgorithm_compare_results\u001b[m\u001b[m/      \u001b[1m\u001b[36mlow-dimension-search-results\u001b[m\u001b[m/\n",
      "config.py                       \u001b[1m\u001b[36mmodels\u001b[m\u001b[m/\n",
      "\u001b[1m\u001b[36mdata\u001b[m\u001b[m/                           \u001b[1m\u001b[36mpaper-images\u001b[m\u001b[m/\n",
      "\u001b[1m\u001b[36mdata-queue\u001b[m\u001b[m/                     requirements.txt\n",
      "\u001b[1m\u001b[36mdata-queue-2023-09-24\u001b[m\u001b[m/          \u001b[1m\u001b[36mresults\u001b[m\u001b[m/\n",
      "\u001b[1m\u001b[36mdata-queue-2023-09-27\u001b[m\u001b[m/          \u001b[1m\u001b[36msearch_results\u001b[m\u001b[m/\n",
      "\u001b[1m\u001b[36mdeeplifting\u001b[m\u001b[m/                    tasks.py\n",
      "deeplifting.png                 test-low-dimension-results.png\n"
     ]
    }
   ],
   "source": [
    "%ls"
   ]
  },
  {
   "cell_type": "code",
   "execution_count": 3,
   "id": "4bd73321-ec1e-4e78-a040-43e53fcd0ce0",
   "metadata": {},
   "outputs": [],
   "source": [
    "import numpy as np\n",
    "import pandas as pd\n",
    "import torch\n",
    "import torch.optim as optim\n",
    "import torch.nn as nn\n",
    "\n",
    "from deeplifting.problems import PROBLEMS_BY_NAME\n",
    "from deeplifting.models import DeepliftingSkipMLP\n",
    "from deeplifting.optimization import deeplifting_predictions\n",
    "from deeplifting.utils import initialize_vector"
   ]
  },
  {
   "cell_type": "code",
   "execution_count": 9,
   "id": "bf3497d3-f45f-4681-aebc-80e56e3bcb8e",
   "metadata": {},
   "outputs": [],
   "source": [
    "problem = PROBLEMS_BY_NAME['bukin_n6']\n",
    "output_size = problem['dimensions']\n",
    "\n",
    "# Set up the deeplifting model\n",
    "input_size = 1\n",
    "hidden_sizes = (128,) * 5\n",
    "bounds = problem['bounds']\n",
    "activation = 'sine'\n",
    "output_activation = 'leaky_relu'\n",
    "agg_function = 'sum'\n",
    "trial = 0\n",
    "\n",
    "model = DeepliftingSkipMLP(\n",
    "    input_size=input_size,\n",
    "    hidden_sizes=hidden_sizes,\n",
    "    output_size=output_size,\n",
    "    bounds=None,\n",
    "    skip_every_n=1,\n",
    "    activation=activation,\n",
    "    output_activation=output_activation,\n",
    "    agg_function=agg_function,\n",
    "    seed=trial,\n",
    ")\n",
    "\n",
    "# Need to setup an objective\n",
    "results = np.zeros((1, 1, 3))\n",
    "trial = 0\n",
    "\n",
    "objective = problem['objective']\n",
    "fn = lambda x: objective(x, results=results, trial=trial, version='pytorch')"
   ]
  },
  {
   "cell_type": "code",
   "execution_count": 10,
   "id": "99ed697e-a85d-4117-9717-dc34b0d1d777",
   "metadata": {},
   "outputs": [
    {
     "data": {
      "text/plain": [
       "tensor([2.4555, 2.3634], dtype=torch.float64, grad_fn=<ReshapeAliasBackward0>)"
      ]
     },
     "execution_count": 10,
     "metadata": {},
     "output_type": "execute_result"
    }
   ],
   "source": [
    "inputs = torch.randn(1, 5 * output_size).to(dtype=torch.double)\n",
    "model = model.to(dtype=torch.double)\n",
    "outputs = model(inputs=inputs)\n",
    "outputs.flatten()"
   ]
  },
  {
   "cell_type": "code",
   "execution_count": 11,
   "id": "3a3932de-732b-4835-844e-7ebb69534a4f",
   "metadata": {},
   "outputs": [
    {
     "name": "stdout",
     "output_type": "stream",
     "text": [
      "tensor([-9.5119,  1.2911], dtype=torch.float64)\n"
     ]
    }
   ],
   "source": [
    "x0 = initialize_vector(size=output_size, bounds=bounds)\n",
    "x0 = torch.from_numpy(x0)\n",
    "x0 = x0.to(dtype=torch.double)\n",
    "print(x0)\n",
    "\n",
    "model.output_layer.linear.weight.data = torch.zeros_like(\n",
    "    model.output_layer.linear.weight.data\n",
    ")\n",
    "model.output_layer.batch_norm.weight.data = torch.zeros_like(\n",
    "    model.output_layer.batch_norm.weight.data\n",
    ")\n",
    "model.output_layer.linear.bias = torch.nn.Parameter(x0)"
   ]
  },
  {
   "cell_type": "code",
   "execution_count": 12,
   "id": "dbf284ac-79f1-4135-85ed-acf950f0b2e3",
   "metadata": {},
   "outputs": [
    {
     "data": {
      "text/plain": [
       "tensor([-0.0951,  1.2911], dtype=torch.float64, grad_fn=<MeanBackward1>)"
      ]
     },
     "execution_count": 12,
     "metadata": {},
     "output_type": "execute_result"
    }
   ],
   "source": [
    "model(inputs=inputs).mean(axis=0)"
   ]
  },
  {
   "cell_type": "code",
   "execution_count": 13,
   "id": "69ef7fe8-44b3-424b-9956-33dcbc88dccf",
   "metadata": {},
   "outputs": [
    {
     "name": "stdout",
     "output_type": "stream",
     "text": [
      "output_layer.linear.weight Parameter containing:\n",
      "tensor([[0., 0., 0., 0., 0., 0., 0., 0., 0., 0., 0., 0., 0., 0., 0., 0., 0., 0., 0., 0., 0., 0., 0., 0.,\n",
      "         0., 0., 0., 0., 0., 0., 0., 0., 0., 0., 0., 0., 0., 0., 0., 0., 0., 0., 0., 0., 0., 0., 0., 0.,\n",
      "         0., 0., 0., 0., 0., 0., 0., 0., 0., 0., 0., 0., 0., 0., 0., 0., 0., 0., 0., 0., 0., 0., 0., 0.,\n",
      "         0., 0., 0., 0., 0., 0., 0., 0., 0., 0., 0., 0., 0., 0., 0., 0., 0., 0., 0., 0., 0., 0., 0., 0.,\n",
      "         0., 0., 0., 0., 0., 0., 0., 0., 0., 0., 0., 0., 0., 0., 0., 0., 0., 0., 0., 0., 0., 0., 0., 0.,\n",
      "         0., 0., 0., 0., 0., 0., 0., 0.],\n",
      "        [0., 0., 0., 0., 0., 0., 0., 0., 0., 0., 0., 0., 0., 0., 0., 0., 0., 0., 0., 0., 0., 0., 0., 0.,\n",
      "         0., 0., 0., 0., 0., 0., 0., 0., 0., 0., 0., 0., 0., 0., 0., 0., 0., 0., 0., 0., 0., 0., 0., 0.,\n",
      "         0., 0., 0., 0., 0., 0., 0., 0., 0., 0., 0., 0., 0., 0., 0., 0., 0., 0., 0., 0., 0., 0., 0., 0.,\n",
      "         0., 0., 0., 0., 0., 0., 0., 0., 0., 0., 0., 0., 0., 0., 0., 0., 0., 0., 0., 0., 0., 0., 0., 0.,\n",
      "         0., 0., 0., 0., 0., 0., 0., 0., 0., 0., 0., 0., 0., 0., 0., 0., 0., 0., 0., 0., 0., 0., 0., 0.,\n",
      "         0., 0., 0., 0., 0., 0., 0., 0.]], dtype=torch.float64,\n",
      "       requires_grad=True)\n",
      "output_layer.linear.bias Parameter containing:\n",
      "tensor([-9.5119,  1.2911], dtype=torch.float64, requires_grad=True)\n",
      "output_layer.batch_norm.weight Parameter containing:\n",
      "tensor([0., 0.], dtype=torch.float64, requires_grad=True)\n",
      "output_layer.batch_norm.bias Parameter containing:\n",
      "tensor([0., 0.], dtype=torch.float64, requires_grad=True)\n"
     ]
    }
   ],
   "source": [
    "for name, parameters in model.named_parameters():\n",
    "    if 'output' in name:\n",
    "        print(name, parameters)"
   ]
  },
  {
   "cell_type": "code",
   "execution_count": null,
   "id": "bb35cb9c-803e-4b55-9742-70f3bdcb20ff",
   "metadata": {},
   "outputs": [],
   "source": []
  },
  {
   "cell_type": "code",
   "execution_count": null,
   "id": "14f0c599-e624-4cfb-92b7-53ebb2390815",
   "metadata": {},
   "outputs": [],
   "source": []
  }
 ],
 "metadata": {
  "kernelspec": {
   "display_name": "deeplifting",
   "language": "python",
   "name": "deeplifting"
  },
  "language_info": {
   "codemirror_mode": {
    "name": "ipython",
    "version": 3
   },
   "file_extension": ".py",
   "mimetype": "text/x-python",
   "name": "python",
   "nbconvert_exporter": "python",
   "pygments_lexer": "ipython3",
   "version": "3.9.11"
  }
 },
 "nbformat": 4,
 "nbformat_minor": 5
}
