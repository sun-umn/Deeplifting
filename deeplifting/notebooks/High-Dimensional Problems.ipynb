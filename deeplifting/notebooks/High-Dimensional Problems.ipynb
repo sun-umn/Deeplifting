{
 "cells": [
  {
   "cell_type": "code",
   "execution_count": 5,
   "id": "af859dec-3a96-4f00-8419-b02a3d2a4903",
   "metadata": {},
   "outputs": [
    {
     "name": "stdout",
     "output_type": "stream",
     "text": [
      "/Users/ryandevera/data-science/umn_environments/Deeplifting\n"
     ]
    }
   ],
   "source": [
    "%pwd\n",
    "%cd ../.."
   ]
  },
  {
   "cell_type": "code",
   "execution_count": 6,
   "id": "dc500976-9207-442c-a943-42152cd3f4e4",
   "metadata": {},
   "outputs": [],
   "source": [
    "import pandas as pd"
   ]
  },
  {
   "cell_type": "code",
   "execution_count": 7,
   "id": "36dc91b8-c036-411e-8500-4d8d2ce9d3dc",
   "metadata": {},
   "outputs": [],
   "source": [
    "files = [\n",
    "    './results/results-2023-08-3-layer-512-sum-ackley_3d-0-particle-leaky_reluhigh-dimensional.parquet',\n",
    "    './results/results-2023-08-3-layer-512-sum-ackley_5d-0-particle-leaky_reluhigh-dimensional.parquet',\n",
    "    './results/results-2023-08-3-layer-512-sum-ackley_30d-0-particle-leaky_reluhigh-dimensional.parquet',\n",
    "    './results/results-2023-08-3-layer-512-sum-ackley_100d-0-particle-leaky_reluhigh-dimensional.parquet',\n",
    "]"
   ]
  },
  {
   "cell_type": "code",
   "execution_count": 9,
   "id": "26927f13-7d0a-4539-be06-c58ab8ecf897",
   "metadata": {},
   "outputs": [],
   "source": [
    "df = pd.read_parquet(files)"
   ]
  },
  {
   "cell_type": "code",
   "execution_count": 10,
   "id": "a86607c5-5956-47cf-9bcd-3deb6820bc32",
   "metadata": {},
   "outputs": [
    {
     "data": {
      "text/html": [
       "<div>\n",
       "<style scoped>\n",
       "    .dataframe tbody tr th:only-of-type {\n",
       "        vertical-align: middle;\n",
       "    }\n",
       "\n",
       "    .dataframe tbody tr th {\n",
       "        vertical-align: top;\n",
       "    }\n",
       "\n",
       "    .dataframe thead th {\n",
       "        text-align: right;\n",
       "    }\n",
       "</style>\n",
       "<table border=\"1\" class=\"dataframe\">\n",
       "  <thead>\n",
       "    <tr style=\"text-align: right;\">\n",
       "      <th></th>\n",
       "      <th>x1</th>\n",
       "      <th>x2</th>\n",
       "      <th>x3</th>\n",
       "      <th>f</th>\n",
       "      <th>algorithm</th>\n",
       "      <th>total_time</th>\n",
       "      <th>input_size</th>\n",
       "      <th>hidden_size</th>\n",
       "      <th>hidden_activation</th>\n",
       "      <th>output_activation</th>\n",
       "      <th>agg_function</th>\n",
       "      <th>problem_name</th>\n",
       "      <th>global_minimum</th>\n",
       "      <th>dimensions</th>\n",
       "    </tr>\n",
       "  </thead>\n",
       "  <tbody>\n",
       "    <tr>\n",
       "      <th>0</th>\n",
       "      <td>-1.093596e-07</td>\n",
       "      <td>-1.086391e-08</td>\n",
       "      <td>5.730915e-08</td>\n",
       "      <td>2.862346e-07</td>\n",
       "      <td>Deeplifting</td>\n",
       "      <td>119.070853</td>\n",
       "      <td>512</td>\n",
       "      <td>512-512-512</td>\n",
       "      <td>sine</td>\n",
       "      <td>leaky_relu</td>\n",
       "      <td>sum</td>\n",
       "      <td>ackley_3d</td>\n",
       "      <td>0.0</td>\n",
       "      <td>3</td>\n",
       "    </tr>\n",
       "    <tr>\n",
       "      <th>1</th>\n",
       "      <td>-2.362199e-10</td>\n",
       "      <td>-6.691891e-10</td>\n",
       "      <td>9.578308e-09</td>\n",
       "      <td>2.315031e-08</td>\n",
       "      <td>Deeplifting</td>\n",
       "      <td>995.560220</td>\n",
       "      <td>512</td>\n",
       "      <td>512-512-512</td>\n",
       "      <td>sine</td>\n",
       "      <td>leaky_relu</td>\n",
       "      <td>sum</td>\n",
       "      <td>ackley_5d</td>\n",
       "      <td>0.0</td>\n",
       "      <td>5</td>\n",
       "    </tr>\n",
       "    <tr>\n",
       "      <th>2</th>\n",
       "      <td>1.844665e-07</td>\n",
       "      <td>-1.427955e-07</td>\n",
       "      <td>-1.505370e-07</td>\n",
       "      <td>3.897032e-07</td>\n",
       "      <td>Deeplifting</td>\n",
       "      <td>5703.610024</td>\n",
       "      <td>512</td>\n",
       "      <td>512-512-512</td>\n",
       "      <td>sine</td>\n",
       "      <td>leaky_relu</td>\n",
       "      <td>sum</td>\n",
       "      <td>ackley_30d</td>\n",
       "      <td>0.0</td>\n",
       "      <td>30</td>\n",
       "    </tr>\n",
       "    <tr>\n",
       "      <th>3</th>\n",
       "      <td>-1.600911e-08</td>\n",
       "      <td>2.234648e-08</td>\n",
       "      <td>-7.853131e-09</td>\n",
       "      <td>1.255706e-07</td>\n",
       "      <td>Deeplifting</td>\n",
       "      <td>42608.341140</td>\n",
       "      <td>512</td>\n",
       "      <td>512-512-512</td>\n",
       "      <td>sine</td>\n",
       "      <td>leaky_relu</td>\n",
       "      <td>sum</td>\n",
       "      <td>ackley_100d</td>\n",
       "      <td>0.0</td>\n",
       "      <td>100</td>\n",
       "    </tr>\n",
       "  </tbody>\n",
       "</table>\n",
       "</div>"
      ],
      "text/plain": [
       "             x1            x2            x3             f    algorithm  \\\n",
       "0 -1.093596e-07 -1.086391e-08  5.730915e-08  2.862346e-07  Deeplifting   \n",
       "1 -2.362199e-10 -6.691891e-10  9.578308e-09  2.315031e-08  Deeplifting   \n",
       "2  1.844665e-07 -1.427955e-07 -1.505370e-07  3.897032e-07  Deeplifting   \n",
       "3 -1.600911e-08  2.234648e-08 -7.853131e-09  1.255706e-07  Deeplifting   \n",
       "\n",
       "     total_time  input_size  hidden_size hidden_activation output_activation  \\\n",
       "0    119.070853         512  512-512-512              sine        leaky_relu   \n",
       "1    995.560220         512  512-512-512              sine        leaky_relu   \n",
       "2   5703.610024         512  512-512-512              sine        leaky_relu   \n",
       "3  42608.341140         512  512-512-512              sine        leaky_relu   \n",
       "\n",
       "  agg_function problem_name  global_minimum  dimensions  \n",
       "0          sum    ackley_3d             0.0           3  \n",
       "1          sum    ackley_5d             0.0           5  \n",
       "2          sum   ackley_30d             0.0          30  \n",
       "3          sum  ackley_100d             0.0         100  "
      ]
     },
     "execution_count": 10,
     "metadata": {},
     "output_type": "execute_result"
    }
   ],
   "source": [
    "df"
   ]
  },
  {
   "cell_type": "code",
   "execution_count": 12,
   "id": "214a6ca5-7331-4725-b3db-c657f9163e35",
   "metadata": {},
   "outputs": [
    {
     "data": {
      "text/plain": [
       "11"
      ]
     },
     "execution_count": 12,
     "metadata": {},
     "output_type": "execute_result"
    }
   ],
   "source": []
  },
  {
   "cell_type": "code",
   "execution_count": null,
   "id": "4e0c9ea8-7232-478b-94c4-56900a074508",
   "metadata": {},
   "outputs": [],
   "source": []
  }
 ],
 "metadata": {
  "kernelspec": {
   "display_name": "deeplifting",
   "language": "python",
   "name": "deeplifting"
  },
  "language_info": {
   "codemirror_mode": {
    "name": "ipython",
    "version": 3
   },
   "file_extension": ".py",
   "mimetype": "text/x-python",
   "name": "python",
   "nbconvert_exporter": "python",
   "pygments_lexer": "ipython3",
   "version": "3.9.11"
  }
 },
 "nbformat": 4,
 "nbformat_minor": 5
}
