{
 "cells": [
  {
   "cell_type": "code",
   "execution_count": 1,
   "metadata": {},
   "outputs": [
    {
     "name": "stdout",
     "output_type": "stream",
     "text": [
      "/home/seanschweiger/dl_testing/Deeplifting\n"
     ]
    }
   ],
   "source": [
    "%pwd\n",
    "%cd ../.."
   ]
  },
  {
   "cell_type": "code",
   "execution_count": 2,
   "metadata": {},
   "outputs": [],
   "source": [
    "from functools import partial\n",
    "\n",
    "import matplotlib.pyplot as plt\n",
    "import numpy as np\n",
    "import pandas as pd\n",
    "\n",
    "from deeplifting.problems import PROBLEMS_BY_NAME\n",
    "from deeplifting.optimization import (\n",
    "    run_differential_evolution,\n",
    "    run_dual_annealing,\n",
    ")"
   ]
  },
  {
   "cell_type": "code",
   "execution_count": 3,
   "metadata": {},
   "outputs": [],
   "source": [
    "init_temp_vals = [0.01, 10, 50, 100, 250, 500, 1000, 2500, 5000, 10000, 15000, 20000, 25000, 30000, 40000, 50000]"
   ]
  },
  {
   "cell_type": "code",
   "execution_count": 4,
   "metadata": {},
   "outputs": [],
   "source": [
    "problem_name = 'ex4_1_5'\n",
    "problem = PROBLEMS_BY_NAME[problem_name]"
   ]
  },
  {
   "cell_type": "code",
   "execution_count": null,
   "metadata": {},
   "outputs": [],
   "source": [
    "outputs = run_dual_annealing(problem, trials=10)"
   ]
  },
  {
   "cell_type": "code",
   "execution_count": null,
   "metadata": {},
   "outputs": [],
   "source": [
    "dual_annealing_results = pd.DataFrame(\n",
    "    outputs['final_results'], columns=['x1', 'x2', 'f']\n",
    ")\n",
    "dual_annealing_results = dual_annealing_results.add_prefix('dual_annealing_')"
   ]
  },
  {
   "cell_type": "code",
   "execution_count": null,
   "metadata": {},
   "outputs": [],
   "source": [
    "outputs = run_differential_evolution(problem, trials=10)"
   ]
  },
  {
   "cell_type": "code",
   "execution_count": null,
   "metadata": {},
   "outputs": [],
   "source": [
    "de_results = pd.DataFrame(\n",
    "    outputs['final_results'],\n",
    "    columns=['x1', 'x2', 'f'],\n",
    ")\n",
    "de_results = de_results.add_prefix('differential_evolution_')"
   ]
  },
  {
   "cell_type": "code",
   "execution_count": null,
   "metadata": {},
   "outputs": [],
   "source": [
    "results = pd.concat(\n",
    "    [\n",
    "        dual_annealing_results,\n",
    "        de_results,\n",
    "    ],\n",
    "    axis=1,\n",
    ")"
   ]
  },
  {
   "cell_type": "code",
   "execution_count": null,
   "metadata": {},
   "outputs": [],
   "source": [
    "# Plot the results with the actual global minimum\n",
    "columns = [\n",
    "    'dual_annealing_f',\n",
    "]\n",
    "\n",
    "global_minimum = problem['global_minimum']\n",
    "fig, ax = plt.subplots(1, 1, figsize=(10, 5))\n",
    "results[columns].plot(lw=3, figsize=(10, 5), ax=ax)\n",
    "ax.axhline(global_minimum, color='red', lw=3, label='Global Minimum')\n",
    "\n",
    "problem_title_name = ' '.join([str.capitalize() for str in problem_name.split('_')])\n",
    "ax.set_title(f'Comparison of Algorithms for {problem_title_name}')\n",
    "ax.set_xlabel('Trial')\n",
    "ax.set_ylabel('Objective Value')\n",
    "ax.grid()\n",
    "ax.legend()\n",
    "\n",
    "image_title = problem_name + \"dual_annealing_hyperparameter\"\n",
    "\n",
    "# fig.savefig(\n",
    "#     f'/home/seanschweiger/dl_testing/Deeplifting/images/{image_title}.png'\n",
    "# )"
   ]
  }
 ],
 "metadata": {
  "kernelspec": {
   "display_name": "deeplifting",
   "language": "python",
   "name": "python3"
  },
  "language_info": {
   "codemirror_mode": {
    "name": "ipython",
    "version": 3
   },
   "file_extension": ".py",
   "mimetype": "text/x-python",
   "name": "python",
   "nbconvert_exporter": "python",
   "pygments_lexer": "ipython3",
   "version": "3.9.16"
  },
  "orig_nbformat": 4
 },
 "nbformat": 4,
 "nbformat_minor": 2
}
