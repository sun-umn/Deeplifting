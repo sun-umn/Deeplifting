{
 "cells": [
  {
   "cell_type": "code",
   "execution_count": 1,
   "id": "3aaf4528-4121-47d2-b2c7-902b0a3626d0",
   "metadata": {},
   "outputs": [
    {
     "name": "stdout",
     "output_type": "stream",
     "text": [
      "/Users/ryandevera/data-science/umn_environments/Deeplifting\n"
     ]
    }
   ],
   "source": [
    "%cd ../.."
   ]
  },
  {
   "cell_type": "code",
   "execution_count": 25,
   "id": "c6a05374-8f60-4c5f-9aa8-ab37b1e43a94",
   "metadata": {},
   "outputs": [],
   "source": [
    "import glob\n",
    "import pandas as pd\n",
    "import seaborn as sns\n",
    "import matplotlib.pyplot as plt"
   ]
  },
  {
   "cell_type": "code",
   "execution_count": 6,
   "id": "cd02eaa6-bbb7-4feb-b971-96535cfd69bb",
   "metadata": {},
   "outputs": [
    {
     "data": {
      "text/plain": [
       "['./data-queue-2023-10-18/2023-10-17-15-ackley/5-layer-128-sum-7-pytorch-lbfgs-sine-sine-True-input-size-1.parquet',\n",
       " './data-queue-2023-10-18/2023-10-17-15-ackley/2-layer-128-sum-0-pytorch-lbfgs-sine-sine-False-input-size-1.parquet',\n",
       " './data-queue-2023-10-18/2023-10-17-15-ackley/4-layer-128-sum-4-pytorch-lbfgs-sine-sine-False-input-size-1.parquet',\n",
       " './data-queue-2023-10-18/2023-10-17-15-ackley/4-layer-128-sum-5-pytorch-lbfgs-sine-sine-True-input-size-1.parquet',\n",
       " './data-queue-2023-10-18/2023-10-17-15-ackley/3-layer-128-sum-2-pytorch-lbfgs-sine-sine-False-input-size-1.parquet',\n",
       " './data-queue-2023-10-18/2023-10-17-15-ackley/5-layer-128-sum-6-pytorch-lbfgs-sine-sine-False-input-size-1.parquet',\n",
       " './data-queue-2023-10-18/2023-10-17-15-ackley/10-layer-128-sum-8-pytorch-lbfgs-sine-sine-False-input-size-1.parquet',\n",
       " './data-queue-2023-10-18/2023-10-17-15-ackley/2-layer-128-sum-1-pytorch-lbfgs-sine-sine-True-input-size-1.parquet',\n",
       " './data-queue-2023-10-18/2023-10-17-15-ackley/3-layer-128-sum-3-pytorch-lbfgs-sine-sine-True-input-size-1.parquet',\n",
       " './data-queue-2023-10-18/2023-10-17-15-ackley/10-layer-128-sum-9-pytorch-lbfgs-sine-sine-True-input-size-1.parquet']"
      ]
     },
     "execution_count": 6,
     "metadata": {},
     "output_type": "execute_result"
    }
   ],
   "source": [
    "data_path = './data-queue-2023-10-18/*/*'\n",
    "files = glob.glob(data_path)\n",
    "files[:10]"
   ]
  },
  {
   "cell_type": "code",
   "execution_count": 41,
   "id": "b2423aca-1304-4d23-a02c-4e34c38b4481",
   "metadata": {},
   "outputs": [
    {
     "data": {
      "text/html": [
       "<div>\n",
       "<style scoped>\n",
       "    .dataframe tbody tr th:only-of-type {\n",
       "        vertical-align: middle;\n",
       "    }\n",
       "\n",
       "    .dataframe tbody tr th {\n",
       "        vertical-align: top;\n",
       "    }\n",
       "\n",
       "    .dataframe thead th {\n",
       "        text-align: right;\n",
       "    }\n",
       "</style>\n",
       "<table border=\"1\" class=\"dataframe\">\n",
       "  <thead>\n",
       "    <tr style=\"text-align: right;\">\n",
       "      <th></th>\n",
       "      <th>x1</th>\n",
       "      <th>x2</th>\n",
       "      <th>f</th>\n",
       "      <th>f_initial</th>\n",
       "      <th>algorithm</th>\n",
       "      <th>total_time</th>\n",
       "      <th>input_size</th>\n",
       "      <th>hidden_size</th>\n",
       "      <th>num_layers</th>\n",
       "      <th>num_neurons</th>\n",
       "      <th>hidden_activation</th>\n",
       "      <th>output_activation</th>\n",
       "      <th>agg_function</th>\n",
       "      <th>include_bn</th>\n",
       "      <th>problem_name</th>\n",
       "      <th>global_minimum</th>\n",
       "      <th>dimensions</th>\n",
       "      <th>hits</th>\n",
       "    </tr>\n",
       "  </thead>\n",
       "  <tbody>\n",
       "    <tr>\n",
       "      <th>0</th>\n",
       "      <td>9.891555e-01</td>\n",
       "      <td>2.967259e+00</td>\n",
       "      <td>7.180952e+00</td>\n",
       "      <td>18.371942</td>\n",
       "      <td>Deeplifting-LBFGS</td>\n",
       "      <td>56.922843</td>\n",
       "      <td>1</td>\n",
       "      <td>128-128-128-128-128</td>\n",
       "      <td>5</td>\n",
       "      <td>128</td>\n",
       "      <td>sine</td>\n",
       "      <td>sine</td>\n",
       "      <td>sum</td>\n",
       "      <td>True</td>\n",
       "      <td>ackley</td>\n",
       "      <td>0.0</td>\n",
       "      <td>2</td>\n",
       "      <td>False</td>\n",
       "    </tr>\n",
       "    <tr>\n",
       "      <th>1</th>\n",
       "      <td>-1.964615e+00</td>\n",
       "      <td>9.824156e-01</td>\n",
       "      <td>5.381864e+00</td>\n",
       "      <td>20.054284</td>\n",
       "      <td>Deeplifting-LBFGS</td>\n",
       "      <td>53.429583</td>\n",
       "      <td>1</td>\n",
       "      <td>128-128-128-128-128</td>\n",
       "      <td>5</td>\n",
       "      <td>128</td>\n",
       "      <td>sine</td>\n",
       "      <td>sine</td>\n",
       "      <td>sum</td>\n",
       "      <td>True</td>\n",
       "      <td>ackley</td>\n",
       "      <td>0.0</td>\n",
       "      <td>2</td>\n",
       "      <td>False</td>\n",
       "    </tr>\n",
       "    <tr>\n",
       "      <th>2</th>\n",
       "      <td>2.486189e-11</td>\n",
       "      <td>5.287924e-08</td>\n",
       "      <td>6.701676e-08</td>\n",
       "      <td>20.613405</td>\n",
       "      <td>Deeplifting-LBFGS</td>\n",
       "      <td>159.548124</td>\n",
       "      <td>1</td>\n",
       "      <td>128-128-128-128-128</td>\n",
       "      <td>5</td>\n",
       "      <td>128</td>\n",
       "      <td>sine</td>\n",
       "      <td>sine</td>\n",
       "      <td>sum</td>\n",
       "      <td>True</td>\n",
       "      <td>ackley</td>\n",
       "      <td>0.0</td>\n",
       "      <td>2</td>\n",
       "      <td>True</td>\n",
       "    </tr>\n",
       "    <tr>\n",
       "      <th>3</th>\n",
       "      <td>-2.034547e-08</td>\n",
       "      <td>-9.521665e-01</td>\n",
       "      <td>2.579927e+00</td>\n",
       "      <td>19.387476</td>\n",
       "      <td>Deeplifting-LBFGS</td>\n",
       "      <td>58.618590</td>\n",
       "      <td>1</td>\n",
       "      <td>128-128-128-128-128</td>\n",
       "      <td>5</td>\n",
       "      <td>128</td>\n",
       "      <td>sine</td>\n",
       "      <td>sine</td>\n",
       "      <td>sum</td>\n",
       "      <td>True</td>\n",
       "      <td>ackley</td>\n",
       "      <td>0.0</td>\n",
       "      <td>2</td>\n",
       "      <td>False</td>\n",
       "    </tr>\n",
       "    <tr>\n",
       "      <th>4</th>\n",
       "      <td>3.099958e+01</td>\n",
       "      <td>-1.299982e+01</td>\n",
       "      <td>1.982764e+01</td>\n",
       "      <td>21.437639</td>\n",
       "      <td>Deeplifting-LBFGS</td>\n",
       "      <td>49.793483</td>\n",
       "      <td>1</td>\n",
       "      <td>128-128-128-128-128</td>\n",
       "      <td>5</td>\n",
       "      <td>128</td>\n",
       "      <td>sine</td>\n",
       "      <td>sine</td>\n",
       "      <td>sum</td>\n",
       "      <td>True</td>\n",
       "      <td>ackley</td>\n",
       "      <td>0.0</td>\n",
       "      <td>2</td>\n",
       "      <td>False</td>\n",
       "    </tr>\n",
       "  </tbody>\n",
       "</table>\n",
       "</div>"
      ],
      "text/plain": [
       "             x1            x2             f  f_initial          algorithm  \\\n",
       "0  9.891555e-01  2.967259e+00  7.180952e+00  18.371942  Deeplifting-LBFGS   \n",
       "1 -1.964615e+00  9.824156e-01  5.381864e+00  20.054284  Deeplifting-LBFGS   \n",
       "2  2.486189e-11  5.287924e-08  6.701676e-08  20.613405  Deeplifting-LBFGS   \n",
       "3 -2.034547e-08 -9.521665e-01  2.579927e+00  19.387476  Deeplifting-LBFGS   \n",
       "4  3.099958e+01 -1.299982e+01  1.982764e+01  21.437639  Deeplifting-LBFGS   \n",
       "\n",
       "   total_time  input_size          hidden_size  num_layers  num_neurons  \\\n",
       "0   56.922843           1  128-128-128-128-128           5          128   \n",
       "1   53.429583           1  128-128-128-128-128           5          128   \n",
       "2  159.548124           1  128-128-128-128-128           5          128   \n",
       "3   58.618590           1  128-128-128-128-128           5          128   \n",
       "4   49.793483           1  128-128-128-128-128           5          128   \n",
       "\n",
       "  hidden_activation output_activation agg_function  include_bn problem_name  \\\n",
       "0              sine              sine          sum        True       ackley   \n",
       "1              sine              sine          sum        True       ackley   \n",
       "2              sine              sine          sum        True       ackley   \n",
       "3              sine              sine          sum        True       ackley   \n",
       "4              sine              sine          sum        True       ackley   \n",
       "\n",
       "   global_minimum  dimensions   hits  \n",
       "0             0.0           2  False  \n",
       "1             0.0           2  False  \n",
       "2             0.0           2   True  \n",
       "3             0.0           2  False  \n",
       "4             0.0           2  False  "
      ]
     },
     "execution_count": 41,
     "metadata": {},
     "output_type": "execute_result"
    }
   ],
   "source": [
    "data = pd.read_parquet(files)\n",
    "data.head()"
   ]
  },
  {
   "cell_type": "code",
   "execution_count": 11,
   "id": "6b05fffe-d0ae-4602-a89a-0a4a514e4ee9",
   "metadata": {},
   "outputs": [
    {
     "data": {
      "text/plain": [
       "algorithm\n",
       "Adam                          [ackley]\n",
       "Deeplifting          [ackley2, ackley]\n",
       "Deeplifting-LBFGS             [ackley]\n",
       "Name: problem_name, dtype: object"
      ]
     },
     "execution_count": 11,
     "metadata": {},
     "output_type": "execute_result"
    }
   ],
   "source": [
    "# Let's start by just seeing what we have from the different algorithms\n",
    "data.groupby(['algorithm'])['problem_name'].unique()"
   ]
  },
  {
   "cell_type": "code",
   "execution_count": 49,
   "id": "11449347-0c77-483a-8bbe-46677bcb7d76",
   "metadata": {},
   "outputs": [],
   "source": [
    "# Let's filter the deeplifting data because\n",
    "# the others did not come close to finishing\n",
    "mask = (\n",
    "    (data['algorithm'] == 'Deeplifting')\n",
    "    & (data['problem_name'] == 'ackley')\n",
    "    & (data['include_bn'] == False)\n",
    ")\n",
    "\n",
    "dl_complexity_df = (\n",
    "    data.loc[mask]\n",
    "    .groupby(['num_layers', 'num_neurons'])['hits']\n",
    "    .mean()\n",
    "    .reset_index()\n",
    "    .pivot_table(\n",
    "        index='num_neurons',\n",
    "        columns='num_layers',\n",
    "        values='hits',\n",
    "    )\n",
    "    .sort_index(ascending=False)\n",
    ")"
   ]
  },
  {
   "cell_type": "code",
   "execution_count": 50,
   "id": "ac5e02ef-2a00-412f-9476-d0fb447ab60e",
   "metadata": {},
   "outputs": [
    {
     "data": {
      "text/plain": [
       "<Axes: xlabel='num_layers', ylabel='num_neurons'>"
      ]
     },
     "execution_count": 50,
     "metadata": {},
     "output_type": "execute_result"
    },
    {
     "data": {
      "image/png": "[encoded data removed]",
      "text/plain": [
       "<Figure size 640x480 with 2 Axes>"
      ]
     },
     "metadata": {},
     "output_type": "display_data"
    }
   ],
   "source": [
    "sns.heatmap(dl_complexity_df, cmap='viridis', annot=True)"
   ]
  },
  {
   "cell_type": "code",
   "execution_count": 44,
   "id": "2380901b-c0a4-43e9-a7b8-842ccb0aa237",
   "metadata": {},
   "outputs": [],
   "source": [
    "# What about adam?"
   ]
  },
  {
   "cell_type": "code",
   "execution_count": 45,
   "id": "6f305289-8fd8-4556-b239-0c5a039cefa6",
   "metadata": {},
   "outputs": [],
   "source": [
    "# Let's filter the deeplifting data because\n",
    "# the others did not come close to finishing\n",
    "adam_complexity_df = (\n",
    "    data.loc[data['algorithm'] == 'Adam']\n",
    "    .groupby(['num_layers', 'num_neurons'])['hits']\n",
    "    .mean()\n",
    "    .reset_index()\n",
    "    .pivot_table(\n",
    "        index='num_neurons',\n",
    "        columns='num_layers',\n",
    "        values='hits',\n",
    "    )\n",
    "    .sort_index(ascending=False)\n",
    ")"
   ]
  },
  {
   "cell_type": "code",
   "execution_count": 46,
   "id": "a9f1e308-610d-4336-8cba-22455b68c90b",
   "metadata": {},
   "outputs": [
    {
     "data": {
      "text/plain": [
       "<Axes: xlabel='num_layers', ylabel='num_neurons'>"
      ]
     },
     "execution_count": 46,
     "metadata": {},
     "output_type": "execute_result"
    },
    {
     "data": {
      "image/png": "[encoded data removed]",
      "text/plain": [
       "<Figure size 640x480 with 2 Axes>"
      ]
     },
     "metadata": {},
     "output_type": "display_data"
    }
   ],
   "source": [
    "sns.heatmap(adam_complexity_df, cmap='viridis', annot=True)"
   ]
  },
  {
   "cell_type": "code",
   "execution_count": null,
   "id": "d0b8093e-8015-4758-8a0a-922342f8223e",
   "metadata": {},
   "outputs": [],
   "source": []
  }
 ],
 "metadata": {
  "kernelspec": {
   "display_name": "deeplifting",
   "language": "python",
   "name": "deeplifting"
  },
  "language_info": {
   "codemirror_mode": {
    "name": "ipython",
    "version": 3
   },
   "file_extension": ".py",
   "mimetype": "text/x-python",
   "name": "python",
   "nbconvert_exporter": "python",
   "pygments_lexer": "ipython3",
   "version": "3.9.11"
  }
 },
 "nbformat": 4,
 "nbformat_minor": 5
}
