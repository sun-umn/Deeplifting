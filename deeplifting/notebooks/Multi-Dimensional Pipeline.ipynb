{
 "cells": [
  {
   "cell_type": "code",
   "execution_count": null,
   "id": "183666dc-3cfe-41cf-9742-93a3c74395d0",
   "metadata": {},
   "outputs": [],
   "source": [
    "%pwd\n",
    "%cd ../.."
   ]
  },
  {
   "cell_type": "code",
   "execution_count": null,
   "id": "77badb01-3067-4e86-9c38-7aa736f943d5",
   "metadata": {},
   "outputs": [],
   "source": [
    "from functools import partial\n",
    "\n",
    "import matplotlib.pyplot as plt\n",
    "import numpy as np\n",
    "import pandas as pd\n",
    "\n",
    "from deeplifting.problems import PROBLEMS_BY_NAME\n",
    "from deeplifting.optimization import (\n",
    "    run_deeplifting,\n",
    "    run_differential_evolution,\n",
    "    run_dual_annealing,\n",
    "    run_ipopt,\n",
    "    run_pygranso,\n",
    ")"
   ]
  },
  {
   "cell_type": "code",
   "execution_count": null,
   "id": "9429caff-b99d-40d1-9580-161f3f3e9212",
   "metadata": {},
   "outputs": [],
   "source": [
    "problem_name = 'mathopt6'\n",
    "problem = PROBLEMS_BY_NAME[problem_name]\n",
    "problem"
   ]
  },
  {
   "cell_type": "code",
   "execution_count": null,
   "id": "4b86fc08-f3e4-417a-bc1b-414da548762f",
   "metadata": {},
   "outputs": [],
   "source": [
    "# Run IPOPT\n",
    "outputs = run_ipopt(problem, trials=10)\n",
    "outputs"
   ]
  },
  {
   "cell_type": "code",
   "execution_count": null,
   "id": "41f2b10e-6663-4027-b260-450d500831d7",
   "metadata": {
    "scrolled": true
   },
   "outputs": [],
   "source": [
    "%%time\n",
    "# Let's add dual annealing\n",
    "outputs = run_dual_annealing(problem, trials=10)\n",
    "outputs"
   ]
  },
  {
   "cell_type": "code",
   "execution_count": null,
   "id": "4c252f0e-2d1a-4a07-9daa-f215e178f2ed",
   "metadata": {},
   "outputs": [],
   "source": [
    "%%time\n",
    "# Run differential evolution\n",
    "outputs = run_differential_evolution(problem, trials=10)\n",
    "outputs"
   ]
  },
  {
   "cell_type": "code",
   "execution_count": null,
   "id": "590c4a36-7fab-41e7-ab3d-4137ff442e7d",
   "metadata": {},
   "outputs": [],
   "source": [
    "# Run pygranso\n",
    "outputs = run_pygranso(problem, trials=10)"
   ]
  },
  {
   "cell_type": "code",
   "execution_count": null,
   "id": "cbdd8b1e-8bd4-4c15-b414-a1410c044a9c",
   "metadata": {},
   "outputs": [],
   "source": [
    "[f for _, _, f, _ in outputs['final_results']]"
   ]
  },
  {
   "cell_type": "code",
   "execution_count": null,
   "id": "dbda15f7-9b7e-4b11-9b74-f94f6e215c30",
   "metadata": {},
   "outputs": [],
   "source": [
    "# Run deeplifting\n",
    "outputs = run_deeplifting(problem, trials=10)"
   ]
  },
  {
   "cell_type": "code",
   "execution_count": null,
   "id": "5250e535-54c7-4c2c-a2ec-08a10109d476",
   "metadata": {},
   "outputs": [],
   "source": [
    "outputs"
   ]
  },
  {
   "cell_type": "code",
   "execution_count": null,
   "id": "31e86d36-742a-4028-8264-94b312d4d85e",
   "metadata": {},
   "outputs": [],
   "source": [
    "from deeplifting.problems import quantum\n",
    "import torch\n",
    "import numpy as np"
   ]
  },
  {
   "cell_type": "code",
   "execution_count": null,
   "id": "a8803713-9512-4853-9e3c-481e326e85b7",
   "metadata": {},
   "outputs": [],
   "source": [
    "results = np.zeros((1, 1, 3))\n",
    "trial = 0\n",
    "x = torch.tensor([1, 1])\n",
    "xn = np.array([1, 1])"
   ]
  },
  {
   "cell_type": "code",
   "execution_count": null,
   "id": "c4eb3720-4693-4124-b9e8-c14059b603b9",
   "metadata": {},
   "outputs": [],
   "source": [
    "quantum(x, results, trial, version='pytorch')"
   ]
  },
  {
   "cell_type": "code",
   "execution_count": null,
   "id": "56128012-8b1a-48d7-8b6e-7ae58c742113",
   "metadata": {},
   "outputs": [],
   "source": [
    "quantum(xn, results, trial)"
   ]
  },
  {
   "cell_type": "code",
   "execution_count": null,
   "id": "a018eea6-7c66-462c-b525-a1ec60bfe2ca",
   "metadata": {},
   "outputs": [],
   "source": [
    "np.array([(None, None), (None, 1)]).flatten()"
   ]
  }
 ],
 "metadata": {
  "kernelspec": {
   "display_name": "deeplifting",
   "language": "python",
   "name": "deeplifting"
  },
  "language_info": {
   "codemirror_mode": {
    "name": "ipython",
    "version": 3
   },
   "file_extension": ".py",
   "mimetype": "text/x-python",
   "name": "python",
   "nbconvert_exporter": "python",
   "pygments_lexer": "ipython3",
   "version": "3.9.16"
  }
 },
 "nbformat": 4,
 "nbformat_minor": 5
}
