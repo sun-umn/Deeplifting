{
 "cells": [
  {
   "cell_type": "code",
   "execution_count": 1,
   "id": "183666dc-3cfe-41cf-9742-93a3c74395d0",
   "metadata": {},
   "outputs": [
    {
     "name": "stdout",
     "output_type": "stream",
     "text": [
      "/Users/ryandevera/data-science/umn_environments/Deeplifting\n"
     ]
    }
   ],
   "source": [
    "%pwd\n",
    "%cd ../.."
   ]
  },
  {
   "cell_type": "code",
   "execution_count": 2,
   "id": "77badb01-3067-4e86-9c38-7aa736f943d5",
   "metadata": {},
   "outputs": [],
   "source": [
    "from functools import partial\n",
    "\n",
    "import matplotlib.pyplot as plt\n",
    "import numpy as np\n",
    "import pandas as pd\n",
    "\n",
    "from deeplifting.problems import PROBLEMS_BY_NAME\n",
    "from deeplifting.optimization import (\n",
    "    run_deeplifting,\n",
    "    run_differential_evolution,\n",
    "    run_dual_annealing,\n",
    "    run_ipopt,\n",
    "    run_pygranso,\n",
    ")"
   ]
  },
  {
   "cell_type": "code",
   "execution_count": 3,
   "id": "9429caff-b99d-40d1-9580-161f3f3e9212",
   "metadata": {},
   "outputs": [
    {
     "data": {
      "text/plain": [
       "{'objective': <function deeplifting.problems.ex8_6_2(x, results, trial, version='numpy')>,\n",
       " 'bounds': [(0, 0),\n",
       "  (-5, 5),\n",
       "  (-5, 5),\n",
       "  (-5, 5),\n",
       "  (-5, 5),\n",
       "  (-5, 5),\n",
       "  (-5, 5),\n",
       "  (-5, 5),\n",
       "  (-5, 5),\n",
       "  (-5, 5),\n",
       "  (0, 0),\n",
       "  (0, 0),\n",
       "  (-5, 5),\n",
       "  (-5, 5),\n",
       "  (-5, 5),\n",
       "  (-5, 5),\n",
       "  (-5, 5),\n",
       "  (-5, 5),\n",
       "  (-5, 5),\n",
       "  (-5, 5),\n",
       "  (0, 0),\n",
       "  (0, 0),\n",
       "  (0, 0),\n",
       "  (-5, 5),\n",
       "  (-5, 5),\n",
       "  (-5, 5),\n",
       "  (-5, 5),\n",
       "  (-5, 5),\n",
       "  (-5, 5),\n",
       "  (-5, 5)],\n",
       " 'max_iterations': 1000,\n",
       " 'global_minimum': -45,\n",
       " 'dimensions': 30}"
      ]
     },
     "execution_count": 3,
     "metadata": {},
     "output_type": "execute_result"
    }
   ],
   "source": [
    "problem_name = 'ex8_6_2'\n",
    "problem = PROBLEMS_BY_NAME[problem_name]\n",
    "problem"
   ]
  },
  {
   "cell_type": "code",
   "execution_count": 5,
   "id": "4b86fc08-f3e4-417a-bc1b-414da548762f",
   "metadata": {},
   "outputs": [],
   "source": [
    "# # Run IPOPT\n",
    "# outputs = run_ipopt(problem, trials=10)\n",
    "# outputs"
   ]
  },
  {
   "cell_type": "code",
   "execution_count": null,
   "id": "41f2b10e-6663-4027-b260-450d500831d7",
   "metadata": {},
   "outputs": [],
   "source": [
    "# # Let's add dual annealing\n",
    "# outputs = run_dual_annealing(problem, trials=10)\n",
    "# outputs"
   ]
  },
  {
   "cell_type": "code",
   "execution_count": null,
   "id": "4c252f0e-2d1a-4a07-9daa-f215e178f2ed",
   "metadata": {},
   "outputs": [],
   "source": [
    "# # Run differential evolution\n",
    "# outputs = run_differential_evolution(problem, trials=10)\n",
    "# outputs"
   ]
  },
  {
   "cell_type": "code",
   "execution_count": null,
   "id": "590c4a36-7fab-41e7-ab3d-4137ff442e7d",
   "metadata": {},
   "outputs": [],
   "source": [
    "# # Run pygranso\n",
    "# outputs = run_pygranso(problem, trials=10)"
   ]
  },
  {
   "cell_type": "code",
   "execution_count": null,
   "id": "dbda15f7-9b7e-4b11-9b74-f94f6e215c30",
   "metadata": {},
   "outputs": [],
   "source": [
    "# Run deeplifting\n",
    "outputs = run_deeplifting(problem, trials=10)"
   ]
  },
  {
   "cell_type": "code",
   "execution_count": null,
   "id": "5250e535-54c7-4c2c-a2ec-08a10109d476",
   "metadata": {},
   "outputs": [],
   "source": [
    "outputs"
   ]
  },
  {
   "cell_type": "code",
   "execution_count": null,
   "id": "e608b218-09aa-4d2f-9509-65627d11c719",
   "metadata": {},
   "outputs": [],
   "source": []
  }
 ],
 "metadata": {
  "kernelspec": {
   "display_name": "deeplifting",
   "language": "python",
   "name": "deeplifting"
  },
  "language_info": {
   "codemirror_mode": {
    "name": "ipython",
    "version": 3
   },
   "file_extension": ".py",
   "mimetype": "text/x-python",
   "name": "python",
   "nbconvert_exporter": "python",
   "pygments_lexer": "ipython3",
   "version": "3.9.11"
  }
 },
 "nbformat": 4,
 "nbformat_minor": 5
}
