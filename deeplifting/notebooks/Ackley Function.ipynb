{
 "cells": [
  {
   "cell_type": "markdown",
   "id": "3e02c3c6-8c7a-48e8-b6ff-3e6f8a51c48d",
   "metadata": {},
   "source": [
    "# Ackley Function\n",
    "\n",
    "The Ackley function is a commonly used benchmark function in the field of optimization, particularly in evolutionary and genetic algorithms. It is a non-linear, multimodal function that presents a significant challenge for optimization algorithms due to its large search space and many local optima. The function is defined over a multi-dimensional domain, typically real numbers, and it is characterized by a nearly flat outer region, and a large hole at the center. The function is used to assess the performance of optimization algorithms - if an algorithm can find the global minimum of the Ackley function, it demonstrates that the algorithm is adept at escaping local optima. The global minimum for the Ackley function is usually at the origin (0,0) where the function value is also 0, for the common case of two dimensions. However, these values would extend to more zeros as the dimensions increase. The function poses a risk for optimization algorithms, particularly hill climbing algorithms, to be trapped in one of its many local minima. $a = 20$, $b = 0.2$ and $c = 2π$.\n",
    "\n",
    "The mathematical form is given by:\n",
    "$$f(\\mathbf{x}) = -a \\exp \\left(-b \\sqrt{\\frac{1}{d} \\sum_{i=1}^d x_i^2} \\right) - \\exp \\left(\\frac{1}{d} \\sum_{i=1}^d \\cos (c x_i) \\right) + a + \\exp(1)$$\n",
    "\n",
    "## Input Domain\n",
    "The function is usually evaluated at $x_i \\in [-32.768, 32.768]$, for all $i = 1, \\ldots, d$, although it may also be restricted to a small domain.\n",
    "\n",
    "## Global Minima\n",
    "The global minimum of the function is at $f(\\textbf{x}^*) = 0$ at $x^* = (0, \\ldots, 0)$."
   ]
  },
  {
   "cell_type": "code",
   "execution_count": null,
   "id": "45712833-e939-49e5-8f35-079a667f7d6f",
   "metadata": {},
   "outputs": [],
   "source": [
    "import time\n",
    "\n",
    "import matplotlib.pyplot as plt\n",
    "import numpy as np\n",
    "import torch\n",
    "from cyipopt import minimize_ipopt\n",
    "\n",
    "from pygranso.pygranso import pygranso\n",
    "from pygranso.pygransoStruct import pygransoStruct"
   ]
  },
  {
   "cell_type": "code",
   "execution_count": null,
   "id": "96b59037-832b-4843-9902-19299d3b42c8",
   "metadata": {},
   "outputs": [],
   "source": [
    "def objective(x, y):\n",
    "    a = 20.0\n",
    "    b = 0.2\n",
    "    c = 2 * np.pi\n",
    "    return (\n",
    "        -a * np.exp(-b * np.sqrt(0.5 * (x**2 + y**2)))\n",
    "        - np.exp(0.5 * (np.cos(c * x) + np.cos(c * y)))\n",
    "        + a\n",
    "        + np.e\n",
    "    )"
   ]
  },
  {
   "cell_type": "code",
   "execution_count": null,
   "id": "d0d308ec-9772-470c-931e-515abfc7dae1",
   "metadata": {},
   "outputs": [],
   "source": [
    "# Make sure the objecive function is correct\n",
    "objective(0.0, 0.0)"
   ]
  },
  {
   "cell_type": "code",
   "execution_count": null,
   "id": "d76b7b16-ab36-4a74-8447-5eb3ec892c35",
   "metadata": {},
   "outputs": [],
   "source": [
    "# Plot the Ackley Function in 3D\n",
    "r_min, r_max = -10, 10\n",
    "x_axis = y_axis = np.arange(r_min, r_max, 0.05)\n",
    "x, y = np.meshgrid(x_axis, y_axis)\n",
    "f = objective(x, y)\n",
    "\n",
    "figure = plt.figure()\n",
    "axis = figure.add_subplot(111, projection=\"3d\")\n",
    "axis.plot_surface(x, y, f, cmap=\"jet\", shade=\"false\")\n",
    "\n",
    "# Set the title\n",
    "axis.set_title(\"Ackley Function Surface Plot\")"
   ]
  },
  {
   "cell_type": "code",
   "execution_count": null,
   "id": "32429390-2c25-48b3-981b-345e36054375",
   "metadata": {},
   "outputs": [],
   "source": [
    "# Let's also view the contours\n",
    "figure = plt.figure(figsize=(4, 4))\n",
    "plt.contour(x, y, f)"
   ]
  },
  {
   "cell_type": "markdown",
   "id": "cdaf112d-c188-4a45-8e78-5ff918742a5e",
   "metadata": {},
   "source": [
    "# `PyGranso` Solution\n",
    "\n",
    "The initial objective we've set for ourselves is to tackle the Ackley optimization problem using our proprietary software, PyGranso. The Ackley problem, known for its complexity and vast search space, offers a meaningful challenge to evaluate the efficiency and efficacy of our optimization algorithms. To begin with, we will examine the solution in a two-dimensional space, a common starting point for assessing the Ackley function. Once we have a satisfactory solution in two dimensions, we'll incrementally scale upward, expanding the problem's complexity by increasing the number of dimensions. This progressive approach will help us to thoroughly evaluate the robustness of PyGranso's solutions in higher-dimensional optimization scenarios."
   ]
  },
  {
   "cell_type": "markdown",
   "id": "45cc29fb-06d1-4c2b-81e4-be02b5e8cadf",
   "metadata": {},
   "source": [
    "## Function Set-Up\n",
    "\n",
    "Encode teh optimization variables, and the objective and constraint functions."
   ]
  },
  {
   "cell_type": "code",
   "execution_count": null,
   "id": "a5e0957d-4ee7-4eae-91f4-81709fb9e148",
   "metadata": {},
   "outputs": [],
   "source": [
    "# Setup the device\n",
    "device = torch.device(\"cpu\")\n",
    "\n",
    "# Input variables\n",
    "var_in = {\"x1\": [1], \"x2\": [1]}\n",
    "\n",
    "\n",
    "def objective(x, y):\n",
    "    a = 20.0\n",
    "    b = 0.2\n",
    "    c = 2 * np.pi\n",
    "    return (\n",
    "        -a * torch.exp(-b * torch.sqrt(0.5 * (x**2 + y**2)))\n",
    "        - torch.exp(0.5 * (torch.cos(c * x) + torch.cos(c * y)))\n",
    "        + a\n",
    "        + torch.e\n",
    "    )\n",
    "\n",
    "\n",
    "# Create the combined function\n",
    "def comb_fn(X_struct):\n",
    "    x1 = X_struct.x1\n",
    "    x2 = X_struct.x2\n",
    "\n",
    "    # Objective function\n",
    "    f = objective(x1, x2)\n",
    "\n",
    "    # Inequality constraint\n",
    "    ci = None\n",
    "\n",
    "    # equality constraint\n",
    "    ce = None\n",
    "\n",
    "    return f, ci, ce"
   ]
  },
  {
   "cell_type": "markdown",
   "id": "f636ae4a-3120-4730-b77c-382fbe21cc2b",
   "metadata": {},
   "source": [
    "## Main Algorithm"
   ]
  },
  {
   "cell_type": "code",
   "execution_count": null,
   "id": "3ed73120-588c-40fb-963b-b3664ab7b4a9",
   "metadata": {},
   "outputs": [],
   "source": [
    "# Try many different random starts\n",
    "\n",
    "for trial in range(10):\n",
    "    torch.manual_seed(trial)\n",
    "    # Setup a pygransoStruct for the algorithm\n",
    "    # options\n",
    "    opts = pygransoStruct()\n",
    "\n",
    "    # With random variables between -32, 32\n",
    "    x0 = torch.rand(size=(2, 1), device=device, dtype=torch.double) * 64 - 32\n",
    "\n",
    "    opts.x0 = x0\n",
    "    opts.torch_device = device\n",
    "\n",
    "    # Run the main algorithm\n",
    "    start = time.time()\n",
    "    soln = pygranso(var_spec=var_in, combined_fn=comb_fn, user_opts=opts)\n",
    "    end = time.time()\n",
    "\n",
    "    print(f\"Trial {trial + 1}\")\n",
    "    print(f\"Starting point for problem = {x0}\")\n",
    "    print(\"\\n\")\n",
    "    print(\"Total Wall Time: {}s\".format(end - start))\n",
    "    print(soln.final.x, soln.final.f)\n",
    "    print(\"\\n\")"
   ]
  },
  {
   "cell_type": "markdown",
   "id": "17824a43-73b9-4745-9083-5fa2232ed7fd",
   "metadata": {},
   "source": [
    "# First Observations 👀\n",
    "\n",
    "Our preliminary findings indicate that the Ackley function poses a considerable challenge for our proprietary software, PyGranso, especially when it comes to finding an easy solution from arbitrary starting points. Given the complex nature of the Ackley function with its multitude of local optima, it's not entirely surprising that PyGranso struggles to find a quick and efficient solution. However, this realization provides an impetus for further exploration and fine-tuning of our methods. In the forthcoming stages of our research, we intend to investigate more deeply and also introduce alternative optimization solvers into our toolkit. One promising candidate is IPOPT, a powerful open-source optimizer that has demonstrated efficacy in solving a wide range of complex optimization problems. By utilizing a diverse array of solvers, we aim to enhance our ability to handle complex optimization challenges such as the Ackley function."
   ]
  },
  {
   "cell_type": "code",
   "execution_count": null,
   "id": "7e968427-4079-455f-85db-4555fbdbe9ec",
   "metadata": {},
   "outputs": [],
   "source": [
    "def objective(x):\n",
    "    a = 20.0\n",
    "    b = 0.2\n",
    "    c = 2 * np.pi\n",
    "    return (\n",
    "        -a * np.exp(-b * np.sqrt(0.5 * (x[0] ** 2 + x[1] ** 2)))\n",
    "        - np.exp(0.5 * (np.cos(c * x[0]) + np.cos(c * x[1])))\n",
    "        + a\n",
    "        + np.e\n",
    "    )\n",
    "\n",
    "\n",
    "for trial in range(10):\n",
    "    np.random.seed(trial)\n",
    "    # Initial guess (starting point for IPOPT)\n",
    "    x0 = np.random.rand(2) * 64 - 32\n",
    "\n",
    "    # Call IPOPT\n",
    "    res = minimize_ipopt(objective, x0)\n",
    "\n",
    "    # Print the optimized parameters\n",
    "    print(f\"Trial {trial + 1}\")\n",
    "    print(\"Optimized Parameters:\", res.x)\n",
    "\n",
    "    # Print the minimum of the function\n",
    "    print(\"Minimum of Ackley function:\", objective(res.x))"
   ]
  },
  {
   "cell_type": "code",
   "execution_count": null,
   "id": "362ec56a-2a8f-4f4c-ab5f-412ea0f3d3d7",
   "metadata": {},
   "outputs": [],
   "source": [
    "from scipy.optimize import dual_annealing\n",
    "import numpy as np\n",
    "\n",
    "\n",
    "def ackley(x):\n",
    "    arg1 = -0.2 * np.sqrt(0.5 * (x[0] ** 2 + x[1] ** 2))\n",
    "    arg2 = 0.5 * (np.cos(2.0 * np.pi * x[0]) + np.cos(2.0 * np.pi * x[1]))\n",
    "    result = -20.0 * np.exp(arg1) - np.exp(arg2) + 20.0 + np.e\n",
    "    intermediate_values.append((x, result))  # store intermediate values\n",
    "    return result\n",
    "\n",
    "\n",
    "# Define the bounds of the solution space\n",
    "lw = [-5.0, -5.0]\n",
    "up = [5.0, 5.0]\n",
    "\n",
    "# list to store intermediate values\n",
    "intermediate_values = []\n",
    "\n",
    "# use dual_annealing to find the minimum\n",
    "ret = dual_annealing(ackley, bounds=list(zip(lw, up)), maxiter=1000)\n",
    "\n",
    "print(\"global minimum: x = [%.4f, %.4f], f(x0) = %.4f\" % (ret.x[0], ret.x[1], ret.fun))\n",
    "\n",
    "# # print intermediate values\n",
    "# for i, val in enumerate(intermediate_values):\n",
    "#     print(f\"Step {i}: x = [{val[0][0]:.4f}, {val[0][1]:.4f}], f(x) = {val[1]:.4f}\")"
   ]
  },
  {
   "cell_type": "code",
   "execution_count": null,
   "id": "2828b2eb-79de-429a-9a39-0e0b6ec1fec3",
   "metadata": {},
   "outputs": [],
   "source": [
    "import numpy as np\n",
    "import matplotlib.pyplot as plt\n",
    "from matplotlib.patches import FancyArrow\n",
    "\n",
    "\n",
    "def ackley(x, y):\n",
    "    arg1 = -0.2 * np.sqrt(0.5 * (x**2 + y**2))\n",
    "    arg2 = 0.5 * (np.cos(2.0 * np.pi * x) + np.cos(2.0 * np.pi * y))\n",
    "    return -20.0 * np.exp(arg1) - np.exp(arg2) + 20.0 + np.e\n",
    "\n",
    "\n",
    "x = np.linspace(-10, 10, 400)\n",
    "y = np.linspace(-10, 10, 400)\n",
    "X, Y = np.meshgrid(x, y)\n",
    "Z = ackley(X, Y)\n",
    "\n",
    "fig, ax = plt.subplots(figsize=(5, 5))\n",
    "\n",
    "# plot contour\n",
    "contour = ax.contour(X, Y, Z, levels=50)\n",
    "\n",
    "# # Random points for the illustration purpose\n",
    "# points = np.random.uniform(-5, 5, size=(10, 2))\n",
    "points = np.array([data for data, _ in intermediate_values][::50])\n",
    "\n",
    "# plot points and arrows\n",
    "for i in range(len(points) - 1):\n",
    "    ax.plot(*points[i], 'ro')\n",
    "\n",
    "# don't forget the last point\n",
    "ax.plot(*points[-1], 'ro')\n",
    "\n",
    "plt.show()"
   ]
  },
  {
   "cell_type": "code",
   "execution_count": null,
   "id": "a9d2167e-d79f-4a60-a662-6d3dd12650e7",
   "metadata": {},
   "outputs": [],
   "source": []
  }
 ],
 "metadata": {
  "kernelspec": {
   "display_name": "deeplifting",
   "language": "python",
   "name": "deeplifting"
  },
  "language_info": {
   "codemirror_mode": {
    "name": "ipython",
    "version": 3
   },
   "file_extension": ".py",
   "mimetype": "text/x-python",
   "name": "python",
   "nbconvert_exporter": "python",
   "pygments_lexer": "ipython3",
   "version": "3.9.11"
  }
 },
 "nbformat": 4,
 "nbformat_minor": 5
}
