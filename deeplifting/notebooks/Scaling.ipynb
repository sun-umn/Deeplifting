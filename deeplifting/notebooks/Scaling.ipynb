{
 "cells": [
  {
   "cell_type": "code",
   "execution_count": 1,
   "id": "165981ae-e913-4bee-9097-c072e3353c1c",
   "metadata": {},
   "outputs": [
    {
     "name": "stdout",
     "output_type": "stream",
     "text": [
      "/Users/ryandevera/data-science/umn_environments/Deeplifting\n"
     ]
    }
   ],
   "source": [
    "%pwd\n",
    "%cd ../.."
   ]
  },
  {
   "cell_type": "code",
   "execution_count": 2,
   "id": "0fbb5a12-5e4d-4b5a-b1cb-bbec4ff2cd78",
   "metadata": {},
   "outputs": [],
   "source": [
    "from deeplifting.models import DeepliftingSkipMLP\n",
    "from deeplifting.optimization import set_seed\n",
    "import matplotlib.pyplot as plt\n",
    "import pandas as pd\n",
    "import numpy as np\n",
    "import seaborn as sns\n",
    "import torch.nn as nn\n",
    "import matplotlib.pyplot as plt"
   ]
  },
  {
   "cell_type": "code",
   "execution_count": 37,
   "id": "37c3280c-d314-4747-b1a7-50f4491c491d",
   "metadata": {},
   "outputs": [
    {
     "name": "stdout",
     "output_type": "stream",
     "text": [
      "tensor([11.4785,  7.1925], grad_fn=<MeanBackward1>)\n",
      "tensor([ 7.1474, 13.8895], grad_fn=<MeanBackward1>)\n",
      "tensor([13.8010,  6.0762], grad_fn=<MeanBackward1>)\n",
      "tensor([13.2258, 11.4424], grad_fn=<MeanBackward1>)\n",
      "tensor([2.6649, 6.7658], grad_fn=<MeanBackward1>)\n",
      "tensor([9.7807, 0.5950], grad_fn=<MeanBackward1>)\n",
      "tensor([7.3448, 8.3850], grad_fn=<MeanBackward1>)\n",
      "tensor([ 0.0819, 12.4842], grad_fn=<MeanBackward1>)\n",
      "tensor([ 0.0435, 10.4527], grad_fn=<MeanBackward1>)\n",
      "tensor([13.6776,  9.0483], grad_fn=<MeanBackward1>)\n",
      "tensor([10.2468,  4.4712], grad_fn=<MeanBackward1>)\n",
      "tensor([10.8153, 13.8738], grad_fn=<MeanBackward1>)\n",
      "tensor([ 0.1759, 13.9828], grad_fn=<MeanBackward1>)\n",
      "tensor([13.6755,  3.9772], grad_fn=<MeanBackward1>)\n",
      "tensor([9.3147e+00, 4.1723e-07], grad_fn=<MeanBackward1>)\n",
      "tensor([ 3.6321, 12.8621], grad_fn=<MeanBackward1>)\n",
      "tensor([13.9935,  6.7280], grad_fn=<MeanBackward1>)\n",
      "tensor([6.7727, 0.0526], grad_fn=<MeanBackward1>)\n",
      "tensor([ 8.2983, 13.0774], grad_fn=<MeanBackward1>)\n",
      "tensor([4.1377, 8.4572], grad_fn=<MeanBackward1>)\n"
     ]
    }
   ],
   "source": [
    "input_size = 1\n",
    "hidden_sizes = (256,) * 3\n",
    "dimensions = 2\n",
    "bounds = [(0, 14)] * 2\n",
    "activation = 'leaky_relu'\n",
    "output_activation = 'sine'\n",
    "agg_function = 'average'\n",
    "\n",
    "# How difference are the initial seeds?\n",
    "for i in range(20):\n",
    "    model = DeepliftingSkipMLP(\n",
    "        input_size=input_size,\n",
    "        hidden_sizes=hidden_sizes,\n",
    "        output_size=dimensions,\n",
    "        bounds=bounds,\n",
    "        skip_every_n=2,\n",
    "        activation=activation,\n",
    "        output_activation=output_activation,\n",
    "        agg_function=agg_function,\n",
    "        seed=i,\n",
    "    )\n",
    "\n",
    "    outputs = model(None)\n",
    "    outputs = outputs.mean(axis=0)\n",
    "    print(outputs.flatten())"
   ]
  },
  {
   "cell_type": "code",
   "execution_count": null,
   "id": "5f7b0da1-49aa-4738-9e0b-c0f4fb417a66",
   "metadata": {},
   "outputs": [],
   "source": []
  }
 ],
 "metadata": {
  "kernelspec": {
   "display_name": "deeplifting",
   "language": "python",
   "name": "deeplifting"
  },
  "language_info": {
   "codemirror_mode": {
    "name": "ipython",
    "version": 3
   },
   "file_extension": ".py",
   "mimetype": "text/x-python",
   "name": "python",
   "nbconvert_exporter": "python",
   "pygments_lexer": "ipython3",
   "version": "3.9.11"
  }
 },
 "nbformat": 4,
 "nbformat_minor": 5
}
