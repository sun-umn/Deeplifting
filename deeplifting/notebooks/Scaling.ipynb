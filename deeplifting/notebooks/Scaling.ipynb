{
 "cells": [
  {
   "cell_type": "code",
   "execution_count": 173,
   "id": "165981ae-e913-4bee-9097-c072e3353c1c",
   "metadata": {},
   "outputs": [
    {
     "name": "stdout",
     "output_type": "stream",
     "text": [
      "/Users/ryandevera/data-science\n"
     ]
    }
   ],
   "source": [
    "%pwd\n",
    "%cd ../.."
   ]
  },
  {
   "cell_type": "code",
   "execution_count": 174,
   "id": "0fbb5a12-5e4d-4b5a-b1cb-bbec4ff2cd78",
   "metadata": {},
   "outputs": [],
   "source": [
    "from deeplifting.models import DeepliftingSkipMLP\n",
    "from deeplifting.optimization import set_seed\n",
    "import matplotlib.pyplot as plt\n",
    "import pandas as pd\n",
    "import numpy as np\n",
    "import seaborn as sns\n",
    "import torch.nn as nn\n",
    "import matplotlib.pyplot as plt"
   ]
  },
  {
   "cell_type": "code",
   "execution_count": 205,
   "id": "37c3280c-d314-4747-b1a7-50f4491c491d",
   "metadata": {},
   "outputs": [],
   "source": [
    "input_size = 512\n",
    "hidden_sizes = (128, 128)\n",
    "dimensions = 2\n",
    "bounds = [(-10, 10), (-10, 10)]\n",
    "activation = 'sine'\n",
    "output_activation = 'sine'\n",
    "agg_function = 'sum'\n",
    "trial = 1\n",
    "\n",
    "model = DeepliftingSkipMLP(\n",
    "    input_size=input_size,\n",
    "    hidden_sizes=hidden_sizes,\n",
    "    output_size=dimensions,\n",
    "    bounds=bounds,\n",
    "    skip_every_n=1,\n",
    "    activation=activation,\n",
    "    output_activation=output_activation,\n",
    "    agg_function=agg_function,\n",
    "    seed=trial,\n",
    ")"
   ]
  },
  {
   "cell_type": "code",
   "execution_count": 206,
   "id": "547e6d96-db2a-4e6b-8e34-a51474dd42f3",
   "metadata": {},
   "outputs": [],
   "source": [
    "outputs1 = model(None)"
   ]
  },
  {
   "cell_type": "code",
   "execution_count": 207,
   "id": "3c31d5c9-0f9c-4f99-9083-b34a13df10e2",
   "metadata": {},
   "outputs": [],
   "source": [
    "outputs1 = pd.Series(outputs1[:, 0].detach().numpy())"
   ]
  },
  {
   "cell_type": "code",
   "execution_count": 208,
   "id": "aa4b5d02-0e47-4909-905a-923fc821fc27",
   "metadata": {},
   "outputs": [
    {
     "data": {
      "text/plain": [
       "count    512.000000\n",
       "mean       0.124701\n",
       "std        0.188738\n",
       "min       -0.442842\n",
       "25%       -0.012376\n",
       "50%        0.125912\n",
       "75%        0.256332\n",
       "max        0.697482\n",
       "dtype: float64"
      ]
     },
     "execution_count": 208,
     "metadata": {},
     "output_type": "execute_result"
    }
   ],
   "source": [
    "outputs1.describe()"
   ]
  },
  {
   "cell_type": "code",
   "execution_count": 214,
   "id": "3a1e21ce-84c6-4478-9dfb-eab2ee0fa6a3",
   "metadata": {},
   "outputs": [
    {
     "data": {
      "image/png": "[encoded data removed]",
      "text/plain": [
       "<Figure size 500x200 with 2 Axes>"
      ]
     },
     "metadata": {},
     "output_type": "display_data"
    }
   ],
   "source": [
    "fig, (ax1, ax2) = plt.subplots(1, 2, figsize=(5, 2))\n",
    "\n",
    "# Get the neural network outputs before scaling\n",
    "sns.histplot(outputs1, ax=ax1)\n",
    "ax1.set_title('Outputs Before Scaling', fontsize=11)\n",
    "# ax1.axvline(-np.pi / 2.0, color='r')\n",
    "# ax1.axvline(np.pi / 2.0, color='r')\n",
    "\n",
    "# Get the neural network outputs after scaling\n",
    "a, b = -10, 10\n",
    "outputs1_scale = a + (b - a) / 2.0 * (outputs1.apply(np.sin) + 1)\n",
    "\n",
    "sns.histplot(outputs1_scale, ax=ax2, color='orange')\n",
    "ax2.set_title('Outputs After Scaling (Sine)', fontsize=11)\n",
    "\n",
    "fig.tight_layout()\n",
    "# fig.savefig(\n",
    "#     '/Users/ryandevera/data-science/umn_environments/Deeplifting'\n",
    "#     f'/images/scaling.png',\n",
    "#     bbox_inches='tight',\n",
    "#     pad_inches=0.01,\n",
    "# )"
   ]
  },
  {
   "cell_type": "code",
   "execution_count": 213,
   "id": "ff546514-e97a-4a95-a114-abce11d6bc52",
   "metadata": {},
   "outputs": [
    {
     "data": {
      "text/plain": [
       "count    512.000000\n",
       "mean       3.839667\n",
       "std        5.790305\n",
       "min      -13.462015\n",
       "25%       -0.388791\n",
       "50%        3.945194\n",
       "75%        7.964994\n",
       "max       20.178125\n",
       "dtype: float64"
      ]
     },
     "execution_count": 213,
     "metadata": {},
     "output_type": "execute_result"
    }
   ],
   "source": [
    "outputs1_scale.describe()"
   ]
  },
  {
   "cell_type": "code",
   "execution_count": 106,
   "id": "ec96f67e-f4b3-4c0d-80e6-15a316d09904",
   "metadata": {},
   "outputs": [
    {
     "data": {
      "text/plain": [
       "count    5.120000e+02\n",
       "mean    -1.553658e+06\n",
       "std      1.255897e+07\n",
       "min     -2.423190e+08\n",
       "25%     -1.666130e+05\n",
       "50%     -1.490147e+04\n",
       "75%     -1.587660e+03\n",
       "max     -1.620753e+00\n",
       "dtype: float64"
      ]
     },
     "execution_count": 106,
     "metadata": {},
     "output_type": "execute_result"
    }
   ],
   "source": [
    "np.sinh(outputs1_scale).describe()"
   ]
  },
  {
   "cell_type": "code",
   "execution_count": 107,
   "id": "6e7b563d-adc0-45d6-b009-557565f2ec81",
   "metadata": {},
   "outputs": [
    {
     "data": {
      "text/plain": [
       "74.20321057778875"
      ]
     },
     "execution_count": 107,
     "metadata": {},
     "output_type": "execute_result"
    }
   ],
   "source": [
    "np.sinh(5)"
   ]
  },
  {
   "cell_type": "code",
   "execution_count": null,
   "id": "1f82942f-5fe3-4a95-ad99-a0357022b874",
   "metadata": {},
   "outputs": [],
   "source": [
    "(\n",
    "    -20 * exp(-0.2 * sqrt(0.5 * (x**2 + y**2)))\n",
    "    - exp(0.5 * (cos(2 * pi * x) + cos(2 * pi * y)))\n",
    "    + exp(1)\n",
    "    + 20\n",
    ")"
   ]
  },
  {
   "cell_type": "code",
   "execution_count": 166,
   "id": "380bb249-9b03-422a-b5b0-4a6b47c30e57",
   "metadata": {},
   "outputs": [
    {
     "name": "stdout",
     "output_type": "stream",
     "text": [
      "Ipopt 3.14.12: \n",
      "\n",
      "******************************************************************************\n",
      "This program contains Ipopt, a library for large-scale nonlinear optimization.\n",
      " Ipopt is released as open source code under the Eclipse Public License (EPL).\n",
      "         For more information visit https://github.com/coin-or/Ipopt\n",
      "******************************************************************************\n",
      "\n",
      "This is Ipopt version 3.14.12, running with linear solver MUMPS 5.5.1.\n",
      "\n",
      "Number of nonzeros in equality constraint Jacobian...:        0\n",
      "Number of nonzeros in inequality constraint Jacobian.:        0\n",
      "Number of nonzeros in Lagrangian Hessian.............:        3\n",
      "\n",
      "Total number of variables............................:        2\n",
      "                     variables with only lower bounds:        0\n",
      "                variables with lower and upper bounds:        2\n",
      "                     variables with only upper bounds:        0\n",
      "Total number of equality constraints.................:        0\n",
      "Total number of inequality constraints...............:        0\n",
      "        inequality constraints with only lower bounds:        0\n",
      "   inequality constraints with lower and upper bounds:        0\n",
      "        inequality constraints with only upper bounds:        0\n",
      "\n",
      "iter    objective    inf_pr   inf_du lg(mu)  ||d||  lg(rg) alpha_du alpha_pr  ls\n",
      "   0  8.6405858e+00 0.00e+00 1.61e+00  -1.0 0.00e+00    -  0.00e+00 0.00e+00   0\n",
      "   1  8.6162561e+00 0.00e+00 2.38e-02  -1.0 3.00e-02    -  9.92e-01 1.00e+00f  1\n",
      "   2  8.6162500e+00 0.00e+00 1.86e-05  -1.7 4.90e-04    -  1.00e+00 1.00e+00f  1\n",
      "   3  8.6162500e+00 0.00e+00 5.69e-10  -3.8 2.69e-06    -  1.00e+00 1.00e+00f  1\n",
      "   4  8.6162500e+00 0.00e+00 1.70e-14  -5.7 2.29e-08    -  1.00e+00 1.00e+00f  1\n",
      "   5  8.6162500e+00 0.00e+00 2.80e-14  -8.6 2.84e-10    -  1.00e+00 1.00e+00f  1\n",
      "\n",
      "Number of Iterations....: 5\n",
      "\n",
      "                                   (scaled)                 (unscaled)\n",
      "Objective...............:   8.6162500440894441e+00    8.6162500440894441e+00\n",
      "Dual infeasibility......:   2.7976512910263867e-14    2.7976512910263867e-14\n",
      "Constraint violation....:   0.0000000000000000e+00    0.0000000000000000e+00\n",
      "Variable bound violation:   0.0000000000000000e+00    0.0000000000000000e+00\n",
      "Complementarity.........:   2.5059035783780527e-09    2.5059035783780527e-09\n",
      "Overall NLP error.......:   2.5059035783780527e-09    2.5059035783780527e-09\n",
      "\n",
      "\n",
      "Number of objective function evaluations             = 6\n",
      "Number of objective gradient evaluations             = 6\n",
      "Number of equality constraint evaluations            = 0\n",
      "Number of inequality constraint evaluations          = 0\n",
      "Number of equality constraint Jacobian evaluations   = 0\n",
      "Number of inequality constraint Jacobian evaluations = 0\n",
      "Number of Lagrangian Hessian evaluations             = 5\n",
      "Total seconds in IPOPT                               = 0.004\n",
      "\n",
      "EXIT: Optimal Solution Found.\n",
      "\bResults:\n",
      "x = -3.969466743351685\n",
      "y = 0.0\n",
      "Objective = 8.616250044089444\n"
     ]
    }
   ],
   "source": [
    "from pyomo.environ import (\n",
    "    ConcreteModel,\n",
    "    Var,\n",
    "    Objective,\n",
    "    Constraint,\n",
    "    SolverFactory,\n",
    "    minimize,\n",
    "    Reals,\n",
    ")\n",
    "from pyomo.environ import exp, sqrt, cos\n",
    "import numpy as np\n",
    "\n",
    "model = m = ConcreteModel()\n",
    "\n",
    "# Define variables\n",
    "m.x1 = Var(within=Reals, bounds=(-32, 32), initialize=-4.0)\n",
    "m.x2 = Var(within=Reals, bounds=(-32, 32), initialize=0.0)\n",
    "\n",
    "\n",
    "# Define objective (Ackley function)\n",
    "def ackley(m):\n",
    "    x = m.x1\n",
    "    y = m.x2\n",
    "    result = (\n",
    "        -20 * exp(-0.2 * sqrt(0.5 * (x**2 + y**2) + 1e-10))\n",
    "        - exp(0.5 * (cos(2 * np.pi * x) + cos(2 * np.pi * y)))\n",
    "        + exp(1)\n",
    "        + 20\n",
    "    )\n",
    "    return result\n",
    "\n",
    "\n",
    "model.obj = Objective(expr=ackley, sense=minimize)\n",
    "\n",
    "# Create a solver\n",
    "solver = SolverFactory('ipopt')\n",
    "\n",
    "# Solve the model\n",
    "solver.solve(model, tee=True)\n",
    "\n",
    "# Print the results\n",
    "print(\"Results:\")\n",
    "print(\"x =\", model.x1())\n",
    "print(\"y =\", model.x2())\n",
    "print(\"Objective =\", model.obj())"
   ]
  },
  {
   "cell_type": "code",
   "execution_count": 167,
   "id": "03d43f6b-6934-4a61-b98b-8f825e073544",
   "metadata": {},
   "outputs": [],
   "source": [
    "from jax.config import config\n",
    "\n",
    "# Enable 64 bit floating point precision\n",
    "config.update(\"jax_enable_x64\", True)\n",
    "\n",
    "# We use the CPU instead of GPU und mute all warnings if no GPU/TPU is found.\n",
    "config.update('jax_platform_name', 'cpu')\n",
    "\n",
    "import jax.numpy as np\n",
    "from jax import jit, grad, jacfwd, jacrev\n",
    "from cyipopt import minimize_ipopt"
   ]
  },
  {
   "cell_type": "code",
   "execution_count": 172,
   "id": "dfccb125-bf1c-4041-a447-77607e80e1fd",
   "metadata": {},
   "outputs": [
    {
     "name": "stdout",
     "output_type": "stream",
     "text": [
      "[ 3.19904179 14.10265031]\n",
      "This is Ipopt version 3.14.12, running with linear solver MUMPS 5.5.1.\n",
      "\n",
      "Number of nonzeros in equality constraint Jacobian...:        0\n",
      "Number of nonzeros in inequality constraint Jacobian.:        0\n",
      "Number of nonzeros in Lagrangian Hessian.............:        0\n",
      "\n",
      "Total number of variables............................:        2\n",
      "                     variables with only lower bounds:        0\n",
      "                variables with lower and upper bounds:        2\n",
      "                     variables with only upper bounds:        0\n",
      "Total number of equality constraints.................:        0\n",
      "Total number of inequality constraints...............:        0\n",
      "        inequality constraints with only lower bounds:        0\n",
      "   inequality constraints with lower and upper bounds:        0\n",
      "        inequality constraints with only upper bounds:        0\n",
      "\n",
      "iter    objective    inf_pr   inf_du lg(mu)  ||d||  lg(rg) alpha_du alpha_pr  ls\n",
      "   0  1.8385596e+01 0.00e+00 5.29e+00   0.0 0.00e+00    -  0.00e+00 0.00e+00   0\n",
      "   1  1.7572354e+01 0.00e+00 1.80e+00   0.7 5.01e+00    -  9.95e-01 1.00e+00f  1\n",
      "   2  1.7311092e+01 0.00e+00 6.70e-01  -1.4 3.36e+00    -  9.89e-01 6.25e-02f  5\n",
      "   3  1.6226048e+01 0.00e+00 4.37e+00  -2.6 3.17e-01    -  9.93e-01 1.00e+00f  1\n",
      "   4  1.6039872e+01 0.00e+00 3.63e+00  -3.8 2.16e+00    -  1.00e+00 6.25e-02f  5\n",
      "   5  1.6016032e+01 0.00e+00 3.19e+00  -5.3 2.76e-01    -  1.00e+00 5.00e-01f  2\n",
      "   6  1.5884137e+01 0.00e+00 4.72e-01  -7.0 6.40e-02    -  1.00e+00 1.00e+00f  1\n",
      "   7  1.5882120e+01 0.00e+00 8.64e-02  -8.9 1.05e-02    -  1.00e+00 1.00e+00f  1\n",
      "   8  1.5882024e+01 0.00e+00 5.64e-03 -10.7 1.62e-03    -  1.00e+00 1.00e+00f  1\n",
      "   9  1.5882023e+01 0.00e+00 4.02e-04 -11.0 1.13e-04    -  1.00e+00 1.00e+00f  1\n",
      "iter    objective    inf_pr   inf_du lg(mu)  ||d||  lg(rg) alpha_du alpha_pr  ls\n",
      "  10  1.5882023e+01 0.00e+00 5.73e-06 -11.0 7.48e-06    -  1.00e+00 1.00e+00f  1\n",
      "  11  1.5882023e+01 0.00e+00 4.35e-08 -11.0 1.08e-07    -  1.00e+00 1.00e+00f  1\n",
      "  12  1.5882023e+01 0.00e+00 7.47e-11 -11.0 8.17e-10    -  1.00e+00 1.00e+00f  1\n",
      "\n",
      "Number of Iterations....: 12\n",
      "\n",
      "                                   (scaled)                 (unscaled)\n",
      "Objective...............:   1.5882023366985697e+01    1.5882023366985697e+01\n",
      "Dual infeasibility......:   7.4715660762904857e-11    7.4715660762904857e-11\n",
      "Constraint violation....:   0.0000000000000000e+00    0.0000000000000000e+00\n",
      "Variable bound violation:   0.0000000000000000e+00    0.0000000000000000e+00\n",
      "Complementarity.........:   1.0000000000000003e-11    1.0000000000000003e-11\n",
      "Overall NLP error.......:   7.4715660762904857e-11    7.4715660762904857e-11\n",
      "\n",
      "\n",
      "Number of objective function evaluations             = 34\n",
      "Number of objective gradient evaluations             = 13\n",
      "Number of equality constraint evaluations            = 0\n",
      "Number of inequality constraint evaluations          = 0\n",
      "Number of equality constraint Jacobian evaluations   = 0\n",
      "Number of inequality constraint Jacobian evaluations = 0\n",
      "Number of Lagrangian Hessian evaluations             = 0\n",
      "Total seconds in IPOPT                               = 0.119\n",
      "\n",
      "EXIT: Optimal Solution Found.\n"
     ]
    }
   ],
   "source": [
    "# third party\n",
    "import jax.numpy as np\n",
    "import pandas as pd\n",
    "from cyipopt import minimize_ipopt\n",
    "\n",
    "# first party\n",
    "from deeplifting.utils import (\n",
    "    initialize_vector,\n",
    "    set_seed,\n",
    ")\n",
    "from deeplifting.problems import PROBLEMS_BY_NAME\n",
    "\n",
    "problem = PROBLEMS_BY_NAME['ackley']\n",
    "trials = 1\n",
    "trial = 0\n",
    "\n",
    "\n",
    "def objective(x):\n",
    "    \"\"\"\n",
    "    Function that implements the Ackley function in\n",
    "    numpy or pytorch. We will use this for our deeplifting experiments.\n",
    "    Note, that this version is the 2-D version only.\n",
    "    \"\"\"\n",
    "    a = 20\n",
    "    b = 0.2\n",
    "    c = 2 * np.pi\n",
    "\n",
    "    # sum_sq_term = -a * np.exp(-b * np.sqrt(0.5 * (x[0]**2 + x[1]**2)))\n",
    "    # cos_term = -np.exp(0.5 * (np.cos(c * x[0]) + np.cos(c * x[1])))\n",
    "    # result = sum_sq_term + cos_term + a + np.exp(1)\n",
    "\n",
    "    return (\n",
    "        -a * np.exp(-b * np.sqrt(0.5 * (x[0] ** 2 + x[1] ** 2) + 1e-10))\n",
    "        + -np.exp(0.5 * (np.cos(c * x[0]) + np.cos(c * x[1])))\n",
    "        + a\n",
    "        + np.exp(1)\n",
    "    )\n",
    "\n",
    "\n",
    "# jit the functions\n",
    "obj_jit = jit(objective)\n",
    "\n",
    "# build the derivatives and jit them\n",
    "obj_grad = jit(grad(obj_jit))  # objective gradient\n",
    "obj_hess = jit(jacrev(jacfwd(obj_jit)))  # objective hessian\n",
    "\n",
    "# Get the maximum iterations\n",
    "max_iterations = problem['max_iterations']\n",
    "\n",
    "# Get dimensions of the problem\n",
    "dimensions = problem['dimensions']\n",
    "\n",
    "# Get the bounds of the problem\n",
    "if dimensions <= 2:\n",
    "    bounds = problem['bounds']\n",
    "else:\n",
    "    bounds = problem['bounds']\n",
    "\n",
    "    if len(bounds) > 1:\n",
    "        bounds = bounds\n",
    "\n",
    "    else:\n",
    "        bounds = bounds * dimensions\n",
    "\n",
    "set_seed(0)\n",
    "\n",
    "# Initial guess (starting point for IPOPT)\n",
    "# TODO: Need to provide a better starting point here\n",
    "x0 = initialize_vector(size=dimensions, bounds=bounds)\n",
    "print(x0)\n",
    "\n",
    "# Call IPOPT\n",
    "result = minimize_ipopt(\n",
    "    obj_jit,\n",
    "    jac=obj_grad,\n",
    "    # hess=obj_hess,\n",
    "    x0=x0,\n",
    "    bounds=bounds,\n",
    "    options={'disp': 5},\n",
    ")"
   ]
  },
  {
   "cell_type": "code",
   "execution_count": null,
   "id": "11132634-476e-406b-b351-511a4ce9a875",
   "metadata": {},
   "outputs": [],
   "source": []
  },
  {
   "cell_type": "code",
   "execution_count": 215,
   "id": "637fa98c-f5d4-41d0-8e42-59f9f828851d",
   "metadata": {},
   "outputs": [
    {
     "data": {
      "image/png": "[encoded data removed]",
      "text/plain": [
       "<Figure size 640x480 with 1 Axes>"
      ]
     },
     "metadata": {},
     "output_type": "display_data"
    }
   ],
   "source": [
    "import numpy as np\n",
    "import matplotlib.pyplot as plt\n",
    "import matplotlib.cm as cm\n",
    "\n",
    "# Example trajectory (for illustration purposes)\n",
    "trajectory = np.array(\n",
    "    [[np.cos(theta), np.sin(theta)] for theta in np.linspace(0, 2 * np.pi, 100)]\n",
    ")\n",
    "\n",
    "# Create a colormap\n",
    "colors = cm.viridis(np.linspace(0, 1, len(trajectory)))\n",
    "\n",
    "fig, ax = plt.subplots()\n",
    "\n",
    "# Plot each point in the trajectory with a color from the colormap\n",
    "for i, point in enumerate(trajectory):\n",
    "    ax.plot(point[0], point[1], 'o', color=colors[i])\n",
    "\n",
    "plt.show()"
   ]
  },
  {
   "cell_type": "code",
   "execution_count": 216,
   "id": "160fcaa8-3a3c-4a39-adba-3616e23f02f3",
   "metadata": {},
   "outputs": [],
   "source": [
    "import matplotlib.cm as cm"
   ]
  },
  {
   "cell_type": "code",
   "execution_count": 250,
   "id": "2f316e2f-5cd3-4603-95ac-ada76a88ca33",
   "metadata": {},
   "outputs": [
    {
     "data": {
      "text/plain": [
       "-8.092672019884446e+37"
      ]
     },
     "execution_count": 250,
     "metadata": {},
     "output_type": "execute_result"
    }
   ],
   "source": [
    "x1, x2 = 1.99999999, 2.01\n",
    "y1, y2 = np.pi * (x1 - 2), np.pi * (x2 - 2)\n",
    "(1 - abs(np.sin(y1) * np.sin(y2) / ((y1 * y2)) ** 5)) * (\n",
    "    2 + (x1 - 7) ** 2 + 2 * (x2 - 7) ** 2\n",
    ")"
   ]
  },
  {
   "cell_type": "code",
   "execution_count": null,
   "id": "41ebbb5a-2dc8-402b-b0f4-9dd7fc91b598",
   "metadata": {},
   "outputs": [],
   "source": []
  }
 ],
 "metadata": {
  "kernelspec": {
   "display_name": "deeplifting",
   "language": "python",
   "name": "deeplifting"
  },
  "language_info": {
   "codemirror_mode": {
    "name": "ipython",
    "version": 3
   },
   "file_extension": ".py",
   "mimetype": "text/x-python",
   "name": "python",
   "nbconvert_exporter": "python",
   "pygments_lexer": "ipython3",
   "version": "3.9.11"
  }
 },
 "nbformat": 4,
 "nbformat_minor": 5
}
