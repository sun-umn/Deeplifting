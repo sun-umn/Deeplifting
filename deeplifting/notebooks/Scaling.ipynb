{
 "cells": [
  {
   "cell_type": "code",
   "execution_count": 1,
   "id": "165981ae-e913-4bee-9097-c072e3353c1c",
   "metadata": {},
   "outputs": [
    {
     "name": "stdout",
     "output_type": "stream",
     "text": [
      "/Users/ryandevera/data-science/umn_environments/Deeplifting\n"
     ]
    }
   ],
   "source": [
    "%pwd\n",
    "%cd ../.."
   ]
  },
  {
   "cell_type": "code",
   "execution_count": 15,
   "id": "0fbb5a12-5e4d-4b5a-b1cb-bbec4ff2cd78",
   "metadata": {},
   "outputs": [],
   "source": [
    "from deeplifting.models import DeepliftingSkipMLP\n",
    "from deeplifting.optimization import set_seed\n",
    "import matplotlib.pyplot as plt\n",
    "import pandas as pd\n",
    "import numpy as np\n",
    "import seaborn as sns\n",
    "import torch.nn as nn\n",
    "import matplotlib.pyplot as plt"
   ]
  },
  {
   "cell_type": "code",
   "execution_count": 75,
   "id": "37c3280c-d314-4747-b1a7-50f4491c491d",
   "metadata": {},
   "outputs": [],
   "source": [
    "model = DeepliftingSkipMLP(input_size=512, output_size=2, n=512)"
   ]
  },
  {
   "cell_type": "code",
   "execution_count": 76,
   "id": "547e6d96-db2a-4e6b-8e34-a51474dd42f3",
   "metadata": {},
   "outputs": [],
   "source": [
    "outputs1, outputs2 = model(None)"
   ]
  },
  {
   "cell_type": "code",
   "execution_count": 77,
   "id": "3c31d5c9-0f9c-4f99-9083-b34a13df10e2",
   "metadata": {},
   "outputs": [],
   "source": [
    "outputs1 = pd.Series(outputs1[:, 0].detach().numpy())"
   ]
  },
  {
   "cell_type": "code",
   "execution_count": 78,
   "id": "aa4b5d02-0e47-4909-905a-923fc821fc27",
   "metadata": {},
   "outputs": [
    {
     "data": {
      "text/plain": [
       "count    512.000000\n",
       "mean       0.127735\n",
       "std        0.335212\n",
       "min       -1.059084\n",
       "25%       -0.070468\n",
       "50%        0.131793\n",
       "75%        0.359620\n",
       "max        1.002744\n",
       "dtype: float64"
      ]
     },
     "execution_count": 78,
     "metadata": {},
     "output_type": "execute_result"
    }
   ],
   "source": [
    "outputs1.describe()"
   ]
  },
  {
   "cell_type": "code",
   "execution_count": 47,
   "id": "3a1e21ce-84c6-4478-9dfb-eab2ee0fa6a3",
   "metadata": {},
   "outputs": [
    {
     "data": {
      "image/png": "[encoded data removed]",
      "text/plain": [
       "<Figure size 500x200 with 2 Axes>"
      ]
     },
     "metadata": {},
     "output_type": "display_data"
    }
   ],
   "source": [
    "fig, (ax1, ax2) = plt.subplots(1, 2, figsize=(5, 2))\n",
    "\n",
    "# Get the neural network outputs before scaling\n",
    "sns.histplot(outputs1, ax=ax1)\n",
    "ax1.set_title('Outputs Before Scaling', fontsize=11)\n",
    "ax1.axvline(-np.pi / 2.0, color='r')\n",
    "ax1.axvline(np.pi / 2.0, color='r')\n",
    "\n",
    "# Get the neural network outputs after scaling\n",
    "a, b = -10.0, 10.0\n",
    "outputs1_scale = a + (b - a) / 2.0 * (outputs1.apply(np.sin) + 1)\n",
    "sns.histplot(outputs1_scale, ax=ax2, color='orange')\n",
    "ax2.set_title('Outputs After Scaling (Sine)', fontsize=11)\n",
    "\n",
    "fig.tight_layout()\n",
    "fig.savefig(\n",
    "    '/Users/ryandevera/data-science/umn_environments/Deeplifting'\n",
    "    f'/images/scaling.png',\n",
    "    bbox_inches='tight',\n",
    "    pad_inches=0.01,\n",
    ")"
   ]
  },
  {
   "cell_type": "code",
   "execution_count": 55,
   "id": "71813b96-deed-4412-a7e4-6148ddb889c4",
   "metadata": {},
   "outputs": [
    {
     "data": {
      "text/plain": [
       "<Axes: >"
      ]
     },
     "execution_count": 55,
     "metadata": {},
     "output_type": "execute_result"
    },
    {
     "data": {
      "image/png": "[encoded data removed]",
      "text/plain": [
       "<Figure size 640x480 with 1 Axes>"
      ]
     },
     "metadata": {},
     "output_type": "display_data"
    }
   ],
   "source": [
    "outputs1.apply(lambda x: 1 / (1 + np.exp(-x * 5))).hist()"
   ]
  },
  {
   "cell_type": "code",
   "execution_count": 83,
   "id": "d8dfc8d0-ac8d-47c4-9263-76cca3a1d56b",
   "metadata": {},
   "outputs": [
    {
     "data": {
      "text/plain": [
       "count    5.120000e+02\n",
       "mean    -9.069004e+19\n",
       "std               inf\n",
       "min     -4.973882e+22\n",
       "25%     -1.733240e+01\n",
       "50%      3.639210e+02\n",
       "75%      3.221198e+07\n",
       "max      2.973519e+21\n",
       "dtype: float64"
      ]
     },
     "execution_count": 83,
     "metadata": {},
     "output_type": "execute_result"
    }
   ],
   "source": [
    "(outputs1 * 50).apply(np.sinh).describe()"
   ]
  },
  {
   "cell_type": "code",
   "execution_count": 67,
   "id": "ef53ead7-4984-4af1-b133-996e1c3bb3eb",
   "metadata": {},
   "outputs": [
    {
     "data": {
      "text/plain": [
       "-2.592352764293536e+21"
      ]
     },
     "execution_count": 67,
     "metadata": {},
     "output_type": "execute_result"
    }
   ],
   "source": [
    "np.sinh(-50)"
   ]
  },
  {
   "cell_type": "code",
   "execution_count": null,
   "id": "ec96f67e-f4b3-4c0d-80e6-15a316d09904",
   "metadata": {},
   "outputs": [],
   "source": []
  }
 ],
 "metadata": {
  "kernelspec": {
   "display_name": "deeplifting",
   "language": "python",
   "name": "deeplifting"
  },
  "language_info": {
   "codemirror_mode": {
    "name": "ipython",
    "version": 3
   },
   "file_extension": ".py",
   "mimetype": "text/x-python",
   "name": "python",
   "nbconvert_exporter": "python",
   "pygments_lexer": "ipython3",
   "version": "3.9.11"
  }
 },
 "nbformat": 4,
 "nbformat_minor": 5
}
