{
 "cells": [
  {
   "cell_type": "code",
   "execution_count": 1,
   "id": "165981ae-e913-4bee-9097-c072e3353c1c",
   "metadata": {},
   "outputs": [
    {
     "name": "stdout",
     "output_type": "stream",
     "text": [
      "/Users/ryandevera/data-science/umn_environments/Deeplifting\n"
     ]
    }
   ],
   "source": [
    "%pwd\n",
    "%cd ../.."
   ]
  },
  {
   "cell_type": "code",
   "execution_count": 2,
   "id": "0fbb5a12-5e4d-4b5a-b1cb-bbec4ff2cd78",
   "metadata": {},
   "outputs": [],
   "source": [
    "from deeplifting.models import DeepliftingSkipMLP\n",
    "from deeplifting.optimization import set_seed\n",
    "import matplotlib.pyplot as plt\n",
    "import pandas as pd\n",
    "import numpy as np\n",
    "import seaborn as sns\n",
    "import torch.nn as nn\n",
    "import matplotlib.pyplot as plt"
   ]
  },
  {
   "cell_type": "code",
   "execution_count": 9,
   "id": "37c3280c-d314-4747-b1a7-50f4491c491d",
   "metadata": {},
   "outputs": [],
   "source": [
    "input_size = 1\n",
    "hidden_sizes = (128, 128)\n",
    "dimensions = 2\n",
    "bounds = [(-512, 512), (-512, 512)]\n",
    "activation = 'sine'\n",
    "output_activation = 'sine'\n",
    "agg_function = 'sum'\n",
    "trial = 12\n",
    "\n",
    "model = DeepliftingSkipMLP(\n",
    "    input_size=input_size,\n",
    "    hidden_sizes=hidden_sizes,\n",
    "    output_size=dimensions,\n",
    "    bounds=bounds,\n",
    "    skip_every_n=1,\n",
    "    activation=activation,\n",
    "    output_activation=output_activation,\n",
    "    agg_function=agg_function,\n",
    "    seed=trial,\n",
    ")"
   ]
  },
  {
   "cell_type": "code",
   "execution_count": 13,
   "id": "4ccc1367-eff3-478f-8d26-4ea1cf3ef160",
   "metadata": {},
   "outputs": [
    {
     "data": {
      "text/plain": [
       "tensor([-1.3470])"
      ]
     },
     "execution_count": 13,
     "metadata": {},
     "output_type": "execute_result"
    }
   ],
   "source": [
    "import torch\n",
    "\n",
    "torch.randn(1)"
   ]
  },
  {
   "cell_type": "code",
   "execution_count": 10,
   "id": "547e6d96-db2a-4e6b-8e34-a51474dd42f3",
   "metadata": {},
   "outputs": [
    {
     "data": {
      "text/plain": [
       "tensor([[  21.3318, -102.8344]], grad_fn=<StackBackward0>)"
      ]
     },
     "execution_count": 10,
     "metadata": {},
     "output_type": "execute_result"
    }
   ],
   "source": [
    "outputs1 = model(None)\n",
    "outputs1"
   ]
  },
  {
   "cell_type": "code",
   "execution_count": null,
   "id": "3c31d5c9-0f9c-4f99-9083-b34a13df10e2",
   "metadata": {},
   "outputs": [],
   "source": [
    "outputs1 = pd.Series(outputs1[:, 0].detach().numpy())"
   ]
  },
  {
   "cell_type": "code",
   "execution_count": null,
   "id": "aa4b5d02-0e47-4909-905a-923fc821fc27",
   "metadata": {},
   "outputs": [],
   "source": [
    "outputs1.describe()"
   ]
  },
  {
   "cell_type": "code",
   "execution_count": null,
   "id": "3a1e21ce-84c6-4478-9dfb-eab2ee0fa6a3",
   "metadata": {},
   "outputs": [],
   "source": [
    "fig, (ax1, ax2) = plt.subplots(1, 2, figsize=(5, 2))\n",
    "\n",
    "# Get the neural network outputs before scaling\n",
    "sns.histplot(outputs1, ax=ax1)\n",
    "ax1.set_title('Outputs Before Scaling', fontsize=11)\n",
    "# ax1.axvline(-np.pi / 2.0, color='r')\n",
    "# ax1.axvline(np.pi / 2.0, color='r')\n",
    "\n",
    "# Get the neural network outputs after scaling\n",
    "a, b = -10, 10\n",
    "outputs1_scale = a + (b - a) / 2.0 * (outputs1.apply(np.sin) + 1)\n",
    "\n",
    "sns.histplot(outputs1_scale, ax=ax2, color='orange')\n",
    "ax2.set_title('Outputs After Scaling (Sine)', fontsize=11)\n",
    "\n",
    "fig.tight_layout()\n",
    "# fig.savefig(\n",
    "#     '/Users/ryandevera/data-science/umn_environments/Deeplifting'\n",
    "#     f'/images/scaling.png',\n",
    "#     bbox_inches='tight',\n",
    "#     pad_inches=0.01,\n",
    "# )"
   ]
  },
  {
   "cell_type": "code",
   "execution_count": null,
   "id": "ff546514-e97a-4a95-a114-abce11d6bc52",
   "metadata": {},
   "outputs": [],
   "source": [
    "outputs1_scale.describe()"
   ]
  },
  {
   "cell_type": "code",
   "execution_count": null,
   "id": "ec96f67e-f4b3-4c0d-80e6-15a316d09904",
   "metadata": {},
   "outputs": [],
   "source": [
    "np.sinh(outputs1_scale).describe()"
   ]
  },
  {
   "cell_type": "code",
   "execution_count": null,
   "id": "6e7b563d-adc0-45d6-b009-557565f2ec81",
   "metadata": {},
   "outputs": [],
   "source": [
    "np.sinh(5)"
   ]
  },
  {
   "cell_type": "code",
   "execution_count": null,
   "id": "1f82942f-5fe3-4a95-ad99-a0357022b874",
   "metadata": {},
   "outputs": [],
   "source": [
    "(\n",
    "    -20 * exp(-0.2 * sqrt(0.5 * (x**2 + y**2)))\n",
    "    - exp(0.5 * (cos(2 * pi * x) + cos(2 * pi * y)))\n",
    "    + exp(1)\n",
    "    + 20\n",
    ")"
   ]
  },
  {
   "cell_type": "code",
   "execution_count": null,
   "id": "380bb249-9b03-422a-b5b0-4a6b47c30e57",
   "metadata": {},
   "outputs": [],
   "source": [
    "from pyomo.environ import (\n",
    "    ConcreteModel,\n",
    "    Var,\n",
    "    Objective,\n",
    "    Constraint,\n",
    "    SolverFactory,\n",
    "    minimize,\n",
    "    Reals,\n",
    ")\n",
    "from pyomo.environ import exp, sqrt, cos\n",
    "import numpy as np\n",
    "\n",
    "model = m = ConcreteModel()\n",
    "\n",
    "# Define variables\n",
    "m.x1 = Var(within=Reals, bounds=(-32, 32), initialize=-4.0)\n",
    "m.x2 = Var(within=Reals, bounds=(-32, 32), initialize=0.0)\n",
    "\n",
    "\n",
    "# Define objective (Ackley function)\n",
    "def ackley(m):\n",
    "    x = m.x1\n",
    "    y = m.x2\n",
    "    result = (\n",
    "        -20 * exp(-0.2 * sqrt(0.5 * (x**2 + y**2) + 1e-10))\n",
    "        - exp(0.5 * (cos(2 * np.pi * x) + cos(2 * np.pi * y)))\n",
    "        + exp(1)\n",
    "        + 20\n",
    "    )\n",
    "    return result\n",
    "\n",
    "\n",
    "model.obj = Objective(expr=ackley, sense=minimize)\n",
    "\n",
    "# Create a solver\n",
    "solver = SolverFactory('ipopt')\n",
    "\n",
    "# Solve the model\n",
    "solver.solve(model, tee=True)\n",
    "\n",
    "# Print the results\n",
    "print(\"Results:\")\n",
    "print(\"x =\", model.x1())\n",
    "print(\"y =\", model.x2())\n",
    "print(\"Objective =\", model.obj())"
   ]
  },
  {
   "cell_type": "code",
   "execution_count": null,
   "id": "03d43f6b-6934-4a61-b98b-8f825e073544",
   "metadata": {},
   "outputs": [],
   "source": [
    "from jax.config import config\n",
    "\n",
    "# Enable 64 bit floating point precision\n",
    "config.update(\"jax_enable_x64\", True)\n",
    "\n",
    "# We use the CPU instead of GPU und mute all warnings if no GPU/TPU is found.\n",
    "config.update('jax_platform_name', 'cpu')\n",
    "\n",
    "import jax.numpy as np\n",
    "from jax import jit, grad, jacfwd, jacrev\n",
    "from cyipopt import minimize_ipopt"
   ]
  },
  {
   "cell_type": "code",
   "execution_count": null,
   "id": "dfccb125-bf1c-4041-a447-77607e80e1fd",
   "metadata": {},
   "outputs": [],
   "source": [
    "# third party\n",
    "import jax.numpy as np\n",
    "import pandas as pd\n",
    "from cyipopt import minimize_ipopt\n",
    "\n",
    "# first party\n",
    "from deeplifting.utils import (\n",
    "    initialize_vector,\n",
    "    set_seed,\n",
    ")\n",
    "from deeplifting.problems import PROBLEMS_BY_NAME\n",
    "\n",
    "problem = PROBLEMS_BY_NAME['ackley']\n",
    "trials = 1\n",
    "trial = 0\n",
    "\n",
    "\n",
    "def objective(x):\n",
    "    \"\"\"\n",
    "    Function that implements the Ackley function in\n",
    "    numpy or pytorch. We will use this for our deeplifting experiments.\n",
    "    Note, that this version is the 2-D version only.\n",
    "    \"\"\"\n",
    "    a = 20\n",
    "    b = 0.2\n",
    "    c = 2 * np.pi\n",
    "\n",
    "    # sum_sq_term = -a * np.exp(-b * np.sqrt(0.5 * (x[0]**2 + x[1]**2)))\n",
    "    # cos_term = -np.exp(0.5 * (np.cos(c * x[0]) + np.cos(c * x[1])))\n",
    "    # result = sum_sq_term + cos_term + a + np.exp(1)\n",
    "\n",
    "    return (\n",
    "        -a * np.exp(-b * np.sqrt(0.5 * (x[0] ** 2 + x[1] ** 2) + 1e-10))\n",
    "        + -np.exp(0.5 * (np.cos(c * x[0]) + np.cos(c * x[1])))\n",
    "        + a\n",
    "        + np.exp(1)\n",
    "    )\n",
    "\n",
    "\n",
    "# jit the functions\n",
    "obj_jit = jit(objective)\n",
    "\n",
    "# build the derivatives and jit them\n",
    "obj_grad = jit(grad(obj_jit))  # objective gradient\n",
    "obj_hess = jit(jacrev(jacfwd(obj_jit)))  # objective hessian\n",
    "\n",
    "# Get the maximum iterations\n",
    "max_iterations = problem['max_iterations']\n",
    "\n",
    "# Get dimensions of the problem\n",
    "dimensions = problem['dimensions']\n",
    "\n",
    "# Get the bounds of the problem\n",
    "if dimensions <= 2:\n",
    "    bounds = problem['bounds']\n",
    "else:\n",
    "    bounds = problem['bounds']\n",
    "\n",
    "    if len(bounds) > 1:\n",
    "        bounds = bounds\n",
    "\n",
    "    else:\n",
    "        bounds = bounds * dimensions\n",
    "\n",
    "set_seed(0)\n",
    "\n",
    "# Initial guess (starting point for IPOPT)\n",
    "# TODO: Need to provide a better starting point here\n",
    "x0 = initialize_vector(size=dimensions, bounds=bounds)\n",
    "print(x0)\n",
    "\n",
    "# Call IPOPT\n",
    "result = minimize_ipopt(\n",
    "    obj_jit,\n",
    "    jac=obj_grad,\n",
    "    # hess=obj_hess,\n",
    "    x0=x0,\n",
    "    bounds=bounds,\n",
    "    options={'disp': 5},\n",
    ")"
   ]
  },
  {
   "cell_type": "code",
   "execution_count": null,
   "id": "11132634-476e-406b-b351-511a4ce9a875",
   "metadata": {},
   "outputs": [],
   "source": []
  },
  {
   "cell_type": "code",
   "execution_count": null,
   "id": "637fa98c-f5d4-41d0-8e42-59f9f828851d",
   "metadata": {},
   "outputs": [],
   "source": [
    "import numpy as np\n",
    "import matplotlib.pyplot as plt\n",
    "import matplotlib.cm as cm\n",
    "\n",
    "# Example trajectory (for illustration purposes)\n",
    "trajectory = np.array(\n",
    "    [[np.cos(theta), np.sin(theta)] for theta in np.linspace(0, 2 * np.pi, 100)]\n",
    ")\n",
    "\n",
    "# Create a colormap\n",
    "colors = cm.viridis(np.linspace(0, 1, len(trajectory)))\n",
    "\n",
    "fig, ax = plt.subplots()\n",
    "\n",
    "# Plot each point in the trajectory with a color from the colormap\n",
    "for i, point in enumerate(trajectory):\n",
    "    ax.plot(point[0], point[1], 'o', color=colors[i])\n",
    "\n",
    "plt.show()"
   ]
  },
  {
   "cell_type": "code",
   "execution_count": null,
   "id": "160fcaa8-3a3c-4a39-adba-3616e23f02f3",
   "metadata": {},
   "outputs": [],
   "source": [
    "import matplotlib.cm as cm"
   ]
  },
  {
   "cell_type": "code",
   "execution_count": null,
   "id": "2f316e2f-5cd3-4603-95ac-ada76a88ca33",
   "metadata": {},
   "outputs": [],
   "source": [
    "x1, x2 = 1.99999999, 2.01\n",
    "y1, y2 = np.pi * (x1 - 2), np.pi * (x2 - 2)\n",
    "(1 - abs(np.sin(y1) * np.sin(y2) / ((y1 * y2)) ** 5)) * (\n",
    "    2 + (x1 - 7) ** 2 + 2 * (x2 - 7) ** 2\n",
    ")"
   ]
  },
  {
   "cell_type": "code",
   "execution_count": null,
   "id": "41ebbb5a-2dc8-402b-b0f4-9dd7fc91b598",
   "metadata": {},
   "outputs": [],
   "source": [
    "import numpy as np\n",
    "import matplotlib.pyplot as plt\n",
    "\n",
    "\n",
    "# Define the function\n",
    "def f(x, y):\n",
    "    return np.sin(np.sqrt(x**2 + y**2))\n",
    "\n",
    "\n",
    "# Generate data\n",
    "x = np.linspace(-5, 5, 100)\n",
    "y = np.linspace(-5, 5, 100)\n",
    "X, Y = np.meshgrid(x, y)\n",
    "Z = f(X, Y)\n",
    "\n",
    "# Set up subplots\n",
    "fig, axs = plt.subplots(2, 2, figsize=(10, 8))\n",
    "axs[0, 1].axis('off')  # Turn off the top-right subplot as it's not used\n",
    "axs[0, 0].axis('off')\n",
    "\n",
    "# 3D Surface plot\n",
    "ax = fig.add_subplot(2, 2, 1, projection='3d')\n",
    "ax.plot_surface(X, Y, Z, cmap='viridis')\n",
    "ax.set_title('3D Surface Plot')\n",
    "ax.axis('off')\n",
    "\n",
    "# Contour plot\n",
    "c = axs[0, 1].contourf(X, Y, Z, 20, cmap='viridis')\n",
    "fig.colorbar(c, ax=axs[0, 1])\n",
    "axs[0, 1].set_title('Contour Plot')\n",
    "\n",
    "# Histogram\n",
    "axs[1, 0].hist(Z.ravel(), bins=50, color='blue', alpha=0.7)\n",
    "axs[1, 0].set_title('Histogram of Z values')\n",
    "axs[1, 0].set_xlabel('Z values')\n",
    "axs[1, 0].set_ylabel('Frequency')\n",
    "\n",
    "# Adjust layout\n",
    "plt.tight_layout()\n",
    "plt.show()"
   ]
  },
  {
   "cell_type": "code",
   "execution_count": null,
   "id": "a971e503-3f6e-4956-9839-58e2afa3be63",
   "metadata": {},
   "outputs": [],
   "source": [
    "import numpy as np\n",
    "import matplotlib.pyplot as plt\n",
    "\n",
    "\n",
    "# Define the function\n",
    "def f(x, y):\n",
    "    return np.sin(np.sqrt(x**2 + y**2))\n",
    "\n",
    "\n",
    "# Generate data\n",
    "x = np.linspace(-5, 5, 100)\n",
    "y = np.linspace(-5, 5, 100)\n",
    "X, Y = np.meshgrid(x, y)\n",
    "Z = f(X, Y)\n",
    "\n",
    "# Define the layout\n",
    "layout = \"\"\"\n",
    "    AB\n",
    "    CC\n",
    "\"\"\"\n",
    "\n",
    "fig = plt.figure(constrained_layout=True)\n",
    "ax_dict = fig.subplot_mosaic(\n",
    "    layout,\n",
    "    per_subplot_kw={\n",
    "        \"A\": {\"projection\": \"3d\"},\n",
    "    },\n",
    ")\n",
    "\n",
    "# 3D Surface plot\n",
    "ax3d = ax_dict['A']\n",
    "ax3d.plot_surface(X, Y, Z, cmap='viridis')\n",
    "\n",
    "# Contour plot\n",
    "c = ax_dict['B'].contourf(X, Y, Z, 20, cmap='viridis')\n",
    "fig.colorbar(c, ax=ax_dict['B'])\n",
    "\n",
    "# Histogram\n",
    "ax_dict['C'].hist(Z.ravel(), bins=50, color='blue', alpha=0.7)\n",
    "ax_dict['C'].set_xlabel('Z values')\n",
    "ax_dict['C'].set_ylabel('Frequency')\n",
    "\n",
    "plt.show()"
   ]
  },
  {
   "cell_type": "code",
   "execution_count": null,
   "id": "e390f4c1-6cd0-4328-b5e9-248d9b818ca1",
   "metadata": {},
   "outputs": [],
   "source": [
    "dir(ax_dict['A'])"
   ]
  },
  {
   "cell_type": "code",
   "execution_count": null,
   "id": "b870e083-02ea-4384-9881-cd0455c3f8ac",
   "metadata": {},
   "outputs": [],
   "source": [
    "fig, axd = plt.subplot_mosaic(\n",
    "    \"AB;CC\",\n",
    "    per_subplot_kw={\n",
    "        \"A\": {\"projection\": \"3d\"},\n",
    "    },\n",
    ")\n",
    "\n",
    "axd['A'].plot_surface(X, Y, Z)\n",
    "axd['B'].contourf(X, Y, Z)"
   ]
  },
  {
   "cell_type": "code",
   "execution_count": null,
   "id": "28f6355e-81f7-452f-8fea-5893808795f2",
   "metadata": {},
   "outputs": [],
   "source": []
  }
 ],
 "metadata": {
  "kernelspec": {
   "display_name": "deeplifting",
   "language": "python",
   "name": "deeplifting"
  },
  "language_info": {
   "codemirror_mode": {
    "name": "ipython",
    "version": 3
   },
   "file_extension": ".py",
   "mimetype": "text/x-python",
   "name": "python",
   "nbconvert_exporter": "python",
   "pygments_lexer": "ipython3",
   "version": "3.9.11"
  }
 },
 "nbformat": 4,
 "nbformat_minor": 5
}
