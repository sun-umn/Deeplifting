{
 "cells": [
  {
   "cell_type": "code",
   "execution_count": 1,
   "id": "165981ae-e913-4bee-9097-c072e3353c1c",
   "metadata": {},
   "outputs": [
    {
     "name": "stdout",
     "output_type": "stream",
     "text": [
      "/Users/ryandevera/data-science/umn_environments/Deeplifting\n"
     ]
    }
   ],
   "source": [
    "%pwd\n",
    "%cd ../.."
   ]
  },
  {
   "cell_type": "code",
   "execution_count": 2,
   "id": "0fbb5a12-5e4d-4b5a-b1cb-bbec4ff2cd78",
   "metadata": {},
   "outputs": [],
   "source": [
    "from deeplifting.models import DeepliftingSkipMLP\n",
    "from deeplifting.optimization import set_seed\n",
    "import matplotlib.pyplot as plt\n",
    "import pandas as pd\n",
    "import numpy as np\n",
    "import seaborn as sns\n",
    "import torch.nn as nn\n",
    "import matplotlib.pyplot as plt"
   ]
  },
  {
   "cell_type": "code",
   "execution_count": 81,
   "id": "37c3280c-d314-4747-b1a7-50f4491c491d",
   "metadata": {},
   "outputs": [],
   "source": [
    "input_size = 512\n",
    "hidden_sizes = (128, 128)\n",
    "dimensions = 2\n",
    "bounds = [(-10, 700), (-10, 700)]\n",
    "activation = 'sine'\n",
    "output_activation = 'sine'\n",
    "agg_function = 'sum'\n",
    "trial = 1\n",
    "\n",
    "model = DeepliftingSkipMLP(\n",
    "    input_size=input_size,\n",
    "    hidden_sizes=hidden_sizes,\n",
    "    output_size=dimensions,\n",
    "    bounds=bounds,\n",
    "    skip_every_n=1,\n",
    "    activation=activation,\n",
    "    output_activation=output_activation,\n",
    "    agg_function=agg_function,\n",
    "    seed=trial,\n",
    ")"
   ]
  },
  {
   "cell_type": "code",
   "execution_count": 82,
   "id": "547e6d96-db2a-4e6b-8e34-a51474dd42f3",
   "metadata": {},
   "outputs": [],
   "source": [
    "outputs1 = model(None)"
   ]
  },
  {
   "cell_type": "code",
   "execution_count": 83,
   "id": "3c31d5c9-0f9c-4f99-9083-b34a13df10e2",
   "metadata": {},
   "outputs": [],
   "source": [
    "outputs1 = pd.Series(outputs1[:, 0].detach().numpy())"
   ]
  },
  {
   "cell_type": "code",
   "execution_count": 84,
   "id": "aa4b5d02-0e47-4909-905a-923fc821fc27",
   "metadata": {},
   "outputs": [
    {
     "data": {
      "text/plain": [
       "count    512.000000\n",
       "mean       0.124701\n",
       "std        0.188738\n",
       "min       -0.442842\n",
       "25%       -0.012376\n",
       "50%        0.125912\n",
       "75%        0.256332\n",
       "max        0.697482\n",
       "dtype: float64"
      ]
     },
     "execution_count": 84,
     "metadata": {},
     "output_type": "execute_result"
    }
   ],
   "source": [
    "outputs1.describe()"
   ]
  },
  {
   "cell_type": "code",
   "execution_count": 104,
   "id": "3a1e21ce-84c6-4478-9dfb-eab2ee0fa6a3",
   "metadata": {},
   "outputs": [
    {
     "data": {
      "image/png": "[encoded data removed]",
      "text/plain": [
       "<Figure size 500x200 with 2 Axes>"
      ]
     },
     "metadata": {},
     "output_type": "display_data"
    }
   ],
   "source": [
    "fig, (ax1, ax2) = plt.subplots(1, 2, figsize=(5, 2))\n",
    "\n",
    "# Get the neural network outputs before scaling\n",
    "sns.histplot(outputs1, ax=ax1)\n",
    "ax1.set_title('Outputs Before Scaling', fontsize=11)\n",
    "ax1.axvline(-np.pi / 2.0, color='r')\n",
    "ax1.axvline(np.pi / 2.0, color='r')\n",
    "\n",
    "# Get the neural network outputs after scaling\n",
    "a, b = -30, 5\n",
    "outputs1_scale = a + (b - a) / 2.0 * (outputs1.apply(np.sin) + 1)\n",
    "\n",
    "sns.histplot(outputs1_scale, ax=ax2, color='orange')\n",
    "ax2.set_title('Outputs After Scaling (Sine)', fontsize=11)\n",
    "\n",
    "fig.tight_layout()\n",
    "# fig.savefig(\n",
    "#     '/Users/ryandevera/data-science/umn_environments/Deeplifting'\n",
    "#     f'/images/scaling.png',\n",
    "#     bbox_inches='tight',\n",
    "#     pad_inches=0.01,\n",
    "# )"
   ]
  },
  {
   "cell_type": "code",
   "execution_count": 105,
   "id": "ff546514-e97a-4a95-a114-abce11d6bc52",
   "metadata": {},
   "outputs": [
    {
     "data": {
      "text/plain": [
       "count    512.000000\n",
       "mean     -10.361143\n",
       "std        3.225445\n",
       "min      -19.998913\n",
       "25%      -12.716573\n",
       "50%      -10.302361\n",
       "75%       -8.063160\n",
       "max       -1.259932\n",
       "dtype: float64"
      ]
     },
     "execution_count": 105,
     "metadata": {},
     "output_type": "execute_result"
    }
   ],
   "source": [
    "outputs1_scale.describe()"
   ]
  },
  {
   "cell_type": "code",
   "execution_count": 106,
   "id": "ec96f67e-f4b3-4c0d-80e6-15a316d09904",
   "metadata": {},
   "outputs": [
    {
     "data": {
      "text/plain": [
       "count    5.120000e+02\n",
       "mean    -1.553658e+06\n",
       "std      1.255897e+07\n",
       "min     -2.423190e+08\n",
       "25%     -1.666130e+05\n",
       "50%     -1.490147e+04\n",
       "75%     -1.587660e+03\n",
       "max     -1.620753e+00\n",
       "dtype: float64"
      ]
     },
     "execution_count": 106,
     "metadata": {},
     "output_type": "execute_result"
    }
   ],
   "source": [
    "np.sinh(outputs1_scale).describe()"
   ]
  },
  {
   "cell_type": "code",
   "execution_count": 107,
   "id": "6e7b563d-adc0-45d6-b009-557565f2ec81",
   "metadata": {},
   "outputs": [
    {
     "data": {
      "text/plain": [
       "74.20321057778875"
      ]
     },
     "execution_count": 107,
     "metadata": {},
     "output_type": "execute_result"
    }
   ],
   "source": [
    "np.sinh(5)"
   ]
  },
  {
   "cell_type": "code",
   "execution_count": null,
   "id": "380bb249-9b03-422a-b5b0-4a6b47c30e57",
   "metadata": {},
   "outputs": [],
   "source": []
  },
  {
   "cell_type": "code",
   "execution_count": null,
   "id": "dfccb125-bf1c-4041-a447-77607e80e1fd",
   "metadata": {},
   "outputs": [],
   "source": []
  }
 ],
 "metadata": {
  "kernelspec": {
   "display_name": "deeplifting",
   "language": "python",
   "name": "deeplifting"
  },
  "language_info": {
   "codemirror_mode": {
    "name": "ipython",
    "version": 3
   },
   "file_extension": ".py",
   "mimetype": "text/x-python",
   "name": "python",
   "nbconvert_exporter": "python",
   "pygments_lexer": "ipython3",
   "version": "3.9.11"
  }
 },
 "nbformat": 4,
 "nbformat_minor": 5
}
