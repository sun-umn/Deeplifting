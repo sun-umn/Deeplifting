{
 "cells": [
  {
   "cell_type": "code",
   "execution_count": 1,
   "id": "24d6eac2-953d-45c8-b3b8-35588f47e911",
   "metadata": {},
   "outputs": [
    {
     "name": "stdout",
     "output_type": "stream",
     "text": [
      "/home/rydevera3/data-science/umn_research/Deeplifting\n"
     ]
    }
   ],
   "source": [
    "%pwd\n",
    "%cd ../.."
   ]
  },
  {
   "cell_type": "code",
   "execution_count": 2,
   "id": "77882d07-d535-4195-a248-0e409442fcba",
   "metadata": {},
   "outputs": [],
   "source": [
    "import glob\n",
    "\n",
    "import numpy as np\n",
    "import pandas as pd\n",
    "\n",
    "from deeplifting.problems import PROBLEMS_BY_NAME"
   ]
  },
  {
   "cell_type": "code",
   "execution_count": null,
   "id": "7ca1149d-3b1b-4478-b3ed-0dec5fa2b9d5",
   "metadata": {},
   "outputs": [],
   "source": [
    "# Get the results from deeplifting\n",
    "files = glob.glob('./results/results-2023-08-03-2*')\n",
    "deeplifting_results = pd.read_parquet(files)\n",
    "\n",
    "# Select specific columns for results\n",
    "deeplifting_results = (\n",
    "    deeplifting_results[['problem_name', 'algorithm', 'x1', 'x2', 'f', 'total_time', 'global_minimum']]\n",
    ")\n",
    "\n",
    "# For now let's remove sine-envelope function because there is something\n",
    "# going on there\n",
    "mask = deeplifting_results['problem_name'] != 'sine_envelope'\n",
    "deeplifting_results = deeplifting_results.loc[mask].reset_index(drop=True)\n",
    "deeplifting_results['hits'] = np.abs(\n",
    "    deeplifting_results['global_minimum'] - deeplifting_results['f']\n",
    ") <= 1e-4\n",
    "deeplifting_results['hits'] = deeplifting_results['hits'].astype(int)\n",
    "deeplifting_results = deeplifting_results.rename(columns={'total_time': 'time'})\n",
    "deeplifting_results = deeplifting_results.drop(columns=['global_minimum'])\n",
    "deeplifting_results.head()"
   ]
  },
  {
   "cell_type": "code",
   "execution_count": null,
   "id": "cb115aa9-1f8d-4bb5-825e-b0de5318c671",
   "metadata": {},
   "outputs": [],
   "source": [
    "deeplifting_results.groupby('problem_name')['hits'].mean()"
   ]
  },
  {
   "cell_type": "code",
   "execution_count": 64,
   "id": "1d122e35-2559-4822-8336-c14938dbfcd4",
   "metadata": {},
   "outputs": [],
   "source": [
    "# Load in the comparisons\n",
    "comparison_files = glob.glob('./results/algorithm-comparisons-*.parquet')\n",
    "comparison_results = pd.read_parquet(comparison_files)\n",
    "\n",
    "# # Omit sine envelope function\n",
    "# mask = comparison_results['problem_name'] != 'sine_envelope'\n",
    "# comparison_results = comparison_results.loc[mask].reset_index(drop=True)\n",
    "problems = [\n",
    "    'ackley',\n",
    "    'ackley2',\n",
    "    'adjiman',\n",
    "    'alpine1',\n",
    "    'alpine2',\n",
    "    'bartels_conn',\n",
    "    'beale',\n",
    "    'bird',\n",
    "    'bohachevsky3',\n",
    "    'booth',\n",
    "    'bukin_n2',\n",
    "    'bukin_n4',\n",
    "    'bukin_n6',\n",
    "    'camel_3hump',\n",
    "    'camel_6hump',\n",
    "    'chung_reynolds',\n",
    "    'cube',\n",
    "    'cross_in_tray',\n",
    "    'cross_leg_table',\n",
    "    'drop_wave',\n",
    "    'eggholder',\n",
    "    'griewank',\n",
    "    'holder_table',\n",
    "    'levy',\n",
    "    'levy_n13',\n",
    "    'rastrigin',\n",
    "    'schaffer_n2',\n",
    "    'schaffer_n4',\n",
    "    'schwefel',\n",
    "    'shubert',\n",
    "    'ex8_1_1',\n",
    "    'kriging_peaks_red010',\n",
    "    'mathopt6',\n",
    "    'quantum',\n",
    "    'rosenbrock',\n",
    "]\n",
    "\n",
    "comparison_results = comparison_results.loc[comparison_results['problem_name'].isin(problems)]"
   ]
  },
  {
   "cell_type": "code",
   "execution_count": 65,
   "id": "26af3401-1cff-4312-8d3a-af5e2dba05b7",
   "metadata": {},
   "outputs": [
    {
     "data": {
      "text/plain": [
       "problem_name\n",
       "levy                    80\n",
       "griewank                80\n",
       "schaffer_n4             80\n",
       "mathopt6                80\n",
       "eggholder               80\n",
       "bukin_n6                80\n",
       "cube                    80\n",
       "ex8_1_1                 80\n",
       "holder_table            80\n",
       "shubert                 80\n",
       "schwefel                80\n",
       "adjiman                 80\n",
       "cross_in_tray           80\n",
       "bukin_n4                80\n",
       "drop_wave               80\n",
       "alpine1                 80\n",
       "camel_6hump             80\n",
       "bartels_conn            80\n",
       "alpine2                 80\n",
       "bird                    80\n",
       "schaffer_n2             80\n",
       "quantum                 80\n",
       "rosenbrock              80\n",
       "bukin_n2                80\n",
       "ackley                  80\n",
       "kriging_peaks_red010    80\n",
       "beale                   80\n",
       "camel_3hump             80\n",
       "cross_leg_table         80\n",
       "bohachevsky3            80\n",
       "chung_reynolds          80\n",
       "rastrigin               80\n",
       "booth                   80\n",
       "levy_n13                80\n",
       "ackley2                 80\n",
       "Name: count, dtype: int64"
      ]
     },
     "execution_count": 65,
     "metadata": {},
     "output_type": "execute_result"
    }
   ],
   "source": [
    "comparison_results['problem_name'].value_counts()"
   ]
  },
  {
   "cell_type": "code",
   "execution_count": 66,
   "id": "c821c1d9-9dfc-4862-bc5c-10a3defc3b52",
   "metadata": {},
   "outputs": [],
   "source": [
    "results_df = comparison_results.copy()"
   ]
  },
  {
   "cell_type": "code",
   "execution_count": 67,
   "id": "2033cd94-fab3-4639-a517-6dda9e603ee3",
   "metadata": {},
   "outputs": [
    {
     "data": {
      "text/html": [
       "<div>\n",
       "<style scoped>\n",
       "    .dataframe tbody tr th:only-of-type {\n",
       "        vertical-align: middle;\n",
       "    }\n",
       "\n",
       "    .dataframe tbody tr th {\n",
       "        vertical-align: top;\n",
       "    }\n",
       "\n",
       "    .dataframe thead th {\n",
       "        text-align: right;\n",
       "    }\n",
       "</style>\n",
       "<table border=\"1\" class=\"dataframe\">\n",
       "  <thead>\n",
       "    <tr style=\"text-align: right;\">\n",
       "      <th></th>\n",
       "      <th>x1</th>\n",
       "      <th>x2</th>\n",
       "      <th>f</th>\n",
       "      <th>algorithm</th>\n",
       "      <th>time</th>\n",
       "      <th>problem_name</th>\n",
       "      <th>hits</th>\n",
       "    </tr>\n",
       "  </thead>\n",
       "  <tbody>\n",
       "  </tbody>\n",
       "</table>\n",
       "</div>"
      ],
      "text/plain": [
       "Empty DataFrame\n",
       "Columns: [x1, x2, f, algorithm, time, problem_name, hits]\n",
       "Index: []"
      ]
     },
     "execution_count": 67,
     "metadata": {},
     "output_type": "execute_result"
    }
   ],
   "source": [
    "results_df.loc[results_df['problem_name'] == 'ackley3']"
   ]
  },
  {
   "cell_type": "code",
   "execution_count": 68,
   "id": "39b5a601-4ae0-4d42-8214-3d08820bfe60",
   "metadata": {},
   "outputs": [],
   "source": [
    "aggregated_results_df = (\n",
    "    results_df\n",
    "    .groupby(['problem_name', 'algorithm'])\n",
    "    .agg({'hits': 'mean'})\n",
    "    .rename(columns={'hits': 'Success Rate'})\n",
    "    .unstack()\n",
    "    .transpose()\n",
    "    .reorder_levels(['algorithm', None])\n",
    "    .transpose()\n",
    ")"
   ]
  },
  {
   "cell_type": "code",
   "execution_count": 69,
   "id": "3f1c47bf-a4ad-466c-9b10-77288ac19992",
   "metadata": {},
   "outputs": [
    {
     "data": {
      "text/plain": [
       "algorithm                           \n",
       "Dual Annealing          Success Rate    0.831429\n",
       "Differential Evolution  Success Rate    0.778571\n",
       "IPOPT                   Success Rate    0.420000\n",
       "PyGRANSO                Success Rate    0.397143\n",
       "dtype: float64"
      ]
     },
     "execution_count": 69,
     "metadata": {},
     "output_type": "execute_result"
    }
   ],
   "source": [
    "aggregated_results_df.mean().sort_values(ascending=False)"
   ]
  },
  {
   "cell_type": "code",
   "execution_count": 70,
   "id": "0ec59752-d6a5-48fd-9d93-48084ee66b4a",
   "metadata": {},
   "outputs": [
    {
     "data": {
      "text/html": [
       "<div>\n",
       "<style scoped>\n",
       "    .dataframe tbody tr th:only-of-type {\n",
       "        vertical-align: middle;\n",
       "    }\n",
       "\n",
       "    .dataframe tbody tr th {\n",
       "        vertical-align: top;\n",
       "    }\n",
       "\n",
       "    .dataframe thead tr th {\n",
       "        text-align: left;\n",
       "    }\n",
       "\n",
       "    .dataframe thead tr:last-of-type th {\n",
       "        text-align: right;\n",
       "    }\n",
       "</style>\n",
       "<table border=\"1\" class=\"dataframe\">\n",
       "  <thead>\n",
       "    <tr>\n",
       "      <th>algorithm</th>\n",
       "      <th>Differential Evolution</th>\n",
       "      <th>Dual Annealing</th>\n",
       "      <th>IPOPT</th>\n",
       "      <th>PyGRANSO</th>\n",
       "    </tr>\n",
       "    <tr>\n",
       "      <th></th>\n",
       "      <th>Success Rate</th>\n",
       "      <th>Success Rate</th>\n",
       "      <th>Success Rate</th>\n",
       "      <th>Success Rate</th>\n",
       "    </tr>\n",
       "    <tr>\n",
       "      <th>problem_name</th>\n",
       "      <th></th>\n",
       "      <th></th>\n",
       "      <th></th>\n",
       "      <th></th>\n",
       "    </tr>\n",
       "  </thead>\n",
       "  <tbody>\n",
       "    <tr>\n",
       "      <th>ackley</th>\n",
       "      <td>1.00</td>\n",
       "      <td>1.00</td>\n",
       "      <td>0.05</td>\n",
       "      <td>0.00</td>\n",
       "    </tr>\n",
       "    <tr>\n",
       "      <th>ackley2</th>\n",
       "      <td>0.90</td>\n",
       "      <td>1.00</td>\n",
       "      <td>1.00</td>\n",
       "      <td>0.05</td>\n",
       "    </tr>\n",
       "    <tr>\n",
       "      <th>adjiman</th>\n",
       "      <td>1.00</td>\n",
       "      <td>1.00</td>\n",
       "      <td>0.95</td>\n",
       "      <td>0.85</td>\n",
       "    </tr>\n",
       "    <tr>\n",
       "      <th>alpine1</th>\n",
       "      <td>1.00</td>\n",
       "      <td>1.00</td>\n",
       "      <td>0.95</td>\n",
       "      <td>0.75</td>\n",
       "    </tr>\n",
       "    <tr>\n",
       "      <th>alpine2</th>\n",
       "      <td>0.00</td>\n",
       "      <td>0.00</td>\n",
       "      <td>0.00</td>\n",
       "      <td>0.00</td>\n",
       "    </tr>\n",
       "    <tr>\n",
       "      <th>bartels_conn</th>\n",
       "      <td>0.60</td>\n",
       "      <td>1.00</td>\n",
       "      <td>0.70</td>\n",
       "      <td>0.95</td>\n",
       "    </tr>\n",
       "    <tr>\n",
       "      <th>beale</th>\n",
       "      <td>0.85</td>\n",
       "      <td>1.00</td>\n",
       "      <td>0.70</td>\n",
       "      <td>0.55</td>\n",
       "    </tr>\n",
       "    <tr>\n",
       "      <th>bird</th>\n",
       "      <td>0.70</td>\n",
       "      <td>1.00</td>\n",
       "      <td>0.50</td>\n",
       "      <td>0.40</td>\n",
       "    </tr>\n",
       "    <tr>\n",
       "      <th>bohachevsky3</th>\n",
       "      <td>0.95</td>\n",
       "      <td>1.00</td>\n",
       "      <td>0.20</td>\n",
       "      <td>0.10</td>\n",
       "    </tr>\n",
       "    <tr>\n",
       "      <th>booth</th>\n",
       "      <td>1.00</td>\n",
       "      <td>1.00</td>\n",
       "      <td>1.00</td>\n",
       "      <td>1.00</td>\n",
       "    </tr>\n",
       "    <tr>\n",
       "      <th>bukin_n2</th>\n",
       "      <td>0.00</td>\n",
       "      <td>0.00</td>\n",
       "      <td>0.00</td>\n",
       "      <td>0.00</td>\n",
       "    </tr>\n",
       "    <tr>\n",
       "      <th>bukin_n4</th>\n",
       "      <td>1.00</td>\n",
       "      <td>1.00</td>\n",
       "      <td>0.85</td>\n",
       "      <td>1.00</td>\n",
       "    </tr>\n",
       "    <tr>\n",
       "      <th>bukin_n6</th>\n",
       "      <td>0.00</td>\n",
       "      <td>0.00</td>\n",
       "      <td>0.00</td>\n",
       "      <td>0.00</td>\n",
       "    </tr>\n",
       "    <tr>\n",
       "      <th>camel_3hump</th>\n",
       "      <td>0.95</td>\n",
       "      <td>1.00</td>\n",
       "      <td>0.75</td>\n",
       "      <td>0.40</td>\n",
       "    </tr>\n",
       "    <tr>\n",
       "      <th>camel_6hump</th>\n",
       "      <td>1.00</td>\n",
       "      <td>1.00</td>\n",
       "      <td>0.85</td>\n",
       "      <td>0.75</td>\n",
       "    </tr>\n",
       "    <tr>\n",
       "      <th>chung_reynolds</th>\n",
       "      <td>1.00</td>\n",
       "      <td>1.00</td>\n",
       "      <td>1.00</td>\n",
       "      <td>1.00</td>\n",
       "    </tr>\n",
       "    <tr>\n",
       "      <th>cross_in_tray</th>\n",
       "      <td>1.00</td>\n",
       "      <td>1.00</td>\n",
       "      <td>0.05</td>\n",
       "      <td>0.30</td>\n",
       "    </tr>\n",
       "    <tr>\n",
       "      <th>cross_leg_table</th>\n",
       "      <td>0.05</td>\n",
       "      <td>0.00</td>\n",
       "      <td>0.00</td>\n",
       "      <td>0.05</td>\n",
       "    </tr>\n",
       "    <tr>\n",
       "      <th>cube</th>\n",
       "      <td>1.00</td>\n",
       "      <td>1.00</td>\n",
       "      <td>1.00</td>\n",
       "      <td>1.00</td>\n",
       "    </tr>\n",
       "    <tr>\n",
       "      <th>drop_wave</th>\n",
       "      <td>0.55</td>\n",
       "      <td>0.70</td>\n",
       "      <td>0.10</td>\n",
       "      <td>0.00</td>\n",
       "    </tr>\n",
       "    <tr>\n",
       "      <th>eggholder</th>\n",
       "      <td>0.20</td>\n",
       "      <td>0.45</td>\n",
       "      <td>0.00</td>\n",
       "      <td>0.05</td>\n",
       "    </tr>\n",
       "    <tr>\n",
       "      <th>ex8_1_1</th>\n",
       "      <td>1.00</td>\n",
       "      <td>1.00</td>\n",
       "      <td>0.95</td>\n",
       "      <td>0.85</td>\n",
       "    </tr>\n",
       "    <tr>\n",
       "      <th>griewank</th>\n",
       "      <td>0.75</td>\n",
       "      <td>0.55</td>\n",
       "      <td>0.00</td>\n",
       "      <td>0.00</td>\n",
       "    </tr>\n",
       "    <tr>\n",
       "      <th>holder_table</th>\n",
       "      <td>1.00</td>\n",
       "      <td>1.00</td>\n",
       "      <td>0.10</td>\n",
       "      <td>0.50</td>\n",
       "    </tr>\n",
       "    <tr>\n",
       "      <th>kriging_peaks_red010</th>\n",
       "      <td>1.00</td>\n",
       "      <td>1.00</td>\n",
       "      <td>0.50</td>\n",
       "      <td>0.45</td>\n",
       "    </tr>\n",
       "    <tr>\n",
       "      <th>levy</th>\n",
       "      <td>1.00</td>\n",
       "      <td>1.00</td>\n",
       "      <td>0.30</td>\n",
       "      <td>0.25</td>\n",
       "    </tr>\n",
       "    <tr>\n",
       "      <th>levy_n13</th>\n",
       "      <td>0.95</td>\n",
       "      <td>1.00</td>\n",
       "      <td>0.00</td>\n",
       "      <td>0.10</td>\n",
       "    </tr>\n",
       "    <tr>\n",
       "      <th>mathopt6</th>\n",
       "      <td>0.25</td>\n",
       "      <td>0.40</td>\n",
       "      <td>0.00</td>\n",
       "      <td>0.00</td>\n",
       "    </tr>\n",
       "    <tr>\n",
       "      <th>quantum</th>\n",
       "      <td>1.00</td>\n",
       "      <td>1.00</td>\n",
       "      <td>1.00</td>\n",
       "      <td>1.00</td>\n",
       "    </tr>\n",
       "    <tr>\n",
       "      <th>rastrigin</th>\n",
       "      <td>0.80</td>\n",
       "      <td>1.00</td>\n",
       "      <td>0.00</td>\n",
       "      <td>0.05</td>\n",
       "    </tr>\n",
       "    <tr>\n",
       "      <th>rosenbrock</th>\n",
       "      <td>1.00</td>\n",
       "      <td>1.00</td>\n",
       "      <td>1.00</td>\n",
       "      <td>1.00</td>\n",
       "    </tr>\n",
       "    <tr>\n",
       "      <th>schaffer_n2</th>\n",
       "      <td>1.00</td>\n",
       "      <td>1.00</td>\n",
       "      <td>0.05</td>\n",
       "      <td>0.00</td>\n",
       "    </tr>\n",
       "    <tr>\n",
       "      <th>schaffer_n4</th>\n",
       "      <td>1.00</td>\n",
       "      <td>1.00</td>\n",
       "      <td>0.00</td>\n",
       "      <td>0.00</td>\n",
       "    </tr>\n",
       "    <tr>\n",
       "      <th>schwefel</th>\n",
       "      <td>0.75</td>\n",
       "      <td>1.00</td>\n",
       "      <td>0.05</td>\n",
       "      <td>0.40</td>\n",
       "    </tr>\n",
       "    <tr>\n",
       "      <th>shubert</th>\n",
       "      <td>1.00</td>\n",
       "      <td>1.00</td>\n",
       "      <td>0.10</td>\n",
       "      <td>0.10</td>\n",
       "    </tr>\n",
       "  </tbody>\n",
       "</table>\n",
       "</div>"
      ],
      "text/plain": [
       "algorithm            Differential Evolution Dual Annealing        IPOPT  \\\n",
       "                               Success Rate   Success Rate Success Rate   \n",
       "problem_name                                                              \n",
       "ackley                                 1.00           1.00         0.05   \n",
       "ackley2                                0.90           1.00         1.00   \n",
       "adjiman                                1.00           1.00         0.95   \n",
       "alpine1                                1.00           1.00         0.95   \n",
       "alpine2                                0.00           0.00         0.00   \n",
       "bartels_conn                           0.60           1.00         0.70   \n",
       "beale                                  0.85           1.00         0.70   \n",
       "bird                                   0.70           1.00         0.50   \n",
       "bohachevsky3                           0.95           1.00         0.20   \n",
       "booth                                  1.00           1.00         1.00   \n",
       "bukin_n2                               0.00           0.00         0.00   \n",
       "bukin_n4                               1.00           1.00         0.85   \n",
       "bukin_n6                               0.00           0.00         0.00   \n",
       "camel_3hump                            0.95           1.00         0.75   \n",
       "camel_6hump                            1.00           1.00         0.85   \n",
       "chung_reynolds                         1.00           1.00         1.00   \n",
       "cross_in_tray                          1.00           1.00         0.05   \n",
       "cross_leg_table                        0.05           0.00         0.00   \n",
       "cube                                   1.00           1.00         1.00   \n",
       "drop_wave                              0.55           0.70         0.10   \n",
       "eggholder                              0.20           0.45         0.00   \n",
       "ex8_1_1                                1.00           1.00         0.95   \n",
       "griewank                               0.75           0.55         0.00   \n",
       "holder_table                           1.00           1.00         0.10   \n",
       "kriging_peaks_red010                   1.00           1.00         0.50   \n",
       "levy                                   1.00           1.00         0.30   \n",
       "levy_n13                               0.95           1.00         0.00   \n",
       "mathopt6                               0.25           0.40         0.00   \n",
       "quantum                                1.00           1.00         1.00   \n",
       "rastrigin                              0.80           1.00         0.00   \n",
       "rosenbrock                             1.00           1.00         1.00   \n",
       "schaffer_n2                            1.00           1.00         0.05   \n",
       "schaffer_n4                            1.00           1.00         0.00   \n",
       "schwefel                               0.75           1.00         0.05   \n",
       "shubert                                1.00           1.00         0.10   \n",
       "\n",
       "algorithm                PyGRANSO  \n",
       "                     Success Rate  \n",
       "problem_name                       \n",
       "ackley                       0.00  \n",
       "ackley2                      0.05  \n",
       "adjiman                      0.85  \n",
       "alpine1                      0.75  \n",
       "alpine2                      0.00  \n",
       "bartels_conn                 0.95  \n",
       "beale                        0.55  \n",
       "bird                         0.40  \n",
       "bohachevsky3                 0.10  \n",
       "booth                        1.00  \n",
       "bukin_n2                     0.00  \n",
       "bukin_n4                     1.00  \n",
       "bukin_n6                     0.00  \n",
       "camel_3hump                  0.40  \n",
       "camel_6hump                  0.75  \n",
       "chung_reynolds               1.00  \n",
       "cross_in_tray                0.30  \n",
       "cross_leg_table              0.05  \n",
       "cube                         1.00  \n",
       "drop_wave                    0.00  \n",
       "eggholder                    0.05  \n",
       "ex8_1_1                      0.85  \n",
       "griewank                     0.00  \n",
       "holder_table                 0.50  \n",
       "kriging_peaks_red010         0.45  \n",
       "levy                         0.25  \n",
       "levy_n13                     0.10  \n",
       "mathopt6                     0.00  \n",
       "quantum                      1.00  \n",
       "rastrigin                    0.05  \n",
       "rosenbrock                   1.00  \n",
       "schaffer_n2                  0.00  \n",
       "schaffer_n4                  0.00  \n",
       "schwefel                     0.40  \n",
       "shubert                      0.10  "
      ]
     },
     "execution_count": 70,
     "metadata": {},
     "output_type": "execute_result"
    }
   ],
   "source": [
    "aggregated_results_df"
   ]
  },
  {
   "cell_type": "code",
   "execution_count": 71,
   "id": "830dd68b-d41b-4784-a439-f9a72a4fd924",
   "metadata": {},
   "outputs": [
    {
     "data": {
      "text/plain": [
       "(35, 4)"
      ]
     },
     "execution_count": 71,
     "metadata": {},
     "output_type": "execute_result"
    }
   ],
   "source": [
    "aggregated_results_df.shape"
   ]
  },
  {
   "cell_type": "code",
   "execution_count": null,
   "id": "254af216-1176-41a6-8697-64003f863c04",
   "metadata": {},
   "outputs": [],
   "source": [
    "file = [\n",
    "    './results/results-2023-08-2-layer-512-holder_table-0-particle-leaky_relu.parquet',\n",
    "    './results/results-2023-08-2-layer-512-mathopt6-0-particle-leaky_relu.parquet',\n",
    "    './results/results-2023-08-2-layer-schwefel-0-particle-leaky_relu.parquet',\n",
    "    './results/results-2023-08-2-layer-shubert-0-particle-leaky_relu.parquet',\n",
    "    './results/results-2023-08-2-layer-512-cross_leg_table-0-particle-leaky_relu.parquet',\n",
    "    './results/results-2023-08-2-layer-128-sum-ackley2-0-particle-leaky_relu.parquet',\n",
    "]\n",
    "df = pd.read_parquet(file)"
   ]
  },
  {
   "cell_type": "code",
   "execution_count": null,
   "id": "d7f2d985-0666-48df-9b58-dabb06850c82",
   "metadata": {},
   "outputs": [],
   "source": [
    "df['hits'] = np.abs(df['global_minimum'] - df['f']) <= 1e-4"
   ]
  },
  {
   "cell_type": "code",
   "execution_count": null,
   "id": "68bcf920-be4f-400e-9e71-b610e795acc1",
   "metadata": {},
   "outputs": [],
   "source": [
    "df.groupby('problem_name')['hits'].agg(['mean', 'count'])"
   ]
  },
  {
   "cell_type": "code",
   "execution_count": null,
   "id": "f8def1ee-ae5b-451e-96cc-7d1301539bae",
   "metadata": {},
   "outputs": [],
   "source": [
    "import numpy as np\n",
    "import matplotlib.pyplot as plt\n",
    "\n",
    "def ackley3(x, y):\n",
    "    return -200 * np.exp(-0.02 * np.sqrt(x ** 2 + y ** 2)) + 5 * np.exp(np.cos(3 * x) + np.sin(3 * y))\n",
    "\n",
    "x = np.linspace(-32, 32, 10000)\n",
    "y = np.linspace(-32, 32, 10000)\n",
    "X, Y = np.meshgrid(x, y)\n",
    "Z = ackley3(X, Y)\n",
    "\n",
    "fig = plt.figure()\n",
    "ax = fig.add_subplot(111, projection='3d')\n",
    "ax.plot_surface(X, Y, Z, cmap='viridis')\n",
    "\n",
    "ax.set_xlabel('X axis')\n",
    "ax.set_ylabel('Y axis')\n",
    "ax.set_zlabel('Z axis')\n",
    "ax.set_title('3D Plot of Ackley Function')\n",
    "\n",
    "plt.show()"
   ]
  },
  {
   "cell_type": "code",
   "execution_count": null,
   "id": "56abf0ca-5b46-4fc8-b9b5-a44eaeec0f84",
   "metadata": {},
   "outputs": [],
   "source": [
    "ackley3(0, -0.40)"
   ]
  },
  {
   "cell_type": "code",
   "execution_count": null,
   "id": "5843812f-5719-446a-b8a9-e188a9add324",
   "metadata": {},
   "outputs": [],
   "source": [
    "np.min(Z)"
   ]
  },
  {
   "cell_type": "code",
   "execution_count": 54,
   "id": "cc03cc26-de9c-48aa-b88c-0f3453d6cd15",
   "metadata": {},
   "outputs": [],
   "source": [
    "problem = PROBLEMS_BY_NAME['cube']"
   ]
  },
  {
   "cell_type": "code",
   "execution_count": 55,
   "id": "b26d0ec1-0fa8-4876-af46-1394b922527b",
   "metadata": {},
   "outputs": [
    {
     "data": {
      "text/plain": [
       "{'objective': <function deeplifting.problems.cube(x, results, trial, version='numpy')>,\n",
       " 'bounds': [(-10, 10), (-10, 10)],\n",
       " 'max_iterations': 1000,\n",
       " 'global_minimum': 0,\n",
       " 'dimensions': 2}"
      ]
     },
     "execution_count": 55,
     "metadata": {},
     "output_type": "execute_result"
    }
   ],
   "source": [
    "problem"
   ]
  },
  {
   "cell_type": "code",
   "execution_count": 56,
   "id": "b741e985-7016-4269-828a-eb71e860074f",
   "metadata": {},
   "outputs": [],
   "source": [
    "import numpy as np\n",
    "import torch"
   ]
  },
  {
   "cell_type": "code",
   "execution_count": 57,
   "id": "244f6981-cda0-4bb3-be81-04a193e48bea",
   "metadata": {},
   "outputs": [],
   "source": [
    "results = np.zeros((1, 1, 3))\n",
    "trial = 0\n",
    "f = problem['objective']"
   ]
  },
  {
   "cell_type": "code",
   "execution_count": 62,
   "id": "0c7699c9-0f9c-464d-9093-9929994a6c4a",
   "metadata": {},
   "outputs": [
    {
     "data": {
      "text/plain": [
       "tensor(0.)"
      ]
     },
     "execution_count": 62,
     "metadata": {},
     "output_type": "execute_result"
    }
   ],
   "source": [
    "values = [1.0, 1.0]\n",
    "f(torch.tensor(values), results=results, trial=trial, version='pytorch')"
   ]
  },
  {
   "cell_type": "code",
   "execution_count": 63,
   "id": "a1a76857-32e7-430e-a495-2f403722be44",
   "metadata": {},
   "outputs": [
    {
     "data": {
      "text/plain": [
       "0.0"
      ]
     },
     "execution_count": 63,
     "metadata": {},
     "output_type": "execute_result"
    }
   ],
   "source": [
    "f(np.array(values), results=results, trial=trial, version='numpy')"
   ]
  },
  {
   "cell_type": "code",
   "execution_count": null,
   "id": "91bb6671-6a04-407a-aece-38324438fd31",
   "metadata": {},
   "outputs": [],
   "source": []
  }
 ],
 "metadata": {
  "kernelspec": {
   "display_name": "deeplifting",
   "language": "python",
   "name": "deeplifting"
  },
  "language_info": {
   "codemirror_mode": {
    "name": "ipython",
    "version": 3
   },
   "file_extension": ".py",
   "mimetype": "text/x-python",
   "name": "python",
   "nbconvert_exporter": "python",
   "pygments_lexer": "ipython3",
   "version": "3.9.16"
  }
 },
 "nbformat": 4,
 "nbformat_minor": 5
}
