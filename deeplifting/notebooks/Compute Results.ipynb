{
 "cells": [
  {
   "cell_type": "code",
   "execution_count": null,
   "id": "24d6eac2-953d-45c8-b3b8-35588f47e911",
   "metadata": {},
   "outputs": [],
   "source": [
    "%pwd\n",
    "%cd ../.."
   ]
  },
  {
   "cell_type": "code",
   "execution_count": null,
   "id": "77882d07-d535-4195-a248-0e409442fcba",
   "metadata": {},
   "outputs": [],
   "source": [
    "import glob\n",
    "\n",
    "import numpy as np\n",
    "import pandas as pd\n",
    "\n",
    "from deeplifting.problems import PROBLEMS_BY_NAME"
   ]
  },
  {
   "cell_type": "code",
   "execution_count": null,
   "id": "7ca1149d-3b1b-4478-b3ed-0dec5fa2b9d5",
   "metadata": {},
   "outputs": [],
   "source": [
    "# Get the results from deeplifting\n",
    "files = glob.glob('./results/results-2023-08-03-2*')\n",
    "deeplifting_results = pd.read_parquet(files)\n",
    "\n",
    "# Select specific columns for results\n",
    "deeplifting_results = deeplifting_results[\n",
    "    ['problem_name', 'algorithm', 'x1', 'x2', 'f', 'total_time', 'global_minimum']\n",
    "]\n",
    "\n",
    "# For now let's remove sine-envelope function because there is something\n",
    "# going on there\n",
    "mask = deeplifting_results['problem_name'] != 'sine_envelope'\n",
    "deeplifting_results = deeplifting_results.loc[mask].reset_index(drop=True)\n",
    "deeplifting_results['hits'] = (\n",
    "    np.abs(deeplifting_results['global_minimum'] - deeplifting_results['f']) <= 1e-4\n",
    ")\n",
    "deeplifting_results['hits'] = deeplifting_results['hits'].astype(int)\n",
    "deeplifting_results = deeplifting_results.rename(columns={'total_time': 'time'})\n",
    "deeplifting_results = deeplifting_results.drop(columns=['global_minimum'])\n",
    "deeplifting_results.head()"
   ]
  },
  {
   "cell_type": "code",
   "execution_count": null,
   "id": "cb115aa9-1f8d-4bb5-825e-b0de5318c671",
   "metadata": {},
   "outputs": [],
   "source": [
    "deeplifting_results.groupby('problem_name')['hits'].mean()"
   ]
  },
  {
   "cell_type": "code",
   "execution_count": null,
   "id": "1d122e35-2559-4822-8336-c14938dbfcd4",
   "metadata": {},
   "outputs": [],
   "source": [
    "# Load in the comparisons\n",
    "comparison_files = glob.glob('./results/algorithm-comparisons-*.parquet')\n",
    "comparison_results = pd.read_parquet(comparison_files)\n",
    "\n",
    "# # Omit sine envelope function\n",
    "# mask = comparison_results['problem_name'] != 'sine_envelope'\n",
    "# comparison_results = comparison_results.loc[mask].reset_index(drop=True)\n",
    "problems = [\n",
    "    'ackley',\n",
    "    'ackley2',\n",
    "    'adjiman',\n",
    "    'alpine1',\n",
    "    'alpine2',\n",
    "    'bartels_conn',\n",
    "    'beale',\n",
    "    'bird',\n",
    "    'bohachevsky3',\n",
    "    'booth',\n",
    "    'bukin_n4',\n",
    "    'bukin_n6',\n",
    "    'camel_3hump',\n",
    "    'camel_6hump',\n",
    "    'chung_reynolds',\n",
    "    'cube',\n",
    "    'cross_in_tray',\n",
    "    'cross_leg_table',\n",
    "    'drop_wave',\n",
    "    'eggholder',\n",
    "    'griewank',\n",
    "    'holder_table',\n",
    "    'levy',\n",
    "    'levy_n13',\n",
    "    'rastrigin',\n",
    "    'schaffer_n2',\n",
    "    'schaffer_n4',\n",
    "    'schwefel',\n",
    "    'shubert',\n",
    "    'ex8_1_1',\n",
    "    'kriging_peaks_red010',\n",
    "    'mathopt6',\n",
    "    'quantum',\n",
    "    'rosenbrock',\n",
    "    'xinsheyang_n2',\n",
    "    'xinsheyang_n3',\n",
    "    'layeb3',\n",
    "    'layeb4',\n",
    "    'layeb6',\n",
    "    'layeb7',\n",
    "    'layeb8',\n",
    "    'layeb8',\n",
    "    'layeb12',\n",
    "]\n",
    "\n",
    "comparison_results = comparison_results.loc[\n",
    "    comparison_results['problem_name'].isin(problems)\n",
    "]"
   ]
  },
  {
   "cell_type": "code",
   "execution_count": null,
   "id": "26af3401-1cff-4312-8d3a-af5e2dba05b7",
   "metadata": {},
   "outputs": [],
   "source": [
    "comparison_results['problem_name'].value_counts()"
   ]
  },
  {
   "cell_type": "code",
   "execution_count": null,
   "id": "c821c1d9-9dfc-4862-bc5c-10a3defc3b52",
   "metadata": {},
   "outputs": [],
   "source": [
    "results_df = comparison_results.copy()"
   ]
  },
  {
   "cell_type": "code",
   "execution_count": null,
   "id": "2033cd94-fab3-4639-a517-6dda9e603ee3",
   "metadata": {},
   "outputs": [],
   "source": [
    "results_df.loc[results_df['problem_name'] == 'ackley3']"
   ]
  },
  {
   "cell_type": "code",
   "execution_count": null,
   "id": "39b5a601-4ae0-4d42-8214-3d08820bfe60",
   "metadata": {},
   "outputs": [],
   "source": [
    "aggregated_results_df = (\n",
    "    results_df.groupby(['problem_name', 'algorithm'])\n",
    "    .agg({'hits': 'mean'})\n",
    "    .rename(columns={'hits': 'Success Rate'})\n",
    "    .unstack()\n",
    "    .transpose()\n",
    "    .reorder_levels(['algorithm', None])\n",
    "    .transpose()\n",
    ")"
   ]
  },
  {
   "cell_type": "code",
   "execution_count": null,
   "id": "3f1c47bf-a4ad-466c-9b10-77288ac19992",
   "metadata": {},
   "outputs": [],
   "source": [
    "aggregated_results_df.mean().sort_values(ascending=False)"
   ]
  },
  {
   "cell_type": "code",
   "execution_count": null,
   "id": "0ec59752-d6a5-48fd-9d93-48084ee66b4a",
   "metadata": {},
   "outputs": [],
   "source": [
    "aggregated_results_df"
   ]
  },
  {
   "cell_type": "code",
   "execution_count": null,
   "id": "830dd68b-d41b-4784-a439-f9a72a4fd924",
   "metadata": {},
   "outputs": [],
   "source": [
    "aggregated_results_df.shape"
   ]
  },
  {
   "cell_type": "code",
   "execution_count": null,
   "id": "254af216-1176-41a6-8697-64003f863c04",
   "metadata": {},
   "outputs": [],
   "source": [
    "file = [\n",
    "    './results/results-2023-08-2-layer-512-holder_table-0-particle-leaky_relu.parquet',\n",
    "    './results/results-2023-08-2-layer-512-mathopt6-0-particle-leaky_relu.parquet',\n",
    "    './results/results-2023-08-2-layer-schwefel-0-particle-leaky_relu.parquet',\n",
    "    './results/results-2023-08-2-layer-shubert-0-particle-leaky_relu.parquet',\n",
    "    './results/results-2023-08-2-layer-512-cross_leg_table-0-particle-leaky_relu.parquet',\n",
    "    './results/results-2023-08-2-layer-128-sum-ackley2-0-particle-leaky_relu.parquet',\n",
    "    './results/results-2023-08-2-layer-128-sum-booth-0-particle-leaky_relu.parquet',\n",
    "    './results/results-2023-08-2-layer-128-sum-adjiman-0-particle-leaky_relu.parquet',\n",
    "    './results/results-2023-08-2-layer-128-sum-bukin_n4-0-particle-leaky_relu.parquet',\n",
    "    './results/results-2023-08-2-layer-128-sum-camel_3hump-0-particle-leaky_relu.parquet',\n",
    "    './results/results-2023-08-2-layer-128-sum-alpine1-0-particle-leaky_relu.parquet',\n",
    "    './results/results-2023-08-2-layer-128-sum-camel_6hump-0-particle-leaky_relu.parquet',\n",
    "    './results/results-2023-08-2-layer-128-sum-chung_reynolds-0-particle-leaky_relu.parquet',\n",
    "    './results/results-2023-08-2-layer-128-sum-cube-0-particle-leaky_relu.parquet',\n",
    "    './results/results-2023-08-2-layer-128-sum-alpine2-0-particle-leaky_relu.parquet',\n",
    "    './results/results-2023-08-2-layer-128-sum-bartels_conn-0-particle-leaky_relu.parquet',\n",
    "    './results/results-2023-08-2-layer-128-sum-beale-0-particle-leaky_relu.parquet',\n",
    "    './results/results-2023-08-2-layer-128-sum-bird-0-particle-leaky_relu.parquet',\n",
    "    './results/results-2023-08-2-layer-128-sum-bohachevsky3-0-particle-leaky_relu.parquet',\n",
    "    './results/results-2023-08-2-layer-128-sum-xinsheyang_n2-0-particle-leaky_relu.parquet',\n",
    "    './results/results-2023-08-2-layer-128-sum-xinsheyang_n3-0-particle-leaky_relu.parquet',\n",
    "    './results/results-2023-08-2-layer-128-sum-layeb12-0-particle-leaky_relu.parquet',\n",
    "    './results/results-2023-08-2-layer-128-max-layeb3-0-particle-sine.parquet',\n",
    "    './results/results-2023-08-2-layer-128-sum-layeb4-0-particle-leaky_relu.parquet',\n",
    "]\n",
    "df = pd.read_parquet(file)"
   ]
  },
  {
   "cell_type": "code",
   "execution_count": null,
   "id": "9d45531d-ca01-43af-9ccc-b66b2d6528f8",
   "metadata": {},
   "outputs": [],
   "source": [
    "df"
   ]
  },
  {
   "cell_type": "code",
   "execution_count": null,
   "id": "d7f2d985-0666-48df-9b58-dabb06850c82",
   "metadata": {},
   "outputs": [],
   "source": [
    "df['hits'] = np.abs(df['global_minimum'] - df['f']) <= 1e-4"
   ]
  },
  {
   "cell_type": "code",
   "execution_count": null,
   "id": "68bcf920-be4f-400e-9e71-b610e795acc1",
   "metadata": {},
   "outputs": [],
   "source": [
    "df.groupby('problem_name')['hits'].agg(['mean', 'count'])"
   ]
  },
  {
   "cell_type": "code",
   "execution_count": null,
   "id": "f8def1ee-ae5b-451e-96cc-7d1301539bae",
   "metadata": {},
   "outputs": [],
   "source": [
    "import numpy as np\n",
    "import matplotlib.pyplot as plt\n",
    "\n",
    "\n",
    "def xinsheyang02(x, y):\n",
    "    numerator = np.abs(x) + np.abs(y)\n",
    "    demoninator = np.exp(np.sin(x**2) + np.sin(y**2))\n",
    "    return numerator / demoninator\n",
    "\n",
    "\n",
    "x = np.linspace(-2 * np.pi, 2 * np.pi, 10000)\n",
    "y = np.linspace(-2 * np.pi, 2 * np.pi, 10000)\n",
    "X, Y = np.meshgrid(x, y)\n",
    "Z = xinsheyang02(X, Y)\n",
    "\n",
    "fig = plt.figure()\n",
    "ax = fig.add_subplot(111, projection='3d')\n",
    "ax.plot_surface(X, Y, Z, cmap='jet')\n",
    "\n",
    "ax.set_xlabel('X axis')\n",
    "ax.set_ylabel('Y axis')\n",
    "ax.set_zlabel('Z axis')\n",
    "ax.set_title('3D Plot of Ackley Function')\n",
    "\n",
    "plt.show()"
   ]
  },
  {
   "cell_type": "code",
   "execution_count": null,
   "id": "56abf0ca-5b46-4fc8-b9b5-a44eaeec0f84",
   "metadata": {},
   "outputs": [],
   "source": [
    "import numpy as np\n",
    "import matplotlib.pyplot as plt\n",
    "\n",
    "\n",
    "def crosslegtable(x, y):\n",
    "    component1 = np.sin(x) * np.sin(y)\n",
    "    component2 = np.exp(np.abs(100 - (np.sqrt(x**2 + y**2)) / np.pi))\n",
    "    denominator = np.abs(component1 * component2) + 1\n",
    "    return -1 / (denominator) ** 0.1\n",
    "\n",
    "\n",
    "x = np.linspace(-0.1, 0.1, 20000)\n",
    "y = np.linspace(-0.1, 0.1, 20000)\n",
    "X, Y = np.meshgrid(x, y)\n",
    "Z = crosslegtable(X, Y)\n",
    "\n",
    "fig = plt.figure()\n",
    "ax = fig.add_subplot(111, projection='3d')\n",
    "ax.plot_surface(X, Y, Z, cmap='jet')\n",
    "\n",
    "ax.set_xlabel('X axis')\n",
    "ax.set_ylabel('Y axis')\n",
    "ax.set_zlabel('Z axis')\n",
    "ax.set_title('3D Plot of  Function')\n",
    "\n",
    "plt.show()"
   ]
  },
  {
   "cell_type": "code",
   "execution_count": null,
   "id": "5843812f-5719-446a-b8a9-e188a9add324",
   "metadata": {},
   "outputs": [],
   "source": [
    "crosslegtable(0, 0)"
   ]
  },
  {
   "cell_type": "code",
   "execution_count": null,
   "id": "cc03cc26-de9c-48aa-b88c-0f3453d6cd15",
   "metadata": {},
   "outputs": [],
   "source": [
    "problem = PROBLEMS_BY_NAME['damavandi']"
   ]
  },
  {
   "cell_type": "code",
   "execution_count": null,
   "id": "b26d0ec1-0fa8-4876-af46-1394b922527b",
   "metadata": {},
   "outputs": [],
   "source": [
    "problem"
   ]
  },
  {
   "cell_type": "code",
   "execution_count": null,
   "id": "b741e985-7016-4269-828a-eb71e860074f",
   "metadata": {},
   "outputs": [],
   "source": [
    "import numpy as np\n",
    "import torch"
   ]
  },
  {
   "cell_type": "code",
   "execution_count": null,
   "id": "244f6981-cda0-4bb3-be81-04a193e48bea",
   "metadata": {},
   "outputs": [],
   "source": [
    "results = np.zeros((1, 1, 3))\n",
    "trial = 0\n",
    "f = problem['objective']"
   ]
  },
  {
   "cell_type": "code",
   "execution_count": null,
   "id": "0c7699c9-0f9c-464d-9093-9929994a6c4a",
   "metadata": {},
   "outputs": [],
   "source": [
    "values = [1, 10]\n",
    "f(torch.tensor(values), results=results, trial=trial, version='pytorch')"
   ]
  },
  {
   "cell_type": "code",
   "execution_count": null,
   "id": "a1a76857-32e7-430e-a495-2f403722be44",
   "metadata": {},
   "outputs": [],
   "source": [
    "f(np.array(values), results=results, trial=trial, version='numpy')"
   ]
  },
  {
   "cell_type": "code",
   "execution_count": null,
   "id": "91bb6671-6a04-407a-aece-38324438fd31",
   "metadata": {},
   "outputs": [],
   "source": [
    "x = [0, 1, 2, 3, 4]"
   ]
  },
  {
   "cell_type": "code",
   "execution_count": null,
   "id": "1ea39488-7b05-4578-a532-dca1d2dbf18b",
   "metadata": {},
   "outputs": [],
   "source": [
    "x[slice(0, 2)]"
   ]
  },
  {
   "cell_type": "code",
   "execution_count": null,
   "id": "fcae89ae-bfc5-48d5-b9ab-2eaac2cd38b3",
   "metadata": {},
   "outputs": [],
   "source": [
    "x1, x2 = 0, 2\n",
    "\n",
    "r = x1**2 + x2**2\n",
    "theta = np.arctan(x2 / x1)\n",
    "component1 = (r - 10) / (5**0.5 * np.cos(theta))"
   ]
  },
  {
   "cell_type": "code",
   "execution_count": null,
   "id": "2fec6fcf-55df-4217-acf4-69d17d3b3a81",
   "metadata": {},
   "outputs": [],
   "source": [
    "(r, theta, component1)"
   ]
  },
  {
   "cell_type": "code",
   "execution_count": null,
   "id": "75917f00-7ddc-4b71-9f07-e03da9a70658",
   "metadata": {},
   "outputs": [],
   "source": [
    "(1 - np.abs(component1) ** 5) * (2 + component1)"
   ]
  },
  {
   "cell_type": "code",
   "execution_count": null,
   "id": "8022956e-2570-4d7d-aefd-f6b589724373",
   "metadata": {},
   "outputs": [],
   "source": [
    "np.sqrt(5)"
   ]
  },
  {
   "cell_type": "code",
   "execution_count": null,
   "id": "ff040710-15da-4517-b767-bb0ce75c7ccb",
   "metadata": {},
   "outputs": [],
   "source": [
    "5**0.5"
   ]
  },
  {
   "cell_type": "code",
   "execution_count": null,
   "id": "74b160d9-5cbc-4103-a657-97cf3a974dfb",
   "metadata": {},
   "outputs": [],
   "source": [
    "x1, x2 = 0, 0\n",
    "numerator = np.abs(x1) + np.abs(x2)\n",
    "demoninator = np.exp(np.sin(x1**2) + np.sin())"
   ]
  }
 ],
 "metadata": {
  "kernelspec": {
   "display_name": "deeplifting",
   "language": "python",
   "name": "deeplifting"
  },
  "language_info": {
   "codemirror_mode": {
    "name": "ipython",
    "version": 3
   },
   "file_extension": ".py",
   "mimetype": "text/x-python",
   "name": "python",
   "nbconvert_exporter": "python",
   "pygments_lexer": "ipython3",
   "version": "3.9.16"
  }
 },
 "nbformat": 4,
 "nbformat_minor": 5
}
