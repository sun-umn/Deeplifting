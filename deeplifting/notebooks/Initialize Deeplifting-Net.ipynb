{
 "cells": [
  {
   "cell_type": "code",
   "execution_count": 1,
   "id": "d3ca349a-8a11-43b3-bdd9-efa03e5bfac8",
   "metadata": {},
   "outputs": [
    {
     "name": "stdout",
     "output_type": "stream",
     "text": [
      "/Users/ryandevera/data-science/umn_environments/Deeplifting\n"
     ]
    }
   ],
   "source": [
    "%pwd\n",
    "%cd ../.."
   ]
  },
  {
   "cell_type": "code",
   "execution_count": 6,
   "id": "62df7164-d607-4617-a421-f13ab7fb2586",
   "metadata": {},
   "outputs": [],
   "source": [
    "import json\n",
    "\n",
    "import torch\n",
    "\n",
    "from deeplifting.models import DeepliftingSkipMLP"
   ]
  },
  {
   "cell_type": "code",
   "execution_count": 3,
   "id": "18c2d196-f388-4ab2-a15e-7c6482ed3826",
   "metadata": {},
   "outputs": [
    {
     "name": "stdout",
     "output_type": "stream",
     "text": [
      "README.md         deeplifting.png   \u001b[1m\u001b[36mmodels\u001b[m\u001b[m/           tasks.py\n",
      "\u001b[1m\u001b[36m__pycache__\u001b[m\u001b[m/      \u001b[1m\u001b[36mimages\u001b[m\u001b[m/           requirements.txt\n",
      "\u001b[1m\u001b[36mdeeplifting\u001b[m\u001b[m/      \u001b[1m\u001b[36mjobs\u001b[m\u001b[m/             \u001b[1m\u001b[36mresults\u001b[m\u001b[m/\n"
     ]
    }
   ],
   "source": [
    "%ls"
   ]
  },
  {
   "cell_type": "code",
   "execution_count": 5,
   "id": "4b733318-3ed7-4dfe-be31-55d77a144a88",
   "metadata": {},
   "outputs": [],
   "source": [
    "config_0 = './models/config-eggholder-0-False.json'\n",
    "model_weights_0 = './models/eggholder-0-False.pt'"
   ]
  },
  {
   "cell_type": "code",
   "execution_count": 10,
   "id": "195251c8-85f6-4399-a325-059d83119a11",
   "metadata": {},
   "outputs": [],
   "source": [
    "with open(config_0, 'r') as json_file:\n",
    "    config = json.load(json_file)"
   ]
  },
  {
   "cell_type": "code",
   "execution_count": 11,
   "id": "4a4f43dd-75db-4a52-aaf4-83ae22d5ece1",
   "metadata": {},
   "outputs": [
    {
     "data": {
      "text/plain": [
       "{'input_size': 512,\n",
       " 'hidden_sizes': [128, 128],\n",
       " 'dimensions': 2,\n",
       " 'bounds': [[-512.0, 512.0], [-512.0, 512.0]],\n",
       " 'activation': 'sine',\n",
       " 'output_activation': 'leaky_relu',\n",
       " 'agg_function': 'sum',\n",
       " 'seed': 0,\n",
       " 'global_minimum': -959.6407}"
      ]
     },
     "execution_count": 11,
     "metadata": {},
     "output_type": "execute_result"
    }
   ],
   "source": [
    "config"
   ]
  },
  {
   "cell_type": "code",
   "execution_count": 13,
   "id": "8540099f-7ebc-4a51-98bd-fbb7ca447ebe",
   "metadata": {},
   "outputs": [],
   "source": [
    "# Intialize model inputs\n",
    "input_size = config['input_size']\n",
    "hidden_sizes = config['hidden_sizes']\n",
    "output_size = config['dimensions']\n",
    "bounds = config['bounds']\n",
    "activation = config['activation']\n",
    "output_activation = config['output_activation']\n",
    "agg_function = config['agg_function']\n",
    "\n",
    "model = DeepliftingSkipMLP(\n",
    "    input_size=input_size,\n",
    "    hidden_sizes=hidden_sizes,\n",
    "    output_size=output_size,\n",
    "    bounds=bounds,\n",
    "    activation=activation,\n",
    "    output_activation=output_activation,\n",
    "    agg_function=agg_function,\n",
    ")"
   ]
  },
  {
   "cell_type": "code",
   "execution_count": 14,
   "id": "51bdb164-8f3e-4e38-a9bf-2bbd5c082fd7",
   "metadata": {},
   "outputs": [
    {
     "data": {
      "text/plain": [
       "<All keys matched successfully>"
      ]
     },
     "execution_count": 14,
     "metadata": {},
     "output_type": "execute_result"
    }
   ],
   "source": [
    "model.load_state_dict(torch.load(model_weights_0))"
   ]
  },
  {
   "cell_type": "code",
   "execution_count": null,
   "id": "183ceb1a-b5e0-4c6a-95da-938924c2e582",
   "metadata": {},
   "outputs": [],
   "source": []
  }
 ],
 "metadata": {
  "kernelspec": {
   "display_name": "deeplifting",
   "language": "python",
   "name": "deeplifting"
  },
  "language_info": {
   "codemirror_mode": {
    "name": "ipython",
    "version": 3
   },
   "file_extension": ".py",
   "mimetype": "text/x-python",
   "name": "python",
   "nbconvert_exporter": "python",
   "pygments_lexer": "ipython3",
   "version": "3.9.11"
  }
 },
 "nbformat": 4,
 "nbformat_minor": 5
}
