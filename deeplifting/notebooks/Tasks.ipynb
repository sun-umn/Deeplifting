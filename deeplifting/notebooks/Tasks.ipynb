{
 "cells": [
  {
   "cell_type": "code",
   "execution_count": null,
   "id": "bb4cb425-b8fb-496b-8fbc-e425a5adb6f2",
   "metadata": {},
   "outputs": [],
   "source": [
    "%pwd\n",
    "%cd ../.."
   ]
  },
  {
   "cell_type": "code",
   "execution_count": null,
   "id": "0589f4de-a360-4f4b-9fc2-13bb7bb91475",
   "metadata": {},
   "outputs": [],
   "source": [
    "import time\n",
    "from functools import partial\n",
    "\n",
    "import matplotlib.pyplot as plt\n",
    "import numpy as np\n",
    "import pandas as pd\n",
    "\n",
    "from deeplifting.problems import PROBLEMS_BY_NAME\n",
    "from deeplifting.optimization import (\n",
    "    run_deeplifting,\n",
    "    run_differential_evolution,\n",
    "    run_dual_annealing,\n",
    "    run_ipopt,\n",
    "    run_pygranso,\n",
    ")"
   ]
  },
  {
   "cell_type": "code",
   "execution_count": null,
   "id": "10ee3643-8695-4873-904b-1b8c6eaba6d7",
   "metadata": {},
   "outputs": [],
   "source": [
    "problem_names = [\n",
    "    'ackley',\n",
    "    'bukin_n6',\n",
    "    'cross_in_tray',\n",
    "    'drop_wave',\n",
    "    'eggholder',\n",
    "    'griewank',\n",
    "    'holder_table',\n",
    "    'levy',\n",
    "    'levy_n13',\n",
    "    'rastrigin',\n",
    "    'schaffer_n2',\n",
    "    'schaffer_n4',\n",
    "    'schwefel',\n",
    "    'shubert',\n",
    "    'cross_leg_table',\n",
    "    'mathopt6'\n",
    "]"
   ]
  },
  {
   "cell_type": "code",
   "execution_count": null,
   "id": "96d86b88-5b73-4ed8-97a9-8068a75e39fc",
   "metadata": {},
   "outputs": [],
   "source": [
    "problem_performance_list = []\n",
    "trials = 10\n",
    "\n",
    "for problem_name in problem_names:\n",
    "    print(problem_name)\n",
    "    # Setup the problem\n",
    "    problem = PROBLEMS_BY_NAME[problem_name]\n",
    "\n",
    "    # Get the known minimum\n",
    "    minimum_value = problem['global_minimum']\n",
    "\n",
    "    # First run IPOPT\n",
    "    outputs = run_ipopt(problem, trials=trials)\n",
    "\n",
    "    # Get the final results for all IPOPT runs\n",
    "    ipopt_results = pd.DataFrame(\n",
    "        outputs['final_results'], columns=['x1', 'x2', 'f', 'algorithm', 'time']\n",
    "    )\n",
    "    ipopt_results['problem_name'] = problem_name\n",
    "    ipopt_results['hits'] = np.where(\n",
    "        np.abs(ipopt_results['f'] - minimum_value) <= 1e-4, 1, 0\n",
    "    )\n",
    "\n",
    "    # Add IPOPT to the problem_performance_list\n",
    "    problem_performance_list.append(ipopt_results)\n",
    "\n",
    "    # Next add dual annealing\n",
    "    outputs = run_dual_annealing(problem, trials=trials)\n",
    "\n",
    "    # Get the final results for all dual annealing runs\n",
    "    dual_annleaing_results = pd.DataFrame(\n",
    "        outputs['final_results'], columns=['x1', 'x2', 'f', 'algorithm', 'time']\n",
    "    )\n",
    "    dual_annleaing_results['problem_name'] = problem_name\n",
    "    dual_annleaing_results['hits'] = np.where(\n",
    "        np.abs(dual_annleaing_results['f'] - minimum_value) <= 1e-4, 1, 0\n",
    "    )\n",
    "\n",
    "    # Add dual annealing to the problem_performance_list\n",
    "    problem_performance_list.append(dual_annleaing_results)\n",
    "\n",
    "    # Next add differential evolution\n",
    "    outputs = run_differential_evolution(problem, trials=trials)\n",
    "\n",
    "    # Get the final results for all differential evolution runs\n",
    "    differential_evolution_results = pd.DataFrame(\n",
    "        outputs['final_results'], columns=['x1', 'x2', 'f', 'algorithm', 'time']\n",
    "    )\n",
    "    differential_evolution_results['problem_name'] = problem_name\n",
    "    differential_evolution_results['hits'] = np.where(\n",
    "        np.abs(differential_evolution_results['f'] - minimum_value) <= 1e-4, 1, 0\n",
    "    )\n",
    "\n",
    "    # Add differential evolution to the problem_performance_list\n",
    "    problem_performance_list.append(differential_evolution_results)\n",
    "\n",
    "    # Next add pygranso\n",
    "    outputs = run_pygranso(problem, trials=trials)\n",
    "\n",
    "    # Get the final results for all differential evolution runs\n",
    "    pygranso_results = pd.DataFrame(\n",
    "        outputs['final_results'], columns=['x1', 'x2', 'f', 'algorithm', 'time']\n",
    "    )\n",
    "    pygranso_results['problem_name'] = problem_name\n",
    "    pygranso_results['hits'] = np.where(\n",
    "        np.abs(pygranso_results['f'] - minimum_value) <= 1e-4, 1, 0\n",
    "    )\n",
    "\n",
    "    # Add differential evolution to the problem_performance_list\n",
    "    problem_performance_list.append(pygranso_results)\n",
    "\n",
    "    # Finally, add deeplifting\n",
    "    outputs = run_deeplifting(problem, trials=trials)\n",
    "\n",
    "    # Get the final results for all differential evolution runs\n",
    "    deeplifting_results = pd.DataFrame(\n",
    "        outputs['final_results'], columns=['x1', 'x2', 'f', 'algorithm', 'time']\n",
    "    )\n",
    "    deeplifting_results['problem_name'] = problem_name\n",
    "    deeplifting_results['hits'] = np.where(\n",
    "        np.abs(deeplifting_results['f'] - minimum_value) <= 1e-4, 1, 0\n",
    "    )\n",
    "\n",
    "    # Add differential evolution to the problem_performance_list\n",
    "    problem_performance_list.append(deeplifting_results)"
   ]
  },
  {
   "cell_type": "code",
   "execution_count": null,
   "id": "0ea1e5d1-eff5-47e9-b5b2-d535ca2a77e5",
   "metadata": {},
   "outputs": [],
   "source": [
    "results_df = pd.concat(problem_performance_list, ignore_index=True)"
   ]
  },
  {
   "cell_type": "code",
   "execution_count": null,
   "id": "2780244d-d272-4fe3-bfd9-38ea6568c17a",
   "metadata": {},
   "outputs": [],
   "source": [
    "results_df"
   ]
  },
  {
   "cell_type": "code",
   "execution_count": null,
   "id": "e678390f-6905-4316-8b94-2eef219dd251",
   "metadata": {},
   "outputs": [],
   "source": [
    "performance_df = (\n",
    "    results_df.groupby(['problem_name', 'algorithm'])\n",
    "    .agg({'hits': 'mean', 'time': 'sum'})\n",
    "    .reset_index()\n",
    "    .rename(columns={'hits': 'Success Rate', 'time': 'Total Run Time'})\n",
    ")"
   ]
  },
  {
   "cell_type": "code",
   "execution_count": null,
   "id": "2b36ba13-8133-4144-a888-67cee7010e94",
   "metadata": {},
   "outputs": [],
   "source": [
    "performance_df"
   ]
  },
  {
   "cell_type": "code",
   "execution_count": null,
   "id": "26784ecb-ce27-4002-b6d1-7a3b6960e583",
   "metadata": {},
   "outputs": [],
   "source": [
    "performance_df = (\n",
    "    performance_df.pivot_table(\n",
    "        index='problem_name',\n",
    "        columns='algorithm',\n",
    "        values=['Success Rate', 'Total Run Time'],\n",
    "    )\n",
    "    .T.reorder_levels(['algorithm', None])\n",
    "    .sort_index()\n",
    "    .T\n",
    ")"
   ]
  },
  {
   "cell_type": "code",
   "execution_count": null,
   "id": "d73369bb-9a64-4260-bd9e-1a33cc9c271c",
   "metadata": {},
   "outputs": [],
   "source": [
    "performance_df = performance_df.apply(lambda x: np.round(x, 3))"
   ]
  },
  {
   "cell_type": "code",
   "execution_count": null,
   "id": "fe4dec54-9f00-4ad0-a64c-e3142586dda1",
   "metadata": {},
   "outputs": [],
   "source": [
    "performance_df.to_csv('/Users/ryandevera/Desktop/deeplifting_results.csv')"
   ]
  },
  {
   "cell_type": "code",
   "execution_count": null,
   "id": "75534aee-65fb-4324-9ec8-7f1c6c140dd3",
   "metadata": {},
   "outputs": [],
   "source": [
    "performance_df"
   ]
  },
  {
   "cell_type": "code",
   "execution_count": null,
   "id": "b72824d9-65c9-4f39-8298-e6b735a1b70d",
   "metadata": {},
   "outputs": [],
   "source": [
    "%ls results/"
   ]
  },
  {
   "cell_type": "code",
   "execution_count": null,
   "id": "46a2839d-18a5-4c36-acd4-c3ef3f8081f4",
   "metadata": {},
   "outputs": [],
   "source": [
    "import pandas"
   ]
  },
  {
   "cell_type": "code",
   "execution_count": null,
   "id": "a28f9c8a-e1c3-4b6f-8fa3-3704c11f7a2d",
   "metadata": {},
   "outputs": [],
   "source": []
  }
 ],
 "metadata": {
  "kernelspec": {
   "display_name": "deeplifting",
   "language": "python",
   "name": "deeplifting"
  },
  "language_info": {
   "codemirror_mode": {
    "name": "ipython",
    "version": 3
   },
   "file_extension": ".py",
   "mimetype": "text/x-python",
   "name": "python",
   "nbconvert_exporter": "python",
   "pygments_lexer": "ipython3",
   "version": "3.9.16"
  }
 },
 "nbformat": 4,
 "nbformat_minor": 5
}
