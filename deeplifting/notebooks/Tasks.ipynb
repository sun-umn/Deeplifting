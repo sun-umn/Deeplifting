{
 "cells": [
  {
   "cell_type": "code",
   "execution_count": null,
   "id": "bb4cb425-b8fb-496b-8fbc-e425a5adb6f2",
   "metadata": {},
   "outputs": [],
   "source": [
    "%pwd\n",
    "%cd ../.."
   ]
  },
  {
   "cell_type": "code",
   "execution_count": null,
   "id": "0589f4de-a360-4f4b-9fc2-13bb7bb91475",
   "metadata": {},
   "outputs": [],
   "source": [
    "import time\n",
    "from functools import partial\n",
    "\n",
    "import matplotlib.pyplot as plt\n",
    "import numpy as np\n",
    "import pandas as pd\n",
    "\n",
    "from deeplifting.problems import PROBLEMS_BY_NAME\n",
    "from deeplifting.optimization import (\n",
    "    run_deeplifting,\n",
    "    run_differential_evolution,\n",
    "    run_dual_annealing,\n",
    "    run_ipopt,\n",
    "    run_pygranso,\n",
    ")"
   ]
  },
  {
   "cell_type": "code",
   "execution_count": null,
   "id": "10ee3643-8695-4873-904b-1b8c6eaba6d7",
   "metadata": {},
   "outputs": [],
   "source": [
    "problem_names = [\n",
    "    # 'ackley',\n",
    "    # 'bukin_n6',\n",
    "    # 'cross_in_tray',\n",
    "    # 'drop_wave',\n",
    "    'eggholder',\n",
    "    # 'griewank',\n",
    "    # 'holder_table',\n",
    "    # 'levy',\n",
    "    # 'levy_n13',\n",
    "    # 'rastrigin',\n",
    "    # 'schaffer_n2',\n",
    "    # 'schaffer_n4',\n",
    "    # 'schwefel',\n",
    "    # 'shubert',\n",
    "]"
   ]
  },
  {
   "cell_type": "code",
   "execution_count": null,
   "id": "96d86b88-5b73-4ed8-97a9-8068a75e39fc",
   "metadata": {},
   "outputs": [],
   "source": [
    "problem_performance_list = []\n",
    "trials = 2\n",
    "\n",
    "for problem_name in problem_names:\n",
    "    print(problem_name)\n",
    "    # Setup the problem\n",
    "    problem = PROBLEMS_BY_NAME[problem_name]\n",
    "\n",
    "    # Get the known minimum\n",
    "    minimum_value = problem['global_minimum']\n",
    "\n",
    "    # First run IPOPT\n",
    "    outputs_ipopt = run_ipopt(problem, trials=trials)\n",
    "\n",
    "    # # Get the final results for all IPOPT runs\n",
    "    # ipopt_results = pd.DataFrame(\n",
    "    #     outputs['final_results'],\n",
    "    #     columns=['x1', 'x2', 'f', 'algorithm', 'time']\n",
    "    # )\n",
    "    # ipopt_results['problem_name'] = problem_name\n",
    "    # ipopt_results['hits'] = np.where(\n",
    "    #     np.abs(ipopt_results['f'] - minimum_value) <= 1e-4, 1, 0\n",
    "    # )\n",
    "\n",
    "    # # Add IPOPT to the problem_performance_list\n",
    "    # problem_performance_list.append(ipopt_results)\n",
    "\n",
    "    # Next add dual annealing\n",
    "    outputs_dual_annealing = run_dual_annealing(problem, trials=trials)\n",
    "\n",
    "    # # Get the final results for all dual annealing runs\n",
    "    # dual_annleaing_results = pd.DataFrame(\n",
    "    #     outputs['final_results'],\n",
    "    #     columns=['x1', 'x2', 'f', 'algorithm', 'time']\n",
    "    # )\n",
    "    # dual_annleaing_results['problem_name'] = problem_name\n",
    "    # dual_annleaing_results['hits'] = np.where(\n",
    "    #     np.abs(dual_annleaing_results['f'] - minimum_value) <= 1e-4, 1, 0\n",
    "    # )\n",
    "\n",
    "    # # Add dual annealing to the problem_performance_list\n",
    "    # problem_performance_list.append(dual_annleaing_results)\n",
    "\n",
    "    # Next add differential evolution\n",
    "    outputs_differential_evolution = run_differential_evolution(problem, trials=trials)\n",
    "\n",
    "    # # Get the final results for all differential evolution runs\n",
    "    # differential_evolution_results = pd.DataFrame(\n",
    "    #     outputs['final_results'],\n",
    "    #     columns=['x1', 'x2', 'f', 'algorithm', 'time']\n",
    "    # )\n",
    "    # differential_evolution_results['problem_name'] = problem_name\n",
    "    # differential_evolution_results['hits'] = np.where(\n",
    "    #     np.abs(differential_evolution_results['f'] - minimum_value) <= 1e-4, 1, 0\n",
    "    # )\n",
    "\n",
    "    # # Add differential evolution to the problem_performance_list\n",
    "    # problem_performance_list.append(differential_evolution_results)\n",
    "\n",
    "    # Next add pygranso\n",
    "    outputs = run_pygranso(problem, trials=trials)\n",
    "\n",
    "    # # Get the final results for all differential evolution runs\n",
    "    # pygranso_results = pd.DataFrame(\n",
    "    #     outputs['final_results'],\n",
    "    #     columns=['x1', 'x2', 'f', 'algorithm', 'time']\n",
    "    # )\n",
    "    # pygranso_results['problem_name'] = problem_name\n",
    "    # pygranso_results['hits'] = np.where(\n",
    "    #     np.abs(pygranso_results['f'] - minimum_value) <= 1e-4, 1, 0\n",
    "    # )\n",
    "\n",
    "    # # Add differential evolution to the problem_performance_list\n",
    "    # problem_performance_list.append(pygranso_results)\n",
    "\n",
    "    # # Finally, add deeplifting\n",
    "    # outputs = run_deeplifting(problem, trials=trials)\n",
    "\n",
    "    # # Get the final results for all differential evolution runs\n",
    "    # deeplifting_results = pd.DataFrame(\n",
    "    #     outputs['final_results'],\n",
    "    #     columns=['x1', 'x2', 'f', 'algorithm', 'time']\n",
    "    # )\n",
    "    # deeplifting_results['problem_name'] = problem_name\n",
    "    # deeplifting_results['hits'] = np.where(\n",
    "    #     np.abs(deeplifting_results['f'] - minimum_value) <= 1e-4, 1, 0\n",
    "    # )\n",
    "\n",
    "    # # Add differential evolution to the problem_performance_list\n",
    "    # problem_performance_list.append(deeplifting_results)"
   ]
  },
  {
   "cell_type": "code",
   "execution_count": null,
   "id": "0ea1e5d1-eff5-47e9-b5b2-d535ca2a77e5",
   "metadata": {},
   "outputs": [],
   "source": [
    "# results_df = pd.concat(problem_performance_list, ignore_index=True)"
   ]
  },
  {
   "cell_type": "code",
   "execution_count": null,
   "id": "e678390f-6905-4316-8b94-2eef219dd251",
   "metadata": {},
   "outputs": [],
   "source": [
    "# performance_df = (\n",
    "#     results_df\n",
    "#     .groupby(['problem_name', 'algorithm'])\n",
    "#     .agg({'hits': 'mean', 'time': 'sum'})\n",
    "#     .reset_index()\n",
    "#     .rename(columns={'hits': 'Success Rate', 'time': 'Total Run Time'})\n",
    "# )"
   ]
  },
  {
   "cell_type": "code",
   "execution_count": null,
   "id": "2b36ba13-8133-4144-a888-67cee7010e94",
   "metadata": {},
   "outputs": [],
   "source": [
    "# performance_df"
   ]
  },
  {
   "cell_type": "code",
   "execution_count": null,
   "id": "3105e1cc-535c-47b5-9be1-06c98a70cf12",
   "metadata": {},
   "outputs": [],
   "source": [
    "outputs['results'][1][:20, :]"
   ]
  },
  {
   "cell_type": "code",
   "execution_count": null,
   "id": "26784ecb-ce27-4002-b6d1-7a3b6960e583",
   "metadata": {},
   "outputs": [],
   "source": [
    "# performance_df = (\n",
    "#     performance_df\n",
    "#     .pivot_table(\n",
    "#         index='problem_name',\n",
    "#         columns='algorithm',\n",
    "#         values=['Success Rate', 'Total Run Time']\n",
    "#     )\n",
    "#     .T\n",
    "#     .reorder_levels(['algorithm', None])\n",
    "#     .sort_index()\n",
    "#     .T\n",
    "# )"
   ]
  },
  {
   "cell_type": "code",
   "execution_count": null,
   "id": "d73369bb-9a64-4260-bd9e-1a33cc9c271c",
   "metadata": {},
   "outputs": [],
   "source": [
    "# performance_df = performance_df.apply(lambda x: np.round(x, 3))"
   ]
  },
  {
   "cell_type": "code",
   "execution_count": null,
   "id": "fe4dec54-9f00-4ad0-a64c-e3142586dda1",
   "metadata": {},
   "outputs": [],
   "source": [
    "# performance_df.to_csv('/Users/ryandevera/Desktop/deeplifting_results.csv')"
   ]
  },
  {
   "cell_type": "code",
   "execution_count": null,
   "id": "75534aee-65fb-4324-9ec8-7f1c6c140dd3",
   "metadata": {},
   "outputs": [],
   "source": [
    "# performance_df"
   ]
  },
  {
   "cell_type": "code",
   "execution_count": null,
   "id": "3c831907-fdb7-42de-a201-1fdc14a4488c",
   "metadata": {},
   "outputs": [],
   "source": [
    "outputs_ipopt"
   ]
  },
  {
   "cell_type": "code",
   "execution_count": null,
   "id": "d0808d29-ec71-4e2a-a0f6-7825036bf832",
   "metadata": {},
   "outputs": [],
   "source": [
    "index = 1\n",
    "ipopt_outputs = outputs_ipopt['results'][index, :, :]"
   ]
  },
  {
   "cell_type": "code",
   "execution_count": null,
   "id": "0bea5232-0847-4eec-bb66-6113947c92d0",
   "metadata": {},
   "outputs": [],
   "source": [
    "ipopt_outputs = ipopt_outputs[~np.isnan(ipopt_outputs).any(axis=1)]"
   ]
  },
  {
   "cell_type": "code",
   "execution_count": null,
   "id": "dcd8021d-e9ad-4cff-ae7a-10067ef9a679",
   "metadata": {},
   "outputs": [],
   "source": [
    "midpoint = len(ipopt_outputs) // 2\n",
    "ipopt_outputs = ipopt_outputs[[0, midpoint, -1], :2]"
   ]
  },
  {
   "cell_type": "code",
   "execution_count": null,
   "id": "b72824d9-65c9-4f39-8298-e6b735a1b70d",
   "metadata": {},
   "outputs": [],
   "source": [
    "ipopt_outputs = ipopt_outputs.tolist()"
   ]
  },
  {
   "cell_type": "code",
   "execution_count": null,
   "id": "44cfd9c1-3507-411d-8a16-d48ad52f481c",
   "metadata": {},
   "outputs": [],
   "source": [
    "ipopt_outputs"
   ]
  },
  {
   "cell_type": "code",
   "execution_count": null,
   "id": "52750da5-980e-4b32-91d0-85d7da072674",
   "metadata": {},
   "outputs": [],
   "source": [
    "dual_annealing_outputs = outputs_dual_annealing['callbacks'][index].x_history\n",
    "differential_evolution_outputs = outputs_differential_evolution['callbacks'][\n",
    "    index\n",
    "].x_history"
   ]
  },
  {
   "cell_type": "code",
   "execution_count": null,
   "id": "5d84d781-8eb1-41ba-bccc-3c4e19debcb2",
   "metadata": {},
   "outputs": [],
   "source": [
    "trajectories = [\n",
    "    ipopt_outputs,\n",
    "    dual_annealing_outputs,\n",
    "    differential_evolution_outputs,\n",
    "]\n",
    "\n",
    "models = ['IPOPT', 'Dual Annealing', 'Differential Evolution']"
   ]
  },
  {
   "cell_type": "code",
   "execution_count": null,
   "id": "7dff894d-53b2-4a53-b84d-49136784430d",
   "metadata": {},
   "outputs": [],
   "source": [
    "from deeplifting.utils import create_contour_plot"
   ]
  },
  {
   "cell_type": "code",
   "execution_count": null,
   "id": "88d5bcd5-9bed-4be6-b3da-81f07f6fc3fe",
   "metadata": {},
   "outputs": [],
   "source": [
    "fig = create_contour_plot(\n",
    "    problem_name=problem_name,\n",
    "    problem=problem,\n",
    "    models=models,\n",
    "    trajectories=trajectories,\n",
    "    colormap='OrRd_r',\n",
    ")"
   ]
  },
  {
   "cell_type": "code",
   "execution_count": null,
   "id": "115ceb3e-5999-4dca-b6a4-881241b2dcd2",
   "metadata": {},
   "outputs": [],
   "source": []
  },
  {
   "cell_type": "code",
   "execution_count": null,
   "id": "b04eb93e-a54e-4b61-bc25-d8e3363777b0",
   "metadata": {},
   "outputs": [],
   "source": [
    "from cyipopt import minimize_ipopt"
   ]
  },
  {
   "cell_type": "code",
   "execution_count": null,
   "id": "e73a28f6-3f3e-4fa9-994c-f2f6c2199d07",
   "metadata": {},
   "outputs": [],
   "source": [
    "?minimize_ipopt"
   ]
  },
  {
   "cell_type": "code",
   "execution_count": null,
   "id": "46a946e0-5276-4bc6-a881-5b706dfce53b",
   "metadata": {},
   "outputs": [],
   "source": []
  }
 ],
 "metadata": {
  "kernelspec": {
   "display_name": "deeplifting",
   "language": "python",
   "name": "deeplifting"
  },
  "language_info": {
   "codemirror_mode": {
    "name": "ipython",
    "version": 3
   },
   "file_extension": ".py",
   "mimetype": "text/x-python",
   "name": "python",
   "nbconvert_exporter": "python",
   "pygments_lexer": "ipython3",
   "version": "3.9.11"
  }
 },
 "nbformat": 4,
 "nbformat_minor": 5
}
