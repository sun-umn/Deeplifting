{
 "cells": [
  {
   "cell_type": "code",
   "execution_count": 1,
   "id": "61374db9-d2e5-4336-8eb8-a209450565a8",
   "metadata": {},
   "outputs": [],
   "source": [
    "import torch"
   ]
  },
  {
   "cell_type": "code",
   "execution_count": 2,
   "id": "f04603bc-6507-4100-b211-94ce32132dd7",
   "metadata": {},
   "outputs": [],
   "source": [
    "# This is the code that we found from the facebook research paper"
   ]
  },
  {
   "cell_type": "code",
   "execution_count": 3,
   "id": "cb25ebd2-d6a5-421c-9d07-b0bbe64feb0c",
   "metadata": {},
   "outputs": [],
   "source": [
    "class ScaledTanh(torch.nn.Module):\n",
    "    def __init__(self, a=1):\n",
    "        super(ScaledTanh, self).__init__()\n",
    "        self.a = a\n",
    "\n",
    "    def forward(self, x):\n",
    "        return x.mul(self.a).tanh()\n",
    "\n",
    "\n",
    "class EmbeddingPerceptron(torch.nn.Module):\n",
    "    \"\"\"\n",
    "    Multilayer ReLU perceptron with learnable inputs\n",
    "    \"\"\"\n",
    "\n",
    "    def __init__(self, sizes, multiplier=3):\n",
    "        super(EmbeddingPerceptron, self).__init__()\n",
    "        self.inputs = torch.arange(0, sizes[0]).long()\n",
    "\n",
    "        layers = [torch.nn.Embedding(sizes[0], sizes[1])]\n",
    "        for i in range(1, len(sizes) - 1):\n",
    "            layers.append(torch.nn.Linear(sizes[i], sizes[i + 1]))\n",
    "            if i < (len(sizes) - 2):\n",
    "                layers.append(torch.nn.ReLU())\n",
    "\n",
    "        self.net = torch.nn.Sequential(*layers)\n",
    "\n",
    "        net_min, net_max = self().min().item(), self().max().item()\n",
    "\n",
    "        a = 1.7159 / max(abs(net_min), abs(net_max))\n",
    "        self.net = torch.nn.Sequential(self.net, ScaledTanh(a))\n",
    "\n",
    "    def forward(self):\n",
    "        return self.net(self.inputs)"
   ]
  },
  {
   "cell_type": "code",
   "execution_count": 4,
   "id": "4b4edaa2-3fb4-4558-a958-7150f581618b",
   "metadata": {},
   "outputs": [],
   "source": [
    "network = EmbeddingPerceptron(sizes=[100, 128, 128, 128, 2])"
   ]
  },
  {
   "cell_type": "code",
   "execution_count": 5,
   "id": "3b86bcca-9d60-4be5-afd7-96cb816a2821",
   "metadata": {},
   "outputs": [
    {
     "data": {
      "text/plain": [
       "EmbeddingPerceptron(\n",
       "  (net): Sequential(\n",
       "    (0): Sequential(\n",
       "      (0): Embedding(100, 128)\n",
       "      (1): Linear(in_features=128, out_features=128, bias=True)\n",
       "      (2): ReLU()\n",
       "      (3): Linear(in_features=128, out_features=128, bias=True)\n",
       "      (4): ReLU()\n",
       "      (5): Linear(in_features=128, out_features=2, bias=True)\n",
       "    )\n",
       "    (1): ScaledTanh()\n",
       "  )\n",
       ")"
      ]
     },
     "execution_count": 5,
     "metadata": {},
     "output_type": "execute_result"
    }
   ],
   "source": [
    "network"
   ]
  },
  {
   "cell_type": "code",
   "execution_count": 6,
   "id": "52afe537-cc11-4d07-88df-d01f786d1bb8",
   "metadata": {},
   "outputs": [
    {
     "data": {
      "text/plain": [
       "tensor(-0.7127, grad_fn=<MinBackward1>)"
      ]
     },
     "execution_count": 6,
     "metadata": {},
     "output_type": "execute_result"
    }
   ],
   "source": [
    "network().min()"
   ]
  },
  {
   "cell_type": "code",
   "execution_count": 7,
   "id": "dbe36e74-9c38-431e-acc3-141aa34757a4",
   "metadata": {},
   "outputs": [
    {
     "data": {
      "text/plain": [
       "tensor(0.9374, grad_fn=<MaxBackward1>)"
      ]
     },
     "execution_count": 7,
     "metadata": {},
     "output_type": "execute_result"
    }
   ],
   "source": [
    "network().max()"
   ]
  },
  {
   "cell_type": "code",
   "execution_count": 8,
   "id": "7d69187b-dcf4-4708-8d09-07f2358f2144",
   "metadata": {},
   "outputs": [],
   "source": [
    "# Let's check to see what we can do about our method with ReLU"
   ]
  },
  {
   "cell_type": "code",
   "execution_count": 9,
   "id": "fb9580d2-deba-41ab-a367-e2575ffa425f",
   "metadata": {},
   "outputs": [
    {
     "name": "stdout",
     "output_type": "stream",
     "text": [
      "/Users/ryandevera/data-science/umn_environments/Deeplifting\n"
     ]
    }
   ],
   "source": [
    "%pwd\n",
    "%cd ../.."
   ]
  },
  {
   "cell_type": "code",
   "execution_count": 10,
   "id": "268beef0-2896-4649-a7bf-8f666ef0b950",
   "metadata": {},
   "outputs": [],
   "source": [
    "from deeplifting.models import DeepliftingSkipMLP\n",
    "from deeplifting.utils import initialize_vector"
   ]
  },
  {
   "cell_type": "code",
   "execution_count": 45,
   "id": "c058f239-29d4-485f-996f-9b607a70a990",
   "metadata": {},
   "outputs": [],
   "source": [
    "bounds = [(-10, 10)] * 2\n",
    "\n",
    "model = DeepliftingSkipMLP(\n",
    "    input_size=1,\n",
    "    hidden_sizes=(128, 128),\n",
    "    output_size=2,\n",
    "    bounds=bounds,\n",
    "    activation='relu',\n",
    "    output_activation='sine',\n",
    "    agg_function='sum',\n",
    "    include_bn=True,\n",
    "    seed=9,\n",
    ")\n",
    "\n",
    "model = model.to(dtype=torch.double)"
   ]
  },
  {
   "cell_type": "code",
   "execution_count": 46,
   "id": "0141be5c-6205-42e3-968e-0a516adfa62c",
   "metadata": {},
   "outputs": [
    {
     "data": {
      "text/plain": [
       "DeepliftingSkipMLP(\n",
       "  (layers): ModuleList(\n",
       "    (0): DeepliftingBlock(\n",
       "      (activation_layer): ReLU()\n",
       "      (linear): Linear(in_features=10, out_features=128, bias=True)\n",
       "      (batch_norm): LayerNorm((128,), eps=1e-05, elementwise_affine=True)\n",
       "    )\n",
       "    (1-2): 2 x DeepliftingBlock(\n",
       "      (activation_layer): ReLU()\n",
       "      (linear): Linear(in_features=128, out_features=128, bias=True)\n",
       "      (batch_norm): LayerNorm((128,), eps=1e-05, elementwise_affine=True)\n",
       "    )\n",
       "  )\n",
       "  (output_layer): DeepliftingBlock(\n",
       "    (activation_layer): Identity()\n",
       "    (linear): Linear(in_features=128, out_features=2, bias=True)\n",
       "    (batch_norm): LayerNorm((2,), eps=1e-05, elementwise_affine=True)\n",
       "  )\n",
       "  (scaling_layer): DeepliftingScalingBlock()\n",
       ")"
      ]
     },
     "execution_count": 46,
     "metadata": {},
     "output_type": "execute_result"
    }
   ],
   "source": [
    "model"
   ]
  },
  {
   "cell_type": "code",
   "execution_count": 47,
   "id": "4a10f0a2-ab29-4031-b96d-6be6cb7428f4",
   "metadata": {},
   "outputs": [],
   "source": [
    "import torch\n",
    "\n",
    "device = torch.device('cpu')\n",
    "\n",
    "inputs = torch.randn(1, 5 * 2)\n",
    "inputs = inputs.to(device=device, dtype=torch.double)"
   ]
  },
  {
   "cell_type": "code",
   "execution_count": 48,
   "id": "8c398463-9fbc-4e21-ada5-c0ed6ae0257c",
   "metadata": {},
   "outputs": [
    {
     "data": {
      "text/plain": [
       "tensor([-0.4085, -1.2246], dtype=torch.float64, grad_fn=<MeanBackward1>)"
      ]
     },
     "execution_count": 48,
     "metadata": {},
     "output_type": "execute_result"
    }
   ],
   "source": [
    "model(inputs).mean(axis=0)"
   ]
  },
  {
   "cell_type": "code",
   "execution_count": 49,
   "id": "13b80c5d-7209-4eb1-92ba-a38496e259a8",
   "metadata": {},
   "outputs": [
    {
     "data": {
      "text/plain": [
       "tensor([-0.3972, -0.9407], dtype=torch.float64, grad_fn=<SinBackward0>)"
      ]
     },
     "execution_count": 49,
     "metadata": {},
     "output_type": "execute_result"
    }
   ],
   "source": [
    "torch.sin(model(inputs).sum(axis=0))"
   ]
  },
  {
   "cell_type": "code",
   "execution_count": 16,
   "id": "fb3e9f23-b411-4941-8b68-ea5eb9b1558f",
   "metadata": {},
   "outputs": [],
   "source": [
    "layer1 = torch.nn.Linear(100, 100)"
   ]
  },
  {
   "cell_type": "code",
   "execution_count": 17,
   "id": "cce9a9bb-70a2-4eb6-9d11-fd33d3108095",
   "metadata": {},
   "outputs": [
    {
     "data": {
      "text/plain": [
       "(tensor(-0.1000, grad_fn=<MinBackward1>),\n",
       " tensor(0.1000, grad_fn=<MaxBackward1>))"
      ]
     },
     "execution_count": 17,
     "metadata": {},
     "output_type": "execute_result"
    }
   ],
   "source": [
    "layer1.weight.min(), layer1.weight.max()"
   ]
  },
  {
   "cell_type": "code",
   "execution_count": 18,
   "id": "fe6c76e8-d656-4cf5-b19f-a52f4b22e6e6",
   "metadata": {},
   "outputs": [
    {
     "data": {
      "text/plain": [
       "1.4142135623730951"
      ]
     },
     "execution_count": 18,
     "metadata": {},
     "output_type": "execute_result"
    }
   ],
   "source": [
    "gain = torch.nn.init.calculate_gain('relu')\n",
    "gain"
   ]
  },
  {
   "cell_type": "code",
   "execution_count": 19,
   "id": "77c9579a-e8ec-4351-8c01-02ece6ed1e38",
   "metadata": {},
   "outputs": [
    {
     "data": {
      "text/plain": [
       "Parameter containing:\n",
       "tensor([[-0.2317,  0.1000,  0.0246,  ..., -0.0946,  0.2201, -0.1472],\n",
       "        [ 0.2081, -0.0988, -0.0344,  ...,  0.1636,  0.1563, -0.1362],\n",
       "        [ 0.2400,  0.0476,  0.0263,  ...,  0.1957, -0.1713, -0.1677],\n",
       "        ...,\n",
       "        [-0.0692, -0.2448, -0.1584,  ..., -0.1228,  0.1781,  0.0623],\n",
       "        [ 0.1768, -0.0973,  0.0654,  ..., -0.0235,  0.2174,  0.0276],\n",
       "        [ 0.2010,  0.0307, -0.1672,  ..., -0.2039, -0.1957, -0.0135]],\n",
       "       requires_grad=True)"
      ]
     },
     "execution_count": 19,
     "metadata": {},
     "output_type": "execute_result"
    }
   ],
   "source": [
    "torch.nn.init.kaiming_uniform_(layer1.weight, mode='fan_in', nonlinearity='relu')"
   ]
  },
  {
   "cell_type": "code",
   "execution_count": 20,
   "id": "c5ef3258-1383-47de-bc8e-6fe652dabae8",
   "metadata": {},
   "outputs": [
    {
     "data": {
      "text/plain": [
       "(tensor(-0.2449, grad_fn=<MinBackward1>),\n",
       " tensor(0.2449, grad_fn=<MaxBackward1>))"
      ]
     },
     "execution_count": 20,
     "metadata": {},
     "output_type": "execute_result"
    }
   ],
   "source": [
    "layer1.weight.min(), layer1.weight.max()"
   ]
  },
  {
   "cell_type": "code",
   "execution_count": null,
   "id": "fdc9e81c-1da5-47d9-a995-6ea19eb8f187",
   "metadata": {},
   "outputs": [],
   "source": [
    "from sklearn.metrics import pre"
   ]
  }
 ],
 "metadata": {
  "kernelspec": {
   "display_name": "deeplifting",
   "language": "python",
   "name": "deeplifting"
  },
  "language_info": {
   "codemirror_mode": {
    "name": "ipython",
    "version": 3
   },
   "file_extension": ".py",
   "mimetype": "text/x-python",
   "name": "python",
   "nbconvert_exporter": "python",
   "pygments_lexer": "ipython3",
   "version": "3.9.11"
  }
 },
 "nbformat": 4,
 "nbformat_minor": 5
}
