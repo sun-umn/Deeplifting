{
 "cells": [
  {
   "cell_type": "code",
   "execution_count": null,
   "id": "020d0877-5f95-42df-a997-b69baa714753",
   "metadata": {},
   "outputs": [],
   "source": [
    "# Let's try the DeepLifting MLP on the Bukin function\n",
    "# we already saw that it had a great solution for the\n",
    "# Ackley function"
   ]
  },
  {
   "cell_type": "code",
   "execution_count": null,
   "id": "539c5420-2273-480d-af54-56d1a2b1c35f",
   "metadata": {},
   "outputs": [],
   "source": [
    "import time\n",
    "import sys\n",
    "\n",
    "# Append the path for this notebook\n",
    "sys.path.append(\"/Users/ryandevera/data-science/umn_environments/Deeplifting\")\n",
    "\n",
    "import matplotlib.pyplot as plt\n",
    "import numpy as np\n",
    "import torch\n",
    "from pygranso.private.getNvar import getNvarTorch\n",
    "from pygranso.pygranso import pygranso\n",
    "from pygranso.pygransoStruct import pygransoStruct\n",
    "\n",
    "from deeplifting.models import DeepliftingMLP"
   ]
  },
  {
   "cell_type": "code",
   "execution_count": null,
   "id": "237f07f4-3c78-450b-b668-dcb9e87ac323",
   "metadata": {},
   "outputs": [],
   "source": [
    "# Let's create the objective\n",
    "def bukin_n6(x):\n",
    "    return 100.0 * torch.sqrt(torch.abs(x[1] - 0.01 * x[0] ** 2)) + 0.01 * torch.abs(\n",
    "        x[0] + 10.0\n",
    "    )\n",
    "\n",
    "\n",
    "# Check the right value is returned at known local minima\n",
    "x = torch.tensor([-10.0, 1.0])\n",
    "print(bukin_n6(x))"
   ]
  },
  {
   "cell_type": "code",
   "execution_count": null,
   "id": "44ac28ae-3cce-4b00-8975-c17fdba11dba",
   "metadata": {},
   "outputs": [],
   "source": [
    "# Get the device type\n",
    "# For now we will just utilize cpu\n",
    "device = torch.device('cpu')\n",
    "\n",
    "\n",
    "# Create the combined function\n",
    "def bukin_fn(model):\n",
    "    \"\"\"\n",
    "    Combined function we will take the model as input\n",
    "    \"\"\"\n",
    "    # Remember we are letting the input be\n",
    "    # variable\n",
    "    x = model(inputs=None)\n",
    "\n",
    "    # Objective function\n",
    "    f = bukin_n6(x)\n",
    "\n",
    "    # Inequality constraint\n",
    "    ci = pygransoStruct()\n",
    "    ci.c1 = -15.0 - x[0]\n",
    "    ci.c2 = x[0] + 5.0\n",
    "    ci.c3 = -3.0 - x[1]\n",
    "    ci.c4 = x[1] - 3.0\n",
    "\n",
    "    # equality constraint\n",
    "    ce = None\n",
    "\n",
    "    return f, ci, ce\n",
    "\n",
    "\n",
    "# Define the model\n",
    "model = DeepliftingMLP(input_size=100, layer_sizes=(256, 512, 512, 256), output_size=2)\n",
    "model = model.to(device=device, dtype=torch.double)\n",
    "nvar = getNvarTorch(model.parameters())\n",
    "print(nvar)"
   ]
  },
  {
   "cell_type": "code",
   "execution_count": null,
   "id": "36cae7ce-d9c1-4e8b-ad54-76be9bda37c4",
   "metadata": {},
   "outputs": [],
   "source": [
    "torch.manual_seed(0)\n",
    "# Setup a pygransoStruct for the algorithm\n",
    "# options\n",
    "opts = pygransoStruct()\n",
    "\n",
    "# With random variables between -32, 32\n",
    "x0 = (\n",
    "    torch.nn.utils.parameters_to_vector(model.parameters())\n",
    "    .detach()\n",
    "    .reshape(nvar, 1)\n",
    "    .to(device=device, dtype=torch.double)\n",
    ")\n",
    "\n",
    "opts.x0 = x0\n",
    "opts.torch_device = device\n",
    "opts.print_frequency = 10\n",
    "opts.limited_mem_size = 50\n",
    "opts.stat_l2_model = False\n",
    "opts.double_precision = True\n",
    "opts.viol_ineq_tol = 1e-6\n",
    "opts.opt_tol = 1e-6\n",
    "\n",
    "comb_fn = lambda model: bukin_fn(model)\n",
    "\n",
    "# Run the main algorithm\n",
    "start = time.time()\n",
    "soln = pygranso(var_spec=model, combined_fn=comb_fn, user_opts=opts)\n",
    "end = time.time()\n",
    "\n",
    "print(f\"Starting point for problem = {x0}\")\n",
    "print(\"\\n\")\n",
    "print(\"Total Wall Time: {}s\".format(end - start))\n",
    "print(soln.final.x, soln.final.f)\n",
    "print(\"\\n\")"
   ]
  },
  {
   "cell_type": "code",
   "execution_count": null,
   "id": "4bc36e8c-3c28-4634-b7fc-8d78c2be1461",
   "metadata": {},
   "outputs": [],
   "source": [
    "x = model(inputs=None)\n",
    "print(x, bukin_n6(x))"
   ]
  },
  {
   "cell_type": "code",
   "execution_count": null,
   "id": "cc23b9c1-4e62-4a69-9ac4-ba11dc7124d9",
   "metadata": {},
   "outputs": [],
   "source": []
  }
 ],
 "metadata": {
  "kernelspec": {
   "display_name": "deeplifting",
   "language": "python",
   "name": "deeplifting"
  },
  "language_info": {
   "codemirror_mode": {
    "name": "ipython",
    "version": 3
   },
   "file_extension": ".py",
   "mimetype": "text/x-python",
   "name": "python",
   "nbconvert_exporter": "python",
   "pygments_lexer": "ipython3",
   "version": "3.9.11"
  }
 },
 "nbformat": 4,
 "nbformat_minor": 5
}
