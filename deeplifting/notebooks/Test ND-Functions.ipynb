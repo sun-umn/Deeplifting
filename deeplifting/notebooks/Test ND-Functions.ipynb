{
 "cells": [
  {
   "cell_type": "code",
   "execution_count": 1,
   "id": "0b1cefe6-a564-4616-a41e-d0058bce57bf",
   "metadata": {},
   "outputs": [
    {
     "name": "stdout",
     "output_type": "stream",
     "text": [
      "/home/rydevera3/data-science/umn_research/Deeplifting\n"
     ]
    }
   ],
   "source": [
    "%pwd\n",
    "%cd ../.."
   ]
  },
  {
   "cell_type": "code",
   "execution_count": 2,
   "id": "f464a46f-fb2b-4c0d-b70d-5f898b4d0191",
   "metadata": {},
   "outputs": [],
   "source": [
    "import numpy as np\n",
    "import torch\n",
    "\n",
    "from deeplifting.problems import HIGH_DIMENSIONAL_PROBLEMS_BY_NAME"
   ]
  },
  {
   "cell_type": "code",
   "execution_count": 3,
   "id": "01a6e4f4-4f6d-4fa1-b942-d4b6ee3c0113",
   "metadata": {},
   "outputs": [],
   "source": [
    "problem = HIGH_DIMENSIONAL_PROBLEMS_BY_NAME['dixon_price_2500d']"
   ]
  },
  {
   "cell_type": "code",
   "execution_count": 28,
   "id": "7e626da4-0788-441c-a704-c77b93aaabc8",
   "metadata": {},
   "outputs": [],
   "source": [
    "x = torch.ones(2500, dtype=torch.double) * -2.903534\n",
    "results = np.zeros((1, 1, 1))\n",
    "trial = 0\n",
    "\n",
    "def objective(x):\n",
    "    return 0.5 * torch.sum(x ** 4 - 16 * x ** 2 + 5 * x)"
   ]
  },
  {
   "cell_type": "code",
   "execution_count": 29,
   "id": "0d8b0335-45fb-490c-9775-ade2f288e09f",
   "metadata": {},
   "outputs": [
    {
     "data": {
      "text/plain": [
       "tensor(-97915.4143, dtype=torch.float64)"
      ]
     },
     "execution_count": 29,
     "metadata": {},
     "output_type": "execute_result"
    }
   ],
   "source": [
    "objective(x)"
   ]
  },
  {
   "cell_type": "code",
   "execution_count": 31,
   "id": "05bd4b4b-b6e7-4b30-b838-b1d2b1fd326c",
   "metadata": {},
   "outputs": [
    {
     "data": {
      "text/plain": [
       "-97914.99999999999"
      ]
     },
     "execution_count": 31,
     "metadata": {},
     "output_type": "execute_result"
    }
   ],
   "source": [
    "-39.166 * len(x)"
   ]
  },
  {
   "cell_type": "code",
   "execution_count": 33,
   "id": "361456e9-007c-4e28-a4ca-29bae4e9e32b",
   "metadata": {},
   "outputs": [
    {
     "data": {
      "text/plain": [
       "['ackley_3d',\n",
       " 'ackley_5d',\n",
       " 'ackley_30d',\n",
       " 'ackley_100d',\n",
       " 'ackley_500d',\n",
       " 'ackley_1000d',\n",
       " 'ackley_2500d',\n",
       " 'alpine1_10d',\n",
       " 'alpine1_100d',\n",
       " 'alpine1_500d',\n",
       " 'alpine1_1000d',\n",
       " 'alpine1_2500d',\n",
       " 'chung_reynolds',\n",
       " 'chung_reyonlds_10d',\n",
       " 'chung_reynolds_50d',\n",
       " 'chung_reynolds_100d',\n",
       " 'chung_reynolds_500d',\n",
       " 'chung_reynolds_1000d',\n",
       " 'chung_reynolds_2500d',\n",
       " 'dixon_price_10d',\n",
       " 'dixon_price_50d',\n",
       " 'dixon_price_100d',\n",
       " 'dixon_price_500d',\n",
       " 'dixon_price_1000d',\n",
       " 'dixon_price_2500d',\n",
       " 'griewank_3d',\n",
       " 'griewank_5d',\n",
       " 'griewank_30d',\n",
       " 'griewank_100d',\n",
       " 'griewank_500d',\n",
       " 'griewank_1000d',\n",
       " 'griewank_2500d',\n",
       " 'levy_3d',\n",
       " 'levy_5d',\n",
       " 'levy_30d',\n",
       " 'levy_100d',\n",
       " 'levy_500d',\n",
       " 'levy_1000d',\n",
       " 'levy_2500d',\n",
       " 'rastrigin_3d',\n",
       " 'rastrigin_5d',\n",
       " 'rastrigin_30d',\n",
       " 'rastrigin_100d',\n",
       " 'rastrigin_1000',\n",
       " 'rastrigin_2500d',\n",
       " 'schwefel_3d',\n",
       " 'schwefel_5d',\n",
       " 'schwefel_30d',\n",
       " 'schwefel_100d',\n",
       " 'schwefel_500d',\n",
       " 'schwefel_1000d',\n",
       " 'schwefel_2500d',\n",
       " 'shubert_3d',\n",
       " 'shubert_5d',\n",
       " 'shubert_30d',\n",
       " 'shubert_100d',\n",
       " 'shubert_500d',\n",
       " 'shubert_1000d',\n",
       " 'shubert_2500d',\n",
       " 'step2_3d',\n",
       " 'step2_5d',\n",
       " 'step2_30d',\n",
       " 'step2_100d',\n",
       " 'step2_500d',\n",
       " 'step2_1000d',\n",
       " 'step2_2500d']"
      ]
     },
     "execution_count": 33,
     "metadata": {},
     "output_type": "execute_result"
    }
   ],
   "source": [
    "list(HIGH_DIMENSIONAL_PROBLEMS_BY_NAME.keys())"
   ]
  },
  {
   "cell_type": "code",
   "execution_count": null,
   "id": "5f3e0b64-23f3-49ac-81b6-db3007ea48ab",
   "metadata": {},
   "outputs": [],
   "source": []
  }
 ],
 "metadata": {
  "kernelspec": {
   "display_name": "deeplifting",
   "language": "python",
   "name": "deeplifting"
  },
  "language_info": {
   "codemirror_mode": {
    "name": "ipython",
    "version": 3
   },
   "file_extension": ".py",
   "mimetype": "text/x-python",
   "name": "python",
   "nbconvert_exporter": "python",
   "pygments_lexer": "ipython3",
   "version": "3.9.16"
  }
 },
 "nbformat": 4,
 "nbformat_minor": 5
}
