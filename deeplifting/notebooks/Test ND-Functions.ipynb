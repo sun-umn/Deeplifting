{
 "cells": [
  {
   "cell_type": "code",
   "execution_count": 1,
   "id": "0b1cefe6-a564-4616-a41e-d0058bce57bf",
   "metadata": {},
   "outputs": [
    {
     "name": "stdout",
     "output_type": "stream",
     "text": [
      "/home/rydevera3/data-science/umn_research/Deeplifting\n"
     ]
    }
   ],
   "source": [
    "%pwd\n",
    "%cd ../.."
   ]
  },
  {
   "cell_type": "code",
   "execution_count": 2,
   "id": "f464a46f-fb2b-4c0d-b70d-5f898b4d0191",
   "metadata": {},
   "outputs": [],
   "source": [
    "import numpy as np\n",
    "import torch\n",
    "\n",
    "from deeplifting.problems import HIGH_DIMENSIONAL_PROBLEMS_BY_NAME"
   ]
  },
  {
   "cell_type": "code",
   "execution_count": 3,
   "id": "01a6e4f4-4f6d-4fa1-b942-d4b6ee3c0113",
   "metadata": {},
   "outputs": [],
   "source": [
    "problem = HIGH_DIMENSIONAL_PROBLEMS_BY_NAME['dixon_price_2500d']"
   ]
  },
  {
   "cell_type": "code",
   "execution_count": 28,
   "id": "7e626da4-0788-441c-a704-c77b93aaabc8",
   "metadata": {},
   "outputs": [],
   "source": [
    "x = torch.ones(2500, dtype=torch.double) * -2.903534\n",
    "results = np.zeros((1, 1, 1))\n",
    "trial = 0\n",
    "\n",
    "def objective(x):\n",
    "    return 0.5 * torch.sum(x ** 4 - 16 * x ** 2 + 5 * x)"
   ]
  },
  {
   "cell_type": "code",
   "execution_count": 29,
   "id": "0d8b0335-45fb-490c-9775-ade2f288e09f",
   "metadata": {},
   "outputs": [
    {
     "data": {
      "text/plain": [
       "tensor(-97915.4143, dtype=torch.float64)"
      ]
     },
     "execution_count": 29,
     "metadata": {},
     "output_type": "execute_result"
    }
   ],
   "source": [
    "objective(x)"
   ]
  },
  {
   "cell_type": "code",
   "execution_count": 31,
   "id": "05bd4b4b-b6e7-4b30-b838-b1d2b1fd326c",
   "metadata": {},
   "outputs": [
    {
     "data": {
      "text/plain": [
       "-97914.99999999999"
      ]
     },
     "execution_count": 31,
     "metadata": {},
     "output_type": "execute_result"
    }
   ],
   "source": [
    "-39.166 * len(x)"
   ]
  },
  {
   "cell_type": "code",
   "execution_count": null,
   "id": "361456e9-007c-4e28-a4ca-29bae4e9e32b",
   "metadata": {},
   "outputs": [],
   "source": []
  }
 ],
 "metadata": {
  "kernelspec": {
   "display_name": "deeplifting",
   "language": "python",
   "name": "deeplifting"
  },
  "language_info": {
   "codemirror_mode": {
    "name": "ipython",
    "version": 3
   },
   "file_extension": ".py",
   "mimetype": "text/x-python",
   "name": "python",
   "nbconvert_exporter": "python",
   "pygments_lexer": "ipython3",
   "version": "3.9.16"
  }
 },
 "nbformat": 4,
 "nbformat_minor": 5
}
