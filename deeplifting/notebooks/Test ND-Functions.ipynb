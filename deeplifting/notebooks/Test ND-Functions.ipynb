{
 "cells": [
  {
   "cell_type": "code",
   "execution_count": 1,
   "id": "0b1cefe6-a564-4616-a41e-d0058bce57bf",
   "metadata": {},
   "outputs": [
    {
     "name": "stdout",
     "output_type": "stream",
     "text": [
      "/home/rydevera3/data-science/umn_research/Deeplifting\n"
     ]
    }
   ],
   "source": [
    "%pwd\n",
    "%cd ../.."
   ]
  },
  {
   "cell_type": "code",
   "execution_count": 2,
   "id": "f464a46f-fb2b-4c0d-b70d-5f898b4d0191",
   "metadata": {},
   "outputs": [],
   "source": [
    "import numpy as np\n",
    "import torch\n",
    "\n",
    "from deeplifting.problems import HIGH_DIMENSIONAL_PROBLEMS_BY_NAME"
   ]
  },
  {
   "cell_type": "code",
   "execution_count": 34,
   "id": "01a6e4f4-4f6d-4fa1-b942-d4b6ee3c0113",
   "metadata": {},
   "outputs": [],
   "source": [
    "problem = HIGH_DIMENSIONAL_PROBLEMS_BY_NAME['layeb4_100d']"
   ]
  },
  {
   "cell_type": "code",
   "execution_count": 35,
   "id": "7e626da4-0788-441c-a704-c77b93aaabc8",
   "metadata": {},
   "outputs": [],
   "source": [
    "x = torch.zeros(100, dtype=torch.double)\n",
    "results = np.zeros((1, 1, 1))\n",
    "trial = 0\n",
    "objective = problem['objective']"
   ]
  },
  {
   "cell_type": "code",
   "execution_count": 36,
   "id": "05bd4b4b-b6e7-4b30-b838-b1d2b1fd326c",
   "metadata": {},
   "outputs": [
    {
     "data": {
      "text/plain": [
       "tensor(-584.8678, dtype=torch.float64)"
      ]
     },
     "execution_count": 36,
     "metadata": {},
     "output_type": "execute_result"
    }
   ],
   "source": [
    "objective(x, version='pytorch')"
   ]
  },
  {
   "cell_type": "code",
   "execution_count": 37,
   "id": "d7ee25c5-205c-4cca-8853-5865b5bea20c",
   "metadata": {},
   "outputs": [
    {
     "data": {
      "text/plain": [
       "tensor(-23.6310)"
      ]
     },
     "execution_count": 37,
     "metadata": {},
     "output_type": "execute_result"
    }
   ],
   "source": [
    "torch.log(torch.tensor(1e-3)) * 4 + 4"
   ]
  },
  {
   "cell_type": "code",
   "execution_count": 38,
   "id": "21a2954b-2e74-445a-9893-6717d0e35056",
   "metadata": {},
   "outputs": [
    {
     "data": {
      "text/plain": [
       "tensor(-229.3249)"
      ]
     },
     "execution_count": 38,
     "metadata": {},
     "output_type": "execute_result"
    }
   ],
   "source": [
    "(torch.log(torch.tensor(1e-3)) - 1) * 29"
   ]
  },
  {
   "cell_type": "code",
   "execution_count": 39,
   "id": "c52ead62-7821-4a41-ad2f-47e4991cccab",
   "metadata": {},
   "outputs": [
    {
     "data": {
      "text/plain": [
       "tensor(-584.8678)"
      ]
     },
     "execution_count": 39,
     "metadata": {},
     "output_type": "execute_result"
    }
   ],
   "source": [
    "99 * (torch.log(torch.tensor(1e-3)) + 1)"
   ]
  },
  {
   "cell_type": "code",
   "execution_count": null,
   "id": "5fec7704-7082-4bf0-9a67-0e92444d89bb",
   "metadata": {},
   "outputs": [],
   "source": []
  }
 ],
 "metadata": {
  "kernelspec": {
   "display_name": "deeplifting",
   "language": "python",
   "name": "deeplifting"
  },
  "language_info": {
   "codemirror_mode": {
    "name": "ipython",
    "version": 3
   },
   "file_extension": ".py",
   "mimetype": "text/x-python",
   "name": "python",
   "nbconvert_exporter": "python",
   "pygments_lexer": "ipython3",
   "version": "3.9.11"
  }
 },
 "nbformat": 4,
 "nbformat_minor": 5
}
