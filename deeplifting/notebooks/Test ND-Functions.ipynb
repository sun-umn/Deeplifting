{
 "cells": [
  {
   "cell_type": "code",
   "execution_count": 1,
   "id": "0b1cefe6-a564-4616-a41e-d0058bce57bf",
   "metadata": {},
   "outputs": [
    {
     "name": "stdout",
     "output_type": "stream",
     "text": [
      "/home/rydevera3/data-science/umn_research/Deeplifting\n"
     ]
    }
   ],
   "source": [
    "%pwd\n",
    "%cd ../.."
   ]
  },
  {
   "cell_type": "code",
   "execution_count": null,
   "id": "f464a46f-fb2b-4c0d-b70d-5f898b4d0191",
   "metadata": {},
   "outputs": [],
   "source": [
    "import numpy as np\n",
    "import torch\n",
    "\n",
    "from deeplifting.problems import HIGH_DIMENSIONAL_PROBLEMS_BY_NAME"
   ]
  },
  {
   "cell_type": "code",
   "execution_count": null,
   "id": "01a6e4f4-4f6d-4fa1-b942-d4b6ee3c0113",
   "metadata": {},
   "outputs": [],
   "source": [
    "problem = HIGH_DIMENSIONAL_PROBLEMS_BY_NAME['layeb3_2500d']"
   ]
  },
  {
   "cell_type": "code",
   "execution_count": null,
   "id": "7e626da4-0788-441c-a704-c77b93aaabc8",
   "metadata": {},
   "outputs": [],
   "source": [
    "x = torch.ones(5, dtype=torch.double) * torch.pi * 2.0\n",
    "results = np.zeros((1, 1, 1))\n",
    "trial = 0\n",
    "objective = problem['objective']"
   ]
  },
  {
   "cell_type": "code",
   "execution_count": null,
   "id": "05bd4b4b-b6e7-4b30-b838-b1d2b1fd326c",
   "metadata": {},
   "outputs": [],
   "source": [
    "objective(x, results, trial, version='pytorch')"
   ]
  },
  {
   "cell_type": "code",
   "execution_count": null,
   "id": "361456e9-007c-4e28-a4ca-29bae4e9e32b",
   "metadata": {},
   "outputs": [],
   "source": [
    "1.0 / ((1.2246e-20 * 6.5353e42) + 1)"
   ]
  },
  {
   "cell_type": "code",
   "execution_count": null,
   "id": "5f3e0b64-23f3-49ac-81b6-db3007ea48ab",
   "metadata": {},
   "outputs": [],
   "source": [
    "torch.sin(torch.pi * torch.tensor(1))"
   ]
  },
  {
   "cell_type": "code",
   "execution_count": null,
   "id": "7011cee3-dc47-4e07-b06e-6ef82027a9a6",
   "metadata": {},
   "outputs": [],
   "source": [
    "np.exp(-100)"
   ]
  },
  {
   "cell_type": "code",
   "execution_count": null,
   "id": "1bee17a4-2441-48bf-84ac-1e818bff3dd6",
   "metadata": {},
   "outputs": [],
   "source": []
  }
 ],
 "metadata": {
  "kernelspec": {
   "display_name": "deeplifting",
   "language": "python",
   "name": "deeplifting"
  },
  "language_info": {
   "codemirror_mode": {
    "name": "ipython",
    "version": 3
   },
   "file_extension": ".py",
   "mimetype": "text/x-python",
   "name": "python",
   "nbconvert_exporter": "python",
   "pygments_lexer": "ipython3",
   "version": "3.9.16"
  }
 },
 "nbformat": 4,
 "nbformat_minor": 5
}
