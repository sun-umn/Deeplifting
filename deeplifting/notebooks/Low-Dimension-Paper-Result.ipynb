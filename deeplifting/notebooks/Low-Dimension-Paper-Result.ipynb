{
 "cells": [
  {
   "cell_type": "code",
   "execution_count": null,
   "id": "25bf6dd5-f709-450c-8fe1-1f2258e25544",
   "metadata": {},
   "outputs": [],
   "source": [
    "%pwd"
   ]
  },
  {
   "cell_type": "code",
   "execution_count": null,
   "id": "9f64344a-ea79-4ba3-b692-545e36dc9c57",
   "metadata": {},
   "outputs": [],
   "source": [
    "%cd ../.."
   ]
  },
  {
   "cell_type": "code",
   "execution_count": null,
   "id": "3ab424e2-fcbc-4ca7-9f97-e18ccf301d3e",
   "metadata": {},
   "outputs": [],
   "source": [
    "%ls"
   ]
  },
  {
   "cell_type": "code",
   "execution_count": null,
   "id": "b3287204-b5e2-4c90-bed2-f6e19471fac7",
   "metadata": {},
   "outputs": [],
   "source": [
    "import glob as glob\n",
    "import pandas as pd\n",
    "import seaborn as sns\n",
    "import matplotlib.pyplot as plt\n",
    "import numpy as np"
   ]
  },
  {
   "cell_type": "code",
   "execution_count": null,
   "id": "54c922b4-8094-4f18-9ee5-4147972b5407",
   "metadata": {},
   "outputs": [],
   "source": [
    "file_directory = './algorithm_compare_results/low-dimensional/*/*'\n",
    "files = glob.glob(file_directory)\n",
    "files"
   ]
  },
  {
   "cell_type": "code",
   "execution_count": null,
   "id": "744a8b8c-7552-4322-838f-79b035a0b324",
   "metadata": {},
   "outputs": [],
   "source": [
    "len(files)"
   ]
  },
  {
   "cell_type": "code",
   "execution_count": null,
   "id": "f3b69c24-6947-4835-b8f2-baae55a96190",
   "metadata": {},
   "outputs": [],
   "source": [
    "# Load in the data\n",
    "data = pd.read_parquet(files)\n",
    "data.head()"
   ]
  },
  {
   "cell_type": "code",
   "execution_count": null,
   "id": "8a29567d-6acb-4e3b-8b3a-69a3d38cf6c4",
   "metadata": {},
   "outputs": [],
   "source": [
    "data['algorithm'].unique()"
   ]
  },
  {
   "cell_type": "code",
   "execution_count": null,
   "id": "0f94d7e0-e978-40c5-a899-752c7a82e084",
   "metadata": {},
   "outputs": [],
   "source": [
    "# Let's look at shubert\n",
    "data.loc[data['problem_name'] == 'rosenbrock']"
   ]
  },
  {
   "cell_type": "code",
   "execution_count": null,
   "id": "2a53206e-cd02-4952-aff5-9aa629edb742",
   "metadata": {},
   "outputs": [],
   "source": [
    "aggregate_dict = {\n",
    "    'hits': ['mean'],\n",
    "}\n",
    "\n",
    "# We want to group this data by\n",
    "# problem name\n",
    "# algorithm\n",
    "# attributions are f, hits and time\n",
    "results = data.groupby(['problem_name', 'algorithm', 'dimensions']).agg(aggregate_dict)\n",
    "\n",
    "results.columns = ['-'.join(column) for column in results.columns]\n",
    "results = results.rename(columns={'hits-mean': 'Success Rate'}).reset_index()\n",
    "\n",
    "algorithm_map = {\n",
    "    'Differential Evolution': 'DE',\n",
    "    'Dual Annealing': 'DA',\n",
    "    'IPOPT': 'IPOPT',\n",
    "    'PyGRANSO': 'PyGRANSO',\n",
    "    'SCIP': 'SCIP',\n",
    "}\n",
    "results['algorithm'] = results['algorithm'].map(algorithm_map)\n",
    "results"
   ]
  },
  {
   "cell_type": "code",
   "execution_count": null,
   "id": "f37f300e-26e8-4ac6-8f13-f25c556aa86f",
   "metadata": {},
   "outputs": [],
   "source": [
    "# Let's try a heat map to look at all problems\n",
    "hits_df = results.pivot_table(\n",
    "    index='problem_name', columns='algorithm', values='Success Rate'\n",
    ")"
   ]
  },
  {
   "cell_type": "code",
   "execution_count": null,
   "id": "465e8d6b-d285-44f7-ab13-dc9e6cc12530",
   "metadata": {},
   "outputs": [],
   "source": [
    "hits_df.mean()"
   ]
  },
  {
   "cell_type": "code",
   "execution_count": null,
   "id": "3d3ff6a4-e866-4b58-9c17-6f1d89a1be3b",
   "metadata": {},
   "outputs": [],
   "source": [
    "fig, ax1 = plt.subplots(1, 1, figsize=(7, 5))\n",
    "\n",
    "sns.heatmap(data=hits_df, annot=True, cmap='YlOrRd_r', ax=ax1)\n",
    "ax1.xaxis.tick_top()\n",
    "\n",
    "fig.tight_layout()"
   ]
  },
  {
   "cell_type": "code",
   "execution_count": null,
   "id": "67693081-4d05-41f4-959c-42152b55c0c7",
   "metadata": {},
   "outputs": [],
   "source": []
  }
 ],
 "metadata": {
  "kernelspec": {
   "display_name": "deeplifting",
   "language": "python",
   "name": "deeplifting"
  },
  "language_info": {
   "codemirror_mode": {
    "name": "ipython",
    "version": 3
   },
   "file_extension": ".py",
   "mimetype": "text/x-python",
   "name": "python",
   "nbconvert_exporter": "python",
   "pygments_lexer": "ipython3",
   "version": "3.9.11"
  }
 },
 "nbformat": 4,
 "nbformat_minor": 5
}
