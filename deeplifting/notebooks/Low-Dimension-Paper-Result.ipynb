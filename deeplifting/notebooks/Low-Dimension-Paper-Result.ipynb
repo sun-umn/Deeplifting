{
 "cells": [
  {
   "cell_type": "code",
   "execution_count": null,
   "id": "25bf6dd5-f709-450c-8fe1-1f2258e25544",
   "metadata": {},
   "outputs": [],
   "source": [
    "%pwd"
   ]
  },
  {
   "cell_type": "code",
   "execution_count": null,
   "id": "9f64344a-ea79-4ba3-b692-545e36dc9c57",
   "metadata": {},
   "outputs": [],
   "source": [
    "%cd ../.."
   ]
  },
  {
   "cell_type": "code",
   "execution_count": null,
   "id": "3ab424e2-fcbc-4ca7-9f97-e18ccf301d3e",
   "metadata": {},
   "outputs": [],
   "source": [
    "%ls"
   ]
  },
  {
   "cell_type": "code",
   "execution_count": null,
   "id": "b3287204-b5e2-4c90-bed2-f6e19471fac7",
   "metadata": {},
   "outputs": [],
   "source": [
    "import glob as glob\n",
    "import matplotlib.pyplot as plt\n",
    "import numpy as np\n",
    "import pandas as pd\n",
    "import seaborn as sns"
   ]
  },
  {
   "cell_type": "markdown",
   "id": "9bb9b6f0-1a54-43fb-9cb9-4149fd155529",
   "metadata": {},
   "source": [
    "# Utils"
   ]
  },
  {
   "cell_type": "code",
   "execution_count": null,
   "id": "1bae1fb7-566c-444d-817b-c047c198141e",
   "metadata": {},
   "outputs": [],
   "source": [
    "# Utility function for renaming\n",
    "problem_name_mapping = {\n",
    "    'ackley3': 'Ak3',\n",
    "    'alpine1': 'Al1',\n",
    "    'bird': 'Bd',\n",
    "    'bohachevsky2': 'By2',\n",
    "    'bohachevsky3': 'By3',\n",
    "    'bukin_n2': 'Bk2',\n",
    "    'bukin_n4': 'Bk4',\n",
    "    'camel_3hump': 'C3h',\n",
    "    'chung_reynolds': 'CR',\n",
    "    'cross_leg_table': 'CLT',\n",
    "    'eggholder': 'Eh',\n",
    "    'griewank': 'Gw',\n",
    "    'holder_table': 'HTable',\n",
    "    'levy': 'Ly',\n",
    "    'levy_n13': 'Ly13',\n",
    "    'schaffer_n2': 'Sc2',\n",
    "    'schaffer_n4': 'Sc4',\n",
    "    'schwefel': 'Swl',\n",
    "    'shubert': 'Sbt',\n",
    "    'xinsheyang_n3': 'XSY3',\n",
    "}\n",
    "\n",
    "\n",
    "def build_dl_results(files):\n",
    "    \"\"\"\n",
    "    build deeplifting results from files\n",
    "    \"\"\"\n",
    "    deeplifting_df = pd.read_parquet(deeplifting_files)\n",
    "\n",
    "    # We need to create the hits column\n",
    "    deeplifting_df['hits'] = (\n",
    "        np.abs(deeplifting_df['global_minimum'] - deeplifting_df['f']) <= 1e-4\n",
    "    )\n",
    "\n",
    "    # Deeplifting groupby columns\n",
    "    groupby_columns = [\n",
    "        'problem_name',\n",
    "        'algorithm',\n",
    "        'input_size',\n",
    "        'hidden_size',\n",
    "        'hidden_activation',\n",
    "        'output_activation',\n",
    "        'agg_function',\n",
    "        'include_bn',\n",
    "    ]\n",
    "\n",
    "    # Final deeplifting results columns\n",
    "    columns = ['problem_name', 'algorithm', 'success rate']\n",
    "\n",
    "    # Find the best neural network for the problem\n",
    "    deeplifting_results_df = (\n",
    "        deeplifting_df.groupby(groupby_columns)\n",
    "        .agg({'hits': 'mean'})\n",
    "        .reset_index()\n",
    "        .sort_values(['problem_name', 'hits'], ascending=[True, False])\n",
    "        .reset_index(drop=True)\n",
    "    )\n",
    "\n",
    "    # Get the best result\n",
    "    deeplifting_results_df = deeplifting_results_df.groupby(['problem_name']).first()\n",
    "    deeplifting_results_df = deeplifting_results_df.reset_index().rename(\n",
    "        columns={'hits': 'success rate'}\n",
    "    )\n",
    "\n",
    "    return deeplifting_results_df"
   ]
  },
  {
   "cell_type": "markdown",
   "id": "d1c154ee-c52e-4b6e-b383-65200ae45594",
   "metadata": {},
   "source": [
    "# Load in the algorithm comparison results"
   ]
  },
  {
   "cell_type": "code",
   "execution_count": null,
   "id": "017a7298-44c0-4cb5-a4e0-789db1c10d48",
   "metadata": {},
   "outputs": [],
   "source": [
    "algorithm_file_directory = './algorithm_compare_results/low-dimensional/*/*'\n",
    "algorithm_files = glob.glob(algorithm_file_directory)\n",
    "algorithm_df = pd.read_parquet(algorithm_files)\n",
    "algorithm_df.head()"
   ]
  },
  {
   "cell_type": "code",
   "execution_count": null,
   "id": "fc543092-1cd0-4e72-804b-396a5668a080",
   "metadata": {},
   "outputs": [],
   "source": [
    "# Generate the results for the algorithms\n",
    "algorithm_results_df = (\n",
    "    algorithm_df.groupby(['problem_name', 'algorithm'])\n",
    "    .agg({'hits': 'mean'})\n",
    "    .reset_index()\n",
    "    .rename(columns={'hits': 'success rate'})\n",
    ")\n",
    "algorithm_results_df.head()"
   ]
  },
  {
   "cell_type": "markdown",
   "id": "2e9611fc-b6c0-4c8b-a6a8-c6e7d02b8b31",
   "metadata": {},
   "source": [
    "# Generate the deeplifting results"
   ]
  },
  {
   "cell_type": "code",
   "execution_count": null,
   "id": "6fcb7782-fdb2-41f7-937a-e805f5906e6d",
   "metadata": {},
   "outputs": [],
   "source": [
    "deeplifting_file_directory = './data-queue/low-dimensional-deeplifting/*/*'\n",
    "deeplifting_files = glob.glob(deeplifting_file_directory)\n",
    "deeplifting_df = pd.read_parquet(deeplifting_files)\n",
    "\n",
    "# We need to create the hits column\n",
    "deeplifting_df['hits'] = (\n",
    "    np.abs(deeplifting_df['global_minimum'] - deeplifting_df['f']) <= 1e-4\n",
    ")\n",
    "deeplifting_df.head()"
   ]
  },
  {
   "cell_type": "code",
   "execution_count": null,
   "id": "d71392d8-8be1-4b0e-8b28-e2cde350d77e",
   "metadata": {},
   "outputs": [],
   "source": [
    "# Deeplifting groupby columns\n",
    "groupby_columns = [\n",
    "    'problem_name',\n",
    "    'algorithm',\n",
    "    'input_size',\n",
    "    'hidden_size',\n",
    "    'hidden_activation',\n",
    "    'output_activation',\n",
    "    'agg_function',\n",
    "    'include_bn',\n",
    "]\n",
    "\n",
    "# Final deeplifting results columns\n",
    "columns = ['problem_name', 'algorithm', 'success rate']\n",
    "\n",
    "# Find the best neural network for the problem\n",
    "deeplifting_results_df = (\n",
    "    deeplifting_df.groupby(groupby_columns)\n",
    "    .agg({'hits': 'mean'})\n",
    "    .reset_index()\n",
    "    .sort_values(['problem_name', 'hits'], ascending=[True, False])\n",
    "    .reset_index(drop=True)\n",
    ")\n",
    "\n",
    "# Get the best result\n",
    "deeplifting_results_df = deeplifting_results_df.groupby(['problem_name']).first()\n",
    "deeplifting_results_df = deeplifting_results_df.reset_index().rename(\n",
    "    columns={'hits': 'success rate'}\n",
    ")\n",
    "\n",
    "# Filter columns for combining data\n",
    "deeplifting_results_df = deeplifting_results_df[columns]\n",
    "deeplifting_results_df"
   ]
  },
  {
   "cell_type": "code",
   "execution_count": null,
   "id": "f8ad10ad-5c80-4f81-83b0-d9fdde1f5b43",
   "metadata": {},
   "outputs": [],
   "source": [
    "# Need to work the eggholder, griewank and schwefel"
   ]
  },
  {
   "cell_type": "code",
   "execution_count": null,
   "id": "4abdfd71-f118-404e-a921-1b65699e46f5",
   "metadata": {},
   "outputs": [],
   "source": [
    "# Combine all results\n",
    "results_df = pd.concat([algorithm_results_df, deeplifting_results_df], axis=0)\n",
    "\n",
    "# Lets rename some of the algorithms for space\n",
    "algorithm_map = {\n",
    "    'Differential Evolution': 'DE',\n",
    "    'Dual Annealing': 'DA',\n",
    "    'Deeplifting': 'DL',\n",
    "    'PyGRANSO': 'PG',\n",
    "    'IPOPT': 'IPOPT',\n",
    "    'SCIP': 'SCIP',\n",
    "}\n",
    "\n",
    "# Make updates to naming\n",
    "results_df['algorithm'] = results_df['algorithm'].map(algorithm_map)\n",
    "# results_df['problem_name'] = results\n",
    "results_df.head()"
   ]
  },
  {
   "cell_type": "code",
   "execution_count": null,
   "id": "c7331c79-5a7c-4688-995d-8f38953762cd",
   "metadata": {},
   "outputs": [],
   "source": [
    "# Let's create the final plot and heat map\n",
    "# Let's try a heat map to look at all problems\n",
    "fn_results_df = results_df.pivot_table(\n",
    "    index='problem_name', columns='algorithm', values='success rate'\n",
    ").fillna(0.0)\n",
    "\n",
    "# Order the columns\n",
    "column_order = ['DL', 'DA', 'DE', 'IPOPT', 'PG', 'SCIP']\n",
    "fn_results_df = fn_results_df[column_order]\n",
    "fn_results_df.sort_values('DL')"
   ]
  },
  {
   "cell_type": "code",
   "execution_count": null,
   "id": "07d3a123-5041-46b8-b5bf-5ccd188d8043",
   "metadata": {},
   "outputs": [],
   "source": [
    "fn_results_df.mean()"
   ]
  },
  {
   "cell_type": "code",
   "execution_count": null,
   "id": "8ac3cf2c-7110-4630-9fc0-3dd1b3784172",
   "metadata": {},
   "outputs": [],
   "source": [
    "# Get a sample of the data\n",
    "np.random.seed(0)\n",
    "sampled_results = fn_results_df.sample(frac=0.50).sort_index()\n",
    "sampled_results.index = sampled_results.index.map(problem_name_mapping)\n",
    "\n",
    "# Generate the heatmap\n",
    "fig, ax1 = plt.subplots(1, 1, figsize=(9, 6))\n",
    "\n",
    "sns.heatmap(\n",
    "    data=sampled_results,\n",
    "    cmap='jet',\n",
    "    ax=ax1,\n",
    "    # annot=True,\n",
    "    # fmt=\".1f\"\n",
    ")\n",
    "ax1.xaxis.tick_top()\n",
    "ax1.tick_params(axis='both', which='major', labelsize=14)\n",
    "ax1.set(xlabel=\"\", ylabel=\"\")\n",
    "\n",
    "fig.tight_layout()\n",
    "# fig.savefig('./paper-images/2d-heatmap-results.png', bbox_inches='tight')"
   ]
  },
  {
   "cell_type": "markdown",
   "id": "f013774f-e318-4fb3-8a89-9ddc4ffa01cb",
   "metadata": {},
   "source": [
    "# Rectification"
   ]
  },
  {
   "cell_type": "code",
   "execution_count": null,
   "id": "3c211761-b31c-4bdd-8b41-b2e4934cbf7d",
   "metadata": {},
   "outputs": [],
   "source": [
    "deeplifting_file_directory = './low-dimension-search-results/*/*'\n",
    "deeplifting_files = glob.glob(deeplifting_file_directory)\n",
    "print(len(deeplifting_files))\n",
    "\n",
    "updated_deeplifting_df = build_dl_results(deeplifting_files)"
   ]
  },
  {
   "cell_type": "code",
   "execution_count": null,
   "id": "951dfa99-1f17-4c55-9c53-8987dceacdad",
   "metadata": {},
   "outputs": [],
   "source": [
    "updated_deeplifting_df"
   ]
  },
  {
   "cell_type": "code",
   "execution_count": null,
   "id": "13a250cc-e787-4b06-80c7-aed50efdfbfd",
   "metadata": {},
   "outputs": [],
   "source": []
  },
  {
   "cell_type": "code",
   "execution_count": null,
   "id": "9ef33989-ca68-4be9-a936-b1313a6629f4",
   "metadata": {},
   "outputs": [],
   "source": []
  }
 ],
 "metadata": {
  "kernelspec": {
   "display_name": "deeplifting",
   "language": "python",
   "name": "deeplifting"
  },
  "language_info": {
   "codemirror_mode": {
    "name": "ipython",
    "version": 3
   },
   "file_extension": ".py",
   "mimetype": "text/x-python",
   "name": "python",
   "nbconvert_exporter": "python",
   "pygments_lexer": "ipython3",
   "version": "3.9.11"
  }
 },
 "nbformat": 4,
 "nbformat_minor": 5
}
