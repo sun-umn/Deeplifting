{
 "cells": [
  {
   "cell_type": "code",
   "execution_count": 1,
   "id": "ef63a5c6-5995-4481-b40b-c251707de8e9",
   "metadata": {},
   "outputs": [
    {
     "data": {
      "text/plain": [
       "'/Users/ryandevera/data-science/umn_environments/Deeplifting/deeplifting/notebooks'"
      ]
     },
     "execution_count": 1,
     "metadata": {},
     "output_type": "execute_result"
    }
   ],
   "source": [
    "%pwd"
   ]
  },
  {
   "cell_type": "code",
   "execution_count": 2,
   "id": "a45f4101-557b-4b77-913a-6f2b977b7107",
   "metadata": {},
   "outputs": [
    {
     "name": "stdout",
     "output_type": "stream",
     "text": [
      "/Users/ryandevera/data-science/umn_environments/Deeplifting\n"
     ]
    }
   ],
   "source": [
    "%cd ../.."
   ]
  },
  {
   "cell_type": "code",
   "execution_count": 3,
   "id": "4bd9a434-d26b-464c-8fc4-4a6cac30f672",
   "metadata": {},
   "outputs": [],
   "source": [
    "from deeplifting.utils import create_unique_experiment_directory"
   ]
  },
  {
   "cell_type": "code",
   "execution_count": 4,
   "id": "6f33bde9-a24c-4ea5-a226-56f501fbbf35",
   "metadata": {},
   "outputs": [
    {
     "name": "stdout",
     "output_type": "stream",
     "text": [
      "Directory experiments/44778a11-7250-403c-ad9c-6310ed8d0c0f created.\n",
      "UUID 44778a11-7250-403c-ad9c-6310ed8d0c0f written to experiments/current_experiment_uuid.txt.\n",
      "Directory experiments/44778a11-7250-403c-ad9c-6310ed8d0c0f/low-dimension created.\n",
      "Directory experiments/44778a11-7250-403c-ad9c-6310ed8d0c0f/low-dimension/dual_annealing created.\n",
      "Directory experiments/44778a11-7250-403c-ad9c-6310ed8d0c0f/low-dimension/differential_evolution created.\n",
      "Directory experiments/44778a11-7250-403c-ad9c-6310ed8d0c0f/low-dimension/ipopt created.\n",
      "Directory experiments/44778a11-7250-403c-ad9c-6310ed8d0c0f/low-dimension/pygranso created.\n",
      "Directory experiments/44778a11-7250-403c-ad9c-6310ed8d0c0f/low-dimension/scip created.\n",
      "Directory experiments/44778a11-7250-403c-ad9c-6310ed8d0c0f/low-dimension/deeplifting-pygranso created.\n",
      "Directory experiments/44778a11-7250-403c-ad9c-6310ed8d0c0f/low-dimension/deeplifting-adam created.\n",
      "Directory experiments/44778a11-7250-403c-ad9c-6310ed8d0c0f/low-dimension/deeplifting-lbfgs created.\n",
      "Directory experiments/44778a11-7250-403c-ad9c-6310ed8d0c0f/low-dimension/basinhopping created.\n",
      "Directory experiments/44778a11-7250-403c-ad9c-6310ed8d0c0f/high-dimension created.\n",
      "Directory experiments/44778a11-7250-403c-ad9c-6310ed8d0c0f/high-dimension/dual_annealing created.\n",
      "Directory experiments/44778a11-7250-403c-ad9c-6310ed8d0c0f/high-dimension/differential_evolution created.\n",
      "Directory experiments/44778a11-7250-403c-ad9c-6310ed8d0c0f/high-dimension/ipopt created.\n",
      "Directory experiments/44778a11-7250-403c-ad9c-6310ed8d0c0f/high-dimension/pygranso created.\n",
      "Directory experiments/44778a11-7250-403c-ad9c-6310ed8d0c0f/high-dimension/scip created.\n",
      "Directory experiments/44778a11-7250-403c-ad9c-6310ed8d0c0f/high-dimension/deeplifting-pygranso created.\n",
      "Directory experiments/44778a11-7250-403c-ad9c-6310ed8d0c0f/high-dimension/deeplifting-adam created.\n",
      "Directory experiments/44778a11-7250-403c-ad9c-6310ed8d0c0f/high-dimension/deeplifting-lbfgs created.\n",
      "Directory experiments/44778a11-7250-403c-ad9c-6310ed8d0c0f/high-dimension/basinhopping created.\n"
     ]
    },
    {
     "data": {
      "text/plain": [
       "'experiments/44778a11-7250-403c-ad9c-6310ed8d0c0f'"
      ]
     },
     "execution_count": 4,
     "metadata": {},
     "output_type": "execute_result"
    }
   ],
   "source": [
    "create_unique_experiment_directory()"
   ]
  },
  {
   "cell_type": "code",
   "execution_count": null,
   "id": "dccaa7f2-7bcc-4ea9-b3a3-de33ebc43da6",
   "metadata": {},
   "outputs": [],
   "source": []
  }
 ],
 "metadata": {
  "kernelspec": {
   "display_name": "deeplifting",
   "language": "python",
   "name": "deeplifting"
  },
  "language_info": {
   "codemirror_mode": {
    "name": "ipython",
    "version": 3
   },
   "file_extension": ".py",
   "mimetype": "text/x-python",
   "name": "python",
   "nbconvert_exporter": "python",
   "pygments_lexer": "ipython3",
   "version": "3.9.11"
  }
 },
 "nbformat": 4,
 "nbformat_minor": 5
}
