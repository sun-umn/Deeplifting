{
 "cells": [
  {
   "cell_type": "code",
   "execution_count": 10,
   "id": "ca43af7c-1d3a-488a-8fe4-8c7757558b26",
   "metadata": {},
   "outputs": [],
   "source": [
    "# Let's load the deeplifting data"
   ]
  },
  {
   "cell_type": "code",
   "execution_count": 11,
   "id": "8371161a-785d-4ea3-9eaa-ec5ca7368e2e",
   "metadata": {},
   "outputs": [
    {
     "name": "stdout",
     "output_type": "stream",
     "text": [
      "/Users/ryandevera/data-science\n"
     ]
    }
   ],
   "source": [
    "%cd ../.."
   ]
  },
  {
   "cell_type": "code",
   "execution_count": 23,
   "id": "05117b3b-389c-48b3-90dc-41803abe59b0",
   "metadata": {},
   "outputs": [],
   "source": [
    "import glob\n",
    "import pandas as pd\n",
    "import seaborn as sns"
   ]
  },
  {
   "cell_type": "code",
   "execution_count": 34,
   "id": "49711cfa-dea1-4f7b-8423-15a740d2d740",
   "metadata": {},
   "outputs": [
    {
     "data": {
      "text/plain": [
       "['/Users/ryandevera/data-science/umn_environments/Deeplifting/high-dimension-search-results/2023-10-17-11-lennard_jones_6d/2-layer-128-sum-0-pytorch-lbfgs-sine-sine-False-input-size-1.parquet',\n",
       " '/Users/ryandevera/data-science/umn_environments/Deeplifting/high-dimension-search-results/2023-10-17-11-lennard_jones_6d/3-layer-128-sum-2-pygranso-sine-sine-False-input-size-1.parquet',\n",
       " '/Users/ryandevera/data-science/umn_environments/Deeplifting/high-dimension-search-results/2023-10-17-11-lennard_jones_6d/2-layer-128-sum-0-pytorch-adam-sine-sine-False-input-size-1.parquet',\n",
       " '/Users/ryandevera/data-science/umn_environments/Deeplifting/high-dimension-search-results/2023-10-17-11-lennard_jones_6d/2-layer-128-sum-0-pygranso-sine-sine-False-input-size-1.parquet',\n",
       " '/Users/ryandevera/data-science/umn_environments/Deeplifting/high-dimension-search-results/2023-10-17-11-lennard_jones_6d/2-layer-128-sum-1-pytorch-lbfgs-sine-sine-True-input-size-1.parquet',\n",
       " '/Users/ryandevera/data-science/umn_environments/Deeplifting/high-dimension-search-results/2023-10-17-11-lennard_jones_6d/2-layer-128-sum-1-pytorch-adam-sine-sine-True-input-size-1.parquet',\n",
       " '/Users/ryandevera/data-science/umn_environments/Deeplifting/high-dimension-search-results/2023-10-17-11-lennard_jones_6d/2-layer-128-sum-1-pygranso-sine-sine-True-input-size-1.parquet']"
      ]
     },
     "execution_count": 34,
     "metadata": {},
     "output_type": "execute_result"
    }
   ],
   "source": [
    "file_path = '/Users/ryandevera/data-science/umn_environments/Deeplifting/high-dimension-search-results/2023-10-17-11-lennard_jones_6d/*'\n",
    "files = glob.glob(file_path)\n",
    "files"
   ]
  },
  {
   "cell_type": "code",
   "execution_count": 35,
   "id": "c3539acf-a9c6-4bcc-9173-61b4429460e6",
   "metadata": {},
   "outputs": [],
   "source": [
    "data = pd.read_parquet(files)"
   ]
  },
  {
   "cell_type": "code",
   "execution_count": 36,
   "id": "967bb42d-d425-4c62-9f52-041967d49f75",
   "metadata": {},
   "outputs": [
    {
     "data": {
      "text/html": [
       "<div>\n",
       "<style scoped>\n",
       "    .dataframe tbody tr th:only-of-type {\n",
       "        vertical-align: middle;\n",
       "    }\n",
       "\n",
       "    .dataframe tbody tr th {\n",
       "        vertical-align: top;\n",
       "    }\n",
       "\n",
       "    .dataframe thead th {\n",
       "        text-align: right;\n",
       "    }\n",
       "</style>\n",
       "<table border=\"1\" class=\"dataframe\">\n",
       "  <thead>\n",
       "    <tr style=\"text-align: right;\">\n",
       "      <th></th>\n",
       "      <th>x1</th>\n",
       "      <th>x2</th>\n",
       "      <th>x3</th>\n",
       "      <th>x4</th>\n",
       "      <th>x5</th>\n",
       "      <th>x6</th>\n",
       "      <th>f</th>\n",
       "      <th>f_initial</th>\n",
       "      <th>algorithm</th>\n",
       "      <th>total_time</th>\n",
       "      <th>...</th>\n",
       "      <th>num_layers</th>\n",
       "      <th>num_neurons</th>\n",
       "      <th>hidden_activation</th>\n",
       "      <th>output_activation</th>\n",
       "      <th>agg_function</th>\n",
       "      <th>include_bn</th>\n",
       "      <th>problem_name</th>\n",
       "      <th>global_minimum</th>\n",
       "      <th>dimensions</th>\n",
       "      <th>hits</th>\n",
       "    </tr>\n",
       "  </thead>\n",
       "  <tbody>\n",
       "    <tr>\n",
       "      <th>0</th>\n",
       "      <td>0.379283</td>\n",
       "      <td>1.718384</td>\n",
       "      <td>1.314786</td>\n",
       "      <td>0.325172</td>\n",
       "      <td>0.601069</td>\n",
       "      <td>1.222050</td>\n",
       "      <td>-1.000000</td>\n",
       "      <td>-0.023194</td>\n",
       "      <td>Deeplifting-LBFGS</td>\n",
       "      <td>25.600796</td>\n",
       "      <td>...</td>\n",
       "      <td>2</td>\n",
       "      <td>128</td>\n",
       "      <td>sine</td>\n",
       "      <td>sine</td>\n",
       "      <td>sum</td>\n",
       "      <td>False</td>\n",
       "      <td>lennard_jones_6d</td>\n",
       "      <td>-1.0</td>\n",
       "      <td>6</td>\n",
       "      <td>True</td>\n",
       "    </tr>\n",
       "    <tr>\n",
       "      <th>1</th>\n",
       "      <td>-0.288713</td>\n",
       "      <td>2.897901</td>\n",
       "      <td>0.795392</td>\n",
       "      <td>-1.260248</td>\n",
       "      <td>3.429226</td>\n",
       "      <td>1.028494</td>\n",
       "      <td>-0.997744</td>\n",
       "      <td>-0.023142</td>\n",
       "      <td>Deeplifting</td>\n",
       "      <td>0.441483</td>\n",
       "      <td>...</td>\n",
       "      <td>3</td>\n",
       "      <td>128</td>\n",
       "      <td>sine</td>\n",
       "      <td>sine</td>\n",
       "      <td>sum</td>\n",
       "      <td>False</td>\n",
       "      <td>lennard_jones_6d</td>\n",
       "      <td>-1.0</td>\n",
       "      <td>6</td>\n",
       "      <td>False</td>\n",
       "    </tr>\n",
       "    <tr>\n",
       "      <th>2</th>\n",
       "      <td>-1.325381</td>\n",
       "      <td>0.442259</td>\n",
       "      <td>-3.743613</td>\n",
       "      <td>0.633380</td>\n",
       "      <td>-3.937433</td>\n",
       "      <td>-0.550880</td>\n",
       "      <td>-0.000109</td>\n",
       "      <td>-0.023194</td>\n",
       "      <td>Adam</td>\n",
       "      <td>26.177053</td>\n",
       "      <td>...</td>\n",
       "      <td>2</td>\n",
       "      <td>128</td>\n",
       "      <td>sine</td>\n",
       "      <td>sine</td>\n",
       "      <td>sum</td>\n",
       "      <td>False</td>\n",
       "      <td>lennard_jones_6d</td>\n",
       "      <td>-1.0</td>\n",
       "      <td>6</td>\n",
       "      <td>False</td>\n",
       "    </tr>\n",
       "    <tr>\n",
       "      <th>3</th>\n",
       "      <td>0.350058</td>\n",
       "      <td>1.695064</td>\n",
       "      <td>2.461571</td>\n",
       "      <td>0.243956</td>\n",
       "      <td>1.704802</td>\n",
       "      <td>1.344177</td>\n",
       "      <td>-1.000000</td>\n",
       "      <td>-0.023142</td>\n",
       "      <td>Deeplifting</td>\n",
       "      <td>0.216293</td>\n",
       "      <td>...</td>\n",
       "      <td>2</td>\n",
       "      <td>128</td>\n",
       "      <td>sine</td>\n",
       "      <td>sine</td>\n",
       "      <td>sum</td>\n",
       "      <td>False</td>\n",
       "      <td>lennard_jones_6d</td>\n",
       "      <td>-1.0</td>\n",
       "      <td>6</td>\n",
       "      <td>True</td>\n",
       "    </tr>\n",
       "    <tr>\n",
       "      <th>4</th>\n",
       "      <td>0.379635</td>\n",
       "      <td>1.718962</td>\n",
       "      <td>1.250482</td>\n",
       "      <td>0.281602</td>\n",
       "      <td>0.600956</td>\n",
       "      <td>1.231176</td>\n",
       "      <td>-1.000000</td>\n",
       "      <td>-0.023199</td>\n",
       "      <td>Deeplifting-LBFGS</td>\n",
       "      <td>26.687322</td>\n",
       "      <td>...</td>\n",
       "      <td>2</td>\n",
       "      <td>128</td>\n",
       "      <td>sine</td>\n",
       "      <td>sine</td>\n",
       "      <td>sum</td>\n",
       "      <td>True</td>\n",
       "      <td>lennard_jones_6d</td>\n",
       "      <td>-1.0</td>\n",
       "      <td>6</td>\n",
       "      <td>True</td>\n",
       "    </tr>\n",
       "    <tr>\n",
       "      <th>5</th>\n",
       "      <td>1.407370</td>\n",
       "      <td>1.464796</td>\n",
       "      <td>3.988128</td>\n",
       "      <td>-0.464398</td>\n",
       "      <td>1.280047</td>\n",
       "      <td>-1.788577</td>\n",
       "      <td>-0.000080</td>\n",
       "      <td>-0.023199</td>\n",
       "      <td>Adam</td>\n",
       "      <td>32.581268</td>\n",
       "      <td>...</td>\n",
       "      <td>2</td>\n",
       "      <td>128</td>\n",
       "      <td>sine</td>\n",
       "      <td>sine</td>\n",
       "      <td>sum</td>\n",
       "      <td>True</td>\n",
       "      <td>lennard_jones_6d</td>\n",
       "      <td>-1.0</td>\n",
       "      <td>6</td>\n",
       "      <td>False</td>\n",
       "    </tr>\n",
       "    <tr>\n",
       "      <th>6</th>\n",
       "      <td>0.436223</td>\n",
       "      <td>1.720670</td>\n",
       "      <td>1.561790</td>\n",
       "      <td>0.221034</td>\n",
       "      <td>0.664449</td>\n",
       "      <td>1.198167</td>\n",
       "      <td>-0.994036</td>\n",
       "      <td>-0.023142</td>\n",
       "      <td>Deeplifting</td>\n",
       "      <td>0.201413</td>\n",
       "      <td>...</td>\n",
       "      <td>2</td>\n",
       "      <td>128</td>\n",
       "      <td>sine</td>\n",
       "      <td>sine</td>\n",
       "      <td>sum</td>\n",
       "      <td>True</td>\n",
       "      <td>lennard_jones_6d</td>\n",
       "      <td>-1.0</td>\n",
       "      <td>6</td>\n",
       "      <td>False</td>\n",
       "    </tr>\n",
       "  </tbody>\n",
       "</table>\n",
       "<p>7 rows × 22 columns</p>\n",
       "</div>"
      ],
      "text/plain": [
       "         x1        x2        x3        x4        x5        x6         f  \\\n",
       "0  0.379283  1.718384  1.314786  0.325172  0.601069  1.222050 -1.000000   \n",
       "1 -0.288713  2.897901  0.795392 -1.260248  3.429226  1.028494 -0.997744   \n",
       "2 -1.325381  0.442259 -3.743613  0.633380 -3.937433 -0.550880 -0.000109   \n",
       "3  0.350058  1.695064  2.461571  0.243956  1.704802  1.344177 -1.000000   \n",
       "4  0.379635  1.718962  1.250482  0.281602  0.600956  1.231176 -1.000000   \n",
       "5  1.407370  1.464796  3.988128 -0.464398  1.280047 -1.788577 -0.000080   \n",
       "6  0.436223  1.720670  1.561790  0.221034  0.664449  1.198167 -0.994036   \n",
       "\n",
       "   f_initial          algorithm  total_time  ...  num_layers num_neurons  \\\n",
       "0  -0.023194  Deeplifting-LBFGS   25.600796  ...           2         128   \n",
       "1  -0.023142        Deeplifting    0.441483  ...           3         128   \n",
       "2  -0.023194               Adam   26.177053  ...           2         128   \n",
       "3  -0.023142        Deeplifting    0.216293  ...           2         128   \n",
       "4  -0.023199  Deeplifting-LBFGS   26.687322  ...           2         128   \n",
       "5  -0.023199               Adam   32.581268  ...           2         128   \n",
       "6  -0.023142        Deeplifting    0.201413  ...           2         128   \n",
       "\n",
       "   hidden_activation  output_activation agg_function include_bn  \\\n",
       "0               sine               sine          sum      False   \n",
       "1               sine               sine          sum      False   \n",
       "2               sine               sine          sum      False   \n",
       "3               sine               sine          sum      False   \n",
       "4               sine               sine          sum       True   \n",
       "5               sine               sine          sum       True   \n",
       "6               sine               sine          sum       True   \n",
       "\n",
       "       problem_name  global_minimum dimensions   hits  \n",
       "0  lennard_jones_6d            -1.0          6   True  \n",
       "1  lennard_jones_6d            -1.0          6  False  \n",
       "2  lennard_jones_6d            -1.0          6  False  \n",
       "3  lennard_jones_6d            -1.0          6   True  \n",
       "4  lennard_jones_6d            -1.0          6   True  \n",
       "5  lennard_jones_6d            -1.0          6  False  \n",
       "6  lennard_jones_6d            -1.0          6  False  \n",
       "\n",
       "[7 rows x 22 columns]"
      ]
     },
     "execution_count": 36,
     "metadata": {},
     "output_type": "execute_result"
    }
   ],
   "source": [
    "data"
   ]
  },
  {
   "cell_type": "code",
   "execution_count": 37,
   "id": "f4940347-9104-4ca0-980c-3219e932a65e",
   "metadata": {},
   "outputs": [],
   "source": [
    "# We have the number of layers and the number of neurons so we should be able to make a\n",
    "# performance profile or heat map regarding complexity\n",
    "# Let's also add another model"
   ]
  },
  {
   "cell_type": "code",
   "execution_count": 38,
   "id": "1bc0355b-91d4-40fa-bcee-da5936942968",
   "metadata": {},
   "outputs": [],
   "source": [
    "complexity_df = (\n",
    "    data.loc[data['algorithm'] == 'Deeplifting']\n",
    "    .groupby(['algorithm', 'num_layers', 'num_neurons'])['hits']\n",
    "    .mean()\n",
    "    .reset_index()\n",
    "    .pivot_table(index='num_layers', columns='num_neurons', values='hits')\n",
    ")"
   ]
  },
  {
   "cell_type": "code",
   "execution_count": 39,
   "id": "7694895d-63a7-44c3-920a-e6fae28efded",
   "metadata": {},
   "outputs": [
    {
     "data": {
      "text/plain": [
       "<Axes: xlabel='num_neurons', ylabel='num_layers'>"
      ]
     },
     "execution_count": 39,
     "metadata": {},
     "output_type": "execute_result"
    },
    {
     "data": {
      "image/png": "[encoded data removed]",
      "text/plain": [
       "<Figure size 640x480 with 2 Axes>"
      ]
     },
     "metadata": {},
     "output_type": "display_data"
    }
   ],
   "source": [
    "sns.heatmap(complexity_df, annot=True, cmap='viridis')"
   ]
  },
  {
   "cell_type": "code",
   "execution_count": 31,
   "id": "5cfcb8ea-32ca-403f-a3c1-fa69509494a3",
   "metadata": {},
   "outputs": [],
   "source": [
    "low_dimensional_problem_names = [\n",
    "    'ackley',\n",
    "    'ackley2',\n",
    "    'ackley3',\n",
    "    'adjiman',\n",
    "    'alpine1',\n",
    "    'alpine2',\n",
    "    'bartels_conn',\n",
    "    'beale',\n",
    "    'bird',\n",
    "    'bohachevsky1',\n",
    "    'bohachevsky2',\n",
    "    'bohachevsky3',\n",
    "    'booth',\n",
    "    'branin_rcos',\n",
    "    'brent',\n",
    "    'bukin_n2',\n",
    "    'bukin_n4',\n",
    "    'bukin_n6',\n",
    "    'camel_3hump',\n",
    "    'camel_6hump',\n",
    "    'chung_reynolds',\n",
    "    'cross_in_tray',\n",
    "    'cross_leg_table',\n",
    "    'crowned_cross',\n",
    "    # 'cube',\n",
    "    'drop_wave',\n",
    "    'eggholder',\n",
    "    # 'ex8_1_1',\n",
    "    'griewank',\n",
    "    'holder_table',\n",
    "    'levy',\n",
    "    'levy_n13',\n",
    "    'mathopt6',\n",
    "    'rastrigin',\n",
    "    'rosenbrock',\n",
    "    'schaffer_n2',\n",
    "    'schaffer_n4',\n",
    "    'schwefel',\n",
    "    'shubert',\n",
    "    'rosenbrock',\n",
    "    'xinsheyang_n2',\n",
    "    'xinsheyang_n3',\n",
    "]"
   ]
  },
  {
   "cell_type": "code",
   "execution_count": 32,
   "id": "3f2cad25-7d85-4670-a264-d42216f7c583",
   "metadata": {},
   "outputs": [
    {
     "data": {
      "text/plain": [
       "40"
      ]
     },
     "execution_count": 32,
     "metadata": {},
     "output_type": "execute_result"
    }
   ],
   "source": [
    "len(low_dimensional_problem_names)"
   ]
  },
  {
   "cell_type": "code",
   "execution_count": null,
   "id": "1d91aca3-3be2-4384-95a7-fbdb0b1f18fd",
   "metadata": {},
   "outputs": [],
   "source": []
  }
 ],
 "metadata": {
  "kernelspec": {
   "display_name": "deeplifting",
   "language": "python",
   "name": "deeplifting"
  },
  "language_info": {
   "codemirror_mode": {
    "name": "ipython",
    "version": 3
   },
   "file_extension": ".py",
   "mimetype": "text/x-python",
   "name": "python",
   "nbconvert_exporter": "python",
   "pygments_lexer": "ipython3",
   "version": "3.9.11"
  }
 },
 "nbformat": 4,
 "nbformat_minor": 5
}
