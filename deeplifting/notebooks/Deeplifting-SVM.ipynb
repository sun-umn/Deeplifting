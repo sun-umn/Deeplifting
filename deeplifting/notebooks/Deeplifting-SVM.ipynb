{
 "cells": [
  {
   "cell_type": "code",
   "execution_count": 1,
   "id": "da720180-4028-49ad-9886-f139cc0b71c4",
   "metadata": {},
   "outputs": [
    {
     "data": {
      "text/plain": [
       "'/Users/ryandevera/data-science/umn_environments/Deeplifting/deeplifting/notebooks'"
      ]
     },
     "execution_count": 1,
     "metadata": {},
     "output_type": "execute_result"
    }
   ],
   "source": [
    "%pwd"
   ]
  },
  {
   "cell_type": "code",
   "execution_count": 2,
   "id": "9ba49b7f-d35d-4d6d-9808-f6cf773c0313",
   "metadata": {},
   "outputs": [
    {
     "name": "stdout",
     "output_type": "stream",
     "text": [
      "/Users/ryandevera/data-science/umn_environments/Deeplifting\n"
     ]
    }
   ],
   "source": [
    "%cd ../.."
   ]
  },
  {
   "cell_type": "code",
   "execution_count": 3,
   "id": "d41873e7-5036-4bf0-a8bd-d038da320819",
   "metadata": {},
   "outputs": [],
   "source": [
    "from deeplifting.models import DeepliftingSkipMLP\n",
    "from sklearn.datasets import load_iris\n",
    "import pandas as pd\n",
    "import torch\n",
    "import numpy as np\n",
    "\n",
    "# import pygranso functions\n",
    "from pygranso.private.getNvar import getNvarTorch\n",
    "from pygranso.pygranso import pygranso\n",
    "from pygranso.pygransoStruct import pygransoStruct"
   ]
  },
  {
   "cell_type": "code",
   "execution_count": null,
   "id": "76c23967-68e1-45b1-a039-e4eaf30e15ab",
   "metadata": {},
   "outputs": [],
   "source": [
    "device = torch.device('cpu')\n",
    "\n",
    "# Load the dataset\n",
    "iris = load_iris()\n",
    "\n",
    "# The data and target labels\n",
    "data = iris.data\n",
    "labels = iris.target\n",
    "\n",
    "# If you want the feature names and target names:\n",
    "feature_names = iris.feature_names\n",
    "target_names = iris.target_names\n",
    "\n",
    "df = pd.DataFrame(data=iris.data, columns=['f1', 'f2', 'f3', 'f4'])\n",
    "df['f5'] = 1.0\n",
    "df['target'] = iris.target\n",
    "\n",
    "df = df.sample(frac=1.0).reset_index(drop=True)\n",
    "\n",
    "# Dimensions\n",
    "output_size = len(feature_names) + 1\n",
    "\n",
    "# Inputs\n",
    "inputs_X = df[['f1', 'f2', 'f3', 'f4', 'f5']].values\n",
    "inputs_X = torch.from_numpy(inputs_X).to(device=device, dtype=torch.double).T\n",
    "\n",
    "# Just two classes for now\n",
    "labels = df['target'].values\n",
    "\n",
    "y = np.zeros(len(labels))\n",
    "y[labels != 1] = 1\n",
    "y[labels == 1] = -1\n",
    "y = torch.from_numpy(y).to(device=device, dtype=torch.double)"
   ]
  },
  {
   "cell_type": "code",
   "execution_count": null,
   "id": "aa6b21b2-8b24-48f1-9abf-ee958fc7d19b",
   "metadata": {},
   "outputs": [],
   "source": [
    "inputs_X.shape, labels.shape"
   ]
  },
  {
   "cell_type": "code",
   "execution_count": null,
   "id": "401fb869-5bd8-4238-8a15-d5c683bf21fc",
   "metadata": {},
   "outputs": [],
   "source": [
    "# Set up the learning function\n",
    "def deeplifting_svm(model, inputs_X, labels):\n",
    "    outputs = model(None)\n",
    "    weight_vec = outputs.mean(axis=0)\n",
    "\n",
    "    # Compute SVM objective\n",
    "    denominator = torch.linalg.norm(weight_vec, ord=2)\n",
    "    prod = torch.matmul(weight_vec.T, inputs_X)\n",
    "    numerator = labels * prod\n",
    "    obj = numerator / denominator\n",
    "\n",
    "    # Orig obj\n",
    "    f = torch.amax(-1 * obj)\n",
    "\n",
    "    ce = None\n",
    "    ci = None\n",
    "    return f, ci, ce\n",
    "\n",
    "\n",
    "# Set up a model\n",
    "# Deeplifting model with skip connections\n",
    "model = DeepliftingSkipMLP(\n",
    "    input_size=1,\n",
    "    hidden_sizes=(64,) * 2,\n",
    "    output_size=output_size,\n",
    "    bounds=None,\n",
    "    skip_every_n=1,\n",
    "    activation='relu',\n",
    "    output_activation='sine',\n",
    "    agg_function='sum',\n",
    "    include_bn=True,\n",
    "    seed=1,\n",
    ")"
   ]
  },
  {
   "cell_type": "code",
   "execution_count": null,
   "id": "ec2ef475-a515-4720-94e8-a7c3b99dee94",
   "metadata": {},
   "outputs": [],
   "source": [
    "# Deeplifting time!\n",
    "device = torch.device('cpu')\n",
    "model = model.to(device=device, dtype=torch.double)\n",
    "nvar = getNvarTorch(model.parameters())\n",
    "\n",
    "opts = pygransoStruct()\n",
    "\n",
    "# Inital x0\n",
    "x0 = (\n",
    "    torch.nn.utils.parameters_to_vector(model.parameters())\n",
    "    .detach()\n",
    "    .reshape(nvar, 1)\n",
    "    .to(device=device, dtype=torch.double)\n",
    ")\n",
    "\n",
    "# PyGranso options\n",
    "# Increase max number of iterations and let convege to stationarity\n",
    "# Do we see local minima in the PyGranso version\n",
    "# Dual Annealing, SCIP and Deeplifting, PyGranso (showing there are local minima)\n",
    "opts.x0 = x0\n",
    "opts.torch_device = device\n",
    "opts.print_frequency = 1\n",
    "opts.limited_mem_size = 5\n",
    "opts.stat_l2_model = False\n",
    "opts.double_precision = True\n",
    "opts.opt_tol = 1e-10\n",
    "opts.maxit = 1000\n",
    "\n",
    "# Combined function\n",
    "comb_fn = lambda model: deeplifting_svm(model, inputs_X, y)  # noqa\n",
    "\n",
    "# Run the main algorithm\n",
    "soln = pygranso(var_spec=model, combined_fn=comb_fn, user_opts=opts)"
   ]
  },
  {
   "cell_type": "code",
   "execution_count": null,
   "id": "ad87dcfe-c481-4410-9549-23ad94382cd7",
   "metadata": {},
   "outputs": [],
   "source": [
    "# Get the best weights and let's check training sample fit\n",
    "best_weights = model(None)\n",
    "best_weights = best_weights.mean(axis=0)\n",
    "best_weights = best_weights.detach().cpu().numpy()\n",
    "best_weights"
   ]
  },
  {
   "cell_type": "code",
   "execution_count": null,
   "id": "5afa72dd-0655-4523-9504-9a68b150fba2",
   "metadata": {},
   "outputs": [],
   "source": [
    "inputs_X = inputs_X.cpu().numpy()\n",
    "y = y.cpu().numpy()"
   ]
  },
  {
   "cell_type": "code",
   "execution_count": null,
   "id": "e756d269-a50f-46f2-a3c2-2be0772b3cfc",
   "metadata": {},
   "outputs": [],
   "source": [
    "raw_predictions = np.dot(best_weights, inputs_X)\n",
    "predictions = np.sign(raw_predictions)"
   ]
  },
  {
   "cell_type": "code",
   "execution_count": null,
   "id": "12fbcb14-b737-4d62-a00c-e76be93e726a",
   "metadata": {},
   "outputs": [],
   "source": [
    "from sklearn.metrics import accuracy_score"
   ]
  },
  {
   "cell_type": "code",
   "execution_count": null,
   "id": "42718a9d-72dc-4fa4-8ec4-375e7b8dc762",
   "metadata": {},
   "outputs": [],
   "source": [
    "accuracy_score(y, predictions)"
   ]
  },
  {
   "cell_type": "code",
   "execution_count": null,
   "id": "bdca5259-0563-4412-8fc3-4d07530a9d61",
   "metadata": {},
   "outputs": [],
   "source": [
    "y, predictions"
   ]
  },
  {
   "cell_type": "code",
   "execution_count": null,
   "id": "112b3ff9-711d-40c2-b7c1-f6605abc948b",
   "metadata": {},
   "outputs": [],
   "source": [
    "iris.target_names"
   ]
  },
  {
   "cell_type": "code",
   "execution_count": null,
   "id": "57b664e1-d260-4be3-b20c-551efdfb845a",
   "metadata": {},
   "outputs": [],
   "source": [
    "from sklearn.manifold import TSNE\n",
    "import seaborn as sns\n",
    "import matplotlib.pyplot as plt\n",
    "\n",
    "target_names = ['setosa', 'other']\n",
    "# Apply t-SNE to the data\n",
    "tsne = TSNE(n_components=2, random_state=0)\n",
    "X_tsne = tsne.fit_transform(inputs_X.T[:, :-1])\n",
    "\n",
    "# Create a scatter plot\n",
    "# Create a scatter plot using matplotlib\n",
    "colors = ['red', 'blue', 'green']  # Define a color for each class\n",
    "for i in [-1, 1]:\n",
    "    plt.scatter(\n",
    "        X_tsne[predictions == i, 0],\n",
    "        X_tsne[predictions == i, 1],\n",
    "        c=colors[i],\n",
    "        label=target_names[i],\n",
    "        edgecolors='w',\n",
    "    )"
   ]
  },
  {
   "cell_type": "code",
   "execution_count": null,
   "id": "57e2e99f-0ec0-4608-a689-69d149cfbf10",
   "metadata": {},
   "outputs": [],
   "source": [
    "# from sklearn import datasets\n",
    "# from sklearn.svm import SVC\n",
    "# from sklearn.metrics import accuracy_score\n",
    "\n",
    "# # Load the iris dataset\n",
    "# iris = datasets.load_iris()\n",
    "# X = iris.data\n",
    "# y = iris.target\n",
    "\n",
    "# labels = np.zeros(len(y))\n",
    "# labels[y != 0] = -1\n",
    "# labels[y == 0] = 1\n",
    "\n",
    "# # Initialize the Support Vector Machine Classifier\n",
    "# clf = SVC(kernel='linear')\n",
    "\n",
    "# # Fit the model to the training data\n",
    "# clf.fit(X, labels)\n",
    "\n",
    "# # Predict the labels of the test set\n",
    "# y_pred = clf.predict(X)\n",
    "\n",
    "# # Calculate the accuracy of the model\n",
    "# accuracy_score(labels, y_pred)"
   ]
  },
  {
   "cell_type": "code",
   "execution_count": null,
   "id": "c6c03980-0ec1-45e0-b244-2018222cd235",
   "metadata": {},
   "outputs": [],
   "source": [
    "# labels"
   ]
  },
  {
   "cell_type": "code",
   "execution_count": null,
   "id": "df9fc342-f0e7-45dc-99b8-fa36fb5f214a",
   "metadata": {},
   "outputs": [],
   "source": [
    "# y_pred"
   ]
  },
  {
   "cell_type": "code",
   "execution_count": null,
   "id": "da54dab0-14dd-4d78-bf1a-78f893a0df92",
   "metadata": {},
   "outputs": [],
   "source": [
    "# Set up the learning function\n",
    "def svm(X_struct, inputs_X, labels):\n",
    "    weight_vec = X_struct.w\n",
    "\n",
    "    # Compute SVM objective\n",
    "    denominator = torch.linalg.norm(weight_vec, ord=2)\n",
    "    prod = torch.matmul(weight_vec.T, inputs_X)\n",
    "    numerator = labels * prod\n",
    "    obj = numerator / denominator\n",
    "\n",
    "    # Orig obj\n",
    "    f = torch.amax(-1 * obj)\n",
    "\n",
    "    ce = None\n",
    "    ci = None\n",
    "    return f, ci, ce"
   ]
  },
  {
   "cell_type": "code",
   "execution_count": null,
   "id": "41c03a3b-0a98-4c7b-9170-ab8ce083675d",
   "metadata": {},
   "outputs": [],
   "source": [
    "# Load the dataset\n",
    "iris = load_iris()\n",
    "\n",
    "# The data and target labels\n",
    "data = iris.data\n",
    "labels = iris.target\n",
    "\n",
    "# If you want the feature names and target names:\n",
    "feature_names = iris.feature_names\n",
    "target_names = iris.target_names\n",
    "\n",
    "df = pd.DataFrame(data=iris.data, columns=['f1', 'f2', 'f3', 'f4'])\n",
    "df['f5'] = 1.0\n",
    "df['target'] = iris.target\n",
    "\n",
    "df = df.sample(frac=1.0).reset_index(drop=True)\n",
    "\n",
    "# Dimensions\n",
    "output_size = len(feature_names) + 1\n",
    "\n",
    "# Inputs\n",
    "inputs_X = df[['f1', 'f2', 'f3', 'f4', 'f5']].values\n",
    "inputs_X = torch.from_numpy(inputs_X).to(device=device, dtype=torch.double).T\n",
    "\n",
    "# Just two classes for now\n",
    "labels = df['target'].values\n",
    "\n",
    "y = np.zeros(len(labels))\n",
    "y[labels != 1] = 1\n",
    "y[labels == 1] = -1\n",
    "y = torch.from_numpy(y).to(device=device, dtype=torch.double)\n",
    "\n",
    "# Deeplifting time!\n",
    "device = torch.device('cpu')\n",
    "\n",
    "w0 = torch.randn(\n",
    "    (5, 1),\n",
    ").to(device, dtype=torch.double)\n",
    "var_in = {\"w\": list(w0.shape)}\n",
    "\n",
    "comb_fn = lambda X_struct: svm(\n",
    "    X_struct,\n",
    "    inputs_X,\n",
    "    y,\n",
    ")\n",
    "\n",
    "opts = pygransoStruct()\n",
    "\n",
    "# PyGranso options\n",
    "# Increase max number of iterations and let convege to stationarity\n",
    "# Do we see local minima in the PyGranso version\n",
    "# Dual Annealing, SCIP and Deeplifting, PyGranso (showing there are local minima)\n",
    "opts.x0 = torch.reshape(w0, (-1, 1))\n",
    "opts.torch_device = device\n",
    "opts.print_frequency = 1\n",
    "opts.limited_mem_size = 5\n",
    "opts.stat_l2_model = False\n",
    "opts.double_precision = True\n",
    "opts.opt_tol = 1e-10\n",
    "opts.maxit = 1000\n",
    "\n",
    "# Run the main algorithm\n",
    "soln = pygranso(var_spec=var_in, combined_fn=comb_fn, user_opts=opts)"
   ]
  },
  {
   "cell_type": "code",
   "execution_count": null,
   "id": "bf332e6c-d183-4fd5-bc91-8591c380dfd1",
   "metadata": {},
   "outputs": [],
   "source": [
    "best_weights = soln.best.x"
   ]
  },
  {
   "cell_type": "code",
   "execution_count": null,
   "id": "6b0838ad-47fb-46c1-8021-6eb539a97b35",
   "metadata": {},
   "outputs": [],
   "source": [
    "raw_predictions = np.dot(best_weights.T, inputs_X)\n",
    "predictions = np.sign(raw_predictions)"
   ]
  },
  {
   "cell_type": "code",
   "execution_count": null,
   "id": "7df054d4-3230-4435-a7c1-43994ab249dd",
   "metadata": {},
   "outputs": [],
   "source": [
    "accuracy_score(y.numpy().flatten(), predictions.flatten())"
   ]
  },
  {
   "cell_type": "markdown",
   "id": "6f0f91aa-1595-40de-8cde-8fed0b3a6b53",
   "metadata": {},
   "source": [
    "# Let's Try MNIST\n",
    "\n",
    "MNIST is a larger dataset with more \"features\""
   ]
  },
  {
   "cell_type": "code",
   "execution_count": 36,
   "id": "6da8b1af-4599-4764-b128-eb7f8b9e810a",
   "metadata": {},
   "outputs": [],
   "source": [
    "import numpy as np\n",
    "from sklearn import datasets\n",
    "from sklearn.model_selection import train_test_split\n",
    "from sklearn.svm import SVC\n",
    "from sklearn import metrics\n",
    "from scipy.optimize import differential_evolution, dual_annealing\n",
    "\n",
    "# Load the MNIST dataset\n",
    "digits = datasets.load_digits()\n",
    "\n",
    "# Split the dataset into features and target variable\n",
    "X = digits.data\n",
    "y = digits.target\n",
    "\n",
    "labels = np.zeros(len(y))\n",
    "labels[y == 0] = 1\n",
    "labels[y != 0] = -1"
   ]
  },
  {
   "cell_type": "code",
   "execution_count": 37,
   "id": "3d62bb1e-3716-40ff-99d6-44daa165b468",
   "metadata": {},
   "outputs": [
    {
     "data": {
      "text/plain": [
       "(64, 1797)"
      ]
     },
     "execution_count": 37,
     "metadata": {},
     "output_type": "execute_result"
    }
   ],
   "source": [
    "# Dual annealing and differential evolution\n",
    "inputs_X = X.T.copy()\n",
    "inputs_X.shape"
   ]
  },
  {
   "cell_type": "code",
   "execution_count": 38,
   "id": "aaa972cc-7e3f-4100-94b7-994abc65476e",
   "metadata": {},
   "outputs": [],
   "source": [
    "# Set up the learning function\n",
    "def svm(weight_vec, inputs_X, labels):\n",
    "    # Compute SVM objective\n",
    "    denominator = np.linalg.norm(weight_vec, ord=2)\n",
    "    prod = np.matmul(weight_vec.T, inputs_X)\n",
    "\n",
    "    numerator = (labels * prod).flatten()\n",
    "    obj = numerator / denominator\n",
    "\n",
    "    # Orig obj\n",
    "    f = np.amax(-1 * obj)\n",
    "    return f"
   ]
  },
  {
   "cell_type": "code",
   "execution_count": 39,
   "id": "fcb9c8dd-9a06-4347-871c-393a629f44d3",
   "metadata": {},
   "outputs": [],
   "source": [
    "# Initialize a weight vector\n",
    "x0 = np.random.randn(inputs_X.shape[0])\n",
    "\n",
    "fn = lambda w: svm(w, inputs_X, labels)\n",
    "bounds = [(-10, 10)] * inputs_X.shape[0]\n",
    "\n",
    "result = dual_annealing(\n",
    "    fn,\n",
    "    bounds,\n",
    "    x0=x0,\n",
    "    maxiter=10000,\n",
    ")"
   ]
  },
  {
   "cell_type": "code",
   "execution_count": 40,
   "id": "5b0f8082-fb2a-4367-8668-c0e2b633c7fc",
   "metadata": {},
   "outputs": [
    {
     "data": {
      "text/plain": [
       " message: ['Maximum number of iteration reached']\n",
       " success: True\n",
       "  status: 0\n",
       "     fun: -0.9185219133365673\n",
       "       x: [-6.429e-02 -1.982e-02 ...  9.147e-02  9.429e-02]\n",
       "     nit: 10000\n",
       "    nfev: 3564174\n",
       "    njev: 35141\n",
       "    nhev: 0"
      ]
     },
     "execution_count": 40,
     "metadata": {},
     "output_type": "execute_result"
    }
   ],
   "source": [
    "result"
   ]
  },
  {
   "cell_type": "markdown",
   "id": "f333fc30-6cf2-4591-95ff-9731634da1ad",
   "metadata": {},
   "source": [
    "# PyGRANSO"
   ]
  },
  {
   "cell_type": "code",
   "execution_count": 43,
   "id": "b92e114e-f1b2-475f-89f6-35887299929e",
   "metadata": {},
   "outputs": [],
   "source": [
    "import torch\n",
    "\n",
    "\n",
    "# Set up the learning function\n",
    "def svm(X_struct, inputs_X, labels):\n",
    "    weight_vec = X_struct.w\n",
    "\n",
    "    # Compute SVM objective\n",
    "    denominator = torch.linalg.norm(weight_vec, ord=2)\n",
    "    prod = torch.matmul(weight_vec.T, inputs_X)\n",
    "    numerator = labels * prod\n",
    "    obj = numerator / denominator\n",
    "\n",
    "    # Orig obj\n",
    "    f = torch.amax(-1 * obj)\n",
    "\n",
    "    ce = None\n",
    "    ci = None\n",
    "    return f, ci, ce"
   ]
  },
  {
   "cell_type": "code",
   "execution_count": 44,
   "id": "0fb31d05-5e94-46d3-8d16-2f03c0a46a8a",
   "metadata": {},
   "outputs": [
    {
     "data": {
      "text/plain": [
       "(64, 1797)"
      ]
     },
     "execution_count": 44,
     "metadata": {},
     "output_type": "execute_result"
    }
   ],
   "source": [
    "inputs_X.shape"
   ]
  },
  {
   "cell_type": "code",
   "execution_count": 45,
   "id": "8e19a8e8-3d84-432c-955d-13a070304861",
   "metadata": {},
   "outputs": [
    {
     "data": {
      "text/plain": [
       "array([[ 1.,  1.,  1., ...,  1.,  1.,  1.],\n",
       "       [ 0.,  0.,  0., ...,  0.,  0.,  0.],\n",
       "       [ 0.,  0.,  0., ...,  0.,  0.,  0.],\n",
       "       ...,\n",
       "       [ 0., 10., 16., ...,  6., 12., 12.],\n",
       "       [ 0.,  0.,  9., ...,  0.,  0.,  1.],\n",
       "       [ 0.,  0.,  0., ...,  0.,  0.,  0.]])"
      ]
     },
     "execution_count": 45,
     "metadata": {},
     "output_type": "execute_result"
    }
   ],
   "source": [
    "inputs_X = np.vstack([np.ones(inputs_X.shape[1]), inputs_X])\n",
    "inputs_X"
   ]
  },
  {
   "cell_type": "code",
   "execution_count": 46,
   "id": "1d2d96c8-c3da-4a82-8dd5-ea62d3f6237b",
   "metadata": {},
   "outputs": [
    {
     "data": {
      "text/plain": [
       "(65, 1797)"
      ]
     },
     "execution_count": 46,
     "metadata": {},
     "output_type": "execute_result"
    }
   ],
   "source": [
    "inputs_X.shape"
   ]
  },
  {
   "cell_type": "code",
   "execution_count": 47,
   "id": "5b3e36b8-ec1e-449c-8418-40fb366f6bc1",
   "metadata": {},
   "outputs": [],
   "source": [
    "# import pygranso functions\n",
    "from pygranso.private.getNvar import getNvarTorch\n",
    "from pygranso.pygranso import pygranso\n",
    "from pygranso.pygransoStruct import pygransoStruct\n",
    "\n",
    "# Deeplifting time!\n",
    "device = torch.device('cpu')\n",
    "\n",
    "# Inputs\n",
    "inputs_X = torch.from_numpy(inputs_X).to(device=device, dtype=torch.double)\n",
    "labels = torch.from_numpy(labels).to(device=device, dtype=torch.double)\n",
    "\n",
    "\n",
    "w0 = torch.randn(\n",
    "    (65, 1),\n",
    ").to(device, dtype=torch.double)\n",
    "var_in = {\"w\": list(w0.shape)}\n",
    "\n",
    "comb_fn = lambda X_struct: svm(\n",
    "    X_struct,\n",
    "    inputs_X,\n",
    "    labels,\n",
    ")"
   ]
  },
  {
   "cell_type": "code",
   "execution_count": 48,
   "id": "ac5fb42d-81e8-4a66-a310-920529a05ca3",
   "metadata": {},
   "outputs": [
    {
     "name": "stdout",
     "output_type": "stream",
     "text": [
      "\n",
      "\n",
      "\u001b[33m╔═════ QP SOLVER NOTICE ════════════════════════════════════════════════════════════════════════╗\n",
      "\u001b[0m\u001b[33m║  PyGRANSO requires a quadratic program (QP) solver that has a quadprog-compatible interface,  ║\n",
      "\u001b[0m\u001b[33m║  the default is osqp. Users may provide their own wrapper for the QP solver.                  ║\n",
      "\u001b[0m\u001b[33m║  To disable this notice, set opts.quadprog_info_msg = False                                   ║\n",
      "\u001b[0m\u001b[33m╚═══════════════════════════════════════════════════════════════════════════════════════════════╝\n",
      "\u001b[0m══════════════════════════════════════════════════════════════════════════════════════════════╗\n",
      "PyGRANSO: A PyTorch-enabled port of GRANSO with auto-differentiation                          ║ \n",
      "Version 1.2.0                                                                                 ║ \n",
      "Licensed under the AGPLv3, Copyright (C) 2021-2022 Tim Mitchell and Buyun Liang               ║ \n",
      "══════════════════════════════════════════════════════════════════════════════════════════════╣\n",
      "Problem specifications:                                                                       ║ \n",
      " # of variables                     :   65                                                    ║ \n",
      " # of inequality constraints        :    0                                                    ║ \n",
      " # of equality constraints          :    0                                                    ║ \n",
      "══════════════════════════════════════════════════════════════════════════════════════════════╣\n",
      "\u001b[33mLimited-memory mode enabled with size = 5.                                                   \u001b[0m ║ \n",
      "\u001b[33mNOTE: limited-memory mode is generally NOT                                                   \u001b[0m ║ \n",
      "\u001b[33mrecommended for nonsmooth problems.                                                          \u001b[0m ║ \n",
      "═════╦════════════╦════════════════╦═════════════╦═══════════════════════╦════════════════════╣\n",
      "     ║ Penalty Fn ║                ║  Violation  ║ <--- Line Search ---> ║ <- Stationarity -> ║ \n",
      "Iter ║ Mu │ Value ║    Objective   ║ Ineq │  Eq  ║ SD │ Evals │     t    ║ Grads │    Value   ║ \n",
      "═════╬════════════╬════════════════╬═════════════╬═══════════════════════╬════════════════════╣\n",
      "   0 ║  - │   -   ║  14.0049999674 ║   -  │   -  ║ -  │     1 │ 0.000000 ║     1 │ 2.330390   ║ \n",
      "  10 ║  - │   -   ║  2.05332825449 ║   -  │   -  ║ QN │     1 │ 1.000000 ║     1 │ 0.351643   ║ \n",
      "  20 ║  - │   -   ║  0.33845776416 ║   -  │   -  ║ QN │     2 │ 0.500000 ║     1 │ 0.416493   ║ \n",
      "  30 ║  - │   -   ║ -0.12836333340 ║   -  │   -  ║ QN │     2 │ 0.500000 ║     1 │ 0.294225   ║ \n",
      "  40 ║  - │   -   ║ -0.57841568299 ║   -  │   -  ║ QN │     4 │ 0.125000 ║     1 │ 0.636916   ║ \n",
      "  50 ║  - │   -   ║ -0.79487435797 ║   -  │   -  ║ QN │    11 │ 9.77e-04 ║     1 │ 0.425265   ║ \n",
      "  60 ║  - │   -   ║ -0.92091782401 ║   -  │   -  ║ QN │     8 │ 0.007812 ║     1 │ 1.620971   ║ \n",
      "  70 ║  - │   -   ║ -1.27015813959 ║   -  │   -  ║ QN │     5 │ 0.062500 ║     1 │ 2.386413   ║ \n",
      "  80 ║  - │   -   ║ -1.42345403549 ║   -  │   -  ║ QN │     5 │ 0.062500 ║     1 │ 1.338710   ║ \n",
      "  90 ║  - │   -   ║ -1.55983036183 ║   -  │   -  ║ QN │     8 │ 0.023438 ║     1 │ 0.993535   ║ \n",
      " 100 ║  - │   -   ║ -1.68775124551 ║   -  │   -  ║ QN │     4 │ 0.125000 ║     1 │ 1.871015   ║ \n",
      " 110 ║  - │   -   ║ -1.78925600481 ║   -  │   -  ║ QN │     8 │ 0.007812 ║     1 │ 3.096038   ║ \n",
      " 120 ║  - │   -   ║ -1.87972918169 ║   -  │   -  ║ QN │    10 │ 0.001953 ║     1 │ 0.269584   ║ \n",
      " 130 ║  - │   -   ║ -2.05141145519 ║   -  │   -  ║ QN │     4 │ 0.125000 ║     1 │ 0.921308   ║ \n",
      " 140 ║  - │   -   ║ -2.13475045460 ║   -  │   -  ║ QN │     8 │ 0.023438 ║     1 │ 2.534917   ║ \n",
      " 150 ║  - │   -   ║ -2.22745547949 ║   -  │   -  ║ QN │     5 │ 0.062500 ║     1 │ 0.829567   ║ \n",
      " 160 ║  - │   -   ║ -2.30438692376 ║   -  │   -  ║ QN │     7 │ 0.015625 ║     1 │ 2.004605   ║ \n",
      " 170 ║  - │   -   ║ -2.38330062263 ║   -  │   -  ║ QN │     7 │ 0.046875 ║     1 │ 0.634943   ║ \n",
      " 180 ║  - │   -   ║ -2.42280599712 ║   -  │   -  ║ QN │     8 │ 0.007812 ║     1 │ 4.775267   ║ \n",
      " 190 ║  - │   -   ║ -2.45712326653 ║   -  │   -  ║ QN │     6 │ 0.031250 ║     1 │ 0.580363   ║ \n",
      "═════╬════════════╬════════════════╬═════════════╬═══════════════════════╬════════════════════╣\n",
      "     ║ Penalty Fn ║                ║  Violation  ║ <--- Line Search ---> ║ <- Stationarity -> ║ \n",
      "Iter ║ Mu │ Value ║    Objective   ║ Ineq │  Eq  ║ SD │ Evals │     t    ║ Grads │    Value   ║ \n",
      "═════╬════════════╬════════════════╬═════════════╬═══════════════════════╬════════════════════╣\n",
      " 200 ║  - │   -   ║ -2.47908042246 ║   -  │   -  ║ QN │    11 │ 9.77e-04 ║     1 │ 0.664445   ║ \n",
      " 210 ║  - │   -   ║ -2.48503392718 ║   -  │   -  ║ QN │    11 │ 0.002930 ║     1 │ 7.019519   ║ \n",
      " 220 ║  - │   -   ║ -2.49264647315 ║   -  │   -  ║ QN │     6 │ 0.031250 ║     1 │ 0.771666   ║ \n",
      " 230 ║  - │   -   ║ -2.49580612232 ║   -  │   -  ║ QN │    11 │ 9.77e-04 ║     1 │ 0.671047   ║ \n",
      " 240 ║  - │   -   ║ -2.49975348293 ║   -  │   -  ║ QN │    12 │ 0.001465 ║     1 │ 0.450461   ║ \n",
      " 250 ║  - │   -   ║ -2.50098831737 ║   -  │   -  ║ QN │    12 │ 4.88e-04 ║     1 │ 1.743702   ║ \n",
      " 260 ║  - │   -   ║ -2.50161060027 ║   -  │   -  ║ QN │    14 │ 3.66e-04 ║     1 │ 2.091792   ║ \n",
      " 270 ║  - │   -   ║ -2.50185006126 ║   -  │   -  ║ QN │    14 │ 1.22e-04 ║     3 │ 0.040231   ║ \n",
      " 280 ║  - │   -   ║ -2.50194394843 ║   -  │   -  ║ QN │    21 │ 4.77e-06 ║     3 │ 0.036222   ║ \n",
      " 290 ║  - │   -   ║ -2.50199172498 ║   -  │   -  ║ QN │    21 │ 9.54e-07 ║     6 │ 0.364768   ║ \n",
      " 300 ║  - │   -   ║ -2.50202115909 ║   -  │   -  ║ QN │    19 │ 3.81e-06 ║     9 │ 0.042490   ║ \n",
      " 310 ║  - │   -   ║ -2.50203040139 ║   -  │   -  ║ QN │    24 │ 1.19e-07 ║    16 │ 0.102498   ║ \n",
      " 320 ║  - │   -   ║ -2.50203300467 ║   -  │   -  ║ QN │    22 │ 4.77e-07 ║    24 │ 0.017027   ║ \n",
      " 330 ║  - │   -   ║ -2.50203469579 ║   -  │   -  ║ QN │    27 │ 4.47e-08 ║    34 │ 0.029516   ║ \n",
      " 340 ║  - │   -   ║ -2.50203693336 ║   -  │   -  ║ QN │    20 │ 1.91e-06 ║    44 │ 0.061522   ║ \n",
      " 350 ║  - │   -   ║ -2.50203826422 ║   -  │   -  ║ QN │    18 │ 7.63e-06 ║    53 │ 0.055428   ║ \n",
      " 360 ║  - │   -   ║ -2.50305799096 ║   -  │   -  ║ QN │    11 │ 9.77e-04 ║     1 │ 0.564674   ║ \n",
      " 370 ║  - │   -   ║ -2.50335300474 ║   -  │   -  ║ QN │    14 │ 3.66e-04 ║     1 │ 3.665505   ║ \n",
      " 380 ║  - │   -   ║ -2.50354946016 ║   -  │   -  ║ QN │    14 │ 1.22e-04 ║     1 │ 0.238669   ║ \n",
      " 390 ║  - │   -   ║ -2.50365734157 ║   -  │   -  ║ QN │    14 │ 1.22e-04 ║     4 │ 0.072164   ║ \n",
      "═════╬════════════╬════════════════╬═════════════╬═══════════════════════╬════════════════════╣\n",
      "     ║ Penalty Fn ║                ║  Violation  ║ <--- Line Search ---> ║ <- Stationarity -> ║ \n",
      "Iter ║ Mu │ Value ║    Objective   ║ Ineq │  Eq  ║ SD │ Evals │     t    ║ Grads │    Value   ║ \n",
      "═════╬════════════╬════════════════╬═════════════╬═══════════════════════╬════════════════════╣\n",
      " 400 ║  - │   -   ║ -2.50368531996 ║   -  │   -  ║ QN │    20 │ 5.72e-06 ║    10 │ 0.035646   ║ \n",
      " 410 ║  - │   -   ║ -2.50369604462 ║   -  │   -  ║ QN │    20 │ 1.91e-06 ║    15 │ 0.035045   ║ \n",
      " 420 ║  - │   -   ║ -2.50369984970 ║   -  │   -  ║ QN │    22 │ 4.77e-07 ║    24 │ 0.025098   ║ \n",
      " 430 ║  - │   -   ║ -2.50370091974 ║   -  │   -  ║ QN │    18 │ 7.63e-06 ║    34 │ 0.023663   ║ \n",
      " 440 ║  - │   -   ║ -2.50370164722 ║   -  │   -  ║ QN │    20 │ 1.91e-06 ║    42 │ 0.108764   ║ \n",
      " 450 ║  - │   -   ║ -2.50371340436 ║   -  │   -  ║ QN │    21 │ 9.54e-07 ║     8 │ 0.092914   ║ \n",
      " 460 ║  - │   -   ║ -2.50372074020 ║   -  │   -  ║ QN │    24 │ 3.58e-07 ║    18 │ 0.057286   ║ \n",
      " 470 ║  - │   -   ║ -2.50372618489 ║   -  │   -  ║ QN │    18 │ 7.63e-06 ║    19 │ 0.138647   ║ \n",
      " 480 ║  - │   -   ║ -2.50382527907 ║   -  │   -  ║ QN │    14 │ 1.22e-04 ║     1 │ 1.587486   ║ \n",
      " 490 ║  - │   -   ║ -2.50391103699 ║   -  │   -  ║ QN │    18 │ 2.29e-05 ║     3 │ 0.333768   ║ \n",
      " 500 ║  - │   -   ║ -2.50395623384 ║   -  │   -  ║ QN │    20 │ 5.72e-06 ║     5 │ 0.105673   ║ \n",
      " 510 ║  - │   -   ║ -2.50399389829 ║   -  │   -  ║ QN │    17 │ 1.53e-05 ║     2 │ 0.118839   ║ \n",
      " 520 ║  - │   -   ║ -2.50400813360 ║   -  │   -  ║ QN │    21 │ 9.54e-07 ║    11 │ 0.028322   ║ \n",
      " 530 ║  - │   -   ║ -2.50401039619 ║   -  │   -  ║ QN │    23 │ 7.15e-07 ║    20 │ 0.059448   ║ \n",
      " 540 ║  - │   -   ║ -2.50401606315 ║   -  │   -  ║ QN │    19 │ 3.81e-06 ║    23 │ 2.165244   ║ \n",
      " 550 ║  - │   -   ║ -2.50401935623 ║   -  │   -  ║ QN │    21 │ 2.86e-06 ║    30 │ 0.031229   ║ \n",
      " 560 ║  - │   -   ║ -2.50401988928 ║   -  │   -  ║ QN │    24 │ 3.58e-07 ║    39 │ 0.021215   ║ \n",
      " 570 ║  - │   -   ║ -2.50402009337 ║   -  │   -  ║ QN │    27 │ 7.45e-08 ║    48 │ 0.010660   ║ \n",
      " 580 ║  - │   -   ║ -2.50402013262 ║   -  │   -  ║ QN │    26 │ 2.98e-08 ║    58 │ 0.011550   ║ \n",
      " 590 ║  - │   -   ║ -2.50402151764 ║   -  │   -  ║ QN │    19 │ 3.81e-06 ║    58 │ 0.083845   ║ \n",
      "═════╬════════════╬════════════════╬═════════════╬═══════════════════════╬════════════════════╣\n",
      "     ║ Penalty Fn ║                ║  Violation  ║ <--- Line Search ---> ║ <- Stationarity -> ║ \n",
      "Iter ║ Mu │ Value ║    Objective   ║ Ineq │  Eq  ║ SD │ Evals │     t    ║ Grads │    Value   ║ \n",
      "═════╬════════════╬════════════════╬═════════════╬═══════════════════════╬════════════════════╣\n",
      " 600 ║  - │   -   ║ -2.50402607130 ║   -  │   -  ║ QN │    21 │ 4.77e-06 ║    64 │ 0.088883   ║ \n",
      " 610 ║  - │   -   ║ -2.50402968046 ║   -  │   -  ║ QN │    22 │ 4.77e-07 ║    71 │ 0.310328   ║ \n",
      " 620 ║  - │   -   ║ -2.50403176927 ║   -  │   -  ║ QN │    19 │ 3.81e-06 ║    75 │ 0.123523   ║ \n",
      " 630 ║  - │   -   ║ -2.50403789131 ║   -  │   -  ║ QN │    17 │ 1.53e-05 ║    26 │ 0.275211   ║ \n",
      " 640 ║  - │   -   ║ -2.50414182940 ║   -  │   -  ║ QN │    17 │ 1.53e-05 ║     3 │ 0.107484   ║ \n",
      " 650 ║  - │   -   ║ -2.50498556959 ║   -  │   -  ║ QN │    13 │ 2.44e-04 ║     1 │ 3.588556   ║ \n",
      " 660 ║  - │   -   ║ -2.50546155242 ║   -  │   -  ║ QN │    17 │ 1.53e-05 ║     2 │ 0.052511   ║ \n",
      " 670 ║  - │   -   ║ -2.50560118556 ║   -  │   -  ║ QN │    15 │ 6.10e-05 ║     2 │ 0.052367   ║ \n",
      " 680 ║  - │   -   ║ -2.50566718071 ║   -  │   -  ║ QN │    19 │ 1.14e-05 ║     4 │ 0.087832   ║ \n",
      " 690 ║  - │   -   ║ -2.50570270854 ║   -  │   -  ║ QN │    20 │ 1.91e-06 ║     5 │ 0.639329   ║ \n",
      " 700 ║  - │   -   ║ -2.50575295394 ║   -  │   -  ║ QN │    20 │ 9.54e-06 ║     4 │ 0.034041   ║ \n",
      " 710 ║  - │   -   ║ -2.50576609182 ║   -  │   -  ║ QN │    22 │ 5.25e-06 ║    12 │ 0.039140   ║ \n",
      " 720 ║  - │   -   ║ -2.50578494507 ║   -  │   -  ║ QN │    20 │ 1.91e-06 ║    10 │ 0.078693   ║ \n",
      " 730 ║  - │   -   ║ -2.50578867915 ║   -  │   -  ║ QN │    27 │ 4.47e-08 ║    17 │ 0.037058   ║ \n",
      " 740 ║  - │   -   ║ -2.50578976894 ║   -  │   -  ║ QN │    24 │ 1.19e-07 ║    27 │ 0.039654   ║ \n",
      " 750 ║  - │   -   ║ -2.50579042527 ║   -  │   -  ║ QN │    25 │ 2.98e-07 ║    37 │ 0.043665   ║ \n",
      " 760 ║  - │   -   ║ -2.50579072608 ║   -  │   -  ║ QN │    25 │ 5.96e-08 ║    47 │ 0.021591   ║ \n",
      " 770 ║  - │   -   ║ -2.50579075728 ║   -  │   -  ║ QN │    28 │ 7.45e-09 ║    57 │ 0.046591   ║ \n",
      " 780 ║  - │   -   ║ -2.50579809194 ║   -  │   -  ║ QN │    17 │ 1.53e-05 ║     5 │ 0.164469   ║ \n",
      " 790 ║  - │   -   ║ -2.50580514212 ║   -  │   -  ║ QN │    18 │ 7.63e-06 ║    15 │ 0.017469   ║ \n",
      "═════╬════════════╬════════════════╬═════════════╬═══════════════════════╬════════════════════╣\n",
      "     ║ Penalty Fn ║                ║  Violation  ║ <--- Line Search ---> ║ <- Stationarity -> ║ \n",
      "Iter ║ Mu │ Value ║    Objective   ║ Ineq │  Eq  ║ SD │ Evals │     t    ║ Grads │    Value   ║ \n",
      "═════╬════════════╬════════════════╬═════════════╬═══════════════════════╬════════════════════╣\n",
      " 800 ║  - │   -   ║ -2.50580668505 ║   -  │   -  ║ QN │    23 │ 2.38e-07 ║    25 │ 0.018597   ║ \n",
      " 810 ║  - │   -   ║ -2.50580735902 ║   -  │   -  ║ QN │    23 │ 7.15e-07 ║    35 │ 0.039386   ║ \n",
      " 820 ║  - │   -   ║ -2.50580809648 ║   -  │   -  ║ QN │    24 │ 5.96e-07 ║    45 │ 0.051651   ║ \n",
      " 830 ║  - │   -   ║ -2.50580872879 ║   -  │   -  ║ QN │    24 │ 1.19e-07 ║    55 │ 0.047709   ║ \n",
      " 840 ║  - │   -   ║ -2.50580970077 ║   -  │   -  ║ QN │    25 │ 2.98e-07 ║    65 │ 0.095523   ║ \n",
      " 850 ║  - │   -   ║ -2.50581102063 ║   -  │   -  ║ QN │    20 │ 1.91e-06 ║    73 │ 0.023119   ║ \n",
      " 860 ║  - │   -   ║ -2.50581162962 ║   -  │   -  ║ QN │    23 │ 2.38e-07 ║    75 │ 0.026663   ║ \n",
      " 870 ║  - │   -   ║ -2.50581183282 ║   -  │   -  ║ QN │    29 │ 2.61e-08 ║    75 │ 0.018385   ║ \n",
      " 880 ║  - │   -   ║ -2.50581190674 ║   -  │   -  ║ QN │    28 │ 2.24e-08 ║    75 │ 0.015745   ║ \n",
      " 890 ║  - │   -   ║ -2.50581203297 ║   -  │   -  ║ QN │    29 │ 1.12e-08 ║    75 │ 0.012435   ║ \n",
      " 900 ║  - │   -   ║ -2.50581208030 ║   -  │   -  ║ QN │    33 │ 2.33e-10 ║    75 │ 0.010868   ║ \n",
      " 910 ║  - │   -   ║ -2.50581209022 ║   -  │   -  ║ QN │    29 │ 3.73e-09 ║    75 │ 0.010049   ║ \n",
      " 920 ║  - │   -   ║ -2.50581209274 ║   -  │   -  ║ QN │    33 │ 6.98e-10 ║    75 │ 0.011632   ║ \n",
      "═════╩════════════╩════════════════╩═════════════╩═══════════════════════╩════════════════════╣\n",
      "Optimization results:                                                                         ║ \n",
      "F = final iterate, B = Best (to tolerance), MF = Most Feasible                                ║ \n",
      "═════╦════════════╦════════════════╦═════════════╦═══════════════════════╦════════════════════╣\n",
      "   F ║    │       ║ -2.50581209338 ║   -  │   -  ║    │       │          ║       │            ║ \n",
      "   B ║    │       ║ -2.50581209339 ║   -  │   -  ║    │       │          ║       │            ║ \n",
      "═════╩════════════╩════════════════╩═════════════╩═══════════════════════╩════════════════════╣\n",
      "Iterations:              925                                                                  ║ \n",
      "Function evaluations:    15800                                                                ║ \n",
      "PyGRANSO termination code: 6 --- line search bracketed a minimizer but failed to satisfy      ║ \n",
      "Wolfe conditions.  This may be an indication that approximate stationarity has been attained. ║ \n",
      "══════════════════════════════════════════════════════════════════════════════════════════════╝\n"
     ]
    }
   ],
   "source": [
    "opts = pygransoStruct()\n",
    "\n",
    "# PyGranso options\n",
    "# Increase max number of iterations and let convege to stationarity\n",
    "# Do we see local minima in the PyGranso version\n",
    "# Dual Annealing, SCIP and Deeplifting, PyGranso (showing there are local minima)\n",
    "opts.x0 = torch.reshape(w0, (-1, 1))\n",
    "opts.torch_device = device\n",
    "opts.print_frequency = 10\n",
    "opts.limited_mem_size = 5\n",
    "opts.stat_l2_model = False\n",
    "opts.double_precision = True\n",
    "opts.opt_tol = 1e-10\n",
    "opts.maxit = 2000\n",
    "\n",
    "# Run the main algorithm\n",
    "soln = pygranso(var_spec=var_in, combined_fn=comb_fn, user_opts=opts)"
   ]
  },
  {
   "cell_type": "code",
   "execution_count": 49,
   "id": "f6c3d5ad-0570-45e1-b98a-a7939f461017",
   "metadata": {},
   "outputs": [],
   "source": [
    "from deeplifting.models import DeepliftingSkipMLP\n",
    "from sklearn.datasets import load_iris\n",
    "import pandas as pd\n",
    "import torch\n",
    "import numpy as np"
   ]
  },
  {
   "cell_type": "markdown",
   "id": "071246b4-3669-43a1-9e44-3ae4fcbac3ee",
   "metadata": {},
   "source": [
    "# Deeplifting"
   ]
  },
  {
   "cell_type": "code",
   "execution_count": 50,
   "id": "7afd326d-5a22-420d-b191-1d903d7220ce",
   "metadata": {},
   "outputs": [],
   "source": [
    "# Set up the learning function\n",
    "def deeplifting_svm(model, inputs_X, labels):\n",
    "    outputs = model(None)\n",
    "    weight_vec = outputs.mean(axis=0)\n",
    "\n",
    "    # Compute SVM objective\n",
    "    denominator = torch.linalg.norm(weight_vec, ord=2)\n",
    "    prod = torch.matmul(weight_vec.T, inputs_X)\n",
    "    numerator = labels * prod\n",
    "    obj = numerator / denominator\n",
    "\n",
    "    # Orig obj\n",
    "    f = torch.amax(-1 * obj)\n",
    "\n",
    "    ce = None\n",
    "    ci = None\n",
    "    return f, ci, ce\n",
    "\n",
    "\n",
    "# Set up a model\n",
    "# Deeplifting model with skip connections\n",
    "model = DeepliftingSkipMLP(\n",
    "    input_size=1,\n",
    "    hidden_sizes=(128,) * 10,\n",
    "    output_size=65,\n",
    "    bounds=None,\n",
    "    skip_every_n=1,\n",
    "    activation='sine',\n",
    "    output_activation='sine',\n",
    "    agg_function='sum',\n",
    "    include_bn=True,\n",
    "    seed=0,\n",
    ")"
   ]
  },
  {
   "cell_type": "code",
   "execution_count": null,
   "id": "df1cdc83-2166-423d-a84f-3479f3848616",
   "metadata": {},
   "outputs": [
    {
     "name": "stdout",
     "output_type": "stream",
     "text": [
      "\n",
      "\n",
      "\u001b[33m╔═════ QP SOLVER NOTICE ════════════════════════════════════════════════════════════════════════╗\n",
      "\u001b[0m\u001b[33m║  PyGRANSO requires a quadratic program (QP) solver that has a quadprog-compatible interface,  ║\n",
      "\u001b[0m\u001b[33m║  the default is osqp. Users may provide their own wrapper for the QP solver.                  ║\n",
      "\u001b[0m\u001b[33m║  To disable this notice, set opts.quadprog_info_msg = False                                   ║\n",
      "\u001b[0m\u001b[33m╚═══════════════════════════════════════════════════════════════════════════════════════════════╝\n",
      "\u001b[0m══════════════════════════════════════════════════════════════════════════════════════════════╗\n",
      "PyGRANSO: A PyTorch-enabled port of GRANSO with auto-differentiation                          ║ \n",
      "Version 1.2.0                                                                                 ║ \n",
      "Licensed under the AGPLv3, Copyright (C) 2021-2022 Tim Mitchell and Buyun Liang               ║ \n",
      "══════════════════════════════════════════════════════════════════════════════════════════════╣\n",
      "Problem specifications:                                                                       ║ \n",
      " # of variables                     :   344339                                                ║ \n",
      " # of inequality constraints        :        0                                                ║ \n",
      " # of equality constraints          :        0                                                ║ \n",
      "══════════════════════════════════════════════════════════════════════════════════════════════╣\n",
      "\u001b[33mLimited-memory mode enabled with size = 5.                                                   \u001b[0m ║ \n",
      "\u001b[33mNOTE: limited-memory mode is generally NOT                                                   \u001b[0m ║ \n",
      "\u001b[33mrecommended for nonsmooth problems.                                                          \u001b[0m ║ \n",
      "═════╦════════════╦════════════════╦═════════════╦═══════════════════════╦════════════════════╣\n",
      "     ║ Penalty Fn ║                ║  Violation  ║ <--- Line Search ---> ║ <- Stationarity -> ║ \n",
      "Iter ║ Mu │ Value ║    Objective   ║ Ineq │  Eq  ║ SD │ Evals │     t    ║ Grads │    Value   ║ \n",
      "═════╬════════════╬════════════════╬═════════════╬═══════════════════════╬════════════════════╣\n",
      "   0 ║  - │   -   ║  12.6743613382 ║   -  │   -  ║ -  │     1 │ 0.000000 ║     1 │ 490.2727   ║ \n",
      "  10 ║  - │   -   ║  4.56104137505 ║   -  │   -  ║ QN │    10 │ 0.001953 ║     1 │ 0.003224   ║ \n",
      "  20 ║  - │   -   ║  1.89119110874 ║   -  │   -  ║ QN │     6 │ 0.031250 ║     1 │ 0.002287   ║ \n"
     ]
    }
   ],
   "source": [
    "# Deeplifting time!\n",
    "device = torch.device('cpu')\n",
    "model = model.to(device=device, dtype=torch.double)\n",
    "nvar = getNvarTorch(model.parameters())\n",
    "\n",
    "opts = pygransoStruct()\n",
    "\n",
    "# Inital x0\n",
    "x0 = (\n",
    "    torch.nn.utils.parameters_to_vector(model.parameters())\n",
    "    .detach()\n",
    "    .reshape(nvar, 1)\n",
    "    .to(device=device, dtype=torch.double)\n",
    ")\n",
    "\n",
    "# PyGranso options\n",
    "# Increase max number of iterations and let convege to stationarity\n",
    "# Do we see local minima in the PyGranso version\n",
    "# Dual Annealing, SCIP and Deeplifting, PyGranso (showing there are local minima)\n",
    "opts.x0 = x0\n",
    "opts.torch_device = device\n",
    "opts.print_frequency = 10\n",
    "opts.limited_mem_size = 5\n",
    "opts.stat_l2_model = False\n",
    "opts.double_precision = True\n",
    "opts.opt_tol = 1e-10\n",
    "opts.maxit = 5000\n",
    "\n",
    "# Combined function\n",
    "comb_fn = lambda model: deeplifting_svm(model, inputs_X, labels)  # noqa\n",
    "\n",
    "# Run the main algorithm\n",
    "soln = pygranso(var_spec=model, combined_fn=comb_fn, user_opts=opts)"
   ]
  },
  {
   "cell_type": "code",
   "execution_count": null,
   "id": "dc5e3cda-27f3-4be7-9263-f747bb84f214",
   "metadata": {},
   "outputs": [],
   "source": []
  },
  {
   "cell_type": "code",
   "execution_count": null,
   "id": "0533aaa9-bdb6-4ac6-a7f0-7e807c5a9a15",
   "metadata": {},
   "outputs": [],
   "source": []
  }
 ],
 "metadata": {
  "kernelspec": {
   "display_name": "deeplifting",
   "language": "python",
   "name": "deeplifting"
  },
  "language_info": {
   "codemirror_mode": {
    "name": "ipython",
    "version": 3
   },
   "file_extension": ".py",
   "mimetype": "text/x-python",
   "name": "python",
   "nbconvert_exporter": "python",
   "pygments_lexer": "ipython3",
   "version": "3.9.11"
  }
 },
 "nbformat": 4,
 "nbformat_minor": 5
}
