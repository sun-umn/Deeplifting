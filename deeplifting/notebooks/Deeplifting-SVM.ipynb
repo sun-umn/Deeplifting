{
 "cells": [
  {
   "cell_type": "code",
   "execution_count": 1,
   "id": "da720180-4028-49ad-9886-f139cc0b71c4",
   "metadata": {},
   "outputs": [
    {
     "data": {
      "text/plain": [
       "'/Users/ryandevera/data-science/umn_environments/Deeplifting/deeplifting/notebooks'"
      ]
     },
     "execution_count": 1,
     "metadata": {},
     "output_type": "execute_result"
    }
   ],
   "source": [
    "%pwd"
   ]
  },
  {
   "cell_type": "code",
   "execution_count": 2,
   "id": "9ba49b7f-d35d-4d6d-9808-f6cf773c0313",
   "metadata": {},
   "outputs": [
    {
     "name": "stdout",
     "output_type": "stream",
     "text": [
      "/Users/ryandevera/data-science/umn_environments/Deeplifting\n"
     ]
    }
   ],
   "source": [
    "%cd ../.."
   ]
  },
  {
   "cell_type": "code",
   "execution_count": 3,
   "id": "d41873e7-5036-4bf0-a8bd-d038da320819",
   "metadata": {},
   "outputs": [],
   "source": [
    "from deeplifting.models import DeepliftingSkipMLP\n",
    "from sklearn.datasets import load_iris\n",
    "import pandas as pd\n",
    "import torch\n",
    "import numpy as np\n",
    "\n",
    "# import pygranso functions\n",
    "from pygranso.private.getNvar import getNvarTorch\n",
    "from pygranso.pygranso import pygranso\n",
    "from pygranso.pygransoStruct import pygransoStruct"
   ]
  },
  {
   "cell_type": "code",
   "execution_count": 4,
   "id": "76c23967-68e1-45b1-a039-e4eaf30e15ab",
   "metadata": {},
   "outputs": [],
   "source": [
    "device = torch.device('cpu')\n",
    "\n",
    "# Load the dataset\n",
    "iris = load_iris()\n",
    "\n",
    "# The data and target labels\n",
    "data = iris.data\n",
    "labels = iris.target\n",
    "\n",
    "# If you want the feature names and target names:\n",
    "feature_names = iris.feature_names\n",
    "target_names = iris.target_names\n",
    "\n",
    "df = pd.DataFrame(data=iris.data, columns=['f1', 'f2', 'f3', 'f4'])\n",
    "df['f5'] = 1.0\n",
    "df['target'] = iris.target\n",
    "\n",
    "df = df.sample(frac=1.0).reset_index(drop=True)\n",
    "\n",
    "# Dimensions\n",
    "output_size = len(feature_names) + 1\n",
    "\n",
    "# Inputs\n",
    "inputs_X = df[['f1', 'f2', 'f3', 'f4', 'f5']].values\n",
    "inputs_X = torch.from_numpy(inputs_X).to(device=device, dtype=torch.double).T\n",
    "\n",
    "# Just two classes for now\n",
    "labels = df['target'].values\n",
    "\n",
    "y = np.zeros(len(labels))\n",
    "y[labels != 0] = 1\n",
    "y[labels == 0] = -1\n",
    "y = torch.from_numpy(y).to(device=device, dtype=torch.double)"
   ]
  },
  {
   "cell_type": "code",
   "execution_count": 5,
   "id": "aa6b21b2-8b24-48f1-9abf-ee958fc7d19b",
   "metadata": {},
   "outputs": [
    {
     "data": {
      "text/plain": [
       "(torch.Size([5, 150]), (150,))"
      ]
     },
     "execution_count": 5,
     "metadata": {},
     "output_type": "execute_result"
    }
   ],
   "source": [
    "inputs_X.shape, labels.shape"
   ]
  },
  {
   "cell_type": "code",
   "execution_count": 6,
   "id": "401fb869-5bd8-4238-8a15-d5c683bf21fc",
   "metadata": {},
   "outputs": [],
   "source": [
    "# Set up the learning function\n",
    "def deeplifting_svm(model, inputs_X, labels):\n",
    "    outputs = model(None)\n",
    "    weight_vec = outputs.mean(axis=0)\n",
    "\n",
    "    # Compute SVM objective\n",
    "    denominator = torch.linalg.norm(weight_vec, ord=2)\n",
    "    prod = torch.matmul(weight_vec.T, inputs_X)\n",
    "    numerator = labels * prod\n",
    "    obj = numerator / denominator\n",
    "\n",
    "    # Orig obj\n",
    "    f = torch.amax(-1 * obj)\n",
    "\n",
    "    ce = None\n",
    "    ci = None\n",
    "    return f, ci, ce\n",
    "\n",
    "\n",
    "# Set up a model\n",
    "# Deeplifting model with skip connections\n",
    "model = DeepliftingSkipMLP(\n",
    "    input_size=1,\n",
    "    hidden_sizes=(128,) * 3,\n",
    "    output_size=output_size,\n",
    "    bounds=None,\n",
    "    skip_every_n=1,\n",
    "    activation='sine',\n",
    "    output_activation='sine',\n",
    "    agg_function='max',\n",
    "    include_bn=False,\n",
    "    seed=0,\n",
    ")"
   ]
  },
  {
   "cell_type": "code",
   "execution_count": 7,
   "id": "ec2ef475-a515-4720-94e8-a7c3b99dee94",
   "metadata": {},
   "outputs": [
    {
     "name": "stderr",
     "output_type": "stream",
     "text": [
      "/var/folders/6c/8rvpvzfs0vxbbx2jh4rbfb100000gn/T/ipykernel_17981/2455912074.py:8: UserWarning: The use of `x.T` on tensors of dimension other than 2 to reverse their shape is deprecated and it will throw an error in a future release. Consider `x.mT` to transpose batches of matrices or `x.permute(*torch.arange(x.ndim - 1, -1, -1))` to reverse the dimensions of a tensor. (Triggered internally at /Users/runner/work/pytorch/pytorch/pytorch/aten/src/ATen/native/TensorShape.cpp:3575.)\n",
      "  prod = torch.matmul(weight_vec.T, inputs_X)\n"
     ]
    },
    {
     "name": "stdout",
     "output_type": "stream",
     "text": [
      "\n",
      "\n",
      "\u001b[33m╔═════ QP SOLVER NOTICE ════════════════════════════════════════════════════════════════════════╗\n",
      "\u001b[0m\u001b[33m║  PyGRANSO requires a quadratic program (QP) solver that has a quadprog-compatible interface,  ║\n",
      "\u001b[0m\u001b[33m║  the default is osqp. Users may provide their own wrapper for the QP solver.                  ║\n",
      "\u001b[0m\u001b[33m║  To disable this notice, set opts.quadprog_info_msg = False                                   ║\n",
      "\u001b[0m\u001b[33m╚═══════════════════════════════════════════════════════════════════════════════════════════════╝\n",
      "\u001b[0m══════════════════════════════════════════════════════════════════════════════════════════════╗\n",
      "PyGRANSO: A PyTorch-enabled port of GRANSO with auto-differentiation                          ║ \n",
      "Version 1.2.0                                                                                 ║ \n",
      "Licensed under the AGPLv3, Copyright (C) 2021-2022 Tim Mitchell and Buyun Liang               ║ \n",
      "══════════════════════════════════════════════════════════════════════════════════════════════╣\n",
      "Problem specifications:                                                                       ║ \n",
      " # of variables                     :   101671                                                ║ \n",
      " # of inequality constraints        :        0                                                ║ \n",
      " # of equality constraints          :        0                                                ║ \n",
      "══════════════════════════════════════════════════════════════════════════════════════════════╣\n",
      "\u001b[33mLimited-memory mode enabled with size = 5.                                                   \u001b[0m ║ \n",
      "\u001b[33mNOTE: limited-memory mode is generally NOT                                                   \u001b[0m ║ \n",
      "\u001b[33mrecommended for nonsmooth problems.                                                          \u001b[0m ║ \n",
      "═════╦════════════╦════════════════╦═════════════╦═══════════════════════╦════════════════════╣\n",
      "     ║ Penalty Fn ║                ║  Violation  ║ <--- Line Search ---> ║ <- Stationarity -> ║ \n",
      "Iter ║ Mu │ Value ║    Objective   ║ Ineq │  Eq  ║ SD │ Evals │     t    ║ Grads │    Value   ║ \n",
      "═════╬════════════╬════════════════╬═════════════╬═══════════════════════╬════════════════════╣\n",
      "   0 ║  - │   -   ║  5.84727269902 ║   -  │   -  ║ -  │     1 │ 0.000000 ║     1 │ 29.60426   ║ \n",
      " 100 ║  - │   -   ║ -0.74097986118 ║   -  │   -  ║ QN │    25 │ 5.96e-08 ║     1 │ 419.0715   ║ \n",
      "═════╩════════════╩════════════════╩═════════════╩═══════════════════════╩════════════════════╣\n",
      "F = final iterate, B = Best (to tolerance), MF = Most Feasible                                ║ \n",
      "Optimization results:                                                                         ║ \n",
      "═════╦════════════╦════════════════╦═════════════╦═══════════════════════╦════════════════════╣\n",
      "   F ║    │       ║ -0.74097986118 ║   -  │   -  ║    │       │          ║       │            ║ \n",
      "   B ║    │       ║ -0.74097986118 ║   -  │   -  ║    │       │          ║       │            ║ \n",
      "═════╩════════════╩════════════════╩═════════════╩═══════════════════════╩════════════════════╣\n",
      "Iterations:              100                                                                  ║ \n",
      "Function evaluations:    1438                                                                 ║ \n",
      "PyGRANSO termination code: 4 --- max iterations reached.                                      ║ \n",
      "══════════════════════════════════════════════════════════════════════════════════════════════╝\n"
     ]
    }
   ],
   "source": [
    "# Deeplifting time!\n",
    "device = torch.device('cpu')\n",
    "model = model.to(device=device, dtype=torch.double)\n",
    "nvar = getNvarTorch(model.parameters())\n",
    "\n",
    "opts = pygransoStruct()\n",
    "\n",
    "# Inital x0\n",
    "x0 = (\n",
    "    torch.nn.utils.parameters_to_vector(model.parameters())\n",
    "    .detach()\n",
    "    .reshape(nvar, 1)\n",
    "    .to(device=device, dtype=torch.double)\n",
    ")\n",
    "\n",
    "# PyGranso options\n",
    "# Increase max number of iterations and let convege to stationarity\n",
    "# Do we see local minima in the PyGranso version\n",
    "# Dual Annealing, SCIP and Deeplifting, PyGranso (showing there are local minima)\n",
    "opts.x0 = x0\n",
    "opts.torch_device = device\n",
    "opts.print_frequency = 100\n",
    "opts.limited_mem_size = 5\n",
    "opts.stat_l2_model = False\n",
    "opts.double_precision = True\n",
    "opts.opt_tol = 1e-10\n",
    "opts.maxit = 100\n",
    "\n",
    "# Combined function\n",
    "comb_fn = lambda model: deeplifting_svm(model, inputs_X, y)  # noqa\n",
    "\n",
    "# Run the main algorithm\n",
    "soln = pygranso(var_spec=model, combined_fn=comb_fn, user_opts=opts)"
   ]
  },
  {
   "cell_type": "code",
   "execution_count": 8,
   "id": "ad87dcfe-c481-4410-9549-23ad94382cd7",
   "metadata": {},
   "outputs": [
    {
     "data": {
      "text/plain": [
       "array([-0.25614039, -0.4153614 ,  0.90730696,  0.65537909, -0.18324408])"
      ]
     },
     "execution_count": 8,
     "metadata": {},
     "output_type": "execute_result"
    }
   ],
   "source": [
    "# Get the best weights and let's check training sample fit\n",
    "best_weights = model(None)\n",
    "best_weights = best_weights.mean(axis=0)\n",
    "best_weights = best_weights.detach().cpu().numpy()\n",
    "best_weights"
   ]
  },
  {
   "cell_type": "code",
   "execution_count": 9,
   "id": "5afa72dd-0655-4523-9504-9a68b150fba2",
   "metadata": {},
   "outputs": [],
   "source": [
    "inputs_X = inputs_X.cpu().numpy()\n",
    "y = y.cpu().numpy()"
   ]
  },
  {
   "cell_type": "code",
   "execution_count": 10,
   "id": "e756d269-a50f-46f2-a3c2-2be0772b3cfc",
   "metadata": {},
   "outputs": [],
   "source": [
    "raw_predictions = np.dot(best_weights, inputs_X)\n",
    "predictions = np.sign(raw_predictions)"
   ]
  },
  {
   "cell_type": "code",
   "execution_count": 11,
   "id": "12fbcb14-b737-4d62-a00c-e76be93e726a",
   "metadata": {},
   "outputs": [],
   "source": [
    "from sklearn.metrics import accuracy_score"
   ]
  },
  {
   "cell_type": "code",
   "execution_count": 12,
   "id": "42718a9d-72dc-4fa4-8ec4-375e7b8dc762",
   "metadata": {},
   "outputs": [
    {
     "data": {
      "text/plain": [
       "1.0"
      ]
     },
     "execution_count": 12,
     "metadata": {},
     "output_type": "execute_result"
    }
   ],
   "source": [
    "accuracy_score(y, predictions)"
   ]
  },
  {
   "cell_type": "code",
   "execution_count": 13,
   "id": "bdca5259-0563-4412-8fc3-4d07530a9d61",
   "metadata": {},
   "outputs": [
    {
     "data": {
      "text/plain": [
       "(array([ 1., -1.,  1.,  1.,  1.,  1.,  1., -1., -1.,  1.,  1., -1.,  1.,\n",
       "         1.,  1.,  1.,  1.,  1., -1.,  1.,  1.,  1.,  1., -1.,  1.,  1.,\n",
       "         1.,  1., -1.,  1.,  1.,  1.,  1., -1., -1.,  1., -1.,  1.,  1.,\n",
       "         1., -1., -1., -1.,  1., -1.,  1.,  1.,  1.,  1., -1.,  1.,  1.,\n",
       "        -1.,  1.,  1.,  1., -1.,  1.,  1.,  1.,  1.,  1.,  1., -1.,  1.,\n",
       "        -1.,  1.,  1.,  1.,  1.,  1.,  1., -1., -1., -1.,  1.,  1.,  1.,\n",
       "        -1., -1.,  1., -1.,  1.,  1.,  1., -1.,  1., -1.,  1.,  1., -1.,\n",
       "        -1.,  1.,  1., -1.,  1.,  1., -1.,  1.,  1., -1.,  1., -1., -1.,\n",
       "         1.,  1.,  1.,  1.,  1., -1.,  1.,  1.,  1.,  1., -1.,  1., -1.,\n",
       "        -1.,  1.,  1.,  1., -1., -1.,  1.,  1., -1., -1.,  1., -1.,  1.,\n",
       "        -1., -1., -1.,  1.,  1.,  1.,  1.,  1.,  1.,  1.,  1.,  1., -1.,\n",
       "         1.,  1., -1.,  1., -1.,  1., -1.]),\n",
       " array([ 1., -1.,  1.,  1.,  1.,  1.,  1., -1., -1.,  1.,  1., -1.,  1.,\n",
       "         1.,  1.,  1.,  1.,  1., -1.,  1.,  1.,  1.,  1., -1.,  1.,  1.,\n",
       "         1.,  1., -1.,  1.,  1.,  1.,  1., -1., -1.,  1., -1.,  1.,  1.,\n",
       "         1., -1., -1., -1.,  1., -1.,  1.,  1.,  1.,  1., -1.,  1.,  1.,\n",
       "        -1.,  1.,  1.,  1., -1.,  1.,  1.,  1.,  1.,  1.,  1., -1.,  1.,\n",
       "        -1.,  1.,  1.,  1.,  1.,  1.,  1., -1., -1., -1.,  1.,  1.,  1.,\n",
       "        -1., -1.,  1., -1.,  1.,  1.,  1., -1.,  1., -1.,  1.,  1., -1.,\n",
       "        -1.,  1.,  1., -1.,  1.,  1., -1.,  1.,  1., -1.,  1., -1., -1.,\n",
       "         1.,  1.,  1.,  1.,  1., -1.,  1.,  1.,  1.,  1., -1.,  1., -1.,\n",
       "        -1.,  1.,  1.,  1., -1., -1.,  1.,  1., -1., -1.,  1., -1.,  1.,\n",
       "        -1., -1., -1.,  1.,  1.,  1.,  1.,  1.,  1.,  1.,  1.,  1., -1.,\n",
       "         1.,  1., -1.,  1., -1.,  1., -1.]))"
      ]
     },
     "execution_count": 13,
     "metadata": {},
     "output_type": "execute_result"
    }
   ],
   "source": [
    "y, predictions"
   ]
  },
  {
   "cell_type": "code",
   "execution_count": 14,
   "id": "112b3ff9-711d-40c2-b7c1-f6605abc948b",
   "metadata": {},
   "outputs": [
    {
     "data": {
      "text/plain": [
       "array(['setosa', 'versicolor', 'virginica'], dtype='<U10')"
      ]
     },
     "execution_count": 14,
     "metadata": {},
     "output_type": "execute_result"
    }
   ],
   "source": [
    "iris.target_names"
   ]
  },
  {
   "cell_type": "code",
   "execution_count": 15,
   "id": "57b664e1-d260-4be3-b20c-551efdfb845a",
   "metadata": {},
   "outputs": [
    {
     "name": "stderr",
     "output_type": "stream",
     "text": [
      "/Users/ryandevera/.virtualenvs/deeplifing/lib/python3.9/site-packages/threadpoolctl.py:1010: RuntimeWarning: \n",
      "Found Intel OpenMP ('libiomp') and LLVM OpenMP ('libomp') loaded at\n",
      "the same time. Both libraries are known to be incompatible and this\n",
      "can cause random crashes or deadlocks on Linux when loaded in the\n",
      "same Python program.\n",
      "Using threadpoolctl may cause crashes or deadlocks. For more\n",
      "information and possible workarounds, please see\n",
      "    https://github.com/joblib/threadpoolctl/blob/master/multiple_openmp.md\n",
      "\n",
      "  warnings.warn(msg, RuntimeWarning)\n"
     ]
    },
    {
     "data": {
      "image/png": "[encoded data removed]",
      "text/plain": [
       "<Figure size 640x480 with 1 Axes>"
      ]
     },
     "metadata": {},
     "output_type": "display_data"
    }
   ],
   "source": [
    "from sklearn.manifold import TSNE\n",
    "import seaborn as sns\n",
    "import matplotlib.pyplot as plt\n",
    "\n",
    "target_names = ['setosa', 'other']\n",
    "# Apply t-SNE to the data\n",
    "tsne = TSNE(n_components=2, random_state=0)\n",
    "X_tsne = tsne.fit_transform(inputs_X.T[:, :-1])\n",
    "\n",
    "# Create a scatter plot\n",
    "# Create a scatter plot using matplotlib\n",
    "colors = ['red', 'blue', 'green']  # Define a color for each class\n",
    "for i in [-1, 1]:\n",
    "    plt.scatter(\n",
    "        X_tsne[predictions == i, 0],\n",
    "        X_tsne[predictions == i, 1],\n",
    "        c=colors[i],\n",
    "        label=target_names[i],\n",
    "        edgecolors='w',\n",
    "    )"
   ]
  },
  {
   "cell_type": "code",
   "execution_count": 20,
   "id": "57e2e99f-0ec0-4608-a689-69d149cfbf10",
   "metadata": {},
   "outputs": [
    {
     "data": {
      "text/plain": [
       "1.0"
      ]
     },
     "execution_count": 20,
     "metadata": {},
     "output_type": "execute_result"
    }
   ],
   "source": [
    "from sklearn import datasets\n",
    "from sklearn.svm import SVC\n",
    "from sklearn.metrics import accuracy_score\n",
    "\n",
    "# Load the iris dataset\n",
    "iris = datasets.load_iris()\n",
    "X = iris.data\n",
    "y = iris.target\n",
    "\n",
    "labels = np.zeros(len(y))\n",
    "labels[y != 0] = -1\n",
    "labels[y == 0] = 1\n",
    "\n",
    "# Initialize the Support Vector Machine Classifier\n",
    "clf = SVC(kernel='linear')\n",
    "\n",
    "# Fit the model to the training data\n",
    "clf.fit(X, labels)\n",
    "\n",
    "# Predict the labels of the test set\n",
    "y_pred = clf.predict(X)\n",
    "\n",
    "# Calculate the accuracy of the model\n",
    "accuracy_score(labels, y_pred)"
   ]
  },
  {
   "cell_type": "code",
   "execution_count": 21,
   "id": "c6c03980-0ec1-45e0-b244-2018222cd235",
   "metadata": {},
   "outputs": [
    {
     "data": {
      "text/plain": [
       "array([ 1.,  1.,  1.,  1.,  1.,  1.,  1.,  1.,  1.,  1.,  1.,  1.,  1.,\n",
       "        1.,  1.,  1.,  1.,  1.,  1.,  1.,  1.,  1.,  1.,  1.,  1.,  1.,\n",
       "        1.,  1.,  1.,  1.,  1.,  1.,  1.,  1.,  1.,  1.,  1.,  1.,  1.,\n",
       "        1.,  1.,  1.,  1.,  1.,  1.,  1.,  1.,  1.,  1.,  1., -1., -1.,\n",
       "       -1., -1., -1., -1., -1., -1., -1., -1., -1., -1., -1., -1., -1.,\n",
       "       -1., -1., -1., -1., -1., -1., -1., -1., -1., -1., -1., -1., -1.,\n",
       "       -1., -1., -1., -1., -1., -1., -1., -1., -1., -1., -1., -1., -1.,\n",
       "       -1., -1., -1., -1., -1., -1., -1., -1., -1., -1., -1., -1., -1.,\n",
       "       -1., -1., -1., -1., -1., -1., -1., -1., -1., -1., -1., -1., -1.,\n",
       "       -1., -1., -1., -1., -1., -1., -1., -1., -1., -1., -1., -1., -1.,\n",
       "       -1., -1., -1., -1., -1., -1., -1., -1., -1., -1., -1., -1., -1.,\n",
       "       -1., -1., -1., -1., -1., -1., -1.])"
      ]
     },
     "execution_count": 21,
     "metadata": {},
     "output_type": "execute_result"
    }
   ],
   "source": [
    "labels"
   ]
  },
  {
   "cell_type": "code",
   "execution_count": 22,
   "id": "df9fc342-f0e7-45dc-99b8-fa36fb5f214a",
   "metadata": {},
   "outputs": [
    {
     "data": {
      "text/plain": [
       "array([ 1.,  1.,  1.,  1.,  1.,  1.,  1.,  1.,  1.,  1.,  1.,  1.,  1.,\n",
       "        1.,  1.,  1.,  1.,  1.,  1.,  1.,  1.,  1.,  1.,  1.,  1.,  1.,\n",
       "        1.,  1.,  1.,  1.,  1.,  1.,  1.,  1.,  1.,  1.,  1.,  1.,  1.,\n",
       "        1.,  1.,  1.,  1.,  1.,  1.,  1.,  1.,  1.,  1.,  1., -1., -1.,\n",
       "       -1., -1., -1., -1., -1., -1., -1., -1., -1., -1., -1., -1., -1.,\n",
       "       -1., -1., -1., -1., -1., -1., -1., -1., -1., -1., -1., -1., -1.,\n",
       "       -1., -1., -1., -1., -1., -1., -1., -1., -1., -1., -1., -1., -1.,\n",
       "       -1., -1., -1., -1., -1., -1., -1., -1., -1., -1., -1., -1., -1.,\n",
       "       -1., -1., -1., -1., -1., -1., -1., -1., -1., -1., -1., -1., -1.,\n",
       "       -1., -1., -1., -1., -1., -1., -1., -1., -1., -1., -1., -1., -1.,\n",
       "       -1., -1., -1., -1., -1., -1., -1., -1., -1., -1., -1., -1., -1.,\n",
       "       -1., -1., -1., -1., -1., -1., -1.])"
      ]
     },
     "execution_count": 22,
     "metadata": {},
     "output_type": "execute_result"
    }
   ],
   "source": [
    "y_pred"
   ]
  },
  {
   "cell_type": "code",
   "execution_count": 23,
   "id": "da54dab0-14dd-4d78-bf1a-78f893a0df92",
   "metadata": {},
   "outputs": [
    {
     "data": {
      "text/plain": [
       "array([[-0.04575352,  0.52216766, -1.00294058, -0.46406882]])"
      ]
     },
     "execution_count": 23,
     "metadata": {},
     "output_type": "execute_result"
    }
   ],
   "source": [
    "clf.coef_"
   ]
  },
  {
   "cell_type": "code",
   "execution_count": null,
   "id": "41c03a3b-0a98-4c7b-9170-ab8ce083675d",
   "metadata": {},
   "outputs": [],
   "source": []
  }
 ],
 "metadata": {
  "kernelspec": {
   "display_name": "deeplifting",
   "language": "python",
   "name": "deeplifting"
  },
  "language_info": {
   "codemirror_mode": {
    "name": "ipython",
    "version": 3
   },
   "file_extension": ".py",
   "mimetype": "text/x-python",
   "name": "python",
   "nbconvert_exporter": "python",
   "pygments_lexer": "ipython3",
   "version": "3.9.11"
  }
 },
 "nbformat": 4,
 "nbformat_minor": 5
}
