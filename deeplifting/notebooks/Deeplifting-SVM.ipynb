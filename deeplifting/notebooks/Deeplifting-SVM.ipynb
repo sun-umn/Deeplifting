{
 "cells": [
  {
   "cell_type": "code",
   "execution_count": 1,
   "id": "da720180-4028-49ad-9886-f139cc0b71c4",
   "metadata": {},
   "outputs": [
    {
     "data": {
      "text/plain": [
       "'/Users/ryandevera/data-science/umn_environments/Deeplifting/deeplifting/notebooks'"
      ]
     },
     "execution_count": 1,
     "metadata": {},
     "output_type": "execute_result"
    }
   ],
   "source": [
    "%pwd"
   ]
  },
  {
   "cell_type": "code",
   "execution_count": 2,
   "id": "9ba49b7f-d35d-4d6d-9808-f6cf773c0313",
   "metadata": {},
   "outputs": [
    {
     "name": "stdout",
     "output_type": "stream",
     "text": [
      "/Users/ryandevera/data-science/umn_environments/Deeplifting\n"
     ]
    }
   ],
   "source": [
    "%cd ../.."
   ]
  },
  {
   "cell_type": "code",
   "execution_count": 3,
   "id": "d41873e7-5036-4bf0-a8bd-d038da320819",
   "metadata": {},
   "outputs": [],
   "source": [
    "from deeplifting.models import DeepliftingSkipMLP\n",
    "from sklearn.datasets import load_iris\n",
    "import pandas as pd\n",
    "import torch\n",
    "import numpy as np\n",
    "\n",
    "# import pygranso functions\n",
    "from pygranso.private.getNvar import getNvarTorch\n",
    "from pygranso.pygranso import pygranso\n",
    "from pygranso.pygransoStruct import pygransoStruct"
   ]
  },
  {
   "cell_type": "code",
   "execution_count": null,
   "id": "76c23967-68e1-45b1-a039-e4eaf30e15ab",
   "metadata": {},
   "outputs": [],
   "source": [
    "device = torch.device('cpu')\n",
    "\n",
    "# Load the dataset\n",
    "iris = load_iris()\n",
    "\n",
    "# The data and target labels\n",
    "data = iris.data\n",
    "labels = iris.target\n",
    "\n",
    "# If you want the feature names and target names:\n",
    "feature_names = iris.feature_names\n",
    "target_names = iris.target_names\n",
    "\n",
    "df = pd.DataFrame(data=iris.data, columns=['f1', 'f2', 'f3', 'f4'])\n",
    "df['f5'] = 1.0\n",
    "df['target'] = iris.target\n",
    "\n",
    "df = df.sample(frac=1.0).reset_index(drop=True)\n",
    "\n",
    "# Dimensions\n",
    "output_size = len(feature_names) + 1\n",
    "\n",
    "# Inputs\n",
    "inputs_X = df[['f1', 'f2', 'f3', 'f4', 'f5']].values\n",
    "inputs_X = torch.from_numpy(inputs_X).to(device=device, dtype=torch.double).T\n",
    "\n",
    "# Just two classes for now\n",
    "labels = df['target'].values\n",
    "\n",
    "y = np.zeros(len(labels))\n",
    "y[labels != 1] = 1\n",
    "y[labels == 1] = -1\n",
    "y = torch.from_numpy(y).to(device=device, dtype=torch.double)"
   ]
  },
  {
   "cell_type": "code",
   "execution_count": null,
   "id": "aa6b21b2-8b24-48f1-9abf-ee958fc7d19b",
   "metadata": {},
   "outputs": [],
   "source": [
    "inputs_X.shape, labels.shape"
   ]
  },
  {
   "cell_type": "code",
   "execution_count": null,
   "id": "401fb869-5bd8-4238-8a15-d5c683bf21fc",
   "metadata": {},
   "outputs": [],
   "source": [
    "# Set up the learning function\n",
    "def deeplifting_svm(model, inputs_X, labels):\n",
    "    outputs = model(None)\n",
    "    weight_vec = outputs.mean(axis=0)\n",
    "\n",
    "    # Compute SVM objective\n",
    "    denominator = torch.linalg.norm(weight_vec, ord=2)\n",
    "    prod = torch.matmul(weight_vec.T, inputs_X)\n",
    "    numerator = labels * prod\n",
    "    obj = numerator / denominator\n",
    "\n",
    "    # Orig obj\n",
    "    f = torch.amax(-1 * obj)\n",
    "\n",
    "    ce = None\n",
    "    ci = None\n",
    "    return f, ci, ce\n",
    "\n",
    "\n",
    "# Set up a model\n",
    "# Deeplifting model with skip connections\n",
    "model = DeepliftingSkipMLP(\n",
    "    input_size=1,\n",
    "    hidden_sizes=(64,) * 2,\n",
    "    output_size=output_size,\n",
    "    bounds=None,\n",
    "    skip_every_n=1,\n",
    "    activation='relu',\n",
    "    output_activation='sine',\n",
    "    agg_function='sum',\n",
    "    include_bn=True,\n",
    "    seed=1,\n",
    ")"
   ]
  },
  {
   "cell_type": "code",
   "execution_count": null,
   "id": "ec2ef475-a515-4720-94e8-a7c3b99dee94",
   "metadata": {},
   "outputs": [],
   "source": [
    "# Deeplifting time!\n",
    "device = torch.device('cpu')\n",
    "model = model.to(device=device, dtype=torch.double)\n",
    "nvar = getNvarTorch(model.parameters())\n",
    "\n",
    "opts = pygransoStruct()\n",
    "\n",
    "# Inital x0\n",
    "x0 = (\n",
    "    torch.nn.utils.parameters_to_vector(model.parameters())\n",
    "    .detach()\n",
    "    .reshape(nvar, 1)\n",
    "    .to(device=device, dtype=torch.double)\n",
    ")\n",
    "\n",
    "# PyGranso options\n",
    "# Increase max number of iterations and let convege to stationarity\n",
    "# Do we see local minima in the PyGranso version\n",
    "# Dual Annealing, SCIP and Deeplifting, PyGranso (showing there are local minima)\n",
    "opts.x0 = x0\n",
    "opts.torch_device = device\n",
    "opts.print_frequency = 1\n",
    "opts.limited_mem_size = 5\n",
    "opts.stat_l2_model = False\n",
    "opts.double_precision = True\n",
    "opts.opt_tol = 1e-10\n",
    "opts.maxit = 1000\n",
    "\n",
    "# Combined function\n",
    "comb_fn = lambda model: deeplifting_svm(model, inputs_X, y)  # noqa\n",
    "\n",
    "# Run the main algorithm\n",
    "soln = pygranso(var_spec=model, combined_fn=comb_fn, user_opts=opts)"
   ]
  },
  {
   "cell_type": "code",
   "execution_count": null,
   "id": "ad87dcfe-c481-4410-9549-23ad94382cd7",
   "metadata": {},
   "outputs": [],
   "source": [
    "# Get the best weights and let's check training sample fit\n",
    "best_weights = model(None)\n",
    "best_weights = best_weights.mean(axis=0)\n",
    "best_weights = best_weights.detach().cpu().numpy()\n",
    "best_weights"
   ]
  },
  {
   "cell_type": "code",
   "execution_count": null,
   "id": "5afa72dd-0655-4523-9504-9a68b150fba2",
   "metadata": {},
   "outputs": [],
   "source": [
    "inputs_X = inputs_X.cpu().numpy()\n",
    "y = y.cpu().numpy()"
   ]
  },
  {
   "cell_type": "code",
   "execution_count": null,
   "id": "e756d269-a50f-46f2-a3c2-2be0772b3cfc",
   "metadata": {},
   "outputs": [],
   "source": [
    "raw_predictions = np.dot(best_weights, inputs_X)\n",
    "predictions = np.sign(raw_predictions)"
   ]
  },
  {
   "cell_type": "code",
   "execution_count": null,
   "id": "12fbcb14-b737-4d62-a00c-e76be93e726a",
   "metadata": {},
   "outputs": [],
   "source": [
    "from sklearn.metrics import accuracy_score"
   ]
  },
  {
   "cell_type": "code",
   "execution_count": null,
   "id": "42718a9d-72dc-4fa4-8ec4-375e7b8dc762",
   "metadata": {},
   "outputs": [],
   "source": [
    "accuracy_score(y, predictions)"
   ]
  },
  {
   "cell_type": "code",
   "execution_count": null,
   "id": "bdca5259-0563-4412-8fc3-4d07530a9d61",
   "metadata": {},
   "outputs": [],
   "source": [
    "y, predictions"
   ]
  },
  {
   "cell_type": "code",
   "execution_count": null,
   "id": "112b3ff9-711d-40c2-b7c1-f6605abc948b",
   "metadata": {},
   "outputs": [],
   "source": [
    "iris.target_names"
   ]
  },
  {
   "cell_type": "code",
   "execution_count": null,
   "id": "57b664e1-d260-4be3-b20c-551efdfb845a",
   "metadata": {},
   "outputs": [],
   "source": [
    "from sklearn.manifold import TSNE\n",
    "import seaborn as sns\n",
    "import matplotlib.pyplot as plt\n",
    "\n",
    "target_names = ['setosa', 'other']\n",
    "# Apply t-SNE to the data\n",
    "tsne = TSNE(n_components=2, random_state=0)\n",
    "X_tsne = tsne.fit_transform(inputs_X.T[:, :-1])\n",
    "\n",
    "# Create a scatter plot\n",
    "# Create a scatter plot using matplotlib\n",
    "colors = ['red', 'blue', 'green']  # Define a color for each class\n",
    "for i in [-1, 1]:\n",
    "    plt.scatter(\n",
    "        X_tsne[predictions == i, 0],\n",
    "        X_tsne[predictions == i, 1],\n",
    "        c=colors[i],\n",
    "        label=target_names[i],\n",
    "        edgecolors='w',\n",
    "    )"
   ]
  },
  {
   "cell_type": "code",
   "execution_count": null,
   "id": "57e2e99f-0ec0-4608-a689-69d149cfbf10",
   "metadata": {},
   "outputs": [],
   "source": [
    "# from sklearn import datasets\n",
    "# from sklearn.svm import SVC\n",
    "# from sklearn.metrics import accuracy_score\n",
    "\n",
    "# # Load the iris dataset\n",
    "# iris = datasets.load_iris()\n",
    "# X = iris.data\n",
    "# y = iris.target\n",
    "\n",
    "# labels = np.zeros(len(y))\n",
    "# labels[y != 0] = -1\n",
    "# labels[y == 0] = 1\n",
    "\n",
    "# # Initialize the Support Vector Machine Classifier\n",
    "# clf = SVC(kernel='linear')\n",
    "\n",
    "# # Fit the model to the training data\n",
    "# clf.fit(X, labels)\n",
    "\n",
    "# # Predict the labels of the test set\n",
    "# y_pred = clf.predict(X)\n",
    "\n",
    "# # Calculate the accuracy of the model\n",
    "# accuracy_score(labels, y_pred)"
   ]
  },
  {
   "cell_type": "code",
   "execution_count": null,
   "id": "c6c03980-0ec1-45e0-b244-2018222cd235",
   "metadata": {},
   "outputs": [],
   "source": [
    "# labels"
   ]
  },
  {
   "cell_type": "code",
   "execution_count": null,
   "id": "df9fc342-f0e7-45dc-99b8-fa36fb5f214a",
   "metadata": {},
   "outputs": [],
   "source": [
    "# y_pred"
   ]
  },
  {
   "cell_type": "code",
   "execution_count": null,
   "id": "da54dab0-14dd-4d78-bf1a-78f893a0df92",
   "metadata": {},
   "outputs": [],
   "source": [
    "# Set up the learning function\n",
    "def svm(X_struct, inputs_X, labels):\n",
    "    weight_vec = X_struct.w\n",
    "\n",
    "    # Compute SVM objective\n",
    "    denominator = torch.linalg.norm(weight_vec, ord=2)\n",
    "    prod = torch.matmul(weight_vec.T, inputs_X)\n",
    "    numerator = labels * prod\n",
    "    obj = numerator / denominator\n",
    "\n",
    "    # Orig obj\n",
    "    f = torch.amax(-1 * obj)\n",
    "\n",
    "    ce = None\n",
    "    ci = None\n",
    "    return f, ci, ce"
   ]
  },
  {
   "cell_type": "code",
   "execution_count": null,
   "id": "41c03a3b-0a98-4c7b-9170-ab8ce083675d",
   "metadata": {},
   "outputs": [],
   "source": [
    "# Load the dataset\n",
    "iris = load_iris()\n",
    "\n",
    "# The data and target labels\n",
    "data = iris.data\n",
    "labels = iris.target\n",
    "\n",
    "# If you want the feature names and target names:\n",
    "feature_names = iris.feature_names\n",
    "target_names = iris.target_names\n",
    "\n",
    "df = pd.DataFrame(data=iris.data, columns=['f1', 'f2', 'f3', 'f4'])\n",
    "df['f5'] = 1.0\n",
    "df['target'] = iris.target\n",
    "\n",
    "df = df.sample(frac=1.0).reset_index(drop=True)\n",
    "\n",
    "# Dimensions\n",
    "output_size = len(feature_names) + 1\n",
    "\n",
    "# Inputs\n",
    "inputs_X = df[['f1', 'f2', 'f3', 'f4', 'f5']].values\n",
    "inputs_X = torch.from_numpy(inputs_X).to(device=device, dtype=torch.double).T\n",
    "\n",
    "# Just two classes for now\n",
    "labels = df['target'].values\n",
    "\n",
    "y = np.zeros(len(labels))\n",
    "y[labels != 1] = 1\n",
    "y[labels == 1] = -1\n",
    "y = torch.from_numpy(y).to(device=device, dtype=torch.double)\n",
    "\n",
    "# Deeplifting time!\n",
    "device = torch.device('cpu')\n",
    "\n",
    "w0 = torch.randn(\n",
    "    (5, 1),\n",
    ").to(device, dtype=torch.double)\n",
    "var_in = {\"w\": list(w0.shape)}\n",
    "\n",
    "comb_fn = lambda X_struct: svm(\n",
    "    X_struct,\n",
    "    inputs_X,\n",
    "    y,\n",
    ")\n",
    "\n",
    "opts = pygransoStruct()\n",
    "\n",
    "# PyGranso options\n",
    "# Increase max number of iterations and let convege to stationarity\n",
    "# Do we see local minima in the PyGranso version\n",
    "# Dual Annealing, SCIP and Deeplifting, PyGranso (showing there are local minima)\n",
    "opts.x0 = torch.reshape(w0, (-1, 1))\n",
    "opts.torch_device = device\n",
    "opts.print_frequency = 1\n",
    "opts.limited_mem_size = 5\n",
    "opts.stat_l2_model = False\n",
    "opts.double_precision = True\n",
    "opts.opt_tol = 1e-10\n",
    "opts.maxit = 1000\n",
    "\n",
    "# Run the main algorithm\n",
    "soln = pygranso(var_spec=var_in, combined_fn=comb_fn, user_opts=opts)"
   ]
  },
  {
   "cell_type": "code",
   "execution_count": null,
   "id": "bf332e6c-d183-4fd5-bc91-8591c380dfd1",
   "metadata": {},
   "outputs": [],
   "source": [
    "best_weights = soln.best.x"
   ]
  },
  {
   "cell_type": "code",
   "execution_count": null,
   "id": "6b0838ad-47fb-46c1-8021-6eb539a97b35",
   "metadata": {},
   "outputs": [],
   "source": [
    "raw_predictions = np.dot(best_weights.T, inputs_X)\n",
    "predictions = np.sign(raw_predictions)"
   ]
  },
  {
   "cell_type": "code",
   "execution_count": null,
   "id": "7df054d4-3230-4435-a7c1-43994ab249dd",
   "metadata": {},
   "outputs": [],
   "source": [
    "accuracy_score(y.numpy().flatten(), predictions.flatten())"
   ]
  },
  {
   "cell_type": "markdown",
   "id": "6f0f91aa-1595-40de-8cde-8fed0b3a6b53",
   "metadata": {},
   "source": [
    "# Let's Try MNIST\n",
    "\n",
    "MNIST is a larger dataset with more \"features\""
   ]
  },
  {
   "cell_type": "code",
   "execution_count": 4,
   "id": "6da8b1af-4599-4764-b128-eb7f8b9e810a",
   "metadata": {},
   "outputs": [],
   "source": [
    "import numpy as np\n",
    "from sklearn import datasets\n",
    "from sklearn.model_selection import train_test_split\n",
    "from sklearn.svm import SVC\n",
    "from sklearn import metrics\n",
    "from scipy.optimize import differential_evolution, dual_annealing\n",
    "\n",
    "# Load the MNIST dataset\n",
    "digits = datasets.load_digits()\n",
    "\n",
    "# Split the dataset into features and target variable\n",
    "X = digits.data\n",
    "y = digits.target\n",
    "\n",
    "labels = np.zeros(len(y))\n",
    "labels[y == 0] = 1\n",
    "labels[y != 0] = -1"
   ]
  },
  {
   "cell_type": "code",
   "execution_count": 5,
   "id": "3d62bb1e-3716-40ff-99d6-44daa165b468",
   "metadata": {},
   "outputs": [
    {
     "data": {
      "text/plain": [
       "(64, 1797)"
      ]
     },
     "execution_count": 5,
     "metadata": {},
     "output_type": "execute_result"
    }
   ],
   "source": [
    "# Dual annealing and differential evolution\n",
    "inputs_X = X.T.copy()\n",
    "inputs_X.shape"
   ]
  },
  {
   "cell_type": "code",
   "execution_count": 6,
   "id": "aaa972cc-7e3f-4100-94b7-994abc65476e",
   "metadata": {},
   "outputs": [],
   "source": [
    "# Set up the learning function\n",
    "def svm(weight_vec, inputs_X, labels):\n",
    "    # Compute SVM objective\n",
    "    denominator = np.linalg.norm(weight_vec, ord=2)\n",
    "    prod = np.matmul(weight_vec.T, inputs_X)\n",
    "\n",
    "    numerator = (labels * prod).flatten()\n",
    "    obj = numerator / denominator\n",
    "\n",
    "    # Orig obj\n",
    "    f = np.amax(-1 * obj)\n",
    "    return f"
   ]
  },
  {
   "cell_type": "code",
   "execution_count": 7,
   "id": "fcb9c8dd-9a06-4347-871c-393a629f44d3",
   "metadata": {},
   "outputs": [],
   "source": [
    "# Initialize a weight vector\n",
    "x0 = np.random.randn(inputs_X.shape[0])\n",
    "\n",
    "fn = lambda w: svm(w, inputs_X, labels)\n",
    "bounds = [(-10, 10)] * inputs_X.shape[0]\n",
    "\n",
    "result = dual_annealing(\n",
    "    fn,\n",
    "    bounds,\n",
    "    x0=x0,\n",
    "    maxiter=10000,\n",
    ")"
   ]
  },
  {
   "cell_type": "code",
   "execution_count": 8,
   "id": "5b0f8082-fb2a-4367-8668-c0e2b633c7fc",
   "metadata": {},
   "outputs": [
    {
     "data": {
      "text/plain": [
       " message: ['Maximum number of iteration reached']\n",
       " success: True\n",
       "  status: 0\n",
       "     fun: -0.653067022392706\n",
       "       x: [-2.275e-01 -8.673e+00 ... -5.005e-01 -1.996e+00]\n",
       "     nit: 2000\n",
       "    nfev: 857512\n",
       "    njev: 9254\n",
       "    nhev: 0"
      ]
     },
     "execution_count": 8,
     "metadata": {},
     "output_type": "execute_result"
    }
   ],
   "source": [
    "result"
   ]
  },
  {
   "cell_type": "markdown",
   "id": "f333fc30-6cf2-4591-95ff-9731634da1ad",
   "metadata": {},
   "source": [
    "# PyGRANSO"
   ]
  },
  {
   "cell_type": "code",
   "execution_count": 9,
   "id": "b92e114e-f1b2-475f-89f6-35887299929e",
   "metadata": {},
   "outputs": [],
   "source": [
    "import torch\n",
    "\n",
    "\n",
    "# Set up the learning function\n",
    "def svm(X_struct, inputs_X, labels):\n",
    "    weight_vec = X_struct.w\n",
    "\n",
    "    # Compute SVM objective\n",
    "    denominator = torch.linalg.norm(weight_vec, ord=2)\n",
    "    prod = torch.matmul(weight_vec.T, inputs_X)\n",
    "    numerator = labels * prod\n",
    "    obj = numerator / denominator\n",
    "\n",
    "    # Orig obj\n",
    "    f = torch.amax(-1 * obj)\n",
    "\n",
    "    ce = None\n",
    "    ci = None\n",
    "    return f, ci, ce"
   ]
  },
  {
   "cell_type": "code",
   "execution_count": 10,
   "id": "0fb31d05-5e94-46d3-8d16-2f03c0a46a8a",
   "metadata": {},
   "outputs": [
    {
     "data": {
      "text/plain": [
       "(64, 1797)"
      ]
     },
     "execution_count": 10,
     "metadata": {},
     "output_type": "execute_result"
    }
   ],
   "source": [
    "inputs_X.shape"
   ]
  },
  {
   "cell_type": "code",
   "execution_count": 11,
   "id": "8e19a8e8-3d84-432c-955d-13a070304861",
   "metadata": {},
   "outputs": [
    {
     "data": {
      "text/plain": [
       "array([[ 1.,  1.,  1., ...,  1.,  1.,  1.],\n",
       "       [ 0.,  0.,  0., ...,  0.,  0.,  0.],\n",
       "       [ 0.,  0.,  0., ...,  0.,  0.,  0.],\n",
       "       ...,\n",
       "       [ 0., 10., 16., ...,  6., 12., 12.],\n",
       "       [ 0.,  0.,  9., ...,  0.,  0.,  1.],\n",
       "       [ 0.,  0.,  0., ...,  0.,  0.,  0.]])"
      ]
     },
     "execution_count": 11,
     "metadata": {},
     "output_type": "execute_result"
    }
   ],
   "source": [
    "inputs_X = np.vstack([np.ones(inputs_X.shape[1]), inputs_X])\n",
    "inputs_X"
   ]
  },
  {
   "cell_type": "code",
   "execution_count": 12,
   "id": "1d2d96c8-c3da-4a82-8dd5-ea62d3f6237b",
   "metadata": {},
   "outputs": [
    {
     "data": {
      "text/plain": [
       "(65, 1797)"
      ]
     },
     "execution_count": 12,
     "metadata": {},
     "output_type": "execute_result"
    }
   ],
   "source": [
    "inputs_X.shape"
   ]
  },
  {
   "cell_type": "code",
   "execution_count": 13,
   "id": "5b3e36b8-ec1e-449c-8418-40fb366f6bc1",
   "metadata": {},
   "outputs": [],
   "source": [
    "# import pygranso functions\n",
    "from pygranso.private.getNvar import getNvarTorch\n",
    "from pygranso.pygranso import pygranso\n",
    "from pygranso.pygransoStruct import pygransoStruct\n",
    "\n",
    "# Deeplifting time!\n",
    "device = torch.device('cpu')\n",
    "\n",
    "# Inputs\n",
    "inputs_X = torch.from_numpy(inputs_X).to(device=device, dtype=torch.double)\n",
    "labels = torch.from_numpy(labels).to(device=device, dtype=torch.double)\n",
    "\n",
    "\n",
    "w0 = torch.randn(\n",
    "    (65, 1),\n",
    ").to(device, dtype=torch.double)\n",
    "var_in = {\"w\": list(w0.shape)}\n",
    "\n",
    "comb_fn = lambda X_struct: svm(\n",
    "    X_struct,\n",
    "    inputs_X,\n",
    "    labels,\n",
    ")"
   ]
  },
  {
   "cell_type": "code",
   "execution_count": 14,
   "id": "ac5fb42d-81e8-4a66-a310-920529a05ca3",
   "metadata": {},
   "outputs": [
    {
     "name": "stdout",
     "output_type": "stream",
     "text": [
      "\n",
      "\n",
      "\u001b[33m╔═════ QP SOLVER NOTICE ════════════════════════════════════════════════════════════════════════╗\n",
      "\u001b[0m\u001b[33m║  PyGRANSO requires a quadratic program (QP) solver that has a quadprog-compatible interface,  ║\n",
      "\u001b[0m\u001b[33m║  the default is osqp. Users may provide their own wrapper for the QP solver.                  ║\n",
      "\u001b[0m\u001b[33m║  To disable this notice, set opts.quadprog_info_msg = False                                   ║\n",
      "\u001b[0m\u001b[33m╚═══════════════════════════════════════════════════════════════════════════════════════════════╝\n",
      "\u001b[0m══════════════════════════════════════════════════════════════════════════════════════════════╗\n",
      "PyGRANSO: A PyTorch-enabled port of GRANSO with auto-differentiation                          ║ \n",
      "Version 1.2.0                                                                                 ║ \n",
      "Licensed under the AGPLv3, Copyright (C) 2021-2022 Tim Mitchell and Buyun Liang               ║ \n",
      "══════════════════════════════════════════════════════════════════════════════════════════════╣\n",
      "Problem specifications:                                                                       ║ \n",
      " # of variables                     :   65                                                    ║ \n",
      " # of inequality constraints        :    0                                                    ║ \n",
      " # of equality constraints          :    0                                                    ║ \n",
      "══════════════════════════════════════════════════════════════════════════════════════════════╣\n",
      "\u001b[33mLimited-memory mode enabled with size = 5.                                                   \u001b[0m ║ \n",
      "\u001b[33mNOTE: limited-memory mode is generally NOT                                                   \u001b[0m ║ \n",
      "\u001b[33mrecommended for nonsmooth problems.                                                          \u001b[0m ║ \n",
      "═════╦════════════╦════════════════╦═════════════╦═══════════════════════╦════════════════════╣\n",
      "     ║ Penalty Fn ║                ║  Violation  ║ <--- Line Search ---> ║ <- Stationarity -> ║ \n",
      "Iter ║ Mu │ Value ║    Objective   ║ Ineq │  Eq  ║ SD │ Evals │     t    ║ Grads │    Value   ║ \n",
      "═════╬════════════╬════════════════╬═════════════╬═══════════════════════╬════════════════════╣\n",
      "   0 ║  - │   -   ║  15.2911121317 ║   -  │   -  ║ -  │     1 │ 0.000000 ║     1 │ 1.785682   ║ \n",
      "  10 ║  - │   -   ║  2.24458948236 ║   -  │   -  ║ QN │     3 │ 4.000000 ║     1 │ 0.347824   ║ \n",
      "  20 ║  - │   -   ║  0.54090483463 ║   -  │   -  ║ QN │     3 │ 0.250000 ║     1 │ 0.652763   ║ \n",
      "  30 ║  - │   -   ║ -0.02269013628 ║   -  │   -  ║ QN │     1 │ 1.000000 ║     1 │ 0.480748   ║ \n"
     ]
    },
    {
     "name": "stderr",
     "output_type": "stream",
     "text": [
      "/Users/ryandevera/.virtualenvs/deeplifing/lib/python3.9/site-packages/pygranso/private/bfgsHessianInverseLimitedMem.py:237: UserWarning: The use of `x.T` on tensors of dimension other than 2 to reverse their shape is deprecated and it will throw an error in a future release. Consider `x.mT` to transpose batches of matrices or `x.permute(*torch.arange(x.ndim - 1, -1, -1))` to reverse the dimensions of a tensor. (Triggered internally at /Users/runner/work/pytorch/pytorch/pytorch/aten/src/ATen/native/TensorShape.cpp:3575.)\n",
      "  alpha[j,:]  = self.rho[0,j] * (self.S[:,j].T  @ q)\n"
     ]
    },
    {
     "name": "stdout",
     "output_type": "stream",
     "text": [
      "  40 ║  - │   -   ║ -0.74345503881 ║   -  │   -  ║ QN │     2 │ 0.500000 ║     1 │ 0.162308   ║ \n",
      "  50 ║  - │   -   ║ -0.93537276693 ║   -  │   -  ║ QN │     1 │ 1.000000 ║     1 │ 0.181924   ║ \n",
      "  60 ║  - │   -   ║ -1.17486584859 ║   -  │   -  ║ QN │     6 │ 0.031250 ║     1 │ 0.850686   ║ \n",
      "  70 ║  - │   -   ║ -1.26083760315 ║   -  │   -  ║ QN │     1 │ 1.000000 ║     1 │ 0.182744   ║ \n",
      "  80 ║  - │   -   ║ -1.48662299102 ║   -  │   -  ║ QN │     4 │ 0.125000 ║     1 │ 9.831150   ║ \n",
      "  90 ║  - │   -   ║ -1.85221211242 ║   -  │   -  ║ QN │     3 │ 0.250000 ║     1 │ 0.093145   ║ \n",
      " 100 ║  - │   -   ║ -1.91587374773 ║   -  │   -  ║ QN │     7 │ 0.015625 ║     1 │ 1.666023   ║ \n",
      " 110 ║  - │   -   ║ -1.96308456640 ║   -  │   -  ║ QN │     3 │ 0.250000 ║     1 │ 0.372434   ║ \n",
      " 120 ║  - │   -   ║ -2.02572440724 ║   -  │   -  ║ QN │     5 │ 0.062500 ║     1 │ 0.495762   ║ \n",
      " 130 ║  - │   -   ║ -2.08859956004 ║   -  │   -  ║ QN │     6 │ 0.093750 ║     1 │ 0.593963   ║ \n",
      " 140 ║  - │   -   ║ -2.11929250427 ║   -  │   -  ║ QN │     9 │ 0.011719 ║     1 │ 0.837556   ║ \n",
      " 150 ║  - │   -   ║ -2.14739385463 ║   -  │   -  ║ QN │     5 │ 0.187500 ║     1 │ 0.193290   ║ \n",
      " 160 ║  - │   -   ║ -2.18460786139 ║   -  │   -  ║ QN │     2 │ 0.500000 ║     1 │ 0.192743   ║ \n",
      " 170 ║  - │   -   ║ -2.21080947621 ║   -  │   -  ║ QN │     7 │ 0.078125 ║     1 │ 0.289787   ║ \n",
      " 180 ║  - │   -   ║ -2.23014384966 ║   -  │   -  ║ QN │     7 │ 0.015625 ║     1 │ 0.416805   ║ \n",
      " 190 ║  - │   -   ║ -2.23323646106 ║   -  │   -  ║ QN │     8 │ 0.023438 ║     1 │ 0.243837   ║ \n",
      "═════╬════════════╬════════════════╬═════════════╬═══════════════════════╬════════════════════╣\n",
      "     ║ Penalty Fn ║                ║  Violation  ║ <--- Line Search ---> ║ <- Stationarity -> ║ \n",
      "Iter ║ Mu │ Value ║    Objective   ║ Ineq │  Eq  ║ SD │ Evals │     t    ║ Grads │    Value   ║ \n",
      "═════╬════════════╬════════════════╬═════════════╬═══════════════════════╬════════════════════╣\n",
      " 200 ║  - │   -   ║ -2.23789404449 ║   -  │   -  ║ QN │     3 │ 0.250000 ║     1 │ 0.144091   ║ \n",
      " 210 ║  - │   -   ║ -2.24459885316 ║   -  │   -  ║ QN │     7 │ 0.015625 ║     1 │ 2.636455   ║ \n",
      " 220 ║  - │   -   ║ -2.24676375379 ║   -  │   -  ║ QN │    11 │ 9.77e-04 ║     1 │ 0.201444   ║ \n",
      " 230 ║  - │   -   ║ -2.24738949980 ║   -  │   -  ║ QN │    14 │ 0.001099 ║     1 │ 2.251330   ║ \n",
      " 240 ║  - │   -   ║ -2.24755677563 ║   -  │   -  ║ QN │    15 │ 1.83e-04 ║     2 │ 0.016146   ║ \n",
      " 250 ║  - │   -   ║ -2.24758685191 ║   -  │   -  ║ QN │    15 │ 6.10e-05 ║     6 │ 0.086205   ║ \n",
      " 260 ║  - │   -   ║ -2.25158144185 ║   -  │   -  ║ QN │     7 │ 0.015625 ║     1 │ 0.220295   ║ \n",
      " 270 ║  - │   -   ║ -2.25847158539 ║   -  │   -  ║ QN │     7 │ 0.015625 ║     1 │ 1.363436   ║ \n",
      " 280 ║  - │   -   ║ -2.27453839884 ║   -  │   -  ║ QN │     8 │ 0.007812 ║     1 │ 0.360377   ║ \n",
      " 290 ║  - │   -   ║ -2.29913390599 ║   -  │   -  ║ QN │     3 │ 0.250000 ║     1 │ 0.907486   ║ \n",
      " 300 ║  - │   -   ║ -2.33422769592 ║   -  │   -  ║ QN │     1 │ 1.000000 ║     1 │ 0.091499   ║ \n",
      " 310 ║  - │   -   ║ -2.35034873570 ║   -  │   -  ║ QN │    12 │ 0.003418 ║     1 │ 3.760128   ║ \n",
      " 320 ║  - │   -   ║ -2.36350711535 ║   -  │   -  ║ QN │     6 │ 0.031250 ║     1 │ 0.454610   ║ \n",
      " 330 ║  - │   -   ║ -2.38685149349 ║   -  │   -  ║ QN │     2 │ 0.500000 ║     1 │ 0.115538   ║ \n",
      " 340 ║  - │   -   ║ -2.40174934442 ║   -  │   -  ║ QN │    20 │ 1.91e-06 ║     2 │ 0.022105   ║ \n",
      " 350 ║  - │   -   ║ -2.42248343412 ║   -  │   -  ║ QN │    11 │ 9.77e-04 ║     1 │ 0.429551   ║ \n",
      " 360 ║  - │   -   ║ -2.43544799697 ║   -  │   -  ║ QN │     8 │ 0.007812 ║     1 │ 0.285206   ║ \n",
      " 370 ║  - │   -   ║ -2.43728912514 ║   -  │   -  ║ QN │     8 │ 0.007812 ║     1 │ 0.113430   ║ \n",
      " 380 ║  - │   -   ║ -2.43999949882 ║   -  │   -  ║ QN │     9 │ 0.003906 ║     1 │ 0.411615   ║ \n",
      " 390 ║  - │   -   ║ -2.44230416604 ║   -  │   -  ║ QN │    10 │ 0.001953 ║     1 │ 0.089606   ║ \n",
      "═════╬════════════╬════════════════╬═════════════╬═══════════════════════╬════════════════════╣\n",
      "     ║ Penalty Fn ║                ║  Violation  ║ <--- Line Search ---> ║ <- Stationarity -> ║ \n",
      "Iter ║ Mu │ Value ║    Objective   ║ Ineq │  Eq  ║ SD │ Evals │     t    ║ Grads │    Value   ║ \n",
      "═════╬════════════╬════════════════╬═════════════╬═══════════════════════╬════════════════════╣\n",
      " 400 ║  - │   -   ║ -2.44429649239 ║   -  │   -  ║ QN │     9 │ 0.003906 ║     1 │ 0.314410   ║ \n",
      " 410 ║  - │   -   ║ -2.44616119769 ║   -  │   -  ║ QN │    17 │ 1.53e-05 ║     2 │ 0.018073   ║ \n",
      " 420 ║  - │   -   ║ -2.44652132511 ║   -  │   -  ║ QN │    12 │ 4.88e-04 ║     2 │ 0.018880   ║ \n",
      " 430 ║  - │   -   ║ -2.44663419712 ║   -  │   -  ║ QN │    16 │ 9.16e-05 ║     4 │ 0.010050   ║ \n",
      " 440 ║  - │   -   ║ -2.44663944525 ║   -  │   -  ║ QN │    20 │ 9.54e-06 ║    12 │ 0.009982   ║ \n",
      " 450 ║  - │   -   ║ -2.44664027214 ║   -  │   -  ║ QN │    20 │ 1.91e-06 ║    21 │ 0.016879   ║ \n",
      " 460 ║  - │   -   ║ -2.44664042736 ║   -  │   -  ║ QN │    25 │ 6.56e-07 ║    31 │ 0.014151   ║ \n",
      " 470 ║  - │   -   ║ -2.44664045984 ║   -  │   -  ║ QN │    27 │ 1.04e-07 ║    41 │ 0.016678   ║ \n",
      " 480 ║  - │   -   ║ -2.44664046633 ║   -  │   -  ║ QN │    29 │ 1.86e-08 ║    51 │ 0.013412   ║ \n",
      " 490 ║  - │   -   ║ -2.44664046783 ║   -  │   -  ║ QN │    28 │ 2.24e-08 ║    61 │ 0.011490   ║ \n",
      " 500 ║  - │   -   ║ -2.44664046831 ║   -  │   -  ║ QN │    34 │ 5.82e-10 ║    71 │ 0.017086   ║ \n",
      "═════╩════════════╩════════════════╩═════════════╩═══════════════════════╩════════════════════╣\n",
      "Optimization results:                                                                         ║ \n",
      "F = final iterate, B = Best (to tolerance), MF = Most Feasible                                ║ \n",
      "═════╦════════════╦════════════════╦═════════════╦═══════════════════════╦════════════════════╣\n",
      "   F ║    │       ║ -2.44664046832 ║   -  │   -  ║    │       │          ║       │            ║ \n",
      "   B ║    │       ║ -2.44664046833 ║   -  │   -  ║    │       │          ║       │            ║ \n",
      "═════╩════════════╩════════════════╩═════════════╩═══════════════════════╩════════════════════╣\n",
      "Iterations:              502                                                                  ║ \n",
      "Function evaluations:    4765                                                                 ║ \n",
      "PyGRANSO termination code: 6 --- line search bracketed a minimizer but failed to satisfy      ║ \n",
      "Wolfe conditions.  This may be an indication that approximate stationarity has been attained. ║ \n",
      "══════════════════════════════════════════════════════════════════════════════════════════════╝\n"
     ]
    }
   ],
   "source": [
    "opts = pygransoStruct()\n",
    "\n",
    "# PyGranso options\n",
    "# Increase max number of iterations and let convege to stationarity\n",
    "# Do we see local minima in the PyGranso version\n",
    "# Dual Annealing, SCIP and Deeplifting, PyGranso (showing there are local minima)\n",
    "opts.x0 = torch.reshape(w0, (-1, 1))\n",
    "opts.torch_device = device\n",
    "opts.print_frequency = 10\n",
    "opts.limited_mem_size = 5\n",
    "opts.stat_l2_model = False\n",
    "opts.double_precision = True\n",
    "opts.opt_tol = 1e-10\n",
    "opts.maxit = 2000\n",
    "\n",
    "# Run the main algorithm\n",
    "soln = pygranso(var_spec=var_in, combined_fn=comb_fn, user_opts=opts)"
   ]
  },
  {
   "cell_type": "code",
   "execution_count": 15,
   "id": "f6c3d5ad-0570-45e1-b98a-a7939f461017",
   "metadata": {},
   "outputs": [],
   "source": [
    "from deeplifting.models import DeepliftingSkipMLP\n",
    "from sklearn.datasets import load_iris\n",
    "import pandas as pd\n",
    "import torch\n",
    "import numpy as np"
   ]
  },
  {
   "cell_type": "markdown",
   "id": "071246b4-3669-43a1-9e44-3ae4fcbac3ee",
   "metadata": {},
   "source": [
    "# Deeplifting"
   ]
  },
  {
   "cell_type": "code",
   "execution_count": 24,
   "id": "7afd326d-5a22-420d-b191-1d903d7220ce",
   "metadata": {},
   "outputs": [],
   "source": [
    "# Set up the learning function\n",
    "def deeplifting_svm(model, inputs_X, labels):\n",
    "    outputs = model(None)\n",
    "    weight_vec = outputs.mean(axis=0)\n",
    "\n",
    "    # Compute SVM objective\n",
    "    denominator = torch.linalg.norm(weight_vec, ord=2)\n",
    "    prod = torch.matmul(weight_vec.T, inputs_X)\n",
    "    numerator = labels * prod\n",
    "    obj = numerator / denominator\n",
    "\n",
    "    # Orig obj\n",
    "    f = torch.amax(-1 * obj)\n",
    "\n",
    "    ce = None\n",
    "    ci = None\n",
    "    return f, ci, ce\n",
    "\n",
    "\n",
    "# Set up a model\n",
    "# Deeplifting model with skip connections\n",
    "model = DeepliftingSkipMLP(\n",
    "    input_size=1,\n",
    "    hidden_sizes=(128,) * 5,\n",
    "    output_size=65,\n",
    "    bounds=None,\n",
    "    skip_every_n=1,\n",
    "    activation='sine',\n",
    "    output_activation='sine',\n",
    "    agg_function='identity',\n",
    "    include_bn=True,\n",
    "    seed=1,\n",
    ")"
   ]
  },
  {
   "cell_type": "code",
   "execution_count": null,
   "id": "df1cdc83-2166-423d-a84f-3479f3848616",
   "metadata": {},
   "outputs": [
    {
     "name": "stdout",
     "output_type": "stream",
     "text": [
      "\n",
      "\n",
      "\u001b[33m╔═════ QP SOLVER NOTICE ════════════════════════════════════════════════════════════════════════╗\n",
      "\u001b[0m\u001b[33m║  PyGRANSO requires a quadratic program (QP) solver that has a quadprog-compatible interface,  ║\n",
      "\u001b[0m\u001b[33m║  the default is osqp. Users may provide their own wrapper for the QP solver.                  ║\n",
      "\u001b[0m\u001b[33m║  To disable this notice, set opts.quadprog_info_msg = False                                   ║\n",
      "\u001b[0m\u001b[33m╚═══════════════════════════════════════════════════════════════════════════════════════════════╝\n",
      "\u001b[0m══════════════════════════════════════════════════════════════════════════════════════════════╗\n",
      "PyGRANSO: A PyTorch-enabled port of GRANSO with auto-differentiation                          ║ \n",
      "Version 1.2.0                                                                                 ║ \n",
      "Licensed under the AGPLv3, Copyright (C) 2021-2022 Tim Mitchell and Buyun Liang               ║ \n",
      "══════════════════════════════════════════════════════════════════════════════════════════════╣\n",
      "Problem specifications:                                                                       ║ \n",
      " # of variables                     :   176619                                                ║ \n",
      " # of inequality constraints        :        0                                                ║ \n",
      " # of equality constraints          :        0                                                ║ \n",
      "══════════════════════════════════════════════════════════════════════════════════════════════╣\n",
      "\u001b[33mLimited-memory mode enabled with size = 5.                                                   \u001b[0m ║ \n",
      "\u001b[33mNOTE: limited-memory mode is generally NOT                                                   \u001b[0m ║ \n",
      "\u001b[33mrecommended for nonsmooth problems.                                                          \u001b[0m ║ \n",
      "═════╦════════════╦════════════════╦═════════════╦═══════════════════════╦════════════════════╣\n",
      "     ║ Penalty Fn ║                ║  Violation  ║ <--- Line Search ---> ║ <- Stationarity -> ║ \n",
      "Iter ║ Mu │ Value ║    Objective   ║ Ineq │  Eq  ║ SD │ Evals │     t    ║ Grads │    Value   ║ \n",
      "═════╬════════════╬════════════════╬═════════════╬═══════════════════════╬════════════════════╣\n",
      "   0 ║  - │   -   ║  14.9911976139 ║   -  │   -  ║ -  │     1 │ 0.000000 ║     1 │ 88.44504   ║ \n",
      "  10 ║  - │   -   ║  4.63562948423 ║   -  │   -  ║ QN │    16 │ 9.16e-05 ║     1 │ 1.129124   ║ \n",
      "  20 ║  - │   -   ║  3.14816056392 ║   -  │   -  ║ QN │    14 │ 1.22e-04 ║     1 │ 2.894151   ║ \n",
      "  30 ║  - │   -   ║  1.54935883256 ║   -  │   -  ║ QN │    11 │ 0.002930 ║     1 │ 0.186019   ║ \n",
      "  40 ║  - │   -   ║  1.07048077076 ║   -  │   -  ║ QN │    15 │ 1.83e-04 ║     1 │ 0.706988   ║ \n",
      "  50 ║  - │   -   ║  0.31081559402 ║   -  │   -  ║ QN │    12 │ 0.001465 ║     1 │ 1.801977   ║ \n",
      "  60 ║  - │   -   ║ -0.00518426608 ║   -  │   -  ║ QN │    15 │ 1.83e-04 ║     1 │ 0.583413   ║ \n",
      "  70 ║  - │   -   ║ -0.05444082535 ║   -  │   -  ║ QN │    16 │ 3.05e-05 ║     1 │ 0.282205   ║ \n",
      "  80 ║  - │   -   ║ -0.33993525135 ║   -  │   -  ║ QN │    13 │ 7.32e-04 ║     1 │ 0.531626   ║ \n",
      "  90 ║  - │   -   ║ -0.56678228988 ║   -  │   -  ║ QN │    15 │ 1.83e-04 ║     1 │ 0.165416   ║ \n",
      " 100 ║  - │   -   ║ -0.67148515315 ║   -  │   -  ║ QN │    15 │ 6.10e-05 ║     1 │ 0.526553   ║ \n",
      " 110 ║  - │   -   ║ -0.68483970177 ║   -  │   -  ║ QN │    17 │ 1.53e-05 ║     1 │ 0.596232   ║ \n",
      " 120 ║  - │   -   ║ -0.72030735270 ║   -  │   -  ║ QN │    16 │ 3.05e-05 ║     2 │ 0.037794   ║ \n",
      " 130 ║  - │   -   ║ -0.73313825954 ║   -  │   -  ║ QN │    19 │ 1.14e-05 ║     3 │ 0.111361   ║ \n",
      " 140 ║  - │   -   ║ -0.74319623041 ║   -  │   -  ║ QN │    19 │ 3.81e-06 ║     1 │ 2.267943   ║ \n",
      " 150 ║  - │   -   ║ -0.81700191841 ║   -  │   -  ║ QN │    16 │ 3.05e-05 ║     1 │ 1.018787   ║ \n",
      " 160 ║  - │   -   ║ -0.95093403330 ║   -  │   -  ║ QN │    13 │ 2.44e-04 ║     1 │ 0.541746   ║ \n",
      " 170 ║  - │   -   ║ -1.05107149811 ║   -  │   -  ║ QN │    17 │ 1.53e-05 ║     1 │ 8.080927   ║ \n",
      " 180 ║  - │   -   ║ -1.09197065035 ║   -  │   -  ║ QN │    16 │ 3.05e-05 ║     3 │ 0.036591   ║ \n",
      " 190 ║  - │   -   ║ -1.11541091712 ║   -  │   -  ║ QN │    16 │ 3.05e-05 ║     1 │ 46.58305   ║ \n",
      "═════╬════════════╬════════════════╬═════════════╬═══════════════════════╬════════════════════╣\n",
      "     ║ Penalty Fn ║                ║  Violation  ║ <--- Line Search ---> ║ <- Stationarity -> ║ \n",
      "Iter ║ Mu │ Value ║    Objective   ║ Ineq │  Eq  ║ SD │ Evals │     t    ║ Grads │    Value   ║ \n",
      "═════╬════════════╬════════════════╬═════════════╬═══════════════════════╬════════════════════╣\n",
      " 200 ║  - │   -   ║ -1.15326227082 ║   -  │   -  ║ QN │    13 │ 2.44e-04 ║     1 │ 0.423535   ║ \n",
      " 210 ║  - │   -   ║ -1.17632805285 ║   -  │   -  ║ QN │    17 │ 1.53e-05 ║     3 │ 0.076093   ║ \n",
      " 220 ║  - │   -   ║ -1.27822012244 ║   -  │   -  ║ QN │    21 │ 9.54e-07 ║     2 │ 0.062623   ║ \n",
      " 230 ║  - │   -   ║ -1.32044792585 ║   -  │   -  ║ QN │    15 │ 6.10e-05 ║     1 │ 0.204095   ║ \n",
      " 240 ║  - │   -   ║ -1.33059894035 ║   -  │   -  ║ QN │    22 │ 4.77e-07 ║     3 │ 0.078758   ║ \n",
      " 250 ║  - │   -   ║ -1.34429682332 ║   -  │   -  ║ QN │    20 │ 1.34e-05 ║     1 │ 39.80277   ║ \n",
      " 260 ║  - │   -   ║ -1.36370789744 ║   -  │   -  ║ QN │    20 │ 9.54e-06 ║     3 │ 0.166975   ║ \n",
      " 270 ║  - │   -   ║ -1.37139365169 ║   -  │   -  ║ QN │    29 │ 3.35e-08 ║     8 │ 0.025690   ║ \n",
      " 280 ║  - │   -   ║ -1.37423939632 ║   -  │   -  ║ QN │    23 │ 7.15e-07 ║    14 │ 0.021755   ║ \n",
      " 290 ║  - │   -   ║ -1.37560448695 ║   -  │   -  ║ QN │    23 │ 7.15e-07 ║    19 │ 0.054085   ║ \n",
      " 300 ║  - │   -   ║ -1.41359728480 ║   -  │   -  ║ QN │    18 │ 7.63e-06 ║     3 │ 0.581562   ║ \n",
      " 310 ║  - │   -   ║ -1.42541668842 ║   -  │   -  ║ QN │    20 │ 5.72e-06 ║     3 │ 0.219252   ║ \n",
      " 320 ║  - │   -   ║ -1.42899678636 ║   -  │   -  ║ QN │    19 │ 3.81e-06 ║     8 │ 0.168025   ║ \n",
      " 330 ║  - │   -   ║ -1.43097829668 ║   -  │   -  ║ QN │    21 │ 9.54e-07 ║     9 │ 0.028372   ║ \n",
      " 340 ║  - │   -   ║ -1.43218009042 ║   -  │   -  ║ QN │    20 │ 1.91e-06 ║    18 │ 0.155847   ║ \n",
      " 350 ║  - │   -   ║ -1.43477037997 ║   -  │   -  ║ QN │    24 │ 5.96e-07 ║     9 │ 0.057339   ║ \n",
      " 360 ║  - │   -   ║ -1.43628068484 ║   -  │   -  ║ QN │    27 │ 2.83e-07 ║    10 │ 0.023727   ║ \n",
      " 370 ║  - │   -   ║ -1.43744518473 ║   -  │   -  ║ QN │    22 │ 4.77e-07 ║    12 │ 0.062181   ║ \n",
      " 380 ║  - │   -   ║ -1.43945547319 ║   -  │   -  ║ QN │    21 │ 9.54e-07 ║    11 │ 0.103369   ║ \n",
      " 390 ║  - │   -   ║ -1.44390395502 ║   -  │   -  ║ QN │    24 │ 2.03e-06 ║     5 │ 0.040148   ║ \n",
      "═════╬════════════╬════════════════╬═════════════╬═══════════════════════╬════════════════════╣\n",
      "     ║ Penalty Fn ║                ║  Violation  ║ <--- Line Search ---> ║ <- Stationarity -> ║ \n",
      "Iter ║ Mu │ Value ║    Objective   ║ Ineq │  Eq  ║ SD │ Evals │     t    ║ Grads │    Value   ║ \n",
      "═════╬════════════╬════════════════╬═════════════╬═══════════════════════╬════════════════════╣\n",
      " 400 ║  - │   -   ║ -1.44560368773 ║   -  │   -  ║ QN │    25 │ 1.79e-07 ║    13 │ 0.042019   ║ \n",
      " 410 ║  - │   -   ║ -1.44676004555 ║   -  │   -  ║ QN │    24 │ 1.19e-07 ║    21 │ 0.042469   ║ \n",
      " 420 ║  - │   -   ║ -1.44696029397 ║   -  │   -  ║ QN │    32 │ 4.66e-10 ║    30 │ 0.017766   ║ \n",
      " 430 ║  - │   -   ║ -1.44698935145 ║   -  │   -  ║ QN │    28 │ 7.45e-09 ║    40 │ 0.016217   ║ \n",
      " 440 ║  - │   -   ║ -1.44700653905 ║   -  │   -  ║ QN │    29 │ 3.73e-09 ║    50 │ 0.023979   ║ \n",
      " 450 ║  - │   -   ║ -1.44750318757 ║   -  │   -  ║ QN │    24 │ 3.58e-07 ║    53 │ 0.016188   ║ \n",
      " 460 ║  - │   -   ║ -1.44848077006 ║   -  │   -  ║ QN │    24 │ 1.07e-06 ║    17 │ 0.425993   ║ \n",
      " 470 ║  - │   -   ║ -1.44990587532 ║   -  │   -  ║ QN │    21 │ 9.54e-07 ║    10 │ 0.031699   ║ \n",
      " 480 ║  - │   -   ║ -1.45061577977 ║   -  │   -  ║ QN │    21 │ 9.54e-07 ║    20 │ 0.050400   ║ \n",
      " 490 ║  - │   -   ║ -1.45312019142 ║   -  │   -  ║ QN │    21 │ 2.86e-06 ║    20 │ 0.035642   ║ \n",
      " 500 ║  - │   -   ║ -1.45453324800 ║   -  │   -  ║ QN │    31 │ 4.66e-09 ║    18 │ 0.106460   ║ \n",
      " 510 ║  - │   -   ║ -1.45489841803 ║   -  │   -  ║ QN │    25 │ 2.98e-07 ║    18 │ 0.025793   ║ \n",
      " 520 ║  - │   -   ║ -1.45526418031 ║   -  │   -  ║ QN │    24 │ 1.19e-07 ║    28 │ 0.025650   ║ \n",
      " 530 ║  - │   -   ║ -1.45533593100 ║   -  │   -  ║ QN │    29 │ 4.10e-08 ║    38 │ 0.079173   ║ \n",
      " 540 ║  - │   -   ║ -1.45546094709 ║   -  │   -  ║ QN │    26 │ 2.98e-08 ║    48 │ 0.095697   ║ \n",
      " 550 ║  - │   -   ║ -1.45581201331 ║   -  │   -  ║ QN │    24 │ 3.58e-07 ║    52 │ 0.013646   ║ \n",
      " 560 ║  - │   -   ║ -1.45593576166 ║   -  │   -  ║ QN │    25 │ 5.96e-08 ║    62 │ 0.006876   ║ \n",
      " 570 ║  - │   -   ║ -1.45599870653 ║   -  │   -  ║ QN │    26 │ 2.98e-08 ║    69 │ 0.009325   ║ \n",
      " 580 ║  - │   -   ║ -1.45610349593 ║   -  │   -  ║ QN │    27 │ 7.45e-08 ║    79 │ 0.012925   ║ \n",
      " 590 ║  - │   -   ║ -1.45619274578 ║   -  │   -  ║ QN │    26 │ 2.98e-08 ║    89 │ 0.014972   ║ \n",
      "═════╬════════════╬════════════════╬═════════════╬═══════════════════════╬════════════════════╣\n",
      "     ║ Penalty Fn ║                ║  Violation  ║ <--- Line Search ---> ║ <- Stationarity -> ║ \n",
      "Iter ║ Mu │ Value ║    Objective   ║ Ineq │  Eq  ║ SD │ Evals │     t    ║ Grads │    Value   ║ \n",
      "═════╬════════════╬════════════════╬═════════════╬═══════════════════════╬════════════════════╣\n",
      " 600 ║  - │   -   ║ -1.45624721292 ║   -  │   -  ║ QN │    23 │ 1.19e-06 ║    99 │ 0.016817   ║ \n",
      " 610 ║  - │   -   ║ -1.45637619026 ║   -  │   -  ║ QN │    28 │ 3.73e-08 ║   100 │ 0.026281   ║ \n"
     ]
    }
   ],
   "source": [
    "# Deeplifting time!\n",
    "device = torch.device('cpu')\n",
    "model = model.to(device=device, dtype=torch.double)\n",
    "nvar = getNvarTorch(model.parameters())\n",
    "\n",
    "opts = pygransoStruct()\n",
    "\n",
    "# Inital x0\n",
    "x0 = (\n",
    "    torch.nn.utils.parameters_to_vector(model.parameters())\n",
    "    .detach()\n",
    "    .reshape(nvar, 1)\n",
    "    .to(device=device, dtype=torch.double)\n",
    ")\n",
    "\n",
    "# PyGranso options\n",
    "# Increase max number of iterations and let convege to stationarity\n",
    "# Do we see local minima in the PyGranso version\n",
    "# Dual Annealing, SCIP and Deeplifting, PyGranso (showing there are local minima)\n",
    "opts.x0 = x0\n",
    "opts.torch_device = device\n",
    "opts.print_frequency = 10\n",
    "opts.limited_mem_size = 5\n",
    "opts.stat_l2_model = False\n",
    "opts.double_precision = True\n",
    "opts.opt_tol = 1e-10\n",
    "opts.maxit = 5000\n",
    "\n",
    "# Combined function\n",
    "comb_fn = lambda model: deeplifting_svm(model, inputs_X, labels)  # noqa\n",
    "\n",
    "# Run the main algorithm\n",
    "soln = pygranso(var_spec=model, combined_fn=comb_fn, user_opts=opts)"
   ]
  },
  {
   "cell_type": "code",
   "execution_count": null,
   "id": "dc5e3cda-27f3-4be7-9263-f747bb84f214",
   "metadata": {},
   "outputs": [],
   "source": []
  },
  {
   "cell_type": "code",
   "execution_count": null,
   "id": "0533aaa9-bdb6-4ac6-a7f0-7e807c5a9a15",
   "metadata": {},
   "outputs": [],
   "source": []
  }
 ],
 "metadata": {
  "kernelspec": {
   "display_name": "deeplifting",
   "language": "python",
   "name": "deeplifting"
  },
  "language_info": {
   "codemirror_mode": {
    "name": "ipython",
    "version": 3
   },
   "file_extension": ".py",
   "mimetype": "text/x-python",
   "name": "python",
   "nbconvert_exporter": "python",
   "pygments_lexer": "ipython3",
   "version": "3.9.11"
  }
 },
 "nbformat": 4,
 "nbformat_minor": 5
}
