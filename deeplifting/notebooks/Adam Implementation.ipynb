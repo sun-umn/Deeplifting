{
 "cells": [
  {
   "cell_type": "code",
   "execution_count": 1,
   "id": "8df77176-2692-468a-8748-992fa201bd84",
   "metadata": {},
   "outputs": [
    {
     "name": "stdout",
     "output_type": "stream",
     "text": [
      "/home/rydevera3/data-science/umn_research/Deeplifting\n"
     ]
    }
   ],
   "source": [
    "%pwd\n",
    "%cd ../.."
   ]
  },
  {
   "cell_type": "code",
   "execution_count": 12,
   "id": "1d8d3d89-eb2a-478f-a366-ec12531eb0d1",
   "metadata": {},
   "outputs": [],
   "source": [
    "import numpy as np\n",
    "import pandas as pd\n",
    "import torch\n",
    "import torch.optim as optim\n",
    "\n",
    "from deeplifting.problems import PROBLEMS_BY_NAME\n",
    "from deeplifting.models import DeepliftingSkipMLP\n",
    "from deeplifting.optimization import deeplifting_predictions"
   ]
  },
  {
   "cell_type": "code",
   "execution_count": 26,
   "id": "27303ba4-5cf5-4005-9ad5-4efefa5d9133",
   "metadata": {},
   "outputs": [],
   "source": [
    "problem = PROBLEMS_BY_NAME['bukin_n6']\n",
    "dimensions = problem['dimensions']\n",
    "\n",
    "# Set up the deeplifting model\n",
    "input_size = 512\n",
    "hidden_sizes = (128, 128)\n",
    "output_size = dimensions\n",
    "bounds = problem['bounds']\n",
    "activation = 'sine'\n",
    "output_activation = 'leaky_relu'\n",
    "agg_function = 'sum'\n",
    "trial = 0\n",
    "\n",
    "model = DeepliftingSkipMLP(\n",
    "    input_size=input_size,\n",
    "    hidden_sizes=hidden_sizes,\n",
    "    output_size=dimensions,\n",
    "    bounds=bounds,\n",
    "    skip_every_n=1,\n",
    "    activation=activation,\n",
    "    output_activation=output_activation,\n",
    "    agg_function=agg_function,\n",
    "    seed=trial,\n",
    ")\n",
    "\n",
    "# Need to setup an objective\n",
    "results = np.zeros((1, 1, 3))\n",
    "trial = 0\n",
    "\n",
    "objective = problem['objective']\n",
    "fn = lambda x: objective(x, results=results, trial=trial, version='pytorch')"
   ]
  },
  {
   "cell_type": "code",
   "execution_count": 27,
   "id": "c737089a-5d8e-4bdf-8091-620e5e096724",
   "metadata": {},
   "outputs": [
    {
     "name": "stdout",
     "output_type": "stream",
     "text": [
      "Objective value=2.7954373359680176\n",
      "Objective value=1.620771050453186\n",
      "Objective value=3.4175660610198975\n",
      "Objective value=4.600964546203613\n",
      "Objective value=3.809809684753418\n",
      "Objective value=4.067779541015625\n",
      "Objective value=5.22509765625\n",
      "Objective value=2.967188596725464\n",
      "Objective value=6.383037567138672\n",
      "Objective value=2.2161412239074707\n",
      "Objective value=7.040313720703125\n",
      "Objective value=5.1415510177612305\n",
      "Objective value=11.216092109680176\n",
      "Objective value=3.850243091583252\n",
      "Objective value=7.2703537940979\n",
      "Objective value=10.243327140808105\n",
      "Objective value=4.125312328338623\n",
      "Objective value=5.20118522644043\n",
      "Objective value=8.081161499023438\n",
      "Objective value=18.159976959228516\n"
     ]
    }
   ],
   "source": [
    "# Put model into training model\n",
    "model.train()\n",
    "\n",
    "# Set up the optimizer\n",
    "optimizer = optim.AdamW(model.parameters(), lr=1e-3)\n",
    "\n",
    "# Set up 10 epochs to start\n",
    "for epoch in range(20):\n",
    "    # Zero out the gradients\n",
    "    optimizer.zero_grad()\n",
    "\n",
    "    # Get the outputs of the model\n",
    "    outputs = model(None)\n",
    "\n",
    "    # Iterate over the objective function\n",
    "    objective_values = []\n",
    "    for i in range(len(outputs)):\n",
    "        f = fn(outputs[i, :])\n",
    "        objective_values.append(f)\n",
    "\n",
    "    # Update f with the minimum information\n",
    "    objective_values = torch.stack(objective_values)\n",
    "    f = torch.min(objective_values)\n",
    "    print(f'Objective value={f.detach().cpu().numpy()}')\n",
    "\n",
    "    # Backward pass\n",
    "    f.backward()\n",
    "\n",
    "    # Next step of optimizer\n",
    "    optimizer.step()"
   ]
  },
  {
   "cell_type": "code",
   "execution_count": null,
   "id": "08fae5ea-c2a0-4a5a-80b2-cd6071fefa13",
   "metadata": {},
   "outputs": [],
   "source": []
  }
 ],
 "metadata": {
  "kernelspec": {
   "display_name": "deeplifting",
   "language": "python",
   "name": "deeplifting"
  },
  "language_info": {
   "codemirror_mode": {
    "name": "ipython",
    "version": 3
   },
   "file_extension": ".py",
   "mimetype": "text/x-python",
   "name": "python",
   "nbconvert_exporter": "python",
   "pygments_lexer": "ipython3",
   "version": "3.9.11"
  }
 },
 "nbformat": 4,
 "nbformat_minor": 5
}
