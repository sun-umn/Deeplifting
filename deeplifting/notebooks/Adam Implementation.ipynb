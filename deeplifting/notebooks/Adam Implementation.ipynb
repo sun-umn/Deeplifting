{
 "cells": [
  {
   "cell_type": "code",
   "execution_count": 1,
   "id": "8df77176-2692-468a-8748-992fa201bd84",
   "metadata": {},
   "outputs": [
    {
     "name": "stdout",
     "output_type": "stream",
     "text": [
      "/Users/ryandevera/data-science/umn_environments/Deeplifting\n"
     ]
    }
   ],
   "source": [
    "%pwd\n",
    "%cd ../.."
   ]
  },
  {
   "cell_type": "code",
   "execution_count": 2,
   "id": "1d8d3d89-eb2a-478f-a366-ec12531eb0d1",
   "metadata": {},
   "outputs": [],
   "source": [
    "import numpy as np\n",
    "import pandas as pd\n",
    "import torch\n",
    "import torch.optim as optim\n",
    "\n",
    "from deeplifting.problems import PROBLEMS_BY_NAME\n",
    "from deeplifting.models import DeepliftingSkipMLP\n",
    "from deeplifting.optimization import run_adam_deeplifting"
   ]
  },
  {
   "cell_type": "code",
   "execution_count": 3,
   "id": "27303ba4-5cf5-4005-9ad5-4efefa5d9133",
   "metadata": {},
   "outputs": [],
   "source": [
    "problem_name = 'bukin_n6'\n",
    "problem = PROBLEMS_BY_NAME[problem_name]\n",
    "dimensions = problem['dimensions']\n",
    "\n",
    "# Set up the deeplifting model\n",
    "input_size = 1\n",
    "hidden_sizes = (128, 128)\n",
    "output_size = dimensions\n",
    "bounds = problem['bounds']\n",
    "activation = 'relu'\n",
    "output_activation = 'sine'\n",
    "agg_function = 'sum'\n",
    "trial = 0"
   ]
  },
  {
   "cell_type": "code",
   "execution_count": 4,
   "id": "08fae5ea-c2a0-4a5a-80b2-cd6071fefa13",
   "metadata": {},
   "outputs": [
    {
     "name": "stdout",
     "output_type": "stream",
     "text": [
      "n_gpus: 0\n",
      "loss = 196.92374264809882,\n",
      "loss = 97.8637906116418,\n",
      "loss = 95.7385154080958,\n",
      "loss = 93.5667576855001,\n",
      "loss = 91.33503340871934,\n",
      "loss = 89.03598954649706,\n",
      "loss = 86.66318029533814,\n",
      "loss = 84.20983821788838,\n",
      "loss = 81.66829904466904,\n",
      "loss = 79.02954210663643,\n",
      "loss = 76.28268061515992,\n",
      "loss = 73.41430053635452,\n",
      "loss = 70.40753408528768,\n",
      "loss = 67.24069359771089,\n",
      "loss = 63.88516290254887,\n",
      "loss = 60.30197599882513,\n",
      "loss = 56.435922814586014,\n",
      "loss = 52.20459120463082,\n",
      "loss = 47.475814591686735,\n",
      "loss = 42.01403563668117,\n",
      "loss = 35.32021385041777,\n",
      "loss = 25.93733763036251,\n",
      "loss = 16.42361728855058,\n",
      "loss = 36.133691578006214,\n",
      "loss = 32.97233630473705,\n",
      "loss = 50.248508605425,\n",
      "loss = 20.44504248090781,\n",
      "loss = 58.3950499343781,\n",
      "loss = 66.66825424900358,\n",
      "loss = 12.97599271733361,\n",
      "loss = 6.703660596831737,\n",
      "loss = 48.699687143267475,\n",
      "loss = 52.97569771012141,\n",
      "loss = 65.79891615304592,\n",
      "loss = 31.550663341309182,\n",
      "loss = 27.99576714376174,\n",
      "loss = 14.521545858421787,\n",
      "loss = 35.76760776248063,\n",
      "loss = 34.297516934158885,\n",
      "loss = 19.77705840860732,\n",
      "loss = 28.145319090765533,\n",
      "loss = 13.15116062283149,\n",
      "loss = 53.50534190264671,\n",
      "loss = 42.30752585498656,\n",
      "loss = 23.882125477250515,\n",
      "loss = 15.335785206258663,\n",
      "loss = 34.45939121844289,\n",
      "loss = 25.646728649260737,\n",
      "loss = 42.814550810446015,\n",
      "loss = 20.645038235359394,\n",
      "loss = 12.517876872200592,\n",
      "loss = 9.141359944655349,\n",
      "loss = 16.44884520834332,\n",
      "loss = 3.7332728808948876,\n",
      "loss = 7.37601210905924,\n",
      "loss = 11.98475463355116,\n",
      "loss = 11.107206586188163,\n",
      "loss = 15.391205874478166,\n",
      "loss = 11.56167319981571,\n",
      "loss = 40.954454853454294,\n",
      "loss = 48.01206163344227,\n",
      "loss = 3.9762068269971955,\n",
      "loss = 33.02038247594474,\n",
      "loss = 48.152778133072644,\n",
      "loss = 11.327681590351531,\n",
      "loss = 5.420357454362202,\n",
      "loss = 37.567114404371495,\n",
      "loss = 24.519357655219597,\n",
      "loss = 19.118020589730527,\n",
      "loss = 18.970681252199185,\n",
      "loss = 6.031631380085492,\n",
      "loss = 13.605045876334101,\n",
      "loss = 19.613493680707347,\n",
      "loss = 9.481157173246386,\n",
      "loss = 32.77608568869862,\n",
      "loss = 4.7889169690942985,\n",
      "loss = 5.073329944459912,\n",
      "loss = 40.78995559503447,\n",
      "loss = 1.3322830465227042,\n",
      "loss = 9.446149755386786,\n",
      "loss = 4.546183101587577,\n",
      "loss = 6.740902581395053,\n",
      "loss = 5.110368708177021,\n",
      "loss = 13.69908379265436,\n",
      "loss = 12.50394199768756,\n",
      "loss = 15.923380314707572,\n",
      "loss = 34.605964227627,\n",
      "loss = 30.11161566097495,\n",
      "loss = 23.582069657920595,\n",
      "loss = 10.1908071169889,\n",
      "loss = 4.573655780919449,\n",
      "loss = 3.952633899653571,\n",
      "loss = 2.230603484203168,\n",
      "loss = 0.9276201188361641,\n",
      "loss = 0.9096023906783431,\n",
      "loss = 10.13482326148119,\n",
      "loss = 5.226408880145614,\n",
      "loss = 0.8121741204240874,\n",
      "loss = 0.6825018413060542,\n",
      "loss = 0.43346835423796065,\n"
     ]
    },
    {
     "data": {
      "text/plain": [
       "{'results': None,\n",
       " 'final_results': [(-8.668935230822921,\n",
       "   0.7515087324095813,\n",
       "   0.22192626438115648,\n",
       "   196.92374264809882,\n",
       "   'Adam',\n",
       "   22.944424867630005)],\n",
       " 'callbacks': []}"
      ]
     },
     "execution_count": 4,
     "metadata": {},
     "output_type": "execute_result"
    }
   ],
   "source": [
    "run_adam_deeplifting(\n",
    "    problem,\n",
    "    problem_name=problem_name,\n",
    "    trials=1,\n",
    "    input_size=input_size,\n",
    "    hidden_sizes=hidden_sizes,\n",
    "    activation=activation,\n",
    "    output_activation=output_activation,\n",
    "    agg_function=agg_function,\n",
    ")"
   ]
  },
  {
   "cell_type": "code",
   "execution_count": null,
   "id": "4ed73b3a-567c-4b86-8ff2-a89a857f8d94",
   "metadata": {},
   "outputs": [],
   "source": []
  }
 ],
 "metadata": {
  "kernelspec": {
   "display_name": "deeplifting",
   "language": "python",
   "name": "deeplifting"
  },
  "language_info": {
   "codemirror_mode": {
    "name": "ipython",
    "version": 3
   },
   "file_extension": ".py",
   "mimetype": "text/x-python",
   "name": "python",
   "nbconvert_exporter": "python",
   "pygments_lexer": "ipython3",
   "version": "3.9.11"
  }
 },
 "nbformat": 4,
 "nbformat_minor": 5
}
