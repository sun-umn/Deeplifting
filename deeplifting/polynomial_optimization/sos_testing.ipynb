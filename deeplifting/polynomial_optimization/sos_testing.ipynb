{
 "cells": [
  {
   "cell_type": "code",
   "execution_count": 1,
   "metadata": {},
   "outputs": [],
   "source": [
    "import numpy as np\n",
    "import sympy as sp\n",
    "from SumOfSquares import SOSProblem, poly_opt_prob\n",
    "\n",
    "# Get problems\n",
    "from polynomial_problems import (\n",
    "    booth,\n",
    "    matyas,\n",
    "    three_hump_camel,\n",
    "    motzkin,\n",
    "    styblinzki_tang,\n",
    "    rosenbrock,  # Having issues\n",
    "    matyas_modified_s,  # Having issues\n",
    ")"
   ]
  },
  {
   "cell_type": "code",
   "execution_count": 2,
   "metadata": {},
   "outputs": [],
   "source": [
    "# Initialize problem\n",
    "x1, x2, t = sp.symbols('x1 x2 t')\n",
    "\n",
    "# Change problem here\n",
    "prob_dict = polynomial_problems.matyas(x1, x2)\n",
    "\n",
    "p = prob_dict['p']\n",
    "bounds = prob_dict['bounds']\n",
    "degree = prob_dict['deg']\n",
    "\n",
    "prob = SOSProblem()"
   ]
  },
  {
   "cell_type": "markdown",
   "metadata": {},
   "source": [
    "## Check if SOS decomposition exists and minimize if it does"
   ]
  },
  {
   "cell_type": "code",
   "execution_count": 3,
   "metadata": {},
   "outputs": [
    {
     "name": "stdout",
     "output_type": "stream",
     "text": [
      "SOS decomposition:  0.038*x1**2 + 0.26*(-0.923*x1 + x2)**2\n",
      "Optimal value found:  6.045995230525176e-11\n"
     ]
    }
   ],
   "source": [
    "# Adds Sum-of-Squares constraint and solves problem\n",
    "try:\n",
    "    const = prob.add_sos_constraint(p, [x1, x2])\n",
    "    prob.solve()\n",
    "    # Prints Sum-of-Squares decomposition\n",
    "    print(\"SOS decomposition: \", sum(const.get_sos_decomp()))\n",
    "\n",
    "    x1, x2, t = sp.symbols('x1 x2 t')\n",
    "    # Use Newton polytope reduction\n",
    "    const = prob.add_sos_constraint(p - t, [x1, x2], sparse=True)\n",
    "    prob.set_objective('max', prob.sym_to_var(t))\n",
    "    prob.solve()\n",
    "    print(\"Optimal value found: \", prob.value)\n",
    "except Exception as e:\n",
    "    print(e)"
   ]
  },
  {
   "cell_type": "markdown",
   "metadata": {},
   "source": [
    "## Constrained optimization over given bounds"
   ]
  },
  {
   "cell_type": "code",
   "execution_count": 5,
   "metadata": {},
   "outputs": [
    {
     "name": "stdout",
     "output_type": "stream",
     "text": [
      "4.000000002787649\n"
     ]
    }
   ],
   "source": [
    "x1, x2 = sp.symbols('x1 x2')\n",
    "prob = poly_opt_prob([x1, x2], p, ineqs=bounds, deg=int(0.5 * degree))\n",
    "prob.solve()\n",
    "print(prob.value)"
   ]
  }
 ],
 "metadata": {
  "kernelspec": {
   "display_name": "deeplifting",
   "language": "python",
   "name": "python3"
  },
  "language_info": {
   "codemirror_mode": {
    "name": "ipython",
    "version": 3
   },
   "file_extension": ".py",
   "mimetype": "text/x-python",
   "name": "python",
   "nbconvert_exporter": "python",
   "pygments_lexer": "ipython3",
   "version": "3.9.16"
  },
  "orig_nbformat": 4
 },
 "nbformat": 4,
 "nbformat_minor": 2
}
